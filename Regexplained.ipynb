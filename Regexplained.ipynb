{
 "cells": [
  {
   "cell_type": "code",
   "execution_count": 1,
   "metadata": {
    "slideshow": {
     "slide_type": "skip"
    }
   },
   "outputs": [],
   "source": [
    "import re\n"
   ]
  },
  {
   "cell_type": "code",
   "execution_count": 2,
   "metadata": {
    "slideshow": {
     "slide_type": "skip"
    }
   },
   "outputs": [],
   "source": [
    "import graphviz\n",
    "\n",
    "class State:\n",
    "\n",
    "    def __init__(self, name, style=\"solid\", color=\"black\"):\n",
    "        self.name = name\n",
    "        self.style = style\n",
    "        self.color = color\n",
    "        \n",
    "        self.rendered = False\n",
    "        \n",
    "    def set_style(self, style):\n",
    "        self.style = style\n",
    "\n",
    "    def __eq__(self, other):\n",
    "        if self.name == other:\n",
    "            return True\n",
    "        else:\n",
    "            return False\n",
    "    def __str__(self):\n",
    "        return self.name\n",
    "    \n",
    "    def __repr__(self):\n",
    "        return self.name\n",
    "\n",
    "    def render(self, graph):\n",
    "        graph.node(self.name, style=self.style, color=self.color)\n",
    "\n",
    "\n",
    "class automata:\n",
    "\n",
    "    def __init__(self, state_names, alphabet, start_state, final_states):\n",
    "        self.alphabet = alphabet\n",
    "        self.start_state = start_state\n",
    "        self.final_states = final_states\n",
    "        self.edges = list()\n",
    "        self.states = list()\n",
    "        self.graph = None\n",
    "        \n",
    "      \n",
    "        for state_name in state_names:\n",
    "            style= None\n",
    "            if state_name == start_state:\n",
    "                self.states.append(State(\"\", style=\"invis\"))\n",
    "                style = \"bold\"\n",
    "                self.edges.append([\"\", state_name, \"\"])\n",
    "            if state_name in final_states:\n",
    "                style = \"dashed\"\n",
    "              \n",
    "            self.states.append(State(state_name, style = style))\n",
    "\n",
    "        return\n",
    "    \n",
    "    def __remove_invisible(self):\n",
    "        new_states = list()\n",
    "        new_edges = list()\n",
    "        \n",
    "        for state in self.states:\n",
    "            if state.style == \"invis\" or state.name == \"\":\n",
    "                continue\n",
    "            else:\n",
    "                new_states.append(state)\n",
    "        for edge in self.edges:\n",
    "            if edge[0] == \"\":\n",
    "                continue\n",
    "            else:\n",
    "                new_edges.append(edge)\n",
    "        self.states = new_states\n",
    "        self.edges = new_edges\n",
    "\n",
    "    \n",
    "    \n",
    "    def __rename_states(self, name_postfix):\n",
    "        renamed_states = list()\n",
    "        renamed_edges = list()\n",
    "        renamed_final_states = list()\n",
    "            \n",
    "        for s in self.states:\n",
    "            if len(s.name) <= 0:\n",
    "                break\n",
    "            renamed_states.append(str(s)+str(name_postfix))\n",
    "        for e in self.edges:\n",
    "            if len(e[0]) <= 0:\n",
    "                renamed_edges.append([e[0], e[1]+str(name_postfix), e[2]])\n",
    "\n",
    "            renamed_edges.append([e[0]+str(name_postfix), e[1]+str(name_postfix), e[2]])\n",
    "        for s in self.final_states:\n",
    "            renamed_final_states.append(s+str(name_postfix))\n",
    "                \n",
    "             \n",
    "        self.states = renamed_states\n",
    "        self.edges = renamed_edges\n",
    "        self.final_states = renamed_final_states\n",
    "        self.start_state = self.start_state+str(name_postfix)\n",
    "        \n",
    "    def __copy(self):\n",
    "        a = automata([str(s) for s in self.states[1:]], self.alphabet, self.start_state, self.final_states)\n",
    "        a.edges = self.edges\n",
    "        return a\n",
    "    \n",
    "    def from_union(automatons):\n",
    "        \n",
    "        new_states = list()\n",
    "        new_edges = list()\n",
    "        new_final_states = list()\n",
    "        \n",
    "        copied_automatons = list()\n",
    "        \n",
    "        for a in automatons:\n",
    "            copied_automatons.append(a.__copy())\n",
    "            \n",
    "            \n",
    "        i = 0\n",
    "        for a in copied_automatons:\n",
    "            a.__remove_invisible()\n",
    "            a.__rename_states(i)\n",
    "            \n",
    "            new_states += a.states\n",
    "            new_edges += a.edges\n",
    "            new_final_states += a.final_states\n",
    "            i = i+1\n",
    "                   \n",
    "        new_states.append(\"start\")\n",
    "                \n",
    "        for a in copied_automatons:\n",
    "            new_edges.append([\"start\", a.start_state, \"ε\"])\n",
    "        \n",
    "        new_automaton = automata(new_states, automatons[0].alphabet, \"start\", new_final_states)\n",
    "        new_automaton.edges = new_automaton.edges + new_edges\n",
    "\n",
    "        return new_automaton\n",
    "    \n",
    "    def from_concat(automatons):\n",
    "        copied_automatons = list()\n",
    "        \n",
    "        for a in automatons:\n",
    "            copied_automatons.append(a.__copy())\n",
    "        \n",
    "        i = 0\n",
    "        for a in copied_automatons:\n",
    "            a.__remove_invisible()\n",
    "            a.__rename_states(i)\n",
    "            i+=1\n",
    "\n",
    "        first_automaton = copied_automatons[0]\n",
    "        \n",
    "        \n",
    "        new_states = list()\n",
    "        new_edges = list()\n",
    "        new_final_states = list()\n",
    "        \n",
    "        for a in copied_automatons:\n",
    "            new_states += a.states\n",
    "            new_edges += a.edges\n",
    "            new_final_states += a.final_states\n",
    "            \n",
    "        \n",
    "        new_automaton = automata(new_states, copied_automatons[0], copied_automatons[0].start_state, new_final_states)\n",
    "        \n",
    "        new_automaton.edges = new_edges\n",
    "            \n",
    "        for i in range(len(copied_automatons)):\n",
    "            last_a = copied_automatons[i]\n",
    "            if i != len(copied_automatons)-1:\n",
    "                next_a = copied_automatons[i+1]\n",
    "            else:\n",
    "                break\n",
    "            for state in last_a.final_states:\n",
    "                pass\n",
    "                new_automaton.edge(state, next_a.start_state, \"ε\")\n",
    "            \n",
    "        return new_automaton\n",
    "    \n",
    "    def from_star(automaton):\n",
    "        copied_automaton = automaton.__copy()\n",
    "        \n",
    "        copied_automaton.__remove_invisible()\n",
    "        \n",
    "        for state in copied_automaton.final_states:\n",
    "            copied_automaton.edge(state, copied_automaton.start_state, \"ε\")\n",
    "        \n",
    "        copied_automaton.states[0].style = \"solid\"  \n",
    "        copied_automaton.states.append(State(\"start\"))\n",
    "        copied_automaton.edge(\"start\", copied_automaton.start_state, \"ε\")\n",
    "        copied_automaton.start_state = \"start\"\n",
    "        \n",
    "        \n",
    "        return copied_automaton\n",
    "        \n",
    "        \n",
    "    def _check_start_end(self):\n",
    "        for state in self.states:\n",
    "            if state.name == \"\":\n",
    "                continue\n",
    "            if state.name == self.start_state:\n",
    "                state.style = \"bold\" \n",
    "            if state.name in self.final_states:\n",
    "                state.style = \"dashed\"\n",
    "        return\n",
    "            \n",
    "\n",
    "    def edge(self, source, dest, rule):\n",
    "        self.edges.append([source, dest, \"  \"+rule])\n",
    "        if source not in self.states:\n",
    "            self.states.append(State(source))\n",
    "            self._check_start_end()\n",
    "        if dest not in self.states:\n",
    "            self.states.append(State(dest))\n",
    "            self._check_start_end()\n",
    "        return\n",
    "    \n",
    "    def _repr_svg_(self):\n",
    "        self.graph = graphviz.Digraph()\n",
    "        \n",
    "        self._check_start_end() # Update if we changed/added the start/end states since making this obeject\n",
    "        \n",
    "        for state in self.states:\n",
    "            state.render(self.graph)\n",
    "\n",
    "        for e in self.edges:\n",
    "            self.graph.edge(e[0], e[1], label=e[2])\n",
    "\n",
    "        return self.graph._repr_svg_()\n"
   ]
  },
  {
   "cell_type": "code",
   "execution_count": 3,
   "metadata": {
    "slideshow": {
     "slide_type": "skip"
    }
   },
   "outputs": [
    {
     "data": {
      "image/svg+xml": [
       "<?xml version=\"1.0\" encoding=\"UTF-8\" standalone=\"no\"?>\n",
       "<!DOCTYPE svg PUBLIC \"-//W3C//DTD SVG 1.1//EN\"\n",
       " \"http://www.w3.org/Graphics/SVG/1.1/DTD/svg11.dtd\">\n",
       "<!-- Generated by graphviz version 2.40.1 (20161225.0304)\n",
       " -->\n",
       "<!-- Title: %3 Pages: 1 -->\n",
       "<svg width=\"134pt\" height=\"305pt\"\n",
       " viewBox=\"0.00 0.00 134.00 305.00\" xmlns=\"http://www.w3.org/2000/svg\" xmlns:xlink=\"http://www.w3.org/1999/xlink\">\n",
       "<g id=\"graph0\" class=\"graph\" transform=\"scale(1 1) rotate(0) translate(4 301)\">\n",
       "<title>%3</title>\n",
       "<polygon fill=\"#ffffff\" stroke=\"transparent\" points=\"-4,4 -4,-301 130,-301 130,4 -4,4\"/>\n",
       "<!-- C0 -->\n",
       "<g id=\"node2\" class=\"node\">\n",
       "<title>C0</title>\n",
       "<ellipse fill=\"none\" stroke=\"#000000\" stroke-width=\"2\" cx=\"99\" cy=\"-279\" rx=\"27\" ry=\"18\"/>\n",
       "<text text-anchor=\"middle\" x=\"99\" y=\"-275.3\" font-family=\"Times,serif\" font-size=\"14.00\" fill=\"#000000\">C0</text>\n",
       "</g>\n",
       "<!-- D0 -->\n",
       "<g id=\"node3\" class=\"node\">\n",
       "<title>D0</title>\n",
       "<ellipse fill=\"none\" stroke=\"#000000\" stroke-dasharray=\"5,2\" cx=\"99\" cy=\"-192\" rx=\"27\" ry=\"18\"/>\n",
       "<text text-anchor=\"middle\" x=\"99\" y=\"-188.3\" font-family=\"Times,serif\" font-size=\"14.00\" fill=\"#000000\">D0</text>\n",
       "</g>\n",
       "<!-- C0&#45;&gt;D0 -->\n",
       "<g id=\"edge1\" class=\"edge\">\n",
       "<title>C0&#45;&gt;D0</title>\n",
       "<path fill=\"none\" stroke=\"#000000\" d=\"M99,-260.9735C99,-249.1918 99,-233.5607 99,-220.1581\"/>\n",
       "<polygon fill=\"#000000\" stroke=\"#000000\" points=\"102.5001,-220.0033 99,-210.0034 95.5001,-220.0034 102.5001,-220.0033\"/>\n",
       "<text text-anchor=\"middle\" x=\"106.5\" y=\"-231.8\" font-family=\"Times,serif\" font-size=\"14.00\" fill=\"#000000\"> &#160;1</text>\n",
       "</g>\n",
       "<!-- C1 -->\n",
       "<g id=\"node4\" class=\"node\">\n",
       "<title>C1</title>\n",
       "<ellipse fill=\"none\" stroke=\"#000000\" cx=\"99\" cy=\"-105\" rx=\"27\" ry=\"18\"/>\n",
       "<text text-anchor=\"middle\" x=\"99\" y=\"-101.3\" font-family=\"Times,serif\" font-size=\"14.00\" fill=\"#000000\">C1</text>\n",
       "</g>\n",
       "<!-- D0&#45;&gt;C1 -->\n",
       "<g id=\"edge3\" class=\"edge\">\n",
       "<title>D0&#45;&gt;C1</title>\n",
       "<path fill=\"none\" stroke=\"#000000\" d=\"M99,-173.9735C99,-162.1918 99,-146.5607 99,-133.1581\"/>\n",
       "<polygon fill=\"#000000\" stroke=\"#000000\" points=\"102.5001,-133.0033 99,-123.0034 95.5001,-133.0034 102.5001,-133.0033\"/>\n",
       "<text text-anchor=\"middle\" x=\"106.5\" y=\"-144.8\" font-family=\"Times,serif\" font-size=\"14.00\" fill=\"#000000\"> &#160;ε</text>\n",
       "</g>\n",
       "<!-- D1 -->\n",
       "<g id=\"node5\" class=\"node\">\n",
       "<title>D1</title>\n",
       "<ellipse fill=\"none\" stroke=\"#000000\" stroke-dasharray=\"5,2\" cx=\"99\" cy=\"-18\" rx=\"27\" ry=\"18\"/>\n",
       "<text text-anchor=\"middle\" x=\"99\" y=\"-14.3\" font-family=\"Times,serif\" font-size=\"14.00\" fill=\"#000000\">D1</text>\n",
       "</g>\n",
       "<!-- C1&#45;&gt;D1 -->\n",
       "<g id=\"edge2\" class=\"edge\">\n",
       "<title>C1&#45;&gt;D1</title>\n",
       "<path fill=\"none\" stroke=\"#000000\" d=\"M99,-86.9735C99,-75.1918 99,-59.5607 99,-46.1581\"/>\n",
       "<polygon fill=\"#000000\" stroke=\"#000000\" points=\"102.5001,-46.0033 99,-36.0034 95.5001,-46.0034 102.5001,-46.0033\"/>\n",
       "<text text-anchor=\"middle\" x=\"106.5\" y=\"-57.8\" font-family=\"Times,serif\" font-size=\"14.00\" fill=\"#000000\"> &#160;1</text>\n",
       "</g>\n",
       "</g>\n",
       "</svg>\n"
      ],
      "text/plain": [
       "<__main__.automata at 0x7ff7f005da20>"
      ]
     },
     "execution_count": 3,
     "metadata": {},
     "output_type": "execute_result"
    }
   ],
   "source": [
    "a = automata([\"A\", \"B\",], [1,2], \"A\", \"B\")\n",
    "a.edge(\"A\", \"B\", \"0\")\n",
    "\n",
    "\n",
    "b = automata([\"C\", \"\", \"D\"], [], \"C\", \"D\")\n",
    "b.edge(\"C\", \"D\", \"1\")\n",
    "\n",
    "c = automata.from_concat([b,b])\n",
    "c"
   ]
  },
  {
   "cell_type": "markdown",
   "metadata": {
    "slideshow": {
     "slide_type": "slide"
    }
   },
   "source": [
    "# Regexplained \n",
    "\n",
    "## Samathy Barratt - PyConUK 2019\n",
    "\n",
    "\n",
    "\n",
    "\n",
    "\n",
    "*@samathy_barratt*\n",
    "\n",
    "*@s@social.samathy.space*\n",
    "\n",
    "\n",
    "CC-BY-SA Samathy Barratt"
   ]
  },
  {
   "cell_type": "markdown",
   "metadata": {
    "slideshow": {
     "slide_type": "notes"
    }
   },
   "source": [
    "Going to discuss:\n",
    "* Set Theory\n",
    "* Theory of computation\n",
    "* Finite Automata\n",
    "* Languages\n",
    "* Regular Expressions"
   ]
  },
  {
   "cell_type": "markdown",
   "metadata": {
    "slideshow": {
     "slide_type": "slide"
    }
   },
   "source": [
    "Regular Expressions"
   ]
  },
  {
   "cell_type": "markdown",
   "metadata": {
    "slideshow": {
     "slide_type": "slide"
    }
   },
   "source": [
    "What is a regular expression?"
   ]
  },
  {
   "cell_type": "markdown",
   "metadata": {
    "slideshow": {
     "slide_type": "slide"
    }
   },
   "source": [
    "A garbled collection of characters which somehow recognises strings"
   ]
  },
  {
   "cell_type": "markdown",
   "metadata": {
    "slideshow": {
     "slide_type": "notes"
    }
   },
   "source": [
    "to me, they were always magic incantations - until I understood that they're more like an assembly language for finite automata."
   ]
  },
  {
   "cell_type": "markdown",
   "metadata": {
    "slideshow": {
     "slide_type": "slide"
    }
   },
   "source": [
    "##Where can we find regexes?"
   ]
  },
  {
   "cell_type": "markdown",
   "metadata": {
    "slideshow": {
     "slide_type": "subslide"
    }
   },
   "source": [
    "###String Matching"
   ]
  },
  {
   "cell_type": "markdown",
   "metadata": {
    "slideshow": {
     "slide_type": "subslide"
    }
   },
   "source": [
    "* Compilers"
   ]
  },
  {
   "cell_type": "markdown",
   "metadata": {
    "slideshow": {
     "slide_type": "subslide"
    }
   },
   "source": [
    "* Web Servers"
   ]
  },
  {
   "cell_type": "markdown",
   "metadata": {
    "slideshow": {
     "slide_type": "subslide"
    }
   },
   "source": [
    "* Pretty much any program that needs to know if a string, is a particular type of string or not"
   ]
  },
  {
   "cell_type": "markdown",
   "metadata": {
    "slideshow": {
     "slide_type": "notes"
    }
   },
   "source": [
    "And that includes knowing if the type of string, is one that contains a substring or not."
   ]
  },
  {
   "cell_type": "markdown",
   "metadata": {
    "slideshow": {
     "slide_type": "slide"
    }
   },
   "source": [
    "Lets get onto looking at a regular expression\n",
    "\n",
    "### `^(\\w)+\\@(\\w)+\\.(\\w)`"
   ]
  },
  {
   "cell_type": "markdown",
   "metadata": {
    "slideshow": {
     "slide_type": "notes"
    }
   },
   "source": [
    "A simple, nieve regex which matches email addresses"
   ]
  },
  {
   "cell_type": "code",
   "execution_count": 4,
   "metadata": {
    "slideshow": {
     "slide_type": "subslide"
    }
   },
   "outputs": [
    {
     "data": {
      "text/plain": [
       "['chrisjen_avasarala@UN.com',\n",
       " 'Josephus_Miller@StarHelix.net',\n",
       " 'Dimitri_Havelock@StarHelix.net',\n",
       " 'Fred_Johnson@TychoStation.space']"
      ]
     },
     "execution_count": 4,
     "metadata": {},
     "output_type": "execute_result"
    }
   ],
   "source": [
    "#A very simple Regex\n",
    "\n",
    "regex = re.compile(\"^(\\w)+\\@(\\w)+\\.(\\w)\")\n",
    "\n",
    "expanse_characters = [\n",
    "    \"chrisjen_avasarala@UN.com\",\n",
    "    \"James_Holden\",\n",
    "    \"Amos_Burton\",\n",
    "    \"Praxidike Meng\",\n",
    "    \"Mei Meng\",\n",
    "    \"Josephus_Miller@StarHelix.net\",\n",
    "    \"Naomi_Nagata\",\n",
    "    \"Bobbie Draper\",\n",
    "    \"Dimitri_Havelock@StarHelix.net\",\n",
    "    \"Fred_Johnson@TychoStation.space\",\n",
    "]\n",
    "\n",
    "list(filter(regex.match, expanse_characters))\n",
    "\n"
   ]
  },
  {
   "cell_type": "code",
   "execution_count": 5,
   "metadata": {
    "slideshow": {
     "slide_type": "subslide"
    }
   },
   "outputs": [],
   "source": [
    "a = automata(\n",
    "[\"A\", \"B\", \"C\", \"D\"],\n",
    "[],\n",
    "\"A\",\n",
    "[\"D\"])\n",
    "\n",
    "a.edge(\"A\", \"A\", \"\\w\")\n",
    "a.edge(\"A\", \"B\", \"@\")\n",
    "a.edge(\"B\", \"B\", \"\\w\")\n",
    "a.edge(\"B\", \"C\", \"\\.\")\n",
    "a.edge(\"C\", \"D\", \"\\w\")\n",
    "a.edge(\"D\", \"D\", \"\\w\")\n"
   ]
  },
  {
   "cell_type": "code",
   "execution_count": 6,
   "metadata": {
    "scrolled": true,
    "slideshow": {
     "slide_type": "subslide"
    }
   },
   "outputs": [
    {
     "data": {
      "image/svg+xml": [
       "<?xml version=\"1.0\" encoding=\"UTF-8\" standalone=\"no\"?>\n",
       "<!DOCTYPE svg PUBLIC \"-//W3C//DTD SVG 1.1//EN\"\n",
       " \"http://www.w3.org/Graphics/SVG/1.1/DTD/svg11.dtd\">\n",
       "<!-- Generated by graphviz version 2.40.1 (20161225.0304)\n",
       " -->\n",
       "<!-- Title: %3 Pages: 1 -->\n",
       "<svg width=\"102pt\" height=\"378pt\"\n",
       " viewBox=\"0.00 0.00 102.00 378.00\" xmlns=\"http://www.w3.org/2000/svg\" xmlns:xlink=\"http://www.w3.org/1999/xlink\">\n",
       "<g id=\"graph0\" class=\"graph\" transform=\"scale(1 1) rotate(0) translate(4 374)\">\n",
       "<title>%3</title>\n",
       "<polygon fill=\"#ffffff\" stroke=\"transparent\" points=\"-4,4 -4,-374 98,-374 98,4 -4,4\"/>\n",
       "<!-- A -->\n",
       "<g id=\"node2\" class=\"node\">\n",
       "<title>A</title>\n",
       "<ellipse fill=\"none\" stroke=\"#000000\" stroke-width=\"2\" cx=\"27\" cy=\"-279\" rx=\"27\" ry=\"18\"/>\n",
       "<text text-anchor=\"middle\" x=\"27\" y=\"-275.3\" font-family=\"Times,serif\" font-size=\"14.00\" fill=\"#000000\">A</text>\n",
       "</g>\n",
       "<!-- &#45;&gt;A -->\n",
       "<g id=\"edge1\" class=\"edge\">\n",
       "<title>&#45;&gt;A</title>\n",
       "<path fill=\"none\" stroke=\"#000000\" d=\"M27,-333.9551C27,-325.8828 27,-316.1764 27,-307.1817\"/>\n",
       "<polygon fill=\"#000000\" stroke=\"#000000\" points=\"30.5001,-307.0903 27,-297.0904 23.5001,-307.0904 30.5001,-307.0903\"/>\n",
       "</g>\n",
       "<!-- A&#45;&gt;A -->\n",
       "<g id=\"edge2\" class=\"edge\">\n",
       "<title>A&#45;&gt;A</title>\n",
       "<path fill=\"none\" stroke=\"#000000\" d=\"M52.4435,-285.6907C63.0278,-286.1521 72,-283.9219 72,-279 72,-275.77 68.136,-273.6992 62.4881,-272.7876\"/>\n",
       "<polygon fill=\"#000000\" stroke=\"#000000\" points=\"62.5987,-269.289 52.4435,-272.3093 62.2656,-276.2811 62.5987,-269.289\"/>\n",
       "<text text-anchor=\"middle\" x=\"83\" y=\"-275.3\" font-family=\"Times,serif\" font-size=\"14.00\" fill=\"#000000\"> &#160;\\w</text>\n",
       "</g>\n",
       "<!-- B -->\n",
       "<g id=\"node3\" class=\"node\">\n",
       "<title>B</title>\n",
       "<ellipse fill=\"none\" stroke=\"#000000\" cx=\"27\" cy=\"-192\" rx=\"27\" ry=\"18\"/>\n",
       "<text text-anchor=\"middle\" x=\"27\" y=\"-188.3\" font-family=\"Times,serif\" font-size=\"14.00\" fill=\"#000000\">B</text>\n",
       "</g>\n",
       "<!-- A&#45;&gt;B -->\n",
       "<g id=\"edge3\" class=\"edge\">\n",
       "<title>A&#45;&gt;B</title>\n",
       "<path fill=\"none\" stroke=\"#000000\" d=\"M27,-260.9735C27,-249.1918 27,-233.5607 27,-220.1581\"/>\n",
       "<polygon fill=\"#000000\" stroke=\"#000000\" points=\"30.5001,-220.0033 27,-210.0034 23.5001,-220.0034 30.5001,-220.0033\"/>\n",
       "<text text-anchor=\"middle\" x=\"37.5\" y=\"-231.8\" font-family=\"Times,serif\" font-size=\"14.00\" fill=\"#000000\"> &#160;@</text>\n",
       "</g>\n",
       "<!-- B&#45;&gt;B -->\n",
       "<g id=\"edge4\" class=\"edge\">\n",
       "<title>B&#45;&gt;B</title>\n",
       "<path fill=\"none\" stroke=\"#000000\" d=\"M51.5325,-199.752C62.5078,-200.4902 72,-197.9063 72,-192 72,-188.0317 67.7151,-185.5632 61.5743,-184.5944\"/>\n",
       "<polygon fill=\"#000000\" stroke=\"#000000\" points=\"61.6472,-181.0949 51.5325,-184.248 61.4059,-188.0908 61.6472,-181.0949\"/>\n",
       "<text text-anchor=\"middle\" x=\"83\" y=\"-188.3\" font-family=\"Times,serif\" font-size=\"14.00\" fill=\"#000000\"> &#160;\\w</text>\n",
       "</g>\n",
       "<!-- C -->\n",
       "<g id=\"node4\" class=\"node\">\n",
       "<title>C</title>\n",
       "<ellipse fill=\"none\" stroke=\"#000000\" cx=\"27\" cy=\"-105\" rx=\"27\" ry=\"18\"/>\n",
       "<text text-anchor=\"middle\" x=\"27\" y=\"-101.3\" font-family=\"Times,serif\" font-size=\"14.00\" fill=\"#000000\">C</text>\n",
       "</g>\n",
       "<!-- B&#45;&gt;C -->\n",
       "<g id=\"edge5\" class=\"edge\">\n",
       "<title>B&#45;&gt;C</title>\n",
       "<path fill=\"none\" stroke=\"#000000\" d=\"M27,-173.9735C27,-162.1918 27,-146.5607 27,-133.1581\"/>\n",
       "<polygon fill=\"#000000\" stroke=\"#000000\" points=\"30.5001,-133.0033 27,-123.0034 23.5001,-133.0034 30.5001,-133.0033\"/>\n",
       "<text text-anchor=\"middle\" x=\"35\" y=\"-144.8\" font-family=\"Times,serif\" font-size=\"14.00\" fill=\"#000000\"> &#160;\\.</text>\n",
       "</g>\n",
       "<!-- D -->\n",
       "<g id=\"node5\" class=\"node\">\n",
       "<title>D</title>\n",
       "<ellipse fill=\"none\" stroke=\"#000000\" stroke-dasharray=\"5,2\" cx=\"27\" cy=\"-18\" rx=\"27\" ry=\"18\"/>\n",
       "<text text-anchor=\"middle\" x=\"27\" y=\"-14.3\" font-family=\"Times,serif\" font-size=\"14.00\" fill=\"#000000\">D</text>\n",
       "</g>\n",
       "<!-- C&#45;&gt;D -->\n",
       "<g id=\"edge6\" class=\"edge\">\n",
       "<title>C&#45;&gt;D</title>\n",
       "<path fill=\"none\" stroke=\"#000000\" d=\"M27,-86.9735C27,-75.1918 27,-59.5607 27,-46.1581\"/>\n",
       "<polygon fill=\"#000000\" stroke=\"#000000\" points=\"30.5001,-46.0033 27,-36.0034 23.5001,-46.0034 30.5001,-46.0033\"/>\n",
       "<text text-anchor=\"middle\" x=\"38\" y=\"-57.8\" font-family=\"Times,serif\" font-size=\"14.00\" fill=\"#000000\"> &#160;\\w</text>\n",
       "</g>\n",
       "<!-- D&#45;&gt;D -->\n",
       "<g id=\"edge7\" class=\"edge\">\n",
       "<title>D&#45;&gt;D</title>\n",
       "<path fill=\"none\" stroke=\"#000000\" d=\"M51.5325,-25.752C62.5078,-26.4902 72,-23.9063 72,-18 72,-14.0317 67.7151,-11.5632 61.5743,-10.5944\"/>\n",
       "<polygon fill=\"#000000\" stroke=\"#000000\" points=\"61.6472,-7.0949 51.5325,-10.248 61.4059,-14.0908 61.6472,-7.0949\"/>\n",
       "<text text-anchor=\"middle\" x=\"83\" y=\"-14.3\" font-family=\"Times,serif\" font-size=\"14.00\" fill=\"#000000\"> &#160;\\w</text>\n",
       "</g>\n",
       "</g>\n",
       "</svg>\n"
      ],
      "text/plain": [
       "<__main__.automata at 0x7ff7f08992b0>"
      ]
     },
     "execution_count": 6,
     "metadata": {},
     "output_type": "execute_result"
    }
   ],
   "source": [
    "a"
   ]
  },
  {
   "cell_type": "markdown",
   "metadata": {
    "slideshow": {
     "slide_type": "notes"
    }
   },
   "source": [
    "Or, we could display it as a graph of some sort."
   ]
  },
  {
   "cell_type": "markdown",
   "metadata": {
    "slideshow": {
     "slide_type": "subslide"
    }
   },
   "source": [
    "This graph _could_ be described like so:\n",
    "\n",
    "$$ Q = \\{q0, q1, q2, q3 \\} $$\n",
    "$$ \\Sigma = \\{\\{a,b,c,d,e,f... x,y,z\\}, \\{\"Unicode characters\" \\} $$\n",
    "$$ \\delta = Q x \\Sigma \\rightarrow Q $$\n",
    "$$ q0 \\in Q $$\n",
    "$$ F \\subseteq Q $$\n",
    "\n",
    "\n",
    "\n",
    "\n",
    "\n"
   ]
  },
  {
   "cell_type": "markdown",
   "metadata": {
    "slideshow": {
     "slide_type": "notes"
    }
   },
   "source": [
    "A bit better, but lets look at whats going on here.\n",
    "\n",
    "We have broken our regular expression into a graph\n",
    "\n",
    "This graph, and the formal mathematical explaination of it above, is a Deterministic Finite Automaton."
   ]
  },
  {
   "cell_type": "markdown",
   "metadata": {
    "slideshow": {
     "slide_type": "slide"
    }
   },
   "source": [
    "##Finite Automata\n",
    "\n",
    "State Machines"
   ]
  },
  {
   "cell_type": "markdown",
   "metadata": {
    "slideshow": {
     "slide_type": "notes"
    }
   },
   "source": [
    "Finite Automata, or state machines\n",
    "\n",
    "The simplest model of computing\n",
    "Very little memory, but surprisingly useful processing power.\n",
    "Present in many small machines - like an electric door, or perhaps a washing machine.\n",
    "Used in parts of compilers and many, many programs.\n",
    "Can be used to represent much more complex computational problems."
   ]
  },
  {
   "cell_type": "markdown",
   "metadata": {
    "slideshow": {
     "slide_type": "subslide"
    }
   },
   "source": [
    "Capable of recognising _Regular Languages_"
   ]
  },
  {
   "cell_type": "markdown",
   "metadata": {
    "slideshow": {
     "slide_type": "subslide"
    }
   },
   "source": [
    "**Set** $\\rightarrow$ A collection of items where no item appears more than once."
   ]
  },
  {
   "cell_type": "markdown",
   "metadata": {
    "slideshow": {
     "slide_type": "subslide"
    }
   },
   "source": [
    "**Language** $ \\rightarrow $ The set of strings recognised by a machine\n",
    "\n"
   ]
  },
  {
   "cell_type": "markdown",
   "metadata": {
    "slideshow": {
     "slide_type": "subslide"
    }
   },
   "source": [
    "**String (over an alphabet)** $ \\rightarrow $ A combination of symbols such that each symbol in the string is an element of the alphabet."
   ]
  },
  {
   "cell_type": "markdown",
   "metadata": {
    "slideshow": {
     "slide_type": "subslide"
    }
   },
   "source": [
    "**Alphabet** $\\rightarrow$ A finite set of symbols"
   ]
  },
  {
   "cell_type": "markdown",
   "metadata": {
    "slideshow": {
     "slide_type": "subslide"
    }
   },
   "source": [
    "* **Set** $\\rightarrow$ A collection of items where no item appears more than once. \n",
    "* **Language** $ \\rightarrow $ The set of strings recognised by a machine $ L = \\{ 001, 110, 111111, S_1, S_2 ... \\} $\n",
    "* **String (over an alphabet)** $ \\rightarrow $ A combination of symbols such that each symbol in the string is an element of the alphabet. $ S = \\{ w | w \\in A \\} $\n",
    "* **Alphabet** $\\rightarrow$ A finite set of symbols $ A = \\{0,1\\} $"
   ]
  },
  {
   "cell_type": "markdown",
   "metadata": {
    "slideshow": {
     "slide_type": "subslide"
    }
   },
   "source": [
    "**Empty String** $ \\rightarrow $ $ \\varepsilon$ , A string containing no characters, a 0 if you will"
   ]
  },
  {
   "cell_type": "markdown",
   "metadata": {
    "slideshow": {
     "slide_type": "subslide"
    }
   },
   "source": [
    "**Empty Set** $ \\rightarrow $ $ \\emptyset $, A set containing nothing."
   ]
  },
  {
   "cell_type": "markdown",
   "metadata": {
    "slideshow": {
     "slide_type": "subslide"
    }
   },
   "source": [
    "### A Language is a _regular language_ as long as some finite automaton recognises it"
   ]
  },
  {
   "cell_type": "markdown",
   "metadata": {
    "slideshow": {
     "slide_type": "notes"
    }
   },
   "source": [
    "A regular language is simple a collection of symbols from an alphabet. Can be letters, numbers, tokens or some other signal."
   ]
  },
  {
   "cell_type": "markdown",
   "metadata": {
    "slideshow": {
     "slide_type": "notes"
    }
   },
   "source": [
    "Ditching the regular expression for a second, lets look at what a finite automoton is"
   ]
  },
  {
   "cell_type": "markdown",
   "metadata": {
    "slideshow": {
     "slide_type": "slide"
    }
   },
   "source": [
    "Lets recognise strings containing `01` anywhere."
   ]
  },
  {
   "cell_type": "markdown",
   "metadata": {
    "slideshow": {
     "slide_type": "subslide"
    }
   },
   "source": [
    "DFA for strings containing `01`\n",
    "\n",
    "$$ Q = \\{A, B, C \\} $$\n",
    "$$ \\Sigma = \\{0,1\\}$$\n",
    "$$ \\delta = Q x \\Sigma \\rightarrow Q $$\n",
    "$$ A \\in Q $$\n",
    "$$ F \\subseteq Q = C $$\n"
   ]
  },
  {
   "cell_type": "code",
   "execution_count": 41,
   "metadata": {
    "slideshow": {
     "slide_type": "subslide"
    }
   },
   "outputs": [],
   "source": [
    "states = set([\"A\", \"B\", \"C\"]) # Q = {\"A\", \"B\"}\n",
    "alphabet = set([0,1])    # Σ = {0,1}\n",
    "start_state = \"A\" # A is in states\n",
    "end_states = states.intersection(set([\"C\"]))"
   ]
  },
  {
   "cell_type": "code",
   "execution_count": 42,
   "metadata": {
    "slideshow": {
     "slide_type": "subslide"
    }
   },
   "outputs": [],
   "source": [
    "zero_one_a = automata(states, alphabet, start_state, end_states)"
   ]
  },
  {
   "cell_type": "code",
   "execution_count": 43,
   "metadata": {
    "slideshow": {
     "slide_type": "subslide"
    }
   },
   "outputs": [
    {
     "data": {
      "image/svg+xml": [
       "<?xml version=\"1.0\" encoding=\"UTF-8\" standalone=\"no\"?>\n",
       "<!DOCTYPE svg PUBLIC \"-//W3C//DTD SVG 1.1//EN\"\n",
       " \"http://www.w3.org/Graphics/SVG/1.1/DTD/svg11.dtd\">\n",
       "<!-- Generated by graphviz version 2.40.1 (20161225.0304)\n",
       " -->\n",
       "<!-- Title: %3 Pages: 1 -->\n",
       "<svg width=\"109pt\" height=\"291pt\"\n",
       " viewBox=\"0.00 0.00 109.00 291.00\" xmlns=\"http://www.w3.org/2000/svg\" xmlns:xlink=\"http://www.w3.org/1999/xlink\">\n",
       "<g id=\"graph0\" class=\"graph\" transform=\"scale(1 1) rotate(0) translate(4 287)\">\n",
       "<title>%3</title>\n",
       "<polygon fill=\"#ffffff\" stroke=\"transparent\" points=\"-4,4 -4,-287 105,-287 105,4 -4,4\"/>\n",
       "<!-- B -->\n",
       "<g id=\"node1\" class=\"node\">\n",
       "<title>B</title>\n",
       "<ellipse fill=\"none\" stroke=\"#000000\" cx=\"27\" cy=\"-105\" rx=\"27\" ry=\"18\"/>\n",
       "<text text-anchor=\"middle\" x=\"27\" y=\"-101.3\" font-family=\"Times,serif\" font-size=\"14.00\" fill=\"#000000\">B</text>\n",
       "</g>\n",
       "<!-- B&#45;&gt;B -->\n",
       "<g id=\"edge4\" class=\"edge\">\n",
       "<title>B&#45;&gt;B</title>\n",
       "<path fill=\"none\" stroke=\"#000000\" d=\"M51.5325,-112.752C62.5078,-113.4902 72,-110.9063 72,-105 72,-101.0317 67.7151,-98.5632 61.5743,-97.5944\"/>\n",
       "<polygon fill=\"#000000\" stroke=\"#000000\" points=\"61.6472,-94.0949 51.5325,-97.248 61.4059,-101.0908 61.6472,-94.0949\"/>\n",
       "<text text-anchor=\"middle\" x=\"79.5\" y=\"-101.3\" font-family=\"Times,serif\" font-size=\"14.00\" fill=\"#000000\"> &#160;0</text>\n",
       "</g>\n",
       "<!-- C -->\n",
       "<g id=\"node4\" class=\"node\">\n",
       "<title>C</title>\n",
       "<ellipse fill=\"none\" stroke=\"#000000\" stroke-dasharray=\"5,2\" cx=\"27\" cy=\"-18\" rx=\"27\" ry=\"18\"/>\n",
       "<text text-anchor=\"middle\" x=\"27\" y=\"-14.3\" font-family=\"Times,serif\" font-size=\"14.00\" fill=\"#000000\">C</text>\n",
       "</g>\n",
       "<!-- B&#45;&gt;C -->\n",
       "<g id=\"edge5\" class=\"edge\">\n",
       "<title>B&#45;&gt;C</title>\n",
       "<path fill=\"none\" stroke=\"#000000\" d=\"M27,-86.9735C27,-75.1918 27,-59.5607 27,-46.1581\"/>\n",
       "<polygon fill=\"#000000\" stroke=\"#000000\" points=\"30.5001,-46.0033 27,-36.0034 23.5001,-46.0034 30.5001,-46.0033\"/>\n",
       "<text text-anchor=\"middle\" x=\"34.5\" y=\"-57.8\" font-family=\"Times,serif\" font-size=\"14.00\" fill=\"#000000\"> &#160;1</text>\n",
       "</g>\n",
       "<!-- A -->\n",
       "<g id=\"node3\" class=\"node\">\n",
       "<title>A</title>\n",
       "<ellipse fill=\"none\" stroke=\"#000000\" stroke-width=\"2\" cx=\"27\" cy=\"-192\" rx=\"27\" ry=\"18\"/>\n",
       "<text text-anchor=\"middle\" x=\"27\" y=\"-188.3\" font-family=\"Times,serif\" font-size=\"14.00\" fill=\"#000000\">A</text>\n",
       "</g>\n",
       "<!-- &#45;&gt;A -->\n",
       "<g id=\"edge1\" class=\"edge\">\n",
       "<title>&#45;&gt;A</title>\n",
       "<path fill=\"none\" stroke=\"#000000\" d=\"M27,-246.9551C27,-238.8828 27,-229.1764 27,-220.1817\"/>\n",
       "<polygon fill=\"#000000\" stroke=\"#000000\" points=\"30.5001,-220.0903 27,-210.0904 23.5001,-220.0904 30.5001,-220.0903\"/>\n",
       "</g>\n",
       "<!-- A&#45;&gt;B -->\n",
       "<g id=\"edge3\" class=\"edge\">\n",
       "<title>A&#45;&gt;B</title>\n",
       "<path fill=\"none\" stroke=\"#000000\" d=\"M27,-173.9735C27,-162.1918 27,-146.5607 27,-133.1581\"/>\n",
       "<polygon fill=\"#000000\" stroke=\"#000000\" points=\"30.5001,-133.0033 27,-123.0034 23.5001,-133.0034 30.5001,-133.0033\"/>\n",
       "<text text-anchor=\"middle\" x=\"34.5\" y=\"-144.8\" font-family=\"Times,serif\" font-size=\"14.00\" fill=\"#000000\"> &#160;0</text>\n",
       "</g>\n",
       "<!-- A&#45;&gt;A -->\n",
       "<g id=\"edge2\" class=\"edge\">\n",
       "<title>A&#45;&gt;A</title>\n",
       "<path fill=\"none\" stroke=\"#000000\" d=\"M52.4435,-198.6907C63.0278,-199.1521 72,-196.9219 72,-192 72,-188.77 68.136,-186.6992 62.4881,-185.7876\"/>\n",
       "<polygon fill=\"#000000\" stroke=\"#000000\" points=\"62.5987,-182.289 52.4435,-185.3093 62.2656,-189.2811 62.5987,-182.289\"/>\n",
       "<text text-anchor=\"middle\" x=\"79.5\" y=\"-188.3\" font-family=\"Times,serif\" font-size=\"14.00\" fill=\"#000000\"> &#160;1</text>\n",
       "</g>\n",
       "<!-- C&#45;&gt;C -->\n",
       "<g id=\"edge6\" class=\"edge\">\n",
       "<title>C&#45;&gt;C</title>\n",
       "<path fill=\"none\" stroke=\"#000000\" d=\"M51.5325,-25.752C62.5078,-26.4902 72,-23.9063 72,-18 72,-14.0317 67.7151,-11.5632 61.5743,-10.5944\"/>\n",
       "<polygon fill=\"#000000\" stroke=\"#000000\" points=\"61.6472,-7.0949 51.5325,-10.248 61.4059,-14.0908 61.6472,-7.0949\"/>\n",
       "<text text-anchor=\"middle\" x=\"86.5\" y=\"-14.3\" font-family=\"Times,serif\" font-size=\"14.00\" fill=\"#000000\"> &#160;1, 0</text>\n",
       "</g>\n",
       "</g>\n",
       "</svg>\n"
      ],
      "text/plain": [
       "<__main__.automata at 0x7ff7f0073358>"
      ]
     },
     "execution_count": 43,
     "metadata": {},
     "output_type": "execute_result"
    }
   ],
   "source": [
    "zero_one_a.edge(\"A\", \"A\", \"1\")\n",
    "zero_one_a.edge(\"A\", \"B\", \"0\")\n",
    "zero_one_a.edge(\"B\", \"B\", \"0\")\n",
    "zero_one_a.edge(\"B\", \"C\", \"1\")\n",
    "zero_one_a.edge(\"C\", \"C\", \"1, 0\")\n",
    "\n",
    "#Example string\n",
    "#00100\n",
    "\n",
    "zero_one_a"
   ]
  },
  {
   "cell_type": "markdown",
   "metadata": {
    "slideshow": {
     "slide_type": "notes"
    }
   },
   "source": [
    "DFAs have a number of states.\n",
    "\n",
    "A here, is our starting state, A"
   ]
  },
  {
   "cell_type": "code",
   "execution_count": 10,
   "metadata": {
    "slideshow": {
     "slide_type": "subslide"
    }
   },
   "outputs": [
    {
     "data": {
      "image/svg+xml": [
       "<?xml version=\"1.0\" encoding=\"UTF-8\" standalone=\"no\"?>\n",
       "<!DOCTYPE svg PUBLIC \"-//W3C//DTD SVG 1.1//EN\"\n",
       " \"http://www.w3.org/Graphics/SVG/1.1/DTD/svg11.dtd\">\n",
       "<!-- Generated by graphviz version 2.40.1 (20161225.0304)\n",
       " -->\n",
       "<!-- Title: %3 Pages: 1 -->\n",
       "<svg width=\"62pt\" height=\"116pt\"\n",
       " viewBox=\"0.00 0.00 62.00 116.00\" xmlns=\"http://www.w3.org/2000/svg\" xmlns:xlink=\"http://www.w3.org/1999/xlink\">\n",
       "<g id=\"graph0\" class=\"graph\" transform=\"scale(1 1) rotate(0) translate(4 112)\">\n",
       "<title>%3</title>\n",
       "<polygon fill=\"#ffffff\" stroke=\"transparent\" points=\"-4,4 -4,-112 58,-112 58,4 -4,4\"/>\n",
       "<!-- A -->\n",
       "<g id=\"node2\" class=\"node\">\n",
       "<title>A</title>\n",
       "<ellipse fill=\"none\" stroke=\"#000000\" stroke-width=\"2\" cx=\"27\" cy=\"-18\" rx=\"27\" ry=\"18\"/>\n",
       "<text text-anchor=\"middle\" x=\"27\" y=\"-14.3\" font-family=\"Times,serif\" font-size=\"14.00\" fill=\"#000000\">A</text>\n",
       "</g>\n",
       "<!-- &#45;&gt;A -->\n",
       "<g id=\"edge1\" class=\"edge\">\n",
       "<title>&#45;&gt;A</title>\n",
       "<path fill=\"none\" stroke=\"#000000\" d=\"M27,-71.8314C27,-64.131 27,-54.9743 27,-46.4166\"/>\n",
       "<polygon fill=\"#000000\" stroke=\"#000000\" points=\"30.5001,-46.4132 27,-36.4133 23.5001,-46.4133 30.5001,-46.4132\"/>\n",
       "</g>\n",
       "</g>\n",
       "</svg>\n"
      ],
      "text/plain": [
       "<__main__.automata at 0x7ff7f08a4ac8>"
      ]
     },
     "execution_count": 10,
     "metadata": {},
     "output_type": "execute_result"
    }
   ],
   "source": [
    "a = automata([\"A\"], [], \"A\", \"\")\n",
    "a"
   ]
  },
  {
   "cell_type": "code",
   "execution_count": 11,
   "metadata": {
    "slideshow": {
     "slide_type": "subslide"
    }
   },
   "outputs": [
    {
     "data": {
      "image/svg+xml": [
       "<?xml version=\"1.0\" encoding=\"UTF-8\" standalone=\"no\"?>\n",
       "<!DOCTYPE svg PUBLIC \"-//W3C//DTD SVG 1.1//EN\"\n",
       " \"http://www.w3.org/Graphics/SVG/1.1/DTD/svg11.dtd\">\n",
       "<!-- Generated by graphviz version 2.40.1 (20161225.0304)\n",
       " -->\n",
       "<!-- Title: %3 Pages: 1 -->\n",
       "<svg width=\"95pt\" height=\"117pt\"\n",
       " viewBox=\"0.00 0.00 95.00 117.00\" xmlns=\"http://www.w3.org/2000/svg\" xmlns:xlink=\"http://www.w3.org/1999/xlink\">\n",
       "<g id=\"graph0\" class=\"graph\" transform=\"scale(1 1) rotate(0) translate(4 113)\">\n",
       "<title>%3</title>\n",
       "<polygon fill=\"#ffffff\" stroke=\"transparent\" points=\"-4,4 -4,-113 91,-113 91,4 -4,4\"/>\n",
       "<!-- A -->\n",
       "<g id=\"node2\" class=\"node\">\n",
       "<title>A</title>\n",
       "<ellipse fill=\"none\" stroke=\"#000000\" stroke-width=\"2\" cx=\"27\" cy=\"-18\" rx=\"27\" ry=\"18\"/>\n",
       "<text text-anchor=\"middle\" x=\"27\" y=\"-14.3\" font-family=\"Times,serif\" font-size=\"14.00\" fill=\"#000000\">A</text>\n",
       "</g>\n",
       "<!-- &#45;&gt;A -->\n",
       "<g id=\"edge1\" class=\"edge\">\n",
       "<title>&#45;&gt;A</title>\n",
       "<path fill=\"none\" stroke=\"#000000\" d=\"M27,-72.9551C27,-64.8828 27,-55.1764 27,-46.1817\"/>\n",
       "<polygon fill=\"#000000\" stroke=\"#000000\" points=\"30.5001,-46.0903 27,-36.0904 23.5001,-46.0904 30.5001,-46.0903\"/>\n",
       "</g>\n",
       "<!-- A&#45;&gt;A -->\n",
       "<g id=\"edge2\" class=\"edge\">\n",
       "<title>A&#45;&gt;A</title>\n",
       "<path fill=\"none\" stroke=\"#000000\" d=\"M52.4435,-24.6907C63.0278,-25.1521 72,-22.9219 72,-18 72,-14.77 68.136,-12.6992 62.4881,-11.7876\"/>\n",
       "<polygon fill=\"#000000\" stroke=\"#000000\" points=\"62.5987,-8.289 52.4435,-11.3093 62.2656,-15.2811 62.5987,-8.289\"/>\n",
       "<text text-anchor=\"middle\" x=\"79.5\" y=\"-14.3\" font-family=\"Times,serif\" font-size=\"14.00\" fill=\"#000000\"> &#160;1</text>\n",
       "</g>\n",
       "</g>\n",
       "</svg>\n"
      ],
      "text/plain": [
       "<__main__.automata at 0x7ff7f08a4ac8>"
      ]
     },
     "execution_count": 11,
     "metadata": {},
     "output_type": "execute_result"
    }
   ],
   "source": [
    "a.edge(\"A\", \"A\", \"1\")\n",
    "a"
   ]
  },
  {
   "cell_type": "markdown",
   "metadata": {
    "slideshow": {
     "slide_type": "notes"
    }
   },
   "source": [
    "Our start state takes parts of our string as input, and does one of two things.\n",
    "\n",
    "If its a 1, the machine stays in the A state\n",
    "If its a 0, it moves on - perhaps because this is the start of the '01' string we're looking for.\n",
    "\n",
    "If it stays in the A state and reaches the end of the string, the machine returns False, it dies, the input was\n",
    "not one that we wanted."
   ]
  },
  {
   "cell_type": "code",
   "execution_count": 12,
   "metadata": {
    "slideshow": {
     "slide_type": "subslide"
    }
   },
   "outputs": [
    {
     "data": {
      "image/svg+xml": [
       "<?xml version=\"1.0\" encoding=\"UTF-8\" standalone=\"no\"?>\n",
       "<!DOCTYPE svg PUBLIC \"-//W3C//DTD SVG 1.1//EN\"\n",
       " \"http://www.w3.org/Graphics/SVG/1.1/DTD/svg11.dtd\">\n",
       "<!-- Generated by graphviz version 2.40.1 (20161225.0304)\n",
       " -->\n",
       "<!-- Title: %3 Pages: 1 -->\n",
       "<svg width=\"95pt\" height=\"204pt\"\n",
       " viewBox=\"0.00 0.00 95.00 204.00\" xmlns=\"http://www.w3.org/2000/svg\" xmlns:xlink=\"http://www.w3.org/1999/xlink\">\n",
       "<g id=\"graph0\" class=\"graph\" transform=\"scale(1 1) rotate(0) translate(4 200)\">\n",
       "<title>%3</title>\n",
       "<polygon fill=\"#ffffff\" stroke=\"transparent\" points=\"-4,4 -4,-200 91,-200 91,4 -4,4\"/>\n",
       "<!-- A -->\n",
       "<g id=\"node2\" class=\"node\">\n",
       "<title>A</title>\n",
       "<ellipse fill=\"none\" stroke=\"#000000\" stroke-width=\"2\" cx=\"27\" cy=\"-105\" rx=\"27\" ry=\"18\"/>\n",
       "<text text-anchor=\"middle\" x=\"27\" y=\"-101.3\" font-family=\"Times,serif\" font-size=\"14.00\" fill=\"#000000\">A</text>\n",
       "</g>\n",
       "<!-- &#45;&gt;A -->\n",
       "<g id=\"edge1\" class=\"edge\">\n",
       "<title>&#45;&gt;A</title>\n",
       "<path fill=\"none\" stroke=\"#000000\" d=\"M27,-159.9551C27,-151.8828 27,-142.1764 27,-133.1817\"/>\n",
       "<polygon fill=\"#000000\" stroke=\"#000000\" points=\"30.5001,-133.0903 27,-123.0904 23.5001,-133.0904 30.5001,-133.0903\"/>\n",
       "</g>\n",
       "<!-- A&#45;&gt;A -->\n",
       "<g id=\"edge2\" class=\"edge\">\n",
       "<title>A&#45;&gt;A</title>\n",
       "<path fill=\"none\" stroke=\"#000000\" d=\"M52.4435,-111.6907C63.0278,-112.1521 72,-109.9219 72,-105 72,-101.77 68.136,-99.6992 62.4881,-98.7876\"/>\n",
       "<polygon fill=\"#000000\" stroke=\"#000000\" points=\"62.5987,-95.289 52.4435,-98.3093 62.2656,-102.2811 62.5987,-95.289\"/>\n",
       "<text text-anchor=\"middle\" x=\"79.5\" y=\"-101.3\" font-family=\"Times,serif\" font-size=\"14.00\" fill=\"#000000\"> &#160;1</text>\n",
       "</g>\n",
       "<!-- B -->\n",
       "<g id=\"node3\" class=\"node\">\n",
       "<title>B</title>\n",
       "<ellipse fill=\"none\" stroke=\"#000000\" cx=\"27\" cy=\"-18\" rx=\"27\" ry=\"18\"/>\n",
       "<text text-anchor=\"middle\" x=\"27\" y=\"-14.3\" font-family=\"Times,serif\" font-size=\"14.00\" fill=\"#000000\">B</text>\n",
       "</g>\n",
       "<!-- A&#45;&gt;B -->\n",
       "<g id=\"edge3\" class=\"edge\">\n",
       "<title>A&#45;&gt;B</title>\n",
       "<path fill=\"none\" stroke=\"#000000\" d=\"M27,-86.9735C27,-75.1918 27,-59.5607 27,-46.1581\"/>\n",
       "<polygon fill=\"#000000\" stroke=\"#000000\" points=\"30.5001,-46.0033 27,-36.0034 23.5001,-46.0034 30.5001,-46.0033\"/>\n",
       "<text text-anchor=\"middle\" x=\"34.5\" y=\"-57.8\" font-family=\"Times,serif\" font-size=\"14.00\" fill=\"#000000\"> &#160;0</text>\n",
       "</g>\n",
       "</g>\n",
       "</svg>\n"
      ],
      "text/plain": [
       "<__main__.automata at 0x7ff7f08a4ac8>"
      ]
     },
     "execution_count": 12,
     "metadata": {},
     "output_type": "execute_result"
    }
   ],
   "source": [
    "a.edge(\"A\", \"B\", \"0\")\n",
    "a"
   ]
  },
  {
   "cell_type": "markdown",
   "metadata": {
    "slideshow": {
     "slide_type": "notes"
    }
   },
   "source": [
    "Next, we add the move to state `B`, only if the character was `0`.\n",
    "We can essentially skip state A if the first character is `0`"
   ]
  },
  {
   "cell_type": "code",
   "execution_count": 13,
   "metadata": {
    "slideshow": {
     "slide_type": "subslide"
    }
   },
   "outputs": [
    {
     "data": {
      "image/svg+xml": [
       "<?xml version=\"1.0\" encoding=\"UTF-8\" standalone=\"no\"?>\n",
       "<!DOCTYPE svg PUBLIC \"-//W3C//DTD SVG 1.1//EN\"\n",
       " \"http://www.w3.org/Graphics/SVG/1.1/DTD/svg11.dtd\">\n",
       "<!-- Generated by graphviz version 2.40.1 (20161225.0304)\n",
       " -->\n",
       "<!-- Title: %3 Pages: 1 -->\n",
       "<svg width=\"95pt\" height=\"204pt\"\n",
       " viewBox=\"0.00 0.00 95.00 204.00\" xmlns=\"http://www.w3.org/2000/svg\" xmlns:xlink=\"http://www.w3.org/1999/xlink\">\n",
       "<g id=\"graph0\" class=\"graph\" transform=\"scale(1 1) rotate(0) translate(4 200)\">\n",
       "<title>%3</title>\n",
       "<polygon fill=\"#ffffff\" stroke=\"transparent\" points=\"-4,4 -4,-200 91,-200 91,4 -4,4\"/>\n",
       "<!-- A -->\n",
       "<g id=\"node2\" class=\"node\">\n",
       "<title>A</title>\n",
       "<ellipse fill=\"none\" stroke=\"#000000\" stroke-width=\"2\" cx=\"27\" cy=\"-105\" rx=\"27\" ry=\"18\"/>\n",
       "<text text-anchor=\"middle\" x=\"27\" y=\"-101.3\" font-family=\"Times,serif\" font-size=\"14.00\" fill=\"#000000\">A</text>\n",
       "</g>\n",
       "<!-- &#45;&gt;A -->\n",
       "<g id=\"edge1\" class=\"edge\">\n",
       "<title>&#45;&gt;A</title>\n",
       "<path fill=\"none\" stroke=\"#000000\" d=\"M27,-159.9551C27,-151.8828 27,-142.1764 27,-133.1817\"/>\n",
       "<polygon fill=\"#000000\" stroke=\"#000000\" points=\"30.5001,-133.0903 27,-123.0904 23.5001,-133.0904 30.5001,-133.0903\"/>\n",
       "</g>\n",
       "<!-- A&#45;&gt;A -->\n",
       "<g id=\"edge2\" class=\"edge\">\n",
       "<title>A&#45;&gt;A</title>\n",
       "<path fill=\"none\" stroke=\"#000000\" d=\"M52.4435,-111.6907C63.0278,-112.1521 72,-109.9219 72,-105 72,-101.77 68.136,-99.6992 62.4881,-98.7876\"/>\n",
       "<polygon fill=\"#000000\" stroke=\"#000000\" points=\"62.5987,-95.289 52.4435,-98.3093 62.2656,-102.2811 62.5987,-95.289\"/>\n",
       "<text text-anchor=\"middle\" x=\"79.5\" y=\"-101.3\" font-family=\"Times,serif\" font-size=\"14.00\" fill=\"#000000\"> &#160;1</text>\n",
       "</g>\n",
       "<!-- B -->\n",
       "<g id=\"node3\" class=\"node\">\n",
       "<title>B</title>\n",
       "<ellipse fill=\"none\" stroke=\"#000000\" cx=\"27\" cy=\"-18\" rx=\"27\" ry=\"18\"/>\n",
       "<text text-anchor=\"middle\" x=\"27\" y=\"-14.3\" font-family=\"Times,serif\" font-size=\"14.00\" fill=\"#000000\">B</text>\n",
       "</g>\n",
       "<!-- A&#45;&gt;B -->\n",
       "<g id=\"edge3\" class=\"edge\">\n",
       "<title>A&#45;&gt;B</title>\n",
       "<path fill=\"none\" stroke=\"#000000\" d=\"M27,-86.9735C27,-75.1918 27,-59.5607 27,-46.1581\"/>\n",
       "<polygon fill=\"#000000\" stroke=\"#000000\" points=\"30.5001,-46.0033 27,-36.0034 23.5001,-46.0034 30.5001,-46.0033\"/>\n",
       "<text text-anchor=\"middle\" x=\"34.5\" y=\"-57.8\" font-family=\"Times,serif\" font-size=\"14.00\" fill=\"#000000\"> &#160;0</text>\n",
       "</g>\n",
       "<!-- B&#45;&gt;B -->\n",
       "<g id=\"edge4\" class=\"edge\">\n",
       "<title>B&#45;&gt;B</title>\n",
       "<path fill=\"none\" stroke=\"#000000\" d=\"M51.5325,-25.752C62.5078,-26.4902 72,-23.9063 72,-18 72,-14.0317 67.7151,-11.5632 61.5743,-10.5944\"/>\n",
       "<polygon fill=\"#000000\" stroke=\"#000000\" points=\"61.6472,-7.0949 51.5325,-10.248 61.4059,-14.0908 61.6472,-7.0949\"/>\n",
       "<text text-anchor=\"middle\" x=\"79.5\" y=\"-14.3\" font-family=\"Times,serif\" font-size=\"14.00\" fill=\"#000000\"> &#160;0</text>\n",
       "</g>\n",
       "</g>\n",
       "</svg>\n"
      ],
      "text/plain": [
       "<__main__.automata at 0x7ff7f08a4ac8>"
      ]
     },
     "execution_count": 13,
     "metadata": {},
     "output_type": "execute_result"
    }
   ],
   "source": [
    "a.edge(\"B\", \"B\", \"0\")\n",
    "a"
   ]
  },
  {
   "cell_type": "markdown",
   "metadata": {
    "slideshow": {
     "slide_type": "notes"
    }
   },
   "source": [
    "If the next character is a 0, then we've broken the 01 sequence.\n",
    "cycle around on B until the next character.\n"
   ]
  },
  {
   "cell_type": "code",
   "execution_count": 14,
   "metadata": {
    "slideshow": {
     "slide_type": "subslide"
    }
   },
   "outputs": [
    {
     "data": {
      "image/svg+xml": [
       "<?xml version=\"1.0\" encoding=\"UTF-8\" standalone=\"no\"?>\n",
       "<!DOCTYPE svg PUBLIC \"-//W3C//DTD SVG 1.1//EN\"\n",
       " \"http://www.w3.org/Graphics/SVG/1.1/DTD/svg11.dtd\">\n",
       "<!-- Generated by graphviz version 2.40.1 (20161225.0304)\n",
       " -->\n",
       "<!-- Title: %3 Pages: 1 -->\n",
       "<svg width=\"95pt\" height=\"291pt\"\n",
       " viewBox=\"0.00 0.00 95.00 291.00\" xmlns=\"http://www.w3.org/2000/svg\" xmlns:xlink=\"http://www.w3.org/1999/xlink\">\n",
       "<g id=\"graph0\" class=\"graph\" transform=\"scale(1 1) rotate(0) translate(4 287)\">\n",
       "<title>%3</title>\n",
       "<polygon fill=\"#ffffff\" stroke=\"transparent\" points=\"-4,4 -4,-287 91,-287 91,4 -4,4\"/>\n",
       "<!-- A -->\n",
       "<g id=\"node2\" class=\"node\">\n",
       "<title>A</title>\n",
       "<ellipse fill=\"none\" stroke=\"#000000\" stroke-width=\"2\" cx=\"27\" cy=\"-192\" rx=\"27\" ry=\"18\"/>\n",
       "<text text-anchor=\"middle\" x=\"27\" y=\"-188.3\" font-family=\"Times,serif\" font-size=\"14.00\" fill=\"#000000\">A</text>\n",
       "</g>\n",
       "<!-- &#45;&gt;A -->\n",
       "<g id=\"edge1\" class=\"edge\">\n",
       "<title>&#45;&gt;A</title>\n",
       "<path fill=\"none\" stroke=\"#000000\" d=\"M27,-246.9551C27,-238.8828 27,-229.1764 27,-220.1817\"/>\n",
       "<polygon fill=\"#000000\" stroke=\"#000000\" points=\"30.5001,-220.0903 27,-210.0904 23.5001,-220.0904 30.5001,-220.0903\"/>\n",
       "</g>\n",
       "<!-- A&#45;&gt;A -->\n",
       "<g id=\"edge2\" class=\"edge\">\n",
       "<title>A&#45;&gt;A</title>\n",
       "<path fill=\"none\" stroke=\"#000000\" d=\"M52.4435,-198.6907C63.0278,-199.1521 72,-196.9219 72,-192 72,-188.77 68.136,-186.6992 62.4881,-185.7876\"/>\n",
       "<polygon fill=\"#000000\" stroke=\"#000000\" points=\"62.5987,-182.289 52.4435,-185.3093 62.2656,-189.2811 62.5987,-182.289\"/>\n",
       "<text text-anchor=\"middle\" x=\"79.5\" y=\"-188.3\" font-family=\"Times,serif\" font-size=\"14.00\" fill=\"#000000\"> &#160;1</text>\n",
       "</g>\n",
       "<!-- B -->\n",
       "<g id=\"node3\" class=\"node\">\n",
       "<title>B</title>\n",
       "<ellipse fill=\"none\" stroke=\"#000000\" cx=\"27\" cy=\"-105\" rx=\"27\" ry=\"18\"/>\n",
       "<text text-anchor=\"middle\" x=\"27\" y=\"-101.3\" font-family=\"Times,serif\" font-size=\"14.00\" fill=\"#000000\">B</text>\n",
       "</g>\n",
       "<!-- A&#45;&gt;B -->\n",
       "<g id=\"edge3\" class=\"edge\">\n",
       "<title>A&#45;&gt;B</title>\n",
       "<path fill=\"none\" stroke=\"#000000\" d=\"M27,-173.9735C27,-162.1918 27,-146.5607 27,-133.1581\"/>\n",
       "<polygon fill=\"#000000\" stroke=\"#000000\" points=\"30.5001,-133.0033 27,-123.0034 23.5001,-133.0034 30.5001,-133.0033\"/>\n",
       "<text text-anchor=\"middle\" x=\"34.5\" y=\"-144.8\" font-family=\"Times,serif\" font-size=\"14.00\" fill=\"#000000\"> &#160;0</text>\n",
       "</g>\n",
       "<!-- B&#45;&gt;B -->\n",
       "<g id=\"edge4\" class=\"edge\">\n",
       "<title>B&#45;&gt;B</title>\n",
       "<path fill=\"none\" stroke=\"#000000\" d=\"M51.5325,-112.752C62.5078,-113.4902 72,-110.9063 72,-105 72,-101.0317 67.7151,-98.5632 61.5743,-97.5944\"/>\n",
       "<polygon fill=\"#000000\" stroke=\"#000000\" points=\"61.6472,-94.0949 51.5325,-97.248 61.4059,-101.0908 61.6472,-94.0949\"/>\n",
       "<text text-anchor=\"middle\" x=\"79.5\" y=\"-101.3\" font-family=\"Times,serif\" font-size=\"14.00\" fill=\"#000000\"> &#160;0</text>\n",
       "</g>\n",
       "<!-- C -->\n",
       "<g id=\"node4\" class=\"node\">\n",
       "<title>C</title>\n",
       "<ellipse fill=\"none\" stroke=\"#000000\" cx=\"27\" cy=\"-18\" rx=\"27\" ry=\"18\"/>\n",
       "<text text-anchor=\"middle\" x=\"27\" y=\"-14.3\" font-family=\"Times,serif\" font-size=\"14.00\" fill=\"#000000\">C</text>\n",
       "</g>\n",
       "<!-- B&#45;&gt;C -->\n",
       "<g id=\"edge5\" class=\"edge\">\n",
       "<title>B&#45;&gt;C</title>\n",
       "<path fill=\"none\" stroke=\"#000000\" d=\"M27,-86.9735C27,-75.1918 27,-59.5607 27,-46.1581\"/>\n",
       "<polygon fill=\"#000000\" stroke=\"#000000\" points=\"30.5001,-46.0033 27,-36.0034 23.5001,-46.0034 30.5001,-46.0033\"/>\n",
       "<text text-anchor=\"middle\" x=\"34.5\" y=\"-57.8\" font-family=\"Times,serif\" font-size=\"14.00\" fill=\"#000000\"> &#160;1</text>\n",
       "</g>\n",
       "</g>\n",
       "</svg>\n"
      ],
      "text/plain": [
       "<__main__.automata at 0x7ff7f08a4ac8>"
      ]
     },
     "execution_count": 14,
     "metadata": {},
     "output_type": "execute_result"
    }
   ],
   "source": [
    "a.edge(\"B\", \"C\", \"1\")\n",
    "a"
   ]
  },
  {
   "cell_type": "markdown",
   "metadata": {
    "slideshow": {
     "slide_type": "notes"
    }
   },
   "source": [
    "If the next one is a 1, then the `01` sequence is continued!"
   ]
  },
  {
   "cell_type": "code",
   "execution_count": 15,
   "metadata": {
    "slideshow": {
     "slide_type": "subslide"
    }
   },
   "outputs": [
    {
     "data": {
      "image/svg+xml": [
       "<?xml version=\"1.0\" encoding=\"UTF-8\" standalone=\"no\"?>\n",
       "<!DOCTYPE svg PUBLIC \"-//W3C//DTD SVG 1.1//EN\"\n",
       " \"http://www.w3.org/Graphics/SVG/1.1/DTD/svg11.dtd\">\n",
       "<!-- Generated by graphviz version 2.40.1 (20161225.0304)\n",
       " -->\n",
       "<!-- Title: %3 Pages: 1 -->\n",
       "<svg width=\"109pt\" height=\"291pt\"\n",
       " viewBox=\"0.00 0.00 109.00 291.00\" xmlns=\"http://www.w3.org/2000/svg\" xmlns:xlink=\"http://www.w3.org/1999/xlink\">\n",
       "<g id=\"graph0\" class=\"graph\" transform=\"scale(1 1) rotate(0) translate(4 287)\">\n",
       "<title>%3</title>\n",
       "<polygon fill=\"#ffffff\" stroke=\"transparent\" points=\"-4,4 -4,-287 105,-287 105,4 -4,4\"/>\n",
       "<!-- A -->\n",
       "<g id=\"node2\" class=\"node\">\n",
       "<title>A</title>\n",
       "<ellipse fill=\"none\" stroke=\"#000000\" stroke-width=\"2\" cx=\"27\" cy=\"-192\" rx=\"27\" ry=\"18\"/>\n",
       "<text text-anchor=\"middle\" x=\"27\" y=\"-188.3\" font-family=\"Times,serif\" font-size=\"14.00\" fill=\"#000000\">A</text>\n",
       "</g>\n",
       "<!-- &#45;&gt;A -->\n",
       "<g id=\"edge1\" class=\"edge\">\n",
       "<title>&#45;&gt;A</title>\n",
       "<path fill=\"none\" stroke=\"#000000\" d=\"M27,-246.9551C27,-238.8828 27,-229.1764 27,-220.1817\"/>\n",
       "<polygon fill=\"#000000\" stroke=\"#000000\" points=\"30.5001,-220.0903 27,-210.0904 23.5001,-220.0904 30.5001,-220.0903\"/>\n",
       "</g>\n",
       "<!-- A&#45;&gt;A -->\n",
       "<g id=\"edge2\" class=\"edge\">\n",
       "<title>A&#45;&gt;A</title>\n",
       "<path fill=\"none\" stroke=\"#000000\" d=\"M52.4435,-198.6907C63.0278,-199.1521 72,-196.9219 72,-192 72,-188.77 68.136,-186.6992 62.4881,-185.7876\"/>\n",
       "<polygon fill=\"#000000\" stroke=\"#000000\" points=\"62.5987,-182.289 52.4435,-185.3093 62.2656,-189.2811 62.5987,-182.289\"/>\n",
       "<text text-anchor=\"middle\" x=\"79.5\" y=\"-188.3\" font-family=\"Times,serif\" font-size=\"14.00\" fill=\"#000000\"> &#160;1</text>\n",
       "</g>\n",
       "<!-- B -->\n",
       "<g id=\"node3\" class=\"node\">\n",
       "<title>B</title>\n",
       "<ellipse fill=\"none\" stroke=\"#000000\" cx=\"27\" cy=\"-105\" rx=\"27\" ry=\"18\"/>\n",
       "<text text-anchor=\"middle\" x=\"27\" y=\"-101.3\" font-family=\"Times,serif\" font-size=\"14.00\" fill=\"#000000\">B</text>\n",
       "</g>\n",
       "<!-- A&#45;&gt;B -->\n",
       "<g id=\"edge3\" class=\"edge\">\n",
       "<title>A&#45;&gt;B</title>\n",
       "<path fill=\"none\" stroke=\"#000000\" d=\"M27,-173.9735C27,-162.1918 27,-146.5607 27,-133.1581\"/>\n",
       "<polygon fill=\"#000000\" stroke=\"#000000\" points=\"30.5001,-133.0033 27,-123.0034 23.5001,-133.0034 30.5001,-133.0033\"/>\n",
       "<text text-anchor=\"middle\" x=\"34.5\" y=\"-144.8\" font-family=\"Times,serif\" font-size=\"14.00\" fill=\"#000000\"> &#160;0</text>\n",
       "</g>\n",
       "<!-- B&#45;&gt;B -->\n",
       "<g id=\"edge4\" class=\"edge\">\n",
       "<title>B&#45;&gt;B</title>\n",
       "<path fill=\"none\" stroke=\"#000000\" d=\"M51.5325,-112.752C62.5078,-113.4902 72,-110.9063 72,-105 72,-101.0317 67.7151,-98.5632 61.5743,-97.5944\"/>\n",
       "<polygon fill=\"#000000\" stroke=\"#000000\" points=\"61.6472,-94.0949 51.5325,-97.248 61.4059,-101.0908 61.6472,-94.0949\"/>\n",
       "<text text-anchor=\"middle\" x=\"79.5\" y=\"-101.3\" font-family=\"Times,serif\" font-size=\"14.00\" fill=\"#000000\"> &#160;0</text>\n",
       "</g>\n",
       "<!-- C -->\n",
       "<g id=\"node4\" class=\"node\">\n",
       "<title>C</title>\n",
       "<ellipse fill=\"none\" stroke=\"#000000\" stroke-dasharray=\"5,2\" cx=\"27\" cy=\"-18\" rx=\"27\" ry=\"18\"/>\n",
       "<text text-anchor=\"middle\" x=\"27\" y=\"-14.3\" font-family=\"Times,serif\" font-size=\"14.00\" fill=\"#000000\">C</text>\n",
       "</g>\n",
       "<!-- B&#45;&gt;C -->\n",
       "<g id=\"edge5\" class=\"edge\">\n",
       "<title>B&#45;&gt;C</title>\n",
       "<path fill=\"none\" stroke=\"#000000\" d=\"M27,-86.9735C27,-75.1918 27,-59.5607 27,-46.1581\"/>\n",
       "<polygon fill=\"#000000\" stroke=\"#000000\" points=\"30.5001,-46.0033 27,-36.0034 23.5001,-46.0034 30.5001,-46.0033\"/>\n",
       "<text text-anchor=\"middle\" x=\"34.5\" y=\"-57.8\" font-family=\"Times,serif\" font-size=\"14.00\" fill=\"#000000\"> &#160;1</text>\n",
       "</g>\n",
       "<!-- C&#45;&gt;C -->\n",
       "<g id=\"edge6\" class=\"edge\">\n",
       "<title>C&#45;&gt;C</title>\n",
       "<path fill=\"none\" stroke=\"#000000\" d=\"M51.5325,-25.752C62.5078,-26.4902 72,-23.9063 72,-18 72,-14.0317 67.7151,-11.5632 61.5743,-10.5944\"/>\n",
       "<polygon fill=\"#000000\" stroke=\"#000000\" points=\"61.6472,-7.0949 51.5325,-10.248 61.4059,-14.0908 61.6472,-7.0949\"/>\n",
       "<text text-anchor=\"middle\" x=\"86.5\" y=\"-14.3\" font-family=\"Times,serif\" font-size=\"14.00\" fill=\"#000000\"> &#160;0, 1</text>\n",
       "</g>\n",
       "</g>\n",
       "</svg>\n"
      ],
      "text/plain": [
       "<__main__.automata at 0x7ff7f08a4ac8>"
      ]
     },
     "execution_count": 15,
     "metadata": {},
     "output_type": "execute_result"
    }
   ],
   "source": [
    "a.final_states = set(\"C\")\n",
    "a.edge(\"C\", \"C\", \"0, 1\")\n",
    "a"
   ]
  },
  {
   "cell_type": "markdown",
   "metadata": {
    "slideshow": {
     "slide_type": "notes"
    }
   },
   "source": [
    "Finally, we cycle around on C in case there are spare characters at the end of the string.\n",
    "If we reache the end of the string while sitting in the C state, then we're complete! we accept the string!"
   ]
  },
  {
   "cell_type": "markdown",
   "metadata": {
    "slideshow": {
     "slide_type": "notes"
    }
   },
   "source": [
    "Hopefully this all makes sense!\n",
    "\n",
    "Before we go back to Regular Expressions - we have to jump into _non-deterministic finite automoton_"
   ]
  },
  {
   "cell_type": "markdown",
   "metadata": {
    "slideshow": {
     "slide_type": "slide"
    }
   },
   "source": [
    "##Non-Deterministic Finite Automoton"
   ]
  },
  {
   "cell_type": "markdown",
   "metadata": {
    "slideshow": {
     "slide_type": "notes"
    }
   },
   "source": [
    "Unlike the prior example ( A deterministic finite automoton ) - NFAs are capable of being in more than one state at once.\n",
    "\n",
    "NFA is a generalizeation of a DFA.\n",
    "Every DFA is an NFA, just a restricted one."
   ]
  },
  {
   "cell_type": "markdown",
   "metadata": {
    "slideshow": {
     "slide_type": "notes"
    }
   },
   "source": [
    "In a DFA, every state has exactly one edge for every item in the alphabet.\n",
    "An NFA may have many."
   ]
  },
  {
   "cell_type": "markdown",
   "metadata": {
    "slideshow": {
     "slide_type": "notes"
    }
   },
   "source": [
    "Consider an NFA which recognises the language of strings ending in `110`"
   ]
  },
  {
   "cell_type": "code",
   "execution_count": 16,
   "metadata": {
    "slideshow": {
     "slide_type": "subslide"
    }
   },
   "outputs": [],
   "source": [
    "states = [\"A\", \"B\", \"C\", \"D\"]\n",
    "alphabet = set([0,1])\n",
    "start_state = \"A\"\n",
    "end_states = set(\"D\")\n",
    "\n",
    "a = automata(states, alphabet, start_state, end_states)\n",
    "\n",
    "a.edge(\"A\", \"A\", \"0, 1\")\n",
    "a.edge(\"A\", \"B\", \"1\")\n",
    "a.edge(\"B\", \"C\", \"1\")\n",
    "a.edge(\"C\", \"D\", \"0\")"
   ]
  },
  {
   "cell_type": "code",
   "execution_count": 17,
   "metadata": {
    "slideshow": {
     "slide_type": "subslide"
    }
   },
   "outputs": [
    {
     "data": {
      "image/svg+xml": [
       "<?xml version=\"1.0\" encoding=\"UTF-8\" standalone=\"no\"?>\n",
       "<!DOCTYPE svg PUBLIC \"-//W3C//DTD SVG 1.1//EN\"\n",
       " \"http://www.w3.org/Graphics/SVG/1.1/DTD/svg11.dtd\">\n",
       "<!-- Generated by graphviz version 2.40.1 (20161225.0304)\n",
       " -->\n",
       "<!-- Title: %3 Pages: 1 -->\n",
       "<svg width=\"109pt\" height=\"378pt\"\n",
       " viewBox=\"0.00 0.00 109.00 378.00\" xmlns=\"http://www.w3.org/2000/svg\" xmlns:xlink=\"http://www.w3.org/1999/xlink\">\n",
       "<g id=\"graph0\" class=\"graph\" transform=\"scale(1 1) rotate(0) translate(4 374)\">\n",
       "<title>%3</title>\n",
       "<polygon fill=\"#ffffff\" stroke=\"transparent\" points=\"-4,4 -4,-374 105,-374 105,4 -4,4\"/>\n",
       "<!-- A -->\n",
       "<g id=\"node2\" class=\"node\">\n",
       "<title>A</title>\n",
       "<ellipse fill=\"none\" stroke=\"#000000\" stroke-width=\"2\" cx=\"27\" cy=\"-279\" rx=\"27\" ry=\"18\"/>\n",
       "<text text-anchor=\"middle\" x=\"27\" y=\"-275.3\" font-family=\"Times,serif\" font-size=\"14.00\" fill=\"#000000\">A</text>\n",
       "</g>\n",
       "<!-- &#45;&gt;A -->\n",
       "<g id=\"edge1\" class=\"edge\">\n",
       "<title>&#45;&gt;A</title>\n",
       "<path fill=\"none\" stroke=\"#000000\" d=\"M27,-333.9551C27,-325.8828 27,-316.1764 27,-307.1817\"/>\n",
       "<polygon fill=\"#000000\" stroke=\"#000000\" points=\"30.5001,-307.0903 27,-297.0904 23.5001,-307.0904 30.5001,-307.0903\"/>\n",
       "</g>\n",
       "<!-- A&#45;&gt;A -->\n",
       "<g id=\"edge2\" class=\"edge\">\n",
       "<title>A&#45;&gt;A</title>\n",
       "<path fill=\"none\" stroke=\"#000000\" d=\"M52.4435,-285.6907C63.0278,-286.1521 72,-283.9219 72,-279 72,-275.77 68.136,-273.6992 62.4881,-272.7876\"/>\n",
       "<polygon fill=\"#000000\" stroke=\"#000000\" points=\"62.5987,-269.289 52.4435,-272.3093 62.2656,-276.2811 62.5987,-269.289\"/>\n",
       "<text text-anchor=\"middle\" x=\"86.5\" y=\"-275.3\" font-family=\"Times,serif\" font-size=\"14.00\" fill=\"#000000\"> &#160;0, 1</text>\n",
       "</g>\n",
       "<!-- B -->\n",
       "<g id=\"node3\" class=\"node\">\n",
       "<title>B</title>\n",
       "<ellipse fill=\"none\" stroke=\"#000000\" cx=\"27\" cy=\"-192\" rx=\"27\" ry=\"18\"/>\n",
       "<text text-anchor=\"middle\" x=\"27\" y=\"-188.3\" font-family=\"Times,serif\" font-size=\"14.00\" fill=\"#000000\">B</text>\n",
       "</g>\n",
       "<!-- A&#45;&gt;B -->\n",
       "<g id=\"edge3\" class=\"edge\">\n",
       "<title>A&#45;&gt;B</title>\n",
       "<path fill=\"none\" stroke=\"#000000\" d=\"M27,-260.9735C27,-249.1918 27,-233.5607 27,-220.1581\"/>\n",
       "<polygon fill=\"#000000\" stroke=\"#000000\" points=\"30.5001,-220.0033 27,-210.0034 23.5001,-220.0034 30.5001,-220.0033\"/>\n",
       "<text text-anchor=\"middle\" x=\"34.5\" y=\"-231.8\" font-family=\"Times,serif\" font-size=\"14.00\" fill=\"#000000\"> &#160;1</text>\n",
       "</g>\n",
       "<!-- C -->\n",
       "<g id=\"node4\" class=\"node\">\n",
       "<title>C</title>\n",
       "<ellipse fill=\"none\" stroke=\"#000000\" cx=\"27\" cy=\"-105\" rx=\"27\" ry=\"18\"/>\n",
       "<text text-anchor=\"middle\" x=\"27\" y=\"-101.3\" font-family=\"Times,serif\" font-size=\"14.00\" fill=\"#000000\">C</text>\n",
       "</g>\n",
       "<!-- B&#45;&gt;C -->\n",
       "<g id=\"edge4\" class=\"edge\">\n",
       "<title>B&#45;&gt;C</title>\n",
       "<path fill=\"none\" stroke=\"#000000\" d=\"M27,-173.9735C27,-162.1918 27,-146.5607 27,-133.1581\"/>\n",
       "<polygon fill=\"#000000\" stroke=\"#000000\" points=\"30.5001,-133.0033 27,-123.0034 23.5001,-133.0034 30.5001,-133.0033\"/>\n",
       "<text text-anchor=\"middle\" x=\"34.5\" y=\"-144.8\" font-family=\"Times,serif\" font-size=\"14.00\" fill=\"#000000\"> &#160;1</text>\n",
       "</g>\n",
       "<!-- D -->\n",
       "<g id=\"node5\" class=\"node\">\n",
       "<title>D</title>\n",
       "<ellipse fill=\"none\" stroke=\"#000000\" stroke-dasharray=\"5,2\" cx=\"27\" cy=\"-18\" rx=\"27\" ry=\"18\"/>\n",
       "<text text-anchor=\"middle\" x=\"27\" y=\"-14.3\" font-family=\"Times,serif\" font-size=\"14.00\" fill=\"#000000\">D</text>\n",
       "</g>\n",
       "<!-- C&#45;&gt;D -->\n",
       "<g id=\"edge5\" class=\"edge\">\n",
       "<title>C&#45;&gt;D</title>\n",
       "<path fill=\"none\" stroke=\"#000000\" d=\"M27,-86.9735C27,-75.1918 27,-59.5607 27,-46.1581\"/>\n",
       "<polygon fill=\"#000000\" stroke=\"#000000\" points=\"30.5001,-46.0033 27,-36.0034 23.5001,-46.0034 30.5001,-46.0033\"/>\n",
       "<text text-anchor=\"middle\" x=\"34.5\" y=\"-57.8\" font-family=\"Times,serif\" font-size=\"14.00\" fill=\"#000000\"> &#160;0</text>\n",
       "</g>\n",
       "</g>\n",
       "</svg>\n"
      ],
      "text/plain": [
       "<__main__.automata at 0x7ff7f0058d68>"
      ]
     },
     "execution_count": 17,
     "metadata": {},
     "output_type": "execute_result"
    }
   ],
   "source": [
    "a\n",
    "\n",
    "#Example String\n",
    "#00100"
   ]
  },
  {
   "cell_type": "markdown",
   "metadata": {
    "slideshow": {
     "slide_type": "notes"
    }
   },
   "source": [
    "This automaton can be in two states at once - this means that for any character, it can both stay in the `A` state and transition to the `B` state.\n",
    "\n",
    "You can think of this like forking a program for every node which has more than one edge for a given character of the alphabet."
   ]
  },
  {
   "cell_type": "markdown",
   "metadata": {
    "slideshow": {
     "slide_type": "notes"
    }
   },
   "source": [
    "NFAs can be reduced to DFAs through several different methods that I won't be going into today.\n",
    "\n",
    "The main bonus of an NFA is the ability to represent more complex computations in less space than we'd need for the equivilent DFA.\n",
    "\n",
    "They can't do more, or less than a DFA."
   ]
  },
  {
   "cell_type": "markdown",
   "metadata": {
    "slideshow": {
     "slide_type": "slide"
    }
   },
   "source": [
    "## Combining finite automation"
   ]
  },
  {
   "cell_type": "markdown",
   "metadata": {
    "slideshow": {
     "slide_type": "notes"
    }
   },
   "source": [
    "If we have two automata which recognise two languages with the same alphabet. It is useful to be able to combine those automata into the same machine."
   ]
  },
  {
   "cell_type": "markdown",
   "metadata": {
    "slideshow": {
     "slide_type": "subslide"
    }
   },
   "source": [
    "### Union\n",
    "A Logical `OR`"
   ]
  },
  {
   "cell_type": "markdown",
   "metadata": {
    "slideshow": {
     "slide_type": "notes"
    }
   },
   "source": [
    "Consider our automaton which recognises strings containing `110`"
   ]
  },
  {
   "cell_type": "code",
   "execution_count": 18,
   "metadata": {
    "slideshow": {
     "slide_type": "subslide"
    }
   },
   "outputs": [],
   "source": [
    "states = [\"A\", \"B\", \"C\", \"D\"]\n",
    "alphabet = set([0,1])\n",
    "start_state = \"A\"\n",
    "end_states = set(\"D\")\n",
    "\n",
    "a = automata(states, alphabet, start_state, end_states)\n",
    "\n",
    "a.edge(\"A\", \"A\", \"0, 1\")\n",
    "a.edge(\"A\", \"B\", \"1\")\n",
    "a.edge(\"B\", \"C\", \"1\")\n",
    "a.edge(\"C\", \"D\", \"0\")\n",
    "a.edge(\"D\", \"D\", \"0, 1\")"
   ]
  },
  {
   "cell_type": "code",
   "execution_count": 19,
   "metadata": {
    "slideshow": {
     "slide_type": "subslide"
    }
   },
   "outputs": [
    {
     "data": {
      "image/svg+xml": [
       "<?xml version=\"1.0\" encoding=\"UTF-8\" standalone=\"no\"?>\n",
       "<!DOCTYPE svg PUBLIC \"-//W3C//DTD SVG 1.1//EN\"\n",
       " \"http://www.w3.org/Graphics/SVG/1.1/DTD/svg11.dtd\">\n",
       "<!-- Generated by graphviz version 2.40.1 (20161225.0304)\n",
       " -->\n",
       "<!-- Title: %3 Pages: 1 -->\n",
       "<svg width=\"109pt\" height=\"378pt\"\n",
       " viewBox=\"0.00 0.00 109.00 378.00\" xmlns=\"http://www.w3.org/2000/svg\" xmlns:xlink=\"http://www.w3.org/1999/xlink\">\n",
       "<g id=\"graph0\" class=\"graph\" transform=\"scale(1 1) rotate(0) translate(4 374)\">\n",
       "<title>%3</title>\n",
       "<polygon fill=\"#ffffff\" stroke=\"transparent\" points=\"-4,4 -4,-374 105,-374 105,4 -4,4\"/>\n",
       "<!-- A -->\n",
       "<g id=\"node2\" class=\"node\">\n",
       "<title>A</title>\n",
       "<ellipse fill=\"none\" stroke=\"#000000\" stroke-width=\"2\" cx=\"27\" cy=\"-279\" rx=\"27\" ry=\"18\"/>\n",
       "<text text-anchor=\"middle\" x=\"27\" y=\"-275.3\" font-family=\"Times,serif\" font-size=\"14.00\" fill=\"#000000\">A</text>\n",
       "</g>\n",
       "<!-- &#45;&gt;A -->\n",
       "<g id=\"edge1\" class=\"edge\">\n",
       "<title>&#45;&gt;A</title>\n",
       "<path fill=\"none\" stroke=\"#000000\" d=\"M27,-333.9551C27,-325.8828 27,-316.1764 27,-307.1817\"/>\n",
       "<polygon fill=\"#000000\" stroke=\"#000000\" points=\"30.5001,-307.0903 27,-297.0904 23.5001,-307.0904 30.5001,-307.0903\"/>\n",
       "</g>\n",
       "<!-- A&#45;&gt;A -->\n",
       "<g id=\"edge2\" class=\"edge\">\n",
       "<title>A&#45;&gt;A</title>\n",
       "<path fill=\"none\" stroke=\"#000000\" d=\"M52.4435,-285.6907C63.0278,-286.1521 72,-283.9219 72,-279 72,-275.77 68.136,-273.6992 62.4881,-272.7876\"/>\n",
       "<polygon fill=\"#000000\" stroke=\"#000000\" points=\"62.5987,-269.289 52.4435,-272.3093 62.2656,-276.2811 62.5987,-269.289\"/>\n",
       "<text text-anchor=\"middle\" x=\"86.5\" y=\"-275.3\" font-family=\"Times,serif\" font-size=\"14.00\" fill=\"#000000\"> &#160;0, 1</text>\n",
       "</g>\n",
       "<!-- B -->\n",
       "<g id=\"node3\" class=\"node\">\n",
       "<title>B</title>\n",
       "<ellipse fill=\"none\" stroke=\"#000000\" cx=\"27\" cy=\"-192\" rx=\"27\" ry=\"18\"/>\n",
       "<text text-anchor=\"middle\" x=\"27\" y=\"-188.3\" font-family=\"Times,serif\" font-size=\"14.00\" fill=\"#000000\">B</text>\n",
       "</g>\n",
       "<!-- A&#45;&gt;B -->\n",
       "<g id=\"edge3\" class=\"edge\">\n",
       "<title>A&#45;&gt;B</title>\n",
       "<path fill=\"none\" stroke=\"#000000\" d=\"M27,-260.9735C27,-249.1918 27,-233.5607 27,-220.1581\"/>\n",
       "<polygon fill=\"#000000\" stroke=\"#000000\" points=\"30.5001,-220.0033 27,-210.0034 23.5001,-220.0034 30.5001,-220.0033\"/>\n",
       "<text text-anchor=\"middle\" x=\"34.5\" y=\"-231.8\" font-family=\"Times,serif\" font-size=\"14.00\" fill=\"#000000\"> &#160;1</text>\n",
       "</g>\n",
       "<!-- C -->\n",
       "<g id=\"node4\" class=\"node\">\n",
       "<title>C</title>\n",
       "<ellipse fill=\"none\" stroke=\"#000000\" cx=\"27\" cy=\"-105\" rx=\"27\" ry=\"18\"/>\n",
       "<text text-anchor=\"middle\" x=\"27\" y=\"-101.3\" font-family=\"Times,serif\" font-size=\"14.00\" fill=\"#000000\">C</text>\n",
       "</g>\n",
       "<!-- B&#45;&gt;C -->\n",
       "<g id=\"edge4\" class=\"edge\">\n",
       "<title>B&#45;&gt;C</title>\n",
       "<path fill=\"none\" stroke=\"#000000\" d=\"M27,-173.9735C27,-162.1918 27,-146.5607 27,-133.1581\"/>\n",
       "<polygon fill=\"#000000\" stroke=\"#000000\" points=\"30.5001,-133.0033 27,-123.0034 23.5001,-133.0034 30.5001,-133.0033\"/>\n",
       "<text text-anchor=\"middle\" x=\"34.5\" y=\"-144.8\" font-family=\"Times,serif\" font-size=\"14.00\" fill=\"#000000\"> &#160;1</text>\n",
       "</g>\n",
       "<!-- D -->\n",
       "<g id=\"node5\" class=\"node\">\n",
       "<title>D</title>\n",
       "<ellipse fill=\"none\" stroke=\"#000000\" stroke-dasharray=\"5,2\" cx=\"27\" cy=\"-18\" rx=\"27\" ry=\"18\"/>\n",
       "<text text-anchor=\"middle\" x=\"27\" y=\"-14.3\" font-family=\"Times,serif\" font-size=\"14.00\" fill=\"#000000\">D</text>\n",
       "</g>\n",
       "<!-- C&#45;&gt;D -->\n",
       "<g id=\"edge5\" class=\"edge\">\n",
       "<title>C&#45;&gt;D</title>\n",
       "<path fill=\"none\" stroke=\"#000000\" d=\"M27,-86.9735C27,-75.1918 27,-59.5607 27,-46.1581\"/>\n",
       "<polygon fill=\"#000000\" stroke=\"#000000\" points=\"30.5001,-46.0033 27,-36.0034 23.5001,-46.0034 30.5001,-46.0033\"/>\n",
       "<text text-anchor=\"middle\" x=\"34.5\" y=\"-57.8\" font-family=\"Times,serif\" font-size=\"14.00\" fill=\"#000000\"> &#160;0</text>\n",
       "</g>\n",
       "<!-- D&#45;&gt;D -->\n",
       "<g id=\"edge6\" class=\"edge\">\n",
       "<title>D&#45;&gt;D</title>\n",
       "<path fill=\"none\" stroke=\"#000000\" d=\"M51.5325,-25.752C62.5078,-26.4902 72,-23.9063 72,-18 72,-14.0317 67.7151,-11.5632 61.5743,-10.5944\"/>\n",
       "<polygon fill=\"#000000\" stroke=\"#000000\" points=\"61.6472,-7.0949 51.5325,-10.248 61.4059,-14.0908 61.6472,-7.0949\"/>\n",
       "<text text-anchor=\"middle\" x=\"86.5\" y=\"-14.3\" font-family=\"Times,serif\" font-size=\"14.00\" fill=\"#000000\"> &#160;0, 1</text>\n",
       "</g>\n",
       "</g>\n",
       "</svg>\n"
      ],
      "text/plain": [
       "<__main__.automata at 0x7ff7f006f940>"
      ]
     },
     "execution_count": 19,
     "metadata": {},
     "output_type": "execute_result"
    }
   ],
   "source": [
    "a"
   ]
  },
  {
   "cell_type": "markdown",
   "metadata": {
    "slideshow": {
     "slide_type": "notes"
    }
   },
   "source": [
    "We might want to also recognise languages which contain the substring containing `111`"
   ]
  },
  {
   "cell_type": "code",
   "execution_count": 20,
   "metadata": {
    "slideshow": {
     "slide_type": "subslide"
    }
   },
   "outputs": [],
   "source": [
    "b = automata(states, alphabet, start_state, end_states)\n",
    "\n",
    "b.edge(\"A\", \"A\", \"0, 1\")\n",
    "b.edge(\"A\", \"B\", \"1\")\n",
    "b.edge(\"B\", \"C\", \"1\")\n",
    "b.edge(\"C\", \"D\", \"1\")\n",
    "b.edge(\"D\", \"D\", \"0, 1\")"
   ]
  },
  {
   "cell_type": "code",
   "execution_count": 21,
   "metadata": {
    "slideshow": {
     "slide_type": "subslide"
    }
   },
   "outputs": [
    {
     "data": {
      "image/svg+xml": [
       "<?xml version=\"1.0\" encoding=\"UTF-8\" standalone=\"no\"?>\n",
       "<!DOCTYPE svg PUBLIC \"-//W3C//DTD SVG 1.1//EN\"\n",
       " \"http://www.w3.org/Graphics/SVG/1.1/DTD/svg11.dtd\">\n",
       "<!-- Generated by graphviz version 2.40.1 (20161225.0304)\n",
       " -->\n",
       "<!-- Title: %3 Pages: 1 -->\n",
       "<svg width=\"109pt\" height=\"378pt\"\n",
       " viewBox=\"0.00 0.00 109.00 378.00\" xmlns=\"http://www.w3.org/2000/svg\" xmlns:xlink=\"http://www.w3.org/1999/xlink\">\n",
       "<g id=\"graph0\" class=\"graph\" transform=\"scale(1 1) rotate(0) translate(4 374)\">\n",
       "<title>%3</title>\n",
       "<polygon fill=\"#ffffff\" stroke=\"transparent\" points=\"-4,4 -4,-374 105,-374 105,4 -4,4\"/>\n",
       "<!-- A -->\n",
       "<g id=\"node2\" class=\"node\">\n",
       "<title>A</title>\n",
       "<ellipse fill=\"none\" stroke=\"#000000\" stroke-width=\"2\" cx=\"27\" cy=\"-279\" rx=\"27\" ry=\"18\"/>\n",
       "<text text-anchor=\"middle\" x=\"27\" y=\"-275.3\" font-family=\"Times,serif\" font-size=\"14.00\" fill=\"#000000\">A</text>\n",
       "</g>\n",
       "<!-- &#45;&gt;A -->\n",
       "<g id=\"edge1\" class=\"edge\">\n",
       "<title>&#45;&gt;A</title>\n",
       "<path fill=\"none\" stroke=\"#000000\" d=\"M27,-333.9551C27,-325.8828 27,-316.1764 27,-307.1817\"/>\n",
       "<polygon fill=\"#000000\" stroke=\"#000000\" points=\"30.5001,-307.0903 27,-297.0904 23.5001,-307.0904 30.5001,-307.0903\"/>\n",
       "</g>\n",
       "<!-- A&#45;&gt;A -->\n",
       "<g id=\"edge2\" class=\"edge\">\n",
       "<title>A&#45;&gt;A</title>\n",
       "<path fill=\"none\" stroke=\"#000000\" d=\"M52.4435,-285.6907C63.0278,-286.1521 72,-283.9219 72,-279 72,-275.77 68.136,-273.6992 62.4881,-272.7876\"/>\n",
       "<polygon fill=\"#000000\" stroke=\"#000000\" points=\"62.5987,-269.289 52.4435,-272.3093 62.2656,-276.2811 62.5987,-269.289\"/>\n",
       "<text text-anchor=\"middle\" x=\"86.5\" y=\"-275.3\" font-family=\"Times,serif\" font-size=\"14.00\" fill=\"#000000\"> &#160;0, 1</text>\n",
       "</g>\n",
       "<!-- B -->\n",
       "<g id=\"node3\" class=\"node\">\n",
       "<title>B</title>\n",
       "<ellipse fill=\"none\" stroke=\"#000000\" cx=\"27\" cy=\"-192\" rx=\"27\" ry=\"18\"/>\n",
       "<text text-anchor=\"middle\" x=\"27\" y=\"-188.3\" font-family=\"Times,serif\" font-size=\"14.00\" fill=\"#000000\">B</text>\n",
       "</g>\n",
       "<!-- A&#45;&gt;B -->\n",
       "<g id=\"edge3\" class=\"edge\">\n",
       "<title>A&#45;&gt;B</title>\n",
       "<path fill=\"none\" stroke=\"#000000\" d=\"M27,-260.9735C27,-249.1918 27,-233.5607 27,-220.1581\"/>\n",
       "<polygon fill=\"#000000\" stroke=\"#000000\" points=\"30.5001,-220.0033 27,-210.0034 23.5001,-220.0034 30.5001,-220.0033\"/>\n",
       "<text text-anchor=\"middle\" x=\"34.5\" y=\"-231.8\" font-family=\"Times,serif\" font-size=\"14.00\" fill=\"#000000\"> &#160;1</text>\n",
       "</g>\n",
       "<!-- C -->\n",
       "<g id=\"node4\" class=\"node\">\n",
       "<title>C</title>\n",
       "<ellipse fill=\"none\" stroke=\"#000000\" cx=\"27\" cy=\"-105\" rx=\"27\" ry=\"18\"/>\n",
       "<text text-anchor=\"middle\" x=\"27\" y=\"-101.3\" font-family=\"Times,serif\" font-size=\"14.00\" fill=\"#000000\">C</text>\n",
       "</g>\n",
       "<!-- B&#45;&gt;C -->\n",
       "<g id=\"edge4\" class=\"edge\">\n",
       "<title>B&#45;&gt;C</title>\n",
       "<path fill=\"none\" stroke=\"#000000\" d=\"M27,-173.9735C27,-162.1918 27,-146.5607 27,-133.1581\"/>\n",
       "<polygon fill=\"#000000\" stroke=\"#000000\" points=\"30.5001,-133.0033 27,-123.0034 23.5001,-133.0034 30.5001,-133.0033\"/>\n",
       "<text text-anchor=\"middle\" x=\"34.5\" y=\"-144.8\" font-family=\"Times,serif\" font-size=\"14.00\" fill=\"#000000\"> &#160;1</text>\n",
       "</g>\n",
       "<!-- D -->\n",
       "<g id=\"node5\" class=\"node\">\n",
       "<title>D</title>\n",
       "<ellipse fill=\"none\" stroke=\"#000000\" stroke-dasharray=\"5,2\" cx=\"27\" cy=\"-18\" rx=\"27\" ry=\"18\"/>\n",
       "<text text-anchor=\"middle\" x=\"27\" y=\"-14.3\" font-family=\"Times,serif\" font-size=\"14.00\" fill=\"#000000\">D</text>\n",
       "</g>\n",
       "<!-- C&#45;&gt;D -->\n",
       "<g id=\"edge5\" class=\"edge\">\n",
       "<title>C&#45;&gt;D</title>\n",
       "<path fill=\"none\" stroke=\"#000000\" d=\"M27,-86.9735C27,-75.1918 27,-59.5607 27,-46.1581\"/>\n",
       "<polygon fill=\"#000000\" stroke=\"#000000\" points=\"30.5001,-46.0033 27,-36.0034 23.5001,-46.0034 30.5001,-46.0033\"/>\n",
       "<text text-anchor=\"middle\" x=\"34.5\" y=\"-57.8\" font-family=\"Times,serif\" font-size=\"14.00\" fill=\"#000000\"> &#160;1</text>\n",
       "</g>\n",
       "<!-- D&#45;&gt;D -->\n",
       "<g id=\"edge6\" class=\"edge\">\n",
       "<title>D&#45;&gt;D</title>\n",
       "<path fill=\"none\" stroke=\"#000000\" d=\"M51.5325,-25.752C62.5078,-26.4902 72,-23.9063 72,-18 72,-14.0317 67.7151,-11.5632 61.5743,-10.5944\"/>\n",
       "<polygon fill=\"#000000\" stroke=\"#000000\" points=\"61.6472,-7.0949 51.5325,-10.248 61.4059,-14.0908 61.6472,-7.0949\"/>\n",
       "<text text-anchor=\"middle\" x=\"86.5\" y=\"-14.3\" font-family=\"Times,serif\" font-size=\"14.00\" fill=\"#000000\"> &#160;0, 1</text>\n",
       "</g>\n",
       "</g>\n",
       "</svg>\n"
      ],
      "text/plain": [
       "<__main__.automata at 0x7ff7f006fcc0>"
      ]
     },
     "execution_count": 21,
     "metadata": {},
     "output_type": "execute_result"
    }
   ],
   "source": [
    "b"
   ]
  },
  {
   "cell_type": "markdown",
   "metadata": {
    "slideshow": {
     "slide_type": "notes"
    }
   },
   "source": [
    "If we wish to now recognise the language of strings containg _either_ `110` or `111`, we can combine the two automata in an Union"
   ]
  },
  {
   "cell_type": "code",
   "execution_count": 22,
   "metadata": {
    "slideshow": {
     "slide_type": "subslide"
    }
   },
   "outputs": [
    {
     "data": {
      "image/svg+xml": [
       "<?xml version=\"1.0\" encoding=\"UTF-8\" standalone=\"no\"?>\n",
       "<!DOCTYPE svg PUBLIC \"-//W3C//DTD SVG 1.1//EN\"\n",
       " \"http://www.w3.org/Graphics/SVG/1.1/DTD/svg11.dtd\">\n",
       "<!-- Generated by graphviz version 2.40.1 (20161225.0304)\n",
       " -->\n",
       "<!-- Title: %3 Pages: 1 -->\n",
       "<svg width=\"228pt\" height=\"465pt\"\n",
       " viewBox=\"0.00 0.00 228.00 465.00\" xmlns=\"http://www.w3.org/2000/svg\" xmlns:xlink=\"http://www.w3.org/1999/xlink\">\n",
       "<g id=\"graph0\" class=\"graph\" transform=\"scale(1 1) rotate(0) translate(4 461)\">\n",
       "<title>%3</title>\n",
       "<polygon fill=\"#ffffff\" stroke=\"transparent\" points=\"-4,4 -4,-461 224,-461 224,4 -4,4\"/>\n",
       "<!-- A0 -->\n",
       "<g id=\"node1\" class=\"node\">\n",
       "<title>A0</title>\n",
       "<ellipse fill=\"none\" stroke=\"#000000\" cx=\"27\" cy=\"-279\" rx=\"27\" ry=\"18\"/>\n",
       "<text text-anchor=\"middle\" x=\"27\" y=\"-275.3\" font-family=\"Times,serif\" font-size=\"14.00\" fill=\"#000000\">A0</text>\n",
       "</g>\n",
       "<!-- A0&#45;&gt;A0 -->\n",
       "<g id=\"edge2\" class=\"edge\">\n",
       "<title>A0&#45;&gt;A0</title>\n",
       "<path fill=\"none\" stroke=\"#000000\" d=\"M51.5325,-286.752C62.5078,-287.4902 72,-284.9063 72,-279 72,-275.0317 67.7151,-272.5632 61.5743,-271.5944\"/>\n",
       "<polygon fill=\"#000000\" stroke=\"#000000\" points=\"61.6472,-268.0949 51.5325,-271.248 61.4059,-275.0908 61.6472,-268.0949\"/>\n",
       "<text text-anchor=\"middle\" x=\"86.5\" y=\"-275.3\" font-family=\"Times,serif\" font-size=\"14.00\" fill=\"#000000\"> &#160;0, 1</text>\n",
       "</g>\n",
       "<!-- B0 -->\n",
       "<g id=\"node2\" class=\"node\">\n",
       "<title>B0</title>\n",
       "<ellipse fill=\"none\" stroke=\"#000000\" cx=\"27\" cy=\"-192\" rx=\"27\" ry=\"18\"/>\n",
       "<text text-anchor=\"middle\" x=\"27\" y=\"-188.3\" font-family=\"Times,serif\" font-size=\"14.00\" fill=\"#000000\">B0</text>\n",
       "</g>\n",
       "<!-- A0&#45;&gt;B0 -->\n",
       "<g id=\"edge3\" class=\"edge\">\n",
       "<title>A0&#45;&gt;B0</title>\n",
       "<path fill=\"none\" stroke=\"#000000\" d=\"M27,-260.9735C27,-249.1918 27,-233.5607 27,-220.1581\"/>\n",
       "<polygon fill=\"#000000\" stroke=\"#000000\" points=\"30.5001,-220.0033 27,-210.0034 23.5001,-220.0034 30.5001,-220.0033\"/>\n",
       "<text text-anchor=\"middle\" x=\"34.5\" y=\"-231.8\" font-family=\"Times,serif\" font-size=\"14.00\" fill=\"#000000\"> &#160;1</text>\n",
       "</g>\n",
       "<!-- C0 -->\n",
       "<g id=\"node3\" class=\"node\">\n",
       "<title>C0</title>\n",
       "<ellipse fill=\"none\" stroke=\"#000000\" cx=\"27\" cy=\"-105\" rx=\"27\" ry=\"18\"/>\n",
       "<text text-anchor=\"middle\" x=\"27\" y=\"-101.3\" font-family=\"Times,serif\" font-size=\"14.00\" fill=\"#000000\">C0</text>\n",
       "</g>\n",
       "<!-- B0&#45;&gt;C0 -->\n",
       "<g id=\"edge4\" class=\"edge\">\n",
       "<title>B0&#45;&gt;C0</title>\n",
       "<path fill=\"none\" stroke=\"#000000\" d=\"M27,-173.9735C27,-162.1918 27,-146.5607 27,-133.1581\"/>\n",
       "<polygon fill=\"#000000\" stroke=\"#000000\" points=\"30.5001,-133.0033 27,-123.0034 23.5001,-133.0034 30.5001,-133.0033\"/>\n",
       "<text text-anchor=\"middle\" x=\"34.5\" y=\"-144.8\" font-family=\"Times,serif\" font-size=\"14.00\" fill=\"#000000\"> &#160;1</text>\n",
       "</g>\n",
       "<!-- D0 -->\n",
       "<g id=\"node4\" class=\"node\">\n",
       "<title>D0</title>\n",
       "<ellipse fill=\"none\" stroke=\"#000000\" stroke-dasharray=\"5,2\" cx=\"27\" cy=\"-18\" rx=\"27\" ry=\"18\"/>\n",
       "<text text-anchor=\"middle\" x=\"27\" y=\"-14.3\" font-family=\"Times,serif\" font-size=\"14.00\" fill=\"#000000\">D0</text>\n",
       "</g>\n",
       "<!-- C0&#45;&gt;D0 -->\n",
       "<g id=\"edge5\" class=\"edge\">\n",
       "<title>C0&#45;&gt;D0</title>\n",
       "<path fill=\"none\" stroke=\"#000000\" d=\"M27,-86.9735C27,-75.1918 27,-59.5607 27,-46.1581\"/>\n",
       "<polygon fill=\"#000000\" stroke=\"#000000\" points=\"30.5001,-46.0033 27,-36.0034 23.5001,-46.0034 30.5001,-46.0033\"/>\n",
       "<text text-anchor=\"middle\" x=\"34.5\" y=\"-57.8\" font-family=\"Times,serif\" font-size=\"14.00\" fill=\"#000000\"> &#160;0</text>\n",
       "</g>\n",
       "<!-- D0&#45;&gt;D0 -->\n",
       "<g id=\"edge6\" class=\"edge\">\n",
       "<title>D0&#45;&gt;D0</title>\n",
       "<path fill=\"none\" stroke=\"#000000\" d=\"M51.5325,-25.752C62.5078,-26.4902 72,-23.9063 72,-18 72,-14.0317 67.7151,-11.5632 61.5743,-10.5944\"/>\n",
       "<polygon fill=\"#000000\" stroke=\"#000000\" points=\"61.6472,-7.0949 51.5325,-10.248 61.4059,-14.0908 61.6472,-7.0949\"/>\n",
       "<text text-anchor=\"middle\" x=\"86.5\" y=\"-14.3\" font-family=\"Times,serif\" font-size=\"14.00\" fill=\"#000000\"> &#160;0, 1</text>\n",
       "</g>\n",
       "<!-- A1 -->\n",
       "<g id=\"node5\" class=\"node\">\n",
       "<title>A1</title>\n",
       "<ellipse fill=\"none\" stroke=\"#000000\" cx=\"146\" cy=\"-279\" rx=\"27\" ry=\"18\"/>\n",
       "<text text-anchor=\"middle\" x=\"146\" y=\"-275.3\" font-family=\"Times,serif\" font-size=\"14.00\" fill=\"#000000\">A1</text>\n",
       "</g>\n",
       "<!-- A1&#45;&gt;A1 -->\n",
       "<g id=\"edge7\" class=\"edge\">\n",
       "<title>A1&#45;&gt;A1</title>\n",
       "<path fill=\"none\" stroke=\"#000000\" d=\"M170.5325,-286.752C181.5078,-287.4902 191,-284.9063 191,-279 191,-275.0317 186.7151,-272.5632 180.5743,-271.5944\"/>\n",
       "<polygon fill=\"#000000\" stroke=\"#000000\" points=\"180.6472,-268.0949 170.5325,-271.248 180.4059,-275.0908 180.6472,-268.0949\"/>\n",
       "<text text-anchor=\"middle\" x=\"205.5\" y=\"-275.3\" font-family=\"Times,serif\" font-size=\"14.00\" fill=\"#000000\"> &#160;0, 1</text>\n",
       "</g>\n",
       "<!-- B1 -->\n",
       "<g id=\"node6\" class=\"node\">\n",
       "<title>B1</title>\n",
       "<ellipse fill=\"none\" stroke=\"#000000\" cx=\"146\" cy=\"-192\" rx=\"27\" ry=\"18\"/>\n",
       "<text text-anchor=\"middle\" x=\"146\" y=\"-188.3\" font-family=\"Times,serif\" font-size=\"14.00\" fill=\"#000000\">B1</text>\n",
       "</g>\n",
       "<!-- A1&#45;&gt;B1 -->\n",
       "<g id=\"edge8\" class=\"edge\">\n",
       "<title>A1&#45;&gt;B1</title>\n",
       "<path fill=\"none\" stroke=\"#000000\" d=\"M146,-260.9735C146,-249.1918 146,-233.5607 146,-220.1581\"/>\n",
       "<polygon fill=\"#000000\" stroke=\"#000000\" points=\"149.5001,-220.0033 146,-210.0034 142.5001,-220.0034 149.5001,-220.0033\"/>\n",
       "<text text-anchor=\"middle\" x=\"153.5\" y=\"-231.8\" font-family=\"Times,serif\" font-size=\"14.00\" fill=\"#000000\"> &#160;1</text>\n",
       "</g>\n",
       "<!-- C1 -->\n",
       "<g id=\"node7\" class=\"node\">\n",
       "<title>C1</title>\n",
       "<ellipse fill=\"none\" stroke=\"#000000\" cx=\"146\" cy=\"-105\" rx=\"27\" ry=\"18\"/>\n",
       "<text text-anchor=\"middle\" x=\"146\" y=\"-101.3\" font-family=\"Times,serif\" font-size=\"14.00\" fill=\"#000000\">C1</text>\n",
       "</g>\n",
       "<!-- B1&#45;&gt;C1 -->\n",
       "<g id=\"edge9\" class=\"edge\">\n",
       "<title>B1&#45;&gt;C1</title>\n",
       "<path fill=\"none\" stroke=\"#000000\" d=\"M146,-173.9735C146,-162.1918 146,-146.5607 146,-133.1581\"/>\n",
       "<polygon fill=\"#000000\" stroke=\"#000000\" points=\"149.5001,-133.0033 146,-123.0034 142.5001,-133.0034 149.5001,-133.0033\"/>\n",
       "<text text-anchor=\"middle\" x=\"153.5\" y=\"-144.8\" font-family=\"Times,serif\" font-size=\"14.00\" fill=\"#000000\"> &#160;1</text>\n",
       "</g>\n",
       "<!-- D1 -->\n",
       "<g id=\"node8\" class=\"node\">\n",
       "<title>D1</title>\n",
       "<ellipse fill=\"none\" stroke=\"#000000\" stroke-dasharray=\"5,2\" cx=\"146\" cy=\"-18\" rx=\"27\" ry=\"18\"/>\n",
       "<text text-anchor=\"middle\" x=\"146\" y=\"-14.3\" font-family=\"Times,serif\" font-size=\"14.00\" fill=\"#000000\">D1</text>\n",
       "</g>\n",
       "<!-- C1&#45;&gt;D1 -->\n",
       "<g id=\"edge10\" class=\"edge\">\n",
       "<title>C1&#45;&gt;D1</title>\n",
       "<path fill=\"none\" stroke=\"#000000\" d=\"M146,-86.9735C146,-75.1918 146,-59.5607 146,-46.1581\"/>\n",
       "<polygon fill=\"#000000\" stroke=\"#000000\" points=\"149.5001,-46.0033 146,-36.0034 142.5001,-46.0034 149.5001,-46.0033\"/>\n",
       "<text text-anchor=\"middle\" x=\"153.5\" y=\"-57.8\" font-family=\"Times,serif\" font-size=\"14.00\" fill=\"#000000\"> &#160;1</text>\n",
       "</g>\n",
       "<!-- D1&#45;&gt;D1 -->\n",
       "<g id=\"edge11\" class=\"edge\">\n",
       "<title>D1&#45;&gt;D1</title>\n",
       "<path fill=\"none\" stroke=\"#000000\" d=\"M170.5325,-25.752C181.5078,-26.4902 191,-23.9063 191,-18 191,-14.0317 186.7151,-11.5632 180.5743,-10.5944\"/>\n",
       "<polygon fill=\"#000000\" stroke=\"#000000\" points=\"180.6472,-7.0949 170.5325,-10.248 180.4059,-14.0908 180.6472,-7.0949\"/>\n",
       "<text text-anchor=\"middle\" x=\"205.5\" y=\"-14.3\" font-family=\"Times,serif\" font-size=\"14.00\" fill=\"#000000\"> &#160;0, 1</text>\n",
       "</g>\n",
       "<!-- start -->\n",
       "<g id=\"node10\" class=\"node\">\n",
       "<title>start</title>\n",
       "<ellipse fill=\"none\" stroke=\"#000000\" stroke-width=\"2\" cx=\"86\" cy=\"-366\" rx=\"27\" ry=\"18\"/>\n",
       "<text text-anchor=\"middle\" x=\"86\" y=\"-362.3\" font-family=\"Times,serif\" font-size=\"14.00\" fill=\"#000000\">start</text>\n",
       "</g>\n",
       "<!-- &#45;&gt;start -->\n",
       "<g id=\"edge1\" class=\"edge\">\n",
       "<title>&#45;&gt;start</title>\n",
       "<path fill=\"none\" stroke=\"#000000\" d=\"M86,-420.9551C86,-412.8828 86,-403.1764 86,-394.1817\"/>\n",
       "<polygon fill=\"#000000\" stroke=\"#000000\" points=\"89.5001,-394.0903 86,-384.0904 82.5001,-394.0904 89.5001,-394.0903\"/>\n",
       "</g>\n",
       "<!-- start&#45;&gt;A0 -->\n",
       "<g id=\"edge12\" class=\"edge\">\n",
       "<title>start&#45;&gt;A0</title>\n",
       "<path fill=\"none\" stroke=\"#000000\" d=\"M74.6242,-349.2255C65.9169,-336.3859 53.77,-318.4744 43.9232,-303.9546\"/>\n",
       "<polygon fill=\"#000000\" stroke=\"#000000\" points=\"46.6502,-301.7398 38.1408,-295.4279 40.8568,-305.6687 46.6502,-301.7398\"/>\n",
       "<text text-anchor=\"middle\" x=\"64.5\" y=\"-318.8\" font-family=\"Times,serif\" font-size=\"14.00\" fill=\"#000000\">ε</text>\n",
       "</g>\n",
       "<!-- start&#45;&gt;A1 -->\n",
       "<g id=\"edge13\" class=\"edge\">\n",
       "<title>start&#45;&gt;A1</title>\n",
       "<path fill=\"none\" stroke=\"#000000\" d=\"M97.2855,-349.636C106.1127,-336.8367 118.5388,-318.8187 128.6315,-304.1843\"/>\n",
       "<polygon fill=\"#000000\" stroke=\"#000000\" points=\"131.7649,-305.8057 134.5611,-295.5865 126.0024,-301.8315 131.7649,-305.8057\"/>\n",
       "<text text-anchor=\"middle\" x=\"122.5\" y=\"-318.8\" font-family=\"Times,serif\" font-size=\"14.00\" fill=\"#000000\">ε</text>\n",
       "</g>\n",
       "</g>\n",
       "</svg>\n"
      ],
      "text/plain": [
       "<__main__.automata at 0x7ff7f006ffd0>"
      ]
     },
     "execution_count": 22,
     "metadata": {},
     "output_type": "execute_result"
    }
   ],
   "source": [
    "a_union = a\n",
    "b_union = a\n",
    "\n",
    "unioned = automata.from_union([a,b])\n",
    "unioned"
   ]
  },
  {
   "cell_type": "markdown",
   "metadata": {
    "slideshow": {
     "slide_type": "notes"
    }
   },
   "source": [
    "When strings are processed by this NFA they can be analyzed by both the left and right paths at once, possibly reaching a final state in either, or both.\n",
    "\n",
    "Thus, the Union operation can be consitered similar to a logical, inclusive OR."
   ]
  },
  {
   "cell_type": "markdown",
   "metadata": {
    "slideshow": {
     "slide_type": "subslide"
    }
   },
   "source": [
    "### $\\varepsilon$\n",
    "Hello again, Epsilon!"
   ]
  },
  {
   "cell_type": "markdown",
   "metadata": {
    "slideshow": {
     "slide_type": "subslide"
    }
   },
   "source": [
    "The $\\varepsilon$ symbol here represents the _empty string_.\n"
   ]
  },
  {
   "cell_type": "markdown",
   "metadata": {
    "slideshow": {
     "slide_type": "notes"
    }
   },
   "source": [
    "In the context of finite automaton, this means that we change state whatever the input symbol is."
   ]
  },
  {
   "cell_type": "code",
   "execution_count": 44,
   "metadata": {
    "slideshow": {
     "slide_type": "subslide"
    }
   },
   "outputs": [
    {
     "data": {
      "image/svg+xml": [
       "<?xml version=\"1.0\" encoding=\"UTF-8\" standalone=\"no\"?>\n",
       "<!DOCTYPE svg PUBLIC \"-//W3C//DTD SVG 1.1//EN\"\n",
       " \"http://www.w3.org/Graphics/SVG/1.1/DTD/svg11.dtd\">\n",
       "<!-- Generated by graphviz version 2.40.1 (20161225.0304)\n",
       " -->\n",
       "<!-- Title: %3 Pages: 1 -->\n",
       "<svg width=\"228pt\" height=\"465pt\"\n",
       " viewBox=\"0.00 0.00 228.00 465.00\" xmlns=\"http://www.w3.org/2000/svg\" xmlns:xlink=\"http://www.w3.org/1999/xlink\">\n",
       "<g id=\"graph0\" class=\"graph\" transform=\"scale(1 1) rotate(0) translate(4 461)\">\n",
       "<title>%3</title>\n",
       "<polygon fill=\"#ffffff\" stroke=\"transparent\" points=\"-4,4 -4,-461 224,-461 224,4 -4,4\"/>\n",
       "<!-- A0 -->\n",
       "<g id=\"node1\" class=\"node\">\n",
       "<title>A0</title>\n",
       "<ellipse fill=\"none\" stroke=\"#000000\" cx=\"27\" cy=\"-279\" rx=\"27\" ry=\"18\"/>\n",
       "<text text-anchor=\"middle\" x=\"27\" y=\"-275.3\" font-family=\"Times,serif\" font-size=\"14.00\" fill=\"#000000\">A0</text>\n",
       "</g>\n",
       "<!-- A0&#45;&gt;A0 -->\n",
       "<g id=\"edge2\" class=\"edge\">\n",
       "<title>A0&#45;&gt;A0</title>\n",
       "<path fill=\"none\" stroke=\"#000000\" d=\"M51.5325,-286.752C62.5078,-287.4902 72,-284.9063 72,-279 72,-275.0317 67.7151,-272.5632 61.5743,-271.5944\"/>\n",
       "<polygon fill=\"#000000\" stroke=\"#000000\" points=\"61.6472,-268.0949 51.5325,-271.248 61.4059,-275.0908 61.6472,-268.0949\"/>\n",
       "<text text-anchor=\"middle\" x=\"86.5\" y=\"-275.3\" font-family=\"Times,serif\" font-size=\"14.00\" fill=\"#000000\"> &#160;0, 1</text>\n",
       "</g>\n",
       "<!-- B0 -->\n",
       "<g id=\"node2\" class=\"node\">\n",
       "<title>B0</title>\n",
       "<ellipse fill=\"none\" stroke=\"#000000\" cx=\"27\" cy=\"-192\" rx=\"27\" ry=\"18\"/>\n",
       "<text text-anchor=\"middle\" x=\"27\" y=\"-188.3\" font-family=\"Times,serif\" font-size=\"14.00\" fill=\"#000000\">B0</text>\n",
       "</g>\n",
       "<!-- A0&#45;&gt;B0 -->\n",
       "<g id=\"edge3\" class=\"edge\">\n",
       "<title>A0&#45;&gt;B0</title>\n",
       "<path fill=\"none\" stroke=\"#000000\" d=\"M27,-260.9735C27,-249.1918 27,-233.5607 27,-220.1581\"/>\n",
       "<polygon fill=\"#000000\" stroke=\"#000000\" points=\"30.5001,-220.0033 27,-210.0034 23.5001,-220.0034 30.5001,-220.0033\"/>\n",
       "<text text-anchor=\"middle\" x=\"34.5\" y=\"-231.8\" font-family=\"Times,serif\" font-size=\"14.00\" fill=\"#000000\"> &#160;1</text>\n",
       "</g>\n",
       "<!-- C0 -->\n",
       "<g id=\"node3\" class=\"node\">\n",
       "<title>C0</title>\n",
       "<ellipse fill=\"none\" stroke=\"#000000\" cx=\"27\" cy=\"-105\" rx=\"27\" ry=\"18\"/>\n",
       "<text text-anchor=\"middle\" x=\"27\" y=\"-101.3\" font-family=\"Times,serif\" font-size=\"14.00\" fill=\"#000000\">C0</text>\n",
       "</g>\n",
       "<!-- B0&#45;&gt;C0 -->\n",
       "<g id=\"edge4\" class=\"edge\">\n",
       "<title>B0&#45;&gt;C0</title>\n",
       "<path fill=\"none\" stroke=\"#000000\" d=\"M27,-173.9735C27,-162.1918 27,-146.5607 27,-133.1581\"/>\n",
       "<polygon fill=\"#000000\" stroke=\"#000000\" points=\"30.5001,-133.0033 27,-123.0034 23.5001,-133.0034 30.5001,-133.0033\"/>\n",
       "<text text-anchor=\"middle\" x=\"34.5\" y=\"-144.8\" font-family=\"Times,serif\" font-size=\"14.00\" fill=\"#000000\"> &#160;1</text>\n",
       "</g>\n",
       "<!-- D0 -->\n",
       "<g id=\"node4\" class=\"node\">\n",
       "<title>D0</title>\n",
       "<ellipse fill=\"none\" stroke=\"#000000\" stroke-dasharray=\"5,2\" cx=\"27\" cy=\"-18\" rx=\"27\" ry=\"18\"/>\n",
       "<text text-anchor=\"middle\" x=\"27\" y=\"-14.3\" font-family=\"Times,serif\" font-size=\"14.00\" fill=\"#000000\">D0</text>\n",
       "</g>\n",
       "<!-- C0&#45;&gt;D0 -->\n",
       "<g id=\"edge5\" class=\"edge\">\n",
       "<title>C0&#45;&gt;D0</title>\n",
       "<path fill=\"none\" stroke=\"#000000\" d=\"M27,-86.9735C27,-75.1918 27,-59.5607 27,-46.1581\"/>\n",
       "<polygon fill=\"#000000\" stroke=\"#000000\" points=\"30.5001,-46.0033 27,-36.0034 23.5001,-46.0034 30.5001,-46.0033\"/>\n",
       "<text text-anchor=\"middle\" x=\"34.5\" y=\"-57.8\" font-family=\"Times,serif\" font-size=\"14.00\" fill=\"#000000\"> &#160;0</text>\n",
       "</g>\n",
       "<!-- D0&#45;&gt;D0 -->\n",
       "<g id=\"edge6\" class=\"edge\">\n",
       "<title>D0&#45;&gt;D0</title>\n",
       "<path fill=\"none\" stroke=\"#000000\" d=\"M51.5325,-25.752C62.5078,-26.4902 72,-23.9063 72,-18 72,-14.0317 67.7151,-11.5632 61.5743,-10.5944\"/>\n",
       "<polygon fill=\"#000000\" stroke=\"#000000\" points=\"61.6472,-7.0949 51.5325,-10.248 61.4059,-14.0908 61.6472,-7.0949\"/>\n",
       "<text text-anchor=\"middle\" x=\"86.5\" y=\"-14.3\" font-family=\"Times,serif\" font-size=\"14.00\" fill=\"#000000\"> &#160;0, 1</text>\n",
       "</g>\n",
       "<!-- A1 -->\n",
       "<g id=\"node5\" class=\"node\">\n",
       "<title>A1</title>\n",
       "<ellipse fill=\"none\" stroke=\"#000000\" cx=\"146\" cy=\"-279\" rx=\"27\" ry=\"18\"/>\n",
       "<text text-anchor=\"middle\" x=\"146\" y=\"-275.3\" font-family=\"Times,serif\" font-size=\"14.00\" fill=\"#000000\">A1</text>\n",
       "</g>\n",
       "<!-- A1&#45;&gt;A1 -->\n",
       "<g id=\"edge7\" class=\"edge\">\n",
       "<title>A1&#45;&gt;A1</title>\n",
       "<path fill=\"none\" stroke=\"#000000\" d=\"M170.5325,-286.752C181.5078,-287.4902 191,-284.9063 191,-279 191,-275.0317 186.7151,-272.5632 180.5743,-271.5944\"/>\n",
       "<polygon fill=\"#000000\" stroke=\"#000000\" points=\"180.6472,-268.0949 170.5325,-271.248 180.4059,-275.0908 180.6472,-268.0949\"/>\n",
       "<text text-anchor=\"middle\" x=\"205.5\" y=\"-275.3\" font-family=\"Times,serif\" font-size=\"14.00\" fill=\"#000000\"> &#160;0, 1</text>\n",
       "</g>\n",
       "<!-- B1 -->\n",
       "<g id=\"node6\" class=\"node\">\n",
       "<title>B1</title>\n",
       "<ellipse fill=\"none\" stroke=\"#000000\" cx=\"146\" cy=\"-192\" rx=\"27\" ry=\"18\"/>\n",
       "<text text-anchor=\"middle\" x=\"146\" y=\"-188.3\" font-family=\"Times,serif\" font-size=\"14.00\" fill=\"#000000\">B1</text>\n",
       "</g>\n",
       "<!-- A1&#45;&gt;B1 -->\n",
       "<g id=\"edge8\" class=\"edge\">\n",
       "<title>A1&#45;&gt;B1</title>\n",
       "<path fill=\"none\" stroke=\"#000000\" d=\"M146,-260.9735C146,-249.1918 146,-233.5607 146,-220.1581\"/>\n",
       "<polygon fill=\"#000000\" stroke=\"#000000\" points=\"149.5001,-220.0033 146,-210.0034 142.5001,-220.0034 149.5001,-220.0033\"/>\n",
       "<text text-anchor=\"middle\" x=\"153.5\" y=\"-231.8\" font-family=\"Times,serif\" font-size=\"14.00\" fill=\"#000000\"> &#160;1</text>\n",
       "</g>\n",
       "<!-- C1 -->\n",
       "<g id=\"node7\" class=\"node\">\n",
       "<title>C1</title>\n",
       "<ellipse fill=\"none\" stroke=\"#000000\" cx=\"146\" cy=\"-105\" rx=\"27\" ry=\"18\"/>\n",
       "<text text-anchor=\"middle\" x=\"146\" y=\"-101.3\" font-family=\"Times,serif\" font-size=\"14.00\" fill=\"#000000\">C1</text>\n",
       "</g>\n",
       "<!-- B1&#45;&gt;C1 -->\n",
       "<g id=\"edge9\" class=\"edge\">\n",
       "<title>B1&#45;&gt;C1</title>\n",
       "<path fill=\"none\" stroke=\"#000000\" d=\"M146,-173.9735C146,-162.1918 146,-146.5607 146,-133.1581\"/>\n",
       "<polygon fill=\"#000000\" stroke=\"#000000\" points=\"149.5001,-133.0033 146,-123.0034 142.5001,-133.0034 149.5001,-133.0033\"/>\n",
       "<text text-anchor=\"middle\" x=\"153.5\" y=\"-144.8\" font-family=\"Times,serif\" font-size=\"14.00\" fill=\"#000000\"> &#160;1</text>\n",
       "</g>\n",
       "<!-- D1 -->\n",
       "<g id=\"node8\" class=\"node\">\n",
       "<title>D1</title>\n",
       "<ellipse fill=\"none\" stroke=\"#000000\" stroke-dasharray=\"5,2\" cx=\"146\" cy=\"-18\" rx=\"27\" ry=\"18\"/>\n",
       "<text text-anchor=\"middle\" x=\"146\" y=\"-14.3\" font-family=\"Times,serif\" font-size=\"14.00\" fill=\"#000000\">D1</text>\n",
       "</g>\n",
       "<!-- C1&#45;&gt;D1 -->\n",
       "<g id=\"edge10\" class=\"edge\">\n",
       "<title>C1&#45;&gt;D1</title>\n",
       "<path fill=\"none\" stroke=\"#000000\" d=\"M146,-86.9735C146,-75.1918 146,-59.5607 146,-46.1581\"/>\n",
       "<polygon fill=\"#000000\" stroke=\"#000000\" points=\"149.5001,-46.0033 146,-36.0034 142.5001,-46.0034 149.5001,-46.0033\"/>\n",
       "<text text-anchor=\"middle\" x=\"153.5\" y=\"-57.8\" font-family=\"Times,serif\" font-size=\"14.00\" fill=\"#000000\"> &#160;1</text>\n",
       "</g>\n",
       "<!-- D1&#45;&gt;D1 -->\n",
       "<g id=\"edge11\" class=\"edge\">\n",
       "<title>D1&#45;&gt;D1</title>\n",
       "<path fill=\"none\" stroke=\"#000000\" d=\"M170.5325,-25.752C181.5078,-26.4902 191,-23.9063 191,-18 191,-14.0317 186.7151,-11.5632 180.5743,-10.5944\"/>\n",
       "<polygon fill=\"#000000\" stroke=\"#000000\" points=\"180.6472,-7.0949 170.5325,-10.248 180.4059,-14.0908 180.6472,-7.0949\"/>\n",
       "<text text-anchor=\"middle\" x=\"205.5\" y=\"-14.3\" font-family=\"Times,serif\" font-size=\"14.00\" fill=\"#000000\"> &#160;0, 1</text>\n",
       "</g>\n",
       "<!-- start -->\n",
       "<g id=\"node10\" class=\"node\">\n",
       "<title>start</title>\n",
       "<ellipse fill=\"none\" stroke=\"#000000\" stroke-width=\"2\" cx=\"86\" cy=\"-366\" rx=\"27\" ry=\"18\"/>\n",
       "<text text-anchor=\"middle\" x=\"86\" y=\"-362.3\" font-family=\"Times,serif\" font-size=\"14.00\" fill=\"#000000\">start</text>\n",
       "</g>\n",
       "<!-- &#45;&gt;start -->\n",
       "<g id=\"edge1\" class=\"edge\">\n",
       "<title>&#45;&gt;start</title>\n",
       "<path fill=\"none\" stroke=\"#000000\" d=\"M86,-420.9551C86,-412.8828 86,-403.1764 86,-394.1817\"/>\n",
       "<polygon fill=\"#000000\" stroke=\"#000000\" points=\"89.5001,-394.0903 86,-384.0904 82.5001,-394.0904 89.5001,-394.0903\"/>\n",
       "</g>\n",
       "<!-- start&#45;&gt;A0 -->\n",
       "<g id=\"edge12\" class=\"edge\">\n",
       "<title>start&#45;&gt;A0</title>\n",
       "<path fill=\"none\" stroke=\"#000000\" d=\"M74.6242,-349.2255C65.9169,-336.3859 53.77,-318.4744 43.9232,-303.9546\"/>\n",
       "<polygon fill=\"#000000\" stroke=\"#000000\" points=\"46.6502,-301.7398 38.1408,-295.4279 40.8568,-305.6687 46.6502,-301.7398\"/>\n",
       "<text text-anchor=\"middle\" x=\"64.5\" y=\"-318.8\" font-family=\"Times,serif\" font-size=\"14.00\" fill=\"#000000\">ε</text>\n",
       "</g>\n",
       "<!-- start&#45;&gt;A1 -->\n",
       "<g id=\"edge13\" class=\"edge\">\n",
       "<title>start&#45;&gt;A1</title>\n",
       "<path fill=\"none\" stroke=\"#000000\" d=\"M97.2855,-349.636C106.1127,-336.8367 118.5388,-318.8187 128.6315,-304.1843\"/>\n",
       "<polygon fill=\"#000000\" stroke=\"#000000\" points=\"131.7649,-305.8057 134.5611,-295.5865 126.0024,-301.8315 131.7649,-305.8057\"/>\n",
       "<text text-anchor=\"middle\" x=\"122.5\" y=\"-318.8\" font-family=\"Times,serif\" font-size=\"14.00\" fill=\"#000000\">ε</text>\n",
       "</g>\n",
       "</g>\n",
       "</svg>\n"
      ],
      "text/plain": [
       "<__main__.automata at 0x7ff7f006ffd0>"
      ]
     },
     "execution_count": 44,
     "metadata": {},
     "output_type": "execute_result"
    }
   ],
   "source": [
    "unioned"
   ]
  },
  {
   "cell_type": "markdown",
   "metadata": {
    "slideshow": {
     "slide_type": "subslide"
    }
   },
   "source": [
    "### Concatination\n",
    "A logical AND"
   ]
  },
  {
   "cell_type": "markdown",
   "metadata": {
    "slideshow": {
     "slide_type": "notes"
    }
   },
   "source": [
    "We can also stick two NFAs after one another in a concatination.\n",
    "\n",
    "This produces a result like that or a logical AND - the language must be accepted by both automata in the chain."
   ]
  },
  {
   "cell_type": "markdown",
   "metadata": {
    "slideshow": {
     "slide_type": "notes"
    }
   },
   "source": [
    "Combing our two automaton from earlier in concatination we get the following:"
   ]
  },
  {
   "cell_type": "code",
   "execution_count": 23,
   "metadata": {
    "slideshow": {
     "slide_type": "subslide"
    }
   },
   "outputs": [
    {
     "data": {
      "image/svg+xml": [
       "<?xml version=\"1.0\" encoding=\"UTF-8\" standalone=\"no\"?>\n",
       "<!DOCTYPE svg PUBLIC \"-//W3C//DTD SVG 1.1//EN\"\n",
       " \"http://www.w3.org/Graphics/SVG/1.1/DTD/svg11.dtd\">\n",
       "<!-- Generated by graphviz version 2.40.1 (20161225.0304)\n",
       " -->\n",
       "<!-- Title: %3 Pages: 1 -->\n",
       "<svg width=\"181pt\" height=\"653pt\"\n",
       " viewBox=\"0.00 0.00 181.00 653.00\" xmlns=\"http://www.w3.org/2000/svg\" xmlns:xlink=\"http://www.w3.org/1999/xlink\">\n",
       "<g id=\"graph0\" class=\"graph\" transform=\"scale(1 1) rotate(0) translate(4 649)\">\n",
       "<title>%3</title>\n",
       "<polygon fill=\"#ffffff\" stroke=\"transparent\" points=\"-4,4 -4,-649 177,-649 177,4 -4,4\"/>\n",
       "<!-- A0 -->\n",
       "<g id=\"node2\" class=\"node\">\n",
       "<title>A0</title>\n",
       "<ellipse fill=\"none\" stroke=\"#000000\" stroke-width=\"2\" cx=\"99\" cy=\"-627\" rx=\"27\" ry=\"18\"/>\n",
       "<text text-anchor=\"middle\" x=\"99\" y=\"-623.3\" font-family=\"Times,serif\" font-size=\"14.00\" fill=\"#000000\">A0</text>\n",
       "</g>\n",
       "<!-- A0&#45;&gt;A0 -->\n",
       "<g id=\"edge1\" class=\"edge\">\n",
       "<title>A0&#45;&gt;A0</title>\n",
       "<path fill=\"none\" stroke=\"#000000\" d=\"M123.5325,-634.752C134.5078,-635.4902 144,-632.9063 144,-627 144,-623.0317 139.7151,-620.5632 133.5743,-619.5944\"/>\n",
       "<polygon fill=\"#000000\" stroke=\"#000000\" points=\"133.6472,-616.0949 123.5325,-619.248 133.4059,-623.0908 133.6472,-616.0949\"/>\n",
       "<text text-anchor=\"middle\" x=\"158.5\" y=\"-623.3\" font-family=\"Times,serif\" font-size=\"14.00\" fill=\"#000000\"> &#160;0, 1</text>\n",
       "</g>\n",
       "<!-- B0 -->\n",
       "<g id=\"node3\" class=\"node\">\n",
       "<title>B0</title>\n",
       "<ellipse fill=\"none\" stroke=\"#000000\" cx=\"99\" cy=\"-540\" rx=\"27\" ry=\"18\"/>\n",
       "<text text-anchor=\"middle\" x=\"99\" y=\"-536.3\" font-family=\"Times,serif\" font-size=\"14.00\" fill=\"#000000\">B0</text>\n",
       "</g>\n",
       "<!-- A0&#45;&gt;B0 -->\n",
       "<g id=\"edge2\" class=\"edge\">\n",
       "<title>A0&#45;&gt;B0</title>\n",
       "<path fill=\"none\" stroke=\"#000000\" d=\"M99,-608.9735C99,-597.1918 99,-581.5607 99,-568.1581\"/>\n",
       "<polygon fill=\"#000000\" stroke=\"#000000\" points=\"102.5001,-568.0033 99,-558.0034 95.5001,-568.0034 102.5001,-568.0033\"/>\n",
       "<text text-anchor=\"middle\" x=\"106.5\" y=\"-579.8\" font-family=\"Times,serif\" font-size=\"14.00\" fill=\"#000000\"> &#160;1</text>\n",
       "</g>\n",
       "<!-- C0 -->\n",
       "<g id=\"node4\" class=\"node\">\n",
       "<title>C0</title>\n",
       "<ellipse fill=\"none\" stroke=\"#000000\" cx=\"99\" cy=\"-453\" rx=\"27\" ry=\"18\"/>\n",
       "<text text-anchor=\"middle\" x=\"99\" y=\"-449.3\" font-family=\"Times,serif\" font-size=\"14.00\" fill=\"#000000\">C0</text>\n",
       "</g>\n",
       "<!-- B0&#45;&gt;C0 -->\n",
       "<g id=\"edge3\" class=\"edge\">\n",
       "<title>B0&#45;&gt;C0</title>\n",
       "<path fill=\"none\" stroke=\"#000000\" d=\"M99,-521.9735C99,-510.1918 99,-494.5607 99,-481.1581\"/>\n",
       "<polygon fill=\"#000000\" stroke=\"#000000\" points=\"102.5001,-481.0033 99,-471.0034 95.5001,-481.0034 102.5001,-481.0033\"/>\n",
       "<text text-anchor=\"middle\" x=\"106.5\" y=\"-492.8\" font-family=\"Times,serif\" font-size=\"14.00\" fill=\"#000000\"> &#160;1</text>\n",
       "</g>\n",
       "<!-- D0 -->\n",
       "<g id=\"node5\" class=\"node\">\n",
       "<title>D0</title>\n",
       "<ellipse fill=\"none\" stroke=\"#000000\" stroke-dasharray=\"5,2\" cx=\"99\" cy=\"-366\" rx=\"27\" ry=\"18\"/>\n",
       "<text text-anchor=\"middle\" x=\"99\" y=\"-362.3\" font-family=\"Times,serif\" font-size=\"14.00\" fill=\"#000000\">D0</text>\n",
       "</g>\n",
       "<!-- C0&#45;&gt;D0 -->\n",
       "<g id=\"edge4\" class=\"edge\">\n",
       "<title>C0&#45;&gt;D0</title>\n",
       "<path fill=\"none\" stroke=\"#000000\" d=\"M99,-434.9735C99,-423.1918 99,-407.5607 99,-394.1581\"/>\n",
       "<polygon fill=\"#000000\" stroke=\"#000000\" points=\"102.5001,-394.0033 99,-384.0034 95.5001,-394.0034 102.5001,-394.0033\"/>\n",
       "<text text-anchor=\"middle\" x=\"106.5\" y=\"-405.8\" font-family=\"Times,serif\" font-size=\"14.00\" fill=\"#000000\"> &#160;0</text>\n",
       "</g>\n",
       "<!-- D0&#45;&gt;D0 -->\n",
       "<g id=\"edge5\" class=\"edge\">\n",
       "<title>D0&#45;&gt;D0</title>\n",
       "<path fill=\"none\" stroke=\"#000000\" d=\"M123.5325,-373.752C134.5078,-374.4902 144,-371.9063 144,-366 144,-362.0317 139.7151,-359.5632 133.5743,-358.5944\"/>\n",
       "<polygon fill=\"#000000\" stroke=\"#000000\" points=\"133.6472,-355.0949 123.5325,-358.248 133.4059,-362.0908 133.6472,-355.0949\"/>\n",
       "<text text-anchor=\"middle\" x=\"158.5\" y=\"-362.3\" font-family=\"Times,serif\" font-size=\"14.00\" fill=\"#000000\"> &#160;0, 1</text>\n",
       "</g>\n",
       "<!-- A1 -->\n",
       "<g id=\"node6\" class=\"node\">\n",
       "<title>A1</title>\n",
       "<ellipse fill=\"none\" stroke=\"#000000\" cx=\"99\" cy=\"-279\" rx=\"27\" ry=\"18\"/>\n",
       "<text text-anchor=\"middle\" x=\"99\" y=\"-275.3\" font-family=\"Times,serif\" font-size=\"14.00\" fill=\"#000000\">A1</text>\n",
       "</g>\n",
       "<!-- D0&#45;&gt;A1 -->\n",
       "<g id=\"edge11\" class=\"edge\">\n",
       "<title>D0&#45;&gt;A1</title>\n",
       "<path fill=\"none\" stroke=\"#000000\" d=\"M99,-347.9735C99,-336.1918 99,-320.5607 99,-307.1581\"/>\n",
       "<polygon fill=\"#000000\" stroke=\"#000000\" points=\"102.5001,-307.0033 99,-297.0034 95.5001,-307.0034 102.5001,-307.0033\"/>\n",
       "<text text-anchor=\"middle\" x=\"106.5\" y=\"-318.8\" font-family=\"Times,serif\" font-size=\"14.00\" fill=\"#000000\"> &#160;ε</text>\n",
       "</g>\n",
       "<!-- A1&#45;&gt;A1 -->\n",
       "<g id=\"edge6\" class=\"edge\">\n",
       "<title>A1&#45;&gt;A1</title>\n",
       "<path fill=\"none\" stroke=\"#000000\" d=\"M123.5325,-286.752C134.5078,-287.4902 144,-284.9063 144,-279 144,-275.0317 139.7151,-272.5632 133.5743,-271.5944\"/>\n",
       "<polygon fill=\"#000000\" stroke=\"#000000\" points=\"133.6472,-268.0949 123.5325,-271.248 133.4059,-275.0908 133.6472,-268.0949\"/>\n",
       "<text text-anchor=\"middle\" x=\"158.5\" y=\"-275.3\" font-family=\"Times,serif\" font-size=\"14.00\" fill=\"#000000\"> &#160;0, 1</text>\n",
       "</g>\n",
       "<!-- B1 -->\n",
       "<g id=\"node7\" class=\"node\">\n",
       "<title>B1</title>\n",
       "<ellipse fill=\"none\" stroke=\"#000000\" cx=\"99\" cy=\"-192\" rx=\"27\" ry=\"18\"/>\n",
       "<text text-anchor=\"middle\" x=\"99\" y=\"-188.3\" font-family=\"Times,serif\" font-size=\"14.00\" fill=\"#000000\">B1</text>\n",
       "</g>\n",
       "<!-- A1&#45;&gt;B1 -->\n",
       "<g id=\"edge7\" class=\"edge\">\n",
       "<title>A1&#45;&gt;B1</title>\n",
       "<path fill=\"none\" stroke=\"#000000\" d=\"M99,-260.9735C99,-249.1918 99,-233.5607 99,-220.1581\"/>\n",
       "<polygon fill=\"#000000\" stroke=\"#000000\" points=\"102.5001,-220.0033 99,-210.0034 95.5001,-220.0034 102.5001,-220.0033\"/>\n",
       "<text text-anchor=\"middle\" x=\"106.5\" y=\"-231.8\" font-family=\"Times,serif\" font-size=\"14.00\" fill=\"#000000\"> &#160;1</text>\n",
       "</g>\n",
       "<!-- C1 -->\n",
       "<g id=\"node8\" class=\"node\">\n",
       "<title>C1</title>\n",
       "<ellipse fill=\"none\" stroke=\"#000000\" cx=\"99\" cy=\"-105\" rx=\"27\" ry=\"18\"/>\n",
       "<text text-anchor=\"middle\" x=\"99\" y=\"-101.3\" font-family=\"Times,serif\" font-size=\"14.00\" fill=\"#000000\">C1</text>\n",
       "</g>\n",
       "<!-- B1&#45;&gt;C1 -->\n",
       "<g id=\"edge8\" class=\"edge\">\n",
       "<title>B1&#45;&gt;C1</title>\n",
       "<path fill=\"none\" stroke=\"#000000\" d=\"M99,-173.9735C99,-162.1918 99,-146.5607 99,-133.1581\"/>\n",
       "<polygon fill=\"#000000\" stroke=\"#000000\" points=\"102.5001,-133.0033 99,-123.0034 95.5001,-133.0034 102.5001,-133.0033\"/>\n",
       "<text text-anchor=\"middle\" x=\"106.5\" y=\"-144.8\" font-family=\"Times,serif\" font-size=\"14.00\" fill=\"#000000\"> &#160;1</text>\n",
       "</g>\n",
       "<!-- D1 -->\n",
       "<g id=\"node9\" class=\"node\">\n",
       "<title>D1</title>\n",
       "<ellipse fill=\"none\" stroke=\"#000000\" stroke-dasharray=\"5,2\" cx=\"99\" cy=\"-18\" rx=\"27\" ry=\"18\"/>\n",
       "<text text-anchor=\"middle\" x=\"99\" y=\"-14.3\" font-family=\"Times,serif\" font-size=\"14.00\" fill=\"#000000\">D1</text>\n",
       "</g>\n",
       "<!-- C1&#45;&gt;D1 -->\n",
       "<g id=\"edge9\" class=\"edge\">\n",
       "<title>C1&#45;&gt;D1</title>\n",
       "<path fill=\"none\" stroke=\"#000000\" d=\"M99,-86.9735C99,-75.1918 99,-59.5607 99,-46.1581\"/>\n",
       "<polygon fill=\"#000000\" stroke=\"#000000\" points=\"102.5001,-46.0033 99,-36.0034 95.5001,-46.0034 102.5001,-46.0033\"/>\n",
       "<text text-anchor=\"middle\" x=\"106.5\" y=\"-57.8\" font-family=\"Times,serif\" font-size=\"14.00\" fill=\"#000000\"> &#160;1</text>\n",
       "</g>\n",
       "<!-- D1&#45;&gt;D1 -->\n",
       "<g id=\"edge10\" class=\"edge\">\n",
       "<title>D1&#45;&gt;D1</title>\n",
       "<path fill=\"none\" stroke=\"#000000\" d=\"M123.5325,-25.752C134.5078,-26.4902 144,-23.9063 144,-18 144,-14.0317 139.7151,-11.5632 133.5743,-10.5944\"/>\n",
       "<polygon fill=\"#000000\" stroke=\"#000000\" points=\"133.6472,-7.0949 123.5325,-10.248 133.4059,-14.0908 133.6472,-7.0949\"/>\n",
       "<text text-anchor=\"middle\" x=\"158.5\" y=\"-14.3\" font-family=\"Times,serif\" font-size=\"14.00\" fill=\"#000000\"> &#160;0, 1</text>\n",
       "</g>\n",
       "</g>\n",
       "</svg>\n"
      ],
      "text/plain": [
       "<__main__.automata at 0x7ff7f005ecf8>"
      ]
     },
     "execution_count": 23,
     "metadata": {},
     "output_type": "execute_result"
    }
   ],
   "source": [
    "concatinated = automata.from_concat([a,b])\n",
    "\n",
    "concatinated"
   ]
  },
  {
   "cell_type": "markdown",
   "metadata": {
    "slideshow": {
     "slide_type": "notes"
    }
   },
   "source": [
    "Strings accepted by this machine must contain `110` followed by `111`"
   ]
  },
  {
   "cell_type": "markdown",
   "metadata": {
    "slideshow": {
     "slide_type": "subslide"
    }
   },
   "source": [
    "### Star\n",
    "\n",
    "_More than one of that_"
   ]
  },
  {
   "cell_type": "markdown",
   "metadata": {
    "slideshow": {
     "slide_type": "notes"
    }
   },
   "source": [
    "The star operation duplicates a machine so that it accepts a string which contains any number of strings in the language combined together."
   ]
  },
  {
   "cell_type": "code",
   "execution_count": 24,
   "metadata": {
    "slideshow": {
     "slide_type": "subslide"
    }
   },
   "outputs": [
    {
     "data": {
      "image/svg+xml": [
       "<?xml version=\"1.0\" encoding=\"UTF-8\" standalone=\"no\"?>\n",
       "<!DOCTYPE svg PUBLIC \"-//W3C//DTD SVG 1.1//EN\"\n",
       " \"http://www.w3.org/Graphics/SVG/1.1/DTD/svg11.dtd\">\n",
       "<!-- Generated by graphviz version 2.40.1 (20161225.0304)\n",
       " -->\n",
       "<!-- Title: %3 Pages: 1 -->\n",
       "<svg width=\"137pt\" height=\"392pt\"\n",
       " viewBox=\"0.00 0.00 137.00 392.00\" xmlns=\"http://www.w3.org/2000/svg\" xmlns:xlink=\"http://www.w3.org/1999/xlink\">\n",
       "<g id=\"graph0\" class=\"graph\" transform=\"scale(1 1) rotate(0) translate(4 388)\">\n",
       "<title>%3</title>\n",
       "<polygon fill=\"#ffffff\" stroke=\"transparent\" points=\"-4,4 -4,-388 133,-388 133,4 -4,4\"/>\n",
       "<!-- A -->\n",
       "<g id=\"node1\" class=\"node\">\n",
       "<title>A</title>\n",
       "<ellipse fill=\"none\" stroke=\"#000000\" cx=\"55\" cy=\"-279\" rx=\"27\" ry=\"18\"/>\n",
       "<text text-anchor=\"middle\" x=\"55\" y=\"-275.3\" font-family=\"Times,serif\" font-size=\"14.00\" fill=\"#000000\">A</text>\n",
       "</g>\n",
       "<!-- A&#45;&gt;A -->\n",
       "<g id=\"edge1\" class=\"edge\">\n",
       "<title>A&#45;&gt;A</title>\n",
       "<path fill=\"none\" stroke=\"#000000\" d=\"M79.5325,-286.752C90.5078,-287.4902 100,-284.9063 100,-279 100,-275.0317 95.7151,-272.5632 89.5743,-271.5944\"/>\n",
       "<polygon fill=\"#000000\" stroke=\"#000000\" points=\"89.6472,-268.0949 79.5325,-271.248 89.4059,-275.0908 89.6472,-268.0949\"/>\n",
       "<text text-anchor=\"middle\" x=\"114.5\" y=\"-275.3\" font-family=\"Times,serif\" font-size=\"14.00\" fill=\"#000000\"> &#160;0, 1</text>\n",
       "</g>\n",
       "<!-- B -->\n",
       "<g id=\"node2\" class=\"node\">\n",
       "<title>B</title>\n",
       "<ellipse fill=\"none\" stroke=\"#000000\" cx=\"27\" cy=\"-192\" rx=\"27\" ry=\"18\"/>\n",
       "<text text-anchor=\"middle\" x=\"27\" y=\"-188.3\" font-family=\"Times,serif\" font-size=\"14.00\" fill=\"#000000\">B</text>\n",
       "</g>\n",
       "<!-- A&#45;&gt;B -->\n",
       "<g id=\"edge2\" class=\"edge\">\n",
       "<title>A&#45;&gt;B</title>\n",
       "<path fill=\"none\" stroke=\"#000000\" d=\"M49.3338,-261.3943C45.4881,-249.4453 40.3234,-233.3978 35.9293,-219.7446\"/>\n",
       "<polygon fill=\"#000000\" stroke=\"#000000\" points=\"39.1493,-218.325 32.7539,-209.8782 32.4859,-220.4696 39.1493,-218.325\"/>\n",
       "<text text-anchor=\"middle\" x=\"50.5\" y=\"-231.8\" font-family=\"Times,serif\" font-size=\"14.00\" fill=\"#000000\"> &#160;1</text>\n",
       "</g>\n",
       "<!-- C -->\n",
       "<g id=\"node3\" class=\"node\">\n",
       "<title>C</title>\n",
       "<ellipse fill=\"none\" stroke=\"#000000\" cx=\"27\" cy=\"-105\" rx=\"27\" ry=\"18\"/>\n",
       "<text text-anchor=\"middle\" x=\"27\" y=\"-101.3\" font-family=\"Times,serif\" font-size=\"14.00\" fill=\"#000000\">C</text>\n",
       "</g>\n",
       "<!-- B&#45;&gt;C -->\n",
       "<g id=\"edge3\" class=\"edge\">\n",
       "<title>B&#45;&gt;C</title>\n",
       "<path fill=\"none\" stroke=\"#000000\" d=\"M27,-173.9735C27,-162.1918 27,-146.5607 27,-133.1581\"/>\n",
       "<polygon fill=\"#000000\" stroke=\"#000000\" points=\"30.5001,-133.0033 27,-123.0034 23.5001,-133.0034 30.5001,-133.0033\"/>\n",
       "<text text-anchor=\"middle\" x=\"34.5\" y=\"-144.8\" font-family=\"Times,serif\" font-size=\"14.00\" fill=\"#000000\"> &#160;1</text>\n",
       "</g>\n",
       "<!-- D -->\n",
       "<g id=\"node4\" class=\"node\">\n",
       "<title>D</title>\n",
       "<ellipse fill=\"none\" stroke=\"#000000\" stroke-dasharray=\"5,2\" cx=\"55\" cy=\"-18\" rx=\"27\" ry=\"18\"/>\n",
       "<text text-anchor=\"middle\" x=\"55\" y=\"-14.3\" font-family=\"Times,serif\" font-size=\"14.00\" fill=\"#000000\">D</text>\n",
       "</g>\n",
       "<!-- C&#45;&gt;D -->\n",
       "<g id=\"edge4\" class=\"edge\">\n",
       "<title>C&#45;&gt;D</title>\n",
       "<path fill=\"none\" stroke=\"#000000\" d=\"M32.6662,-87.3943C36.5119,-75.4453 41.6766,-59.3978 46.0707,-45.7446\"/>\n",
       "<polygon fill=\"#000000\" stroke=\"#000000\" points=\"49.5141,-46.4696 49.2461,-35.8782 42.8507,-44.325 49.5141,-46.4696\"/>\n",
       "<text text-anchor=\"middle\" x=\"50.5\" y=\"-57.8\" font-family=\"Times,serif\" font-size=\"14.00\" fill=\"#000000\"> &#160;0</text>\n",
       "</g>\n",
       "<!-- D&#45;&gt;A -->\n",
       "<g id=\"edge6\" class=\"edge\">\n",
       "<title>D&#45;&gt;A</title>\n",
       "<path fill=\"none\" stroke=\"#000000\" d=\"M59.064,-35.8574C60.2158,-41.6182 61.336,-48.0519 62,-54 63.6279,-68.5828 62.7778,-72.3283 63,-87 64.1879,-165.4213 65.308,-213.3667 62,-243 61.6991,-245.6952 61.3046,-248.4902 60.8559,-251.277\"/>\n",
       "<polygon fill=\"#000000\" stroke=\"#000000\" points=\"57.4075,-250.678 59.064,-261.1426 64.2948,-251.929 57.4075,-250.678\"/>\n",
       "<text text-anchor=\"middle\" x=\"70.5\" y=\"-144.8\" font-family=\"Times,serif\" font-size=\"14.00\" fill=\"#000000\"> &#160;ε</text>\n",
       "</g>\n",
       "<!-- D&#45;&gt;D -->\n",
       "<g id=\"edge5\" class=\"edge\">\n",
       "<title>D&#45;&gt;D</title>\n",
       "<path fill=\"none\" stroke=\"#000000\" d=\"M79.5325,-25.752C90.5078,-26.4902 100,-23.9063 100,-18 100,-14.0317 95.7151,-11.5632 89.5743,-10.5944\"/>\n",
       "<polygon fill=\"#000000\" stroke=\"#000000\" points=\"89.6472,-7.0949 79.5325,-10.248 89.4059,-14.0908 89.6472,-7.0949\"/>\n",
       "<text text-anchor=\"middle\" x=\"114.5\" y=\"-14.3\" font-family=\"Times,serif\" font-size=\"14.00\" fill=\"#000000\"> &#160;0, 1</text>\n",
       "</g>\n",
       "<!-- start -->\n",
       "<g id=\"node5\" class=\"node\">\n",
       "<title>start</title>\n",
       "<ellipse fill=\"none\" stroke=\"#000000\" stroke-width=\"2\" cx=\"55\" cy=\"-366\" rx=\"27\" ry=\"18\"/>\n",
       "<text text-anchor=\"middle\" x=\"55\" y=\"-362.3\" font-family=\"Times,serif\" font-size=\"14.00\" fill=\"#000000\">start</text>\n",
       "</g>\n",
       "<!-- start&#45;&gt;A -->\n",
       "<g id=\"edge7\" class=\"edge\">\n",
       "<title>start&#45;&gt;A</title>\n",
       "<path fill=\"none\" stroke=\"#000000\" d=\"M55,-347.9735C55,-336.1918 55,-320.5607 55,-307.1581\"/>\n",
       "<polygon fill=\"#000000\" stroke=\"#000000\" points=\"58.5001,-307.0033 55,-297.0034 51.5001,-307.0034 58.5001,-307.0033\"/>\n",
       "<text text-anchor=\"middle\" x=\"62.5\" y=\"-318.8\" font-family=\"Times,serif\" font-size=\"14.00\" fill=\"#000000\"> &#160;ε</text>\n",
       "</g>\n",
       "</g>\n",
       "</svg>\n"
      ],
      "text/plain": [
       "<__main__.automata at 0x7ff7f08a49e8>"
      ]
     },
     "execution_count": 24,
     "metadata": {},
     "output_type": "execute_result"
    }
   ],
   "source": [
    "star = automata.from_star(a)\n",
    "\n",
    "star\n"
   ]
  },
  {
   "cell_type": "markdown",
   "metadata": {
    "slideshow": {
     "slide_type": "notes"
    }
   },
   "source": [
    "Essentially - once a string has reached the final state because part of it matches the language, it runs back around to the starting state again, to check for more occurances!"
   ]
  },
  {
   "cell_type": "markdown",
   "metadata": {
    "slideshow": {
     "slide_type": "slide"
    }
   },
   "source": [
    "## Regular Expressions\n",
    "_What you've all been waiting for!_"
   ]
  },
  {
   "cell_type": "markdown",
   "metadata": {
    "slideshow": {
     "slide_type": "subslide"
    }
   },
   "source": [
    "Describe a regular language"
   ]
  },
  {
   "cell_type": "markdown",
   "metadata": {
    "slideshow": {
     "slide_type": "notes"
    }
   },
   "source": [
    "No we know how to take multiple NFAs which recognise regular languages and combine them, we can represent those combinations as an expression"
   ]
  },
  {
   "cell_type": "markdown",
   "metadata": {
    "slideshow": {
     "slide_type": "subslide"
    }
   },
   "source": [
    "$$ ( 0 \\cup 1 )^* (110 \\cup 111 ) (0 \\cup 1)^* $$\n",
    "\n",
    "The language of strings containing both `110` and `111` anywhere in the string."
   ]
  },
  {
   "cell_type": "markdown",
   "metadata": {
    "slideshow": {
     "slide_type": "notes"
    }
   },
   "source": [
    "This regular expression describes a language that we've seen before. the language of strings which contain either `110` or `111`"
   ]
  },
  {
   "cell_type": "code",
   "execution_count": 25,
   "metadata": {
    "slideshow": {
     "slide_type": "subslide"
    }
   },
   "outputs": [
    {
     "data": {
      "image/svg+xml": [
       "<?xml version=\"1.0\" encoding=\"UTF-8\" standalone=\"no\"?>\n",
       "<!DOCTYPE svg PUBLIC \"-//W3C//DTD SVG 1.1//EN\"\n",
       " \"http://www.w3.org/Graphics/SVG/1.1/DTD/svg11.dtd\">\n",
       "<!-- Generated by graphviz version 2.40.1 (20161225.0304)\n",
       " -->\n",
       "<!-- Title: %3 Pages: 1 -->\n",
       "<svg width=\"228pt\" height=\"465pt\"\n",
       " viewBox=\"0.00 0.00 228.00 465.00\" xmlns=\"http://www.w3.org/2000/svg\" xmlns:xlink=\"http://www.w3.org/1999/xlink\">\n",
       "<g id=\"graph0\" class=\"graph\" transform=\"scale(1 1) rotate(0) translate(4 461)\">\n",
       "<title>%3</title>\n",
       "<polygon fill=\"#ffffff\" stroke=\"transparent\" points=\"-4,4 -4,-461 224,-461 224,4 -4,4\"/>\n",
       "<!-- A0 -->\n",
       "<g id=\"node1\" class=\"node\">\n",
       "<title>A0</title>\n",
       "<ellipse fill=\"none\" stroke=\"#000000\" cx=\"27\" cy=\"-279\" rx=\"27\" ry=\"18\"/>\n",
       "<text text-anchor=\"middle\" x=\"27\" y=\"-275.3\" font-family=\"Times,serif\" font-size=\"14.00\" fill=\"#000000\">A0</text>\n",
       "</g>\n",
       "<!-- A0&#45;&gt;A0 -->\n",
       "<g id=\"edge2\" class=\"edge\">\n",
       "<title>A0&#45;&gt;A0</title>\n",
       "<path fill=\"none\" stroke=\"#000000\" d=\"M51.5325,-286.752C62.5078,-287.4902 72,-284.9063 72,-279 72,-275.0317 67.7151,-272.5632 61.5743,-271.5944\"/>\n",
       "<polygon fill=\"#000000\" stroke=\"#000000\" points=\"61.6472,-268.0949 51.5325,-271.248 61.4059,-275.0908 61.6472,-268.0949\"/>\n",
       "<text text-anchor=\"middle\" x=\"86.5\" y=\"-275.3\" font-family=\"Times,serif\" font-size=\"14.00\" fill=\"#000000\"> &#160;0, 1</text>\n",
       "</g>\n",
       "<!-- B0 -->\n",
       "<g id=\"node2\" class=\"node\">\n",
       "<title>B0</title>\n",
       "<ellipse fill=\"none\" stroke=\"#000000\" cx=\"27\" cy=\"-192\" rx=\"27\" ry=\"18\"/>\n",
       "<text text-anchor=\"middle\" x=\"27\" y=\"-188.3\" font-family=\"Times,serif\" font-size=\"14.00\" fill=\"#000000\">B0</text>\n",
       "</g>\n",
       "<!-- A0&#45;&gt;B0 -->\n",
       "<g id=\"edge3\" class=\"edge\">\n",
       "<title>A0&#45;&gt;B0</title>\n",
       "<path fill=\"none\" stroke=\"#000000\" d=\"M27,-260.9735C27,-249.1918 27,-233.5607 27,-220.1581\"/>\n",
       "<polygon fill=\"#000000\" stroke=\"#000000\" points=\"30.5001,-220.0033 27,-210.0034 23.5001,-220.0034 30.5001,-220.0033\"/>\n",
       "<text text-anchor=\"middle\" x=\"34.5\" y=\"-231.8\" font-family=\"Times,serif\" font-size=\"14.00\" fill=\"#000000\"> &#160;1</text>\n",
       "</g>\n",
       "<!-- C0 -->\n",
       "<g id=\"node3\" class=\"node\">\n",
       "<title>C0</title>\n",
       "<ellipse fill=\"none\" stroke=\"#000000\" cx=\"27\" cy=\"-105\" rx=\"27\" ry=\"18\"/>\n",
       "<text text-anchor=\"middle\" x=\"27\" y=\"-101.3\" font-family=\"Times,serif\" font-size=\"14.00\" fill=\"#000000\">C0</text>\n",
       "</g>\n",
       "<!-- B0&#45;&gt;C0 -->\n",
       "<g id=\"edge4\" class=\"edge\">\n",
       "<title>B0&#45;&gt;C0</title>\n",
       "<path fill=\"none\" stroke=\"#000000\" d=\"M27,-173.9735C27,-162.1918 27,-146.5607 27,-133.1581\"/>\n",
       "<polygon fill=\"#000000\" stroke=\"#000000\" points=\"30.5001,-133.0033 27,-123.0034 23.5001,-133.0034 30.5001,-133.0033\"/>\n",
       "<text text-anchor=\"middle\" x=\"34.5\" y=\"-144.8\" font-family=\"Times,serif\" font-size=\"14.00\" fill=\"#000000\"> &#160;1</text>\n",
       "</g>\n",
       "<!-- D0 -->\n",
       "<g id=\"node4\" class=\"node\">\n",
       "<title>D0</title>\n",
       "<ellipse fill=\"none\" stroke=\"#000000\" stroke-dasharray=\"5,2\" cx=\"27\" cy=\"-18\" rx=\"27\" ry=\"18\"/>\n",
       "<text text-anchor=\"middle\" x=\"27\" y=\"-14.3\" font-family=\"Times,serif\" font-size=\"14.00\" fill=\"#000000\">D0</text>\n",
       "</g>\n",
       "<!-- C0&#45;&gt;D0 -->\n",
       "<g id=\"edge5\" class=\"edge\">\n",
       "<title>C0&#45;&gt;D0</title>\n",
       "<path fill=\"none\" stroke=\"#000000\" d=\"M27,-86.9735C27,-75.1918 27,-59.5607 27,-46.1581\"/>\n",
       "<polygon fill=\"#000000\" stroke=\"#000000\" points=\"30.5001,-46.0033 27,-36.0034 23.5001,-46.0034 30.5001,-46.0033\"/>\n",
       "<text text-anchor=\"middle\" x=\"34.5\" y=\"-57.8\" font-family=\"Times,serif\" font-size=\"14.00\" fill=\"#000000\"> &#160;0</text>\n",
       "</g>\n",
       "<!-- D0&#45;&gt;D0 -->\n",
       "<g id=\"edge6\" class=\"edge\">\n",
       "<title>D0&#45;&gt;D0</title>\n",
       "<path fill=\"none\" stroke=\"#000000\" d=\"M51.5325,-25.752C62.5078,-26.4902 72,-23.9063 72,-18 72,-14.0317 67.7151,-11.5632 61.5743,-10.5944\"/>\n",
       "<polygon fill=\"#000000\" stroke=\"#000000\" points=\"61.6472,-7.0949 51.5325,-10.248 61.4059,-14.0908 61.6472,-7.0949\"/>\n",
       "<text text-anchor=\"middle\" x=\"86.5\" y=\"-14.3\" font-family=\"Times,serif\" font-size=\"14.00\" fill=\"#000000\"> &#160;0, 1</text>\n",
       "</g>\n",
       "<!-- A1 -->\n",
       "<g id=\"node5\" class=\"node\">\n",
       "<title>A1</title>\n",
       "<ellipse fill=\"none\" stroke=\"#000000\" cx=\"146\" cy=\"-279\" rx=\"27\" ry=\"18\"/>\n",
       "<text text-anchor=\"middle\" x=\"146\" y=\"-275.3\" font-family=\"Times,serif\" font-size=\"14.00\" fill=\"#000000\">A1</text>\n",
       "</g>\n",
       "<!-- A1&#45;&gt;A1 -->\n",
       "<g id=\"edge7\" class=\"edge\">\n",
       "<title>A1&#45;&gt;A1</title>\n",
       "<path fill=\"none\" stroke=\"#000000\" d=\"M170.5325,-286.752C181.5078,-287.4902 191,-284.9063 191,-279 191,-275.0317 186.7151,-272.5632 180.5743,-271.5944\"/>\n",
       "<polygon fill=\"#000000\" stroke=\"#000000\" points=\"180.6472,-268.0949 170.5325,-271.248 180.4059,-275.0908 180.6472,-268.0949\"/>\n",
       "<text text-anchor=\"middle\" x=\"205.5\" y=\"-275.3\" font-family=\"Times,serif\" font-size=\"14.00\" fill=\"#000000\"> &#160;0, 1</text>\n",
       "</g>\n",
       "<!-- B1 -->\n",
       "<g id=\"node6\" class=\"node\">\n",
       "<title>B1</title>\n",
       "<ellipse fill=\"none\" stroke=\"#000000\" cx=\"146\" cy=\"-192\" rx=\"27\" ry=\"18\"/>\n",
       "<text text-anchor=\"middle\" x=\"146\" y=\"-188.3\" font-family=\"Times,serif\" font-size=\"14.00\" fill=\"#000000\">B1</text>\n",
       "</g>\n",
       "<!-- A1&#45;&gt;B1 -->\n",
       "<g id=\"edge8\" class=\"edge\">\n",
       "<title>A1&#45;&gt;B1</title>\n",
       "<path fill=\"none\" stroke=\"#000000\" d=\"M146,-260.9735C146,-249.1918 146,-233.5607 146,-220.1581\"/>\n",
       "<polygon fill=\"#000000\" stroke=\"#000000\" points=\"149.5001,-220.0033 146,-210.0034 142.5001,-220.0034 149.5001,-220.0033\"/>\n",
       "<text text-anchor=\"middle\" x=\"153.5\" y=\"-231.8\" font-family=\"Times,serif\" font-size=\"14.00\" fill=\"#000000\"> &#160;1</text>\n",
       "</g>\n",
       "<!-- C1 -->\n",
       "<g id=\"node7\" class=\"node\">\n",
       "<title>C1</title>\n",
       "<ellipse fill=\"none\" stroke=\"#000000\" cx=\"146\" cy=\"-105\" rx=\"27\" ry=\"18\"/>\n",
       "<text text-anchor=\"middle\" x=\"146\" y=\"-101.3\" font-family=\"Times,serif\" font-size=\"14.00\" fill=\"#000000\">C1</text>\n",
       "</g>\n",
       "<!-- B1&#45;&gt;C1 -->\n",
       "<g id=\"edge9\" class=\"edge\">\n",
       "<title>B1&#45;&gt;C1</title>\n",
       "<path fill=\"none\" stroke=\"#000000\" d=\"M146,-173.9735C146,-162.1918 146,-146.5607 146,-133.1581\"/>\n",
       "<polygon fill=\"#000000\" stroke=\"#000000\" points=\"149.5001,-133.0033 146,-123.0034 142.5001,-133.0034 149.5001,-133.0033\"/>\n",
       "<text text-anchor=\"middle\" x=\"153.5\" y=\"-144.8\" font-family=\"Times,serif\" font-size=\"14.00\" fill=\"#000000\"> &#160;1</text>\n",
       "</g>\n",
       "<!-- D1 -->\n",
       "<g id=\"node8\" class=\"node\">\n",
       "<title>D1</title>\n",
       "<ellipse fill=\"none\" stroke=\"#000000\" stroke-dasharray=\"5,2\" cx=\"146\" cy=\"-18\" rx=\"27\" ry=\"18\"/>\n",
       "<text text-anchor=\"middle\" x=\"146\" y=\"-14.3\" font-family=\"Times,serif\" font-size=\"14.00\" fill=\"#000000\">D1</text>\n",
       "</g>\n",
       "<!-- C1&#45;&gt;D1 -->\n",
       "<g id=\"edge10\" class=\"edge\">\n",
       "<title>C1&#45;&gt;D1</title>\n",
       "<path fill=\"none\" stroke=\"#000000\" d=\"M146,-86.9735C146,-75.1918 146,-59.5607 146,-46.1581\"/>\n",
       "<polygon fill=\"#000000\" stroke=\"#000000\" points=\"149.5001,-46.0033 146,-36.0034 142.5001,-46.0034 149.5001,-46.0033\"/>\n",
       "<text text-anchor=\"middle\" x=\"153.5\" y=\"-57.8\" font-family=\"Times,serif\" font-size=\"14.00\" fill=\"#000000\"> &#160;1</text>\n",
       "</g>\n",
       "<!-- D1&#45;&gt;D1 -->\n",
       "<g id=\"edge11\" class=\"edge\">\n",
       "<title>D1&#45;&gt;D1</title>\n",
       "<path fill=\"none\" stroke=\"#000000\" d=\"M170.5325,-25.752C181.5078,-26.4902 191,-23.9063 191,-18 191,-14.0317 186.7151,-11.5632 180.5743,-10.5944\"/>\n",
       "<polygon fill=\"#000000\" stroke=\"#000000\" points=\"180.6472,-7.0949 170.5325,-10.248 180.4059,-14.0908 180.6472,-7.0949\"/>\n",
       "<text text-anchor=\"middle\" x=\"205.5\" y=\"-14.3\" font-family=\"Times,serif\" font-size=\"14.00\" fill=\"#000000\"> &#160;0, 1</text>\n",
       "</g>\n",
       "<!-- start -->\n",
       "<g id=\"node10\" class=\"node\">\n",
       "<title>start</title>\n",
       "<ellipse fill=\"none\" stroke=\"#000000\" stroke-width=\"2\" cx=\"86\" cy=\"-366\" rx=\"27\" ry=\"18\"/>\n",
       "<text text-anchor=\"middle\" x=\"86\" y=\"-362.3\" font-family=\"Times,serif\" font-size=\"14.00\" fill=\"#000000\">start</text>\n",
       "</g>\n",
       "<!-- &#45;&gt;start -->\n",
       "<g id=\"edge1\" class=\"edge\">\n",
       "<title>&#45;&gt;start</title>\n",
       "<path fill=\"none\" stroke=\"#000000\" d=\"M86,-420.9551C86,-412.8828 86,-403.1764 86,-394.1817\"/>\n",
       "<polygon fill=\"#000000\" stroke=\"#000000\" points=\"89.5001,-394.0903 86,-384.0904 82.5001,-394.0904 89.5001,-394.0903\"/>\n",
       "</g>\n",
       "<!-- start&#45;&gt;A0 -->\n",
       "<g id=\"edge12\" class=\"edge\">\n",
       "<title>start&#45;&gt;A0</title>\n",
       "<path fill=\"none\" stroke=\"#000000\" d=\"M74.6242,-349.2255C65.9169,-336.3859 53.77,-318.4744 43.9232,-303.9546\"/>\n",
       "<polygon fill=\"#000000\" stroke=\"#000000\" points=\"46.6502,-301.7398 38.1408,-295.4279 40.8568,-305.6687 46.6502,-301.7398\"/>\n",
       "<text text-anchor=\"middle\" x=\"64.5\" y=\"-318.8\" font-family=\"Times,serif\" font-size=\"14.00\" fill=\"#000000\">ε</text>\n",
       "</g>\n",
       "<!-- start&#45;&gt;A1 -->\n",
       "<g id=\"edge13\" class=\"edge\">\n",
       "<title>start&#45;&gt;A1</title>\n",
       "<path fill=\"none\" stroke=\"#000000\" d=\"M97.2855,-349.636C106.1127,-336.8367 118.5388,-318.8187 128.6315,-304.1843\"/>\n",
       "<polygon fill=\"#000000\" stroke=\"#000000\" points=\"131.7649,-305.8057 134.5611,-295.5865 126.0024,-301.8315 131.7649,-305.8057\"/>\n",
       "<text text-anchor=\"middle\" x=\"122.5\" y=\"-318.8\" font-family=\"Times,serif\" font-size=\"14.00\" fill=\"#000000\">ε</text>\n",
       "</g>\n",
       "</g>\n",
       "</svg>\n"
      ],
      "text/plain": [
       "<__main__.automata at 0x7ff7f006ffd0>"
      ]
     },
     "execution_count": 25,
     "metadata": {},
     "output_type": "execute_result"
    }
   ],
   "source": [
    "unioned"
   ]
  },
  {
   "cell_type": "markdown",
   "metadata": {
    "slideshow": {
     "slide_type": "notes"
    }
   },
   "source": [
    "A0 and A1 handle the $(0 \\cup 1)$\n",
    "\n",
    "B0, B1  through to D0 and D1 handle the mathching of `110` and `111`. and D0 and D1 finally spin until they reach the end of the string."
   ]
  },
  {
   "cell_type": "markdown",
   "metadata": {
    "slideshow": {
     "slide_type": "notes"
    }
   },
   "source": [
    "While we know that this NFA is one we've seen before - for practice, lets build up an NFA to represent our regular expression above.\n",
    "\n",
    "This preceedure won't give an NFA with the fewest number of states - but it does demonstrate how Regular Expressions can be converted into an NFA diagram."
   ]
  },
  {
   "cell_type": "code",
   "execution_count": 26,
   "metadata": {
    "slideshow": {
     "slide_type": "subslide"
    }
   },
   "outputs": [
    {
     "data": {
      "image/svg+xml": [
       "<?xml version=\"1.0\" encoding=\"UTF-8\" standalone=\"no\"?>\n",
       "<!DOCTYPE svg PUBLIC \"-//W3C//DTD SVG 1.1//EN\"\n",
       " \"http://www.w3.org/Graphics/SVG/1.1/DTD/svg11.dtd\">\n",
       "<!-- Generated by graphviz version 2.40.1 (20161225.0304)\n",
       " -->\n",
       "<!-- Title: %3 Pages: 1 -->\n",
       "<svg width=\"62pt\" height=\"204pt\"\n",
       " viewBox=\"0.00 0.00 62.00 204.00\" xmlns=\"http://www.w3.org/2000/svg\" xmlns:xlink=\"http://www.w3.org/1999/xlink\">\n",
       "<g id=\"graph0\" class=\"graph\" transform=\"scale(1 1) rotate(0) translate(4 200)\">\n",
       "<title>%3</title>\n",
       "<polygon fill=\"#ffffff\" stroke=\"transparent\" points=\"-4,4 -4,-200 58,-200 58,4 -4,4\"/>\n",
       "<!-- A -->\n",
       "<g id=\"node2\" class=\"node\">\n",
       "<title>A</title>\n",
       "<ellipse fill=\"none\" stroke=\"#000000\" stroke-width=\"2\" cx=\"27\" cy=\"-105\" rx=\"27\" ry=\"18\"/>\n",
       "<text text-anchor=\"middle\" x=\"27\" y=\"-101.3\" font-family=\"Times,serif\" font-size=\"14.00\" fill=\"#000000\">A</text>\n",
       "</g>\n",
       "<!-- &#45;&gt;A -->\n",
       "<g id=\"edge1\" class=\"edge\">\n",
       "<title>&#45;&gt;A</title>\n",
       "<path fill=\"none\" stroke=\"#000000\" d=\"M27,-159.9551C27,-151.8828 27,-142.1764 27,-133.1817\"/>\n",
       "<polygon fill=\"#000000\" stroke=\"#000000\" points=\"30.5001,-133.0903 27,-123.0904 23.5001,-133.0904 30.5001,-133.0903\"/>\n",
       "</g>\n",
       "<!-- B -->\n",
       "<g id=\"node3\" class=\"node\">\n",
       "<title>B</title>\n",
       "<ellipse fill=\"none\" stroke=\"#000000\" stroke-dasharray=\"5,2\" cx=\"27\" cy=\"-18\" rx=\"27\" ry=\"18\"/>\n",
       "<text text-anchor=\"middle\" x=\"27\" y=\"-14.3\" font-family=\"Times,serif\" font-size=\"14.00\" fill=\"#000000\">B</text>\n",
       "</g>\n",
       "<!-- A&#45;&gt;B -->\n",
       "<g id=\"edge2\" class=\"edge\">\n",
       "<title>A&#45;&gt;B</title>\n",
       "<path fill=\"none\" stroke=\"#000000\" d=\"M27,-86.9735C27,-75.1918 27,-59.5607 27,-46.1581\"/>\n",
       "<polygon fill=\"#000000\" stroke=\"#000000\" points=\"30.5001,-46.0033 27,-36.0034 23.5001,-46.0034 30.5001,-46.0033\"/>\n",
       "<text text-anchor=\"middle\" x=\"34.5\" y=\"-57.8\" font-family=\"Times,serif\" font-size=\"14.00\" fill=\"#000000\"> &#160;0</text>\n",
       "</g>\n",
       "</g>\n",
       "</svg>\n"
      ],
      "text/plain": [
       "<__main__.automata at 0x7ff7f088b9e8>"
      ]
     },
     "execution_count": 26,
     "metadata": {},
     "output_type": "execute_result"
    }
   ],
   "source": [
    "zero = automata([\"A\", \"B\"], [\"0\", \"1\"], \"A\", [\"B\"])\n",
    "zero.edge(\"A\", \"B\", \"0\")\n",
    "\n",
    "zero"
   ]
  },
  {
   "cell_type": "code",
   "execution_count": 27,
   "metadata": {},
   "outputs": [
    {
     "data": {
      "image/svg+xml": [
       "<?xml version=\"1.0\" encoding=\"UTF-8\" standalone=\"no\"?>\n",
       "<!DOCTYPE svg PUBLIC \"-//W3C//DTD SVG 1.1//EN\"\n",
       " \"http://www.w3.org/Graphics/SVG/1.1/DTD/svg11.dtd\">\n",
       "<!-- Generated by graphviz version 2.40.1 (20161225.0304)\n",
       " -->\n",
       "<!-- Title: %3 Pages: 1 -->\n",
       "<svg width=\"62pt\" height=\"204pt\"\n",
       " viewBox=\"0.00 0.00 62.00 204.00\" xmlns=\"http://www.w3.org/2000/svg\" xmlns:xlink=\"http://www.w3.org/1999/xlink\">\n",
       "<g id=\"graph0\" class=\"graph\" transform=\"scale(1 1) rotate(0) translate(4 200)\">\n",
       "<title>%3</title>\n",
       "<polygon fill=\"#ffffff\" stroke=\"transparent\" points=\"-4,4 -4,-200 58,-200 58,4 -4,4\"/>\n",
       "<!-- C -->\n",
       "<g id=\"node2\" class=\"node\">\n",
       "<title>C</title>\n",
       "<ellipse fill=\"none\" stroke=\"#000000\" stroke-width=\"2\" cx=\"27\" cy=\"-105\" rx=\"27\" ry=\"18\"/>\n",
       "<text text-anchor=\"middle\" x=\"27\" y=\"-101.3\" font-family=\"Times,serif\" font-size=\"14.00\" fill=\"#000000\">C</text>\n",
       "</g>\n",
       "<!-- &#45;&gt;C -->\n",
       "<g id=\"edge1\" class=\"edge\">\n",
       "<title>&#45;&gt;C</title>\n",
       "<path fill=\"none\" stroke=\"#000000\" d=\"M27,-159.9551C27,-151.8828 27,-142.1764 27,-133.1817\"/>\n",
       "<polygon fill=\"#000000\" stroke=\"#000000\" points=\"30.5001,-133.0903 27,-123.0904 23.5001,-133.0904 30.5001,-133.0903\"/>\n",
       "</g>\n",
       "<!-- D -->\n",
       "<g id=\"node3\" class=\"node\">\n",
       "<title>D</title>\n",
       "<ellipse fill=\"none\" stroke=\"#000000\" stroke-dasharray=\"5,2\" cx=\"27\" cy=\"-18\" rx=\"27\" ry=\"18\"/>\n",
       "<text text-anchor=\"middle\" x=\"27\" y=\"-14.3\" font-family=\"Times,serif\" font-size=\"14.00\" fill=\"#000000\">D</text>\n",
       "</g>\n",
       "<!-- C&#45;&gt;D -->\n",
       "<g id=\"edge2\" class=\"edge\">\n",
       "<title>C&#45;&gt;D</title>\n",
       "<path fill=\"none\" stroke=\"#000000\" d=\"M27,-86.9735C27,-75.1918 27,-59.5607 27,-46.1581\"/>\n",
       "<polygon fill=\"#000000\" stroke=\"#000000\" points=\"30.5001,-46.0033 27,-36.0034 23.5001,-46.0034 30.5001,-46.0033\"/>\n",
       "<text text-anchor=\"middle\" x=\"34.5\" y=\"-57.8\" font-family=\"Times,serif\" font-size=\"14.00\" fill=\"#000000\"> &#160;1</text>\n",
       "</g>\n",
       "</g>\n",
       "</svg>\n"
      ],
      "text/plain": [
       "<__main__.automata at 0x7ff7f0059898>"
      ]
     },
     "execution_count": 27,
     "metadata": {},
     "output_type": "execute_result"
    }
   ],
   "source": [
    "one = automata([\"C\", \"D\"], [\"0\", \"1\"], \"C\", [\"D\"])\n",
    "one.edge(\"C\", \"D\", \"1\")\n",
    "\n",
    "one"
   ]
  },
  {
   "cell_type": "code",
   "execution_count": 28,
   "metadata": {},
   "outputs": [
    {
     "data": {
      "image/svg+xml": [
       "<?xml version=\"1.0\" encoding=\"UTF-8\" standalone=\"no\"?>\n",
       "<!DOCTYPE svg PUBLIC \"-//W3C//DTD SVG 1.1//EN\"\n",
       " \"http://www.w3.org/Graphics/SVG/1.1/DTD/svg11.dtd\">\n",
       "<!-- Generated by graphviz version 2.40.1 (20161225.0304)\n",
       " -->\n",
       "<!-- Title: %3 Pages: 1 -->\n",
       "<svg width=\"134pt\" height=\"291pt\"\n",
       " viewBox=\"0.00 0.00 134.00 291.00\" xmlns=\"http://www.w3.org/2000/svg\" xmlns:xlink=\"http://www.w3.org/1999/xlink\">\n",
       "<g id=\"graph0\" class=\"graph\" transform=\"scale(1 1) rotate(0) translate(4 287)\">\n",
       "<title>%3</title>\n",
       "<polygon fill=\"#ffffff\" stroke=\"transparent\" points=\"-4,4 -4,-287 130,-287 130,4 -4,4\"/>\n",
       "<!-- A0 -->\n",
       "<g id=\"node1\" class=\"node\">\n",
       "<title>A0</title>\n",
       "<ellipse fill=\"none\" stroke=\"#000000\" cx=\"27\" cy=\"-105\" rx=\"27\" ry=\"18\"/>\n",
       "<text text-anchor=\"middle\" x=\"27\" y=\"-101.3\" font-family=\"Times,serif\" font-size=\"14.00\" fill=\"#000000\">A0</text>\n",
       "</g>\n",
       "<!-- B0 -->\n",
       "<g id=\"node2\" class=\"node\">\n",
       "<title>B0</title>\n",
       "<ellipse fill=\"none\" stroke=\"#000000\" stroke-dasharray=\"5,2\" cx=\"27\" cy=\"-18\" rx=\"27\" ry=\"18\"/>\n",
       "<text text-anchor=\"middle\" x=\"27\" y=\"-14.3\" font-family=\"Times,serif\" font-size=\"14.00\" fill=\"#000000\">B0</text>\n",
       "</g>\n",
       "<!-- A0&#45;&gt;B0 -->\n",
       "<g id=\"edge2\" class=\"edge\">\n",
       "<title>A0&#45;&gt;B0</title>\n",
       "<path fill=\"none\" stroke=\"#000000\" d=\"M27,-86.9735C27,-75.1918 27,-59.5607 27,-46.1581\"/>\n",
       "<polygon fill=\"#000000\" stroke=\"#000000\" points=\"30.5001,-46.0033 27,-36.0034 23.5001,-46.0034 30.5001,-46.0033\"/>\n",
       "<text text-anchor=\"middle\" x=\"34.5\" y=\"-57.8\" font-family=\"Times,serif\" font-size=\"14.00\" fill=\"#000000\"> &#160;0</text>\n",
       "</g>\n",
       "<!-- C1 -->\n",
       "<g id=\"node3\" class=\"node\">\n",
       "<title>C1</title>\n",
       "<ellipse fill=\"none\" stroke=\"#000000\" cx=\"99\" cy=\"-105\" rx=\"27\" ry=\"18\"/>\n",
       "<text text-anchor=\"middle\" x=\"99\" y=\"-101.3\" font-family=\"Times,serif\" font-size=\"14.00\" fill=\"#000000\">C1</text>\n",
       "</g>\n",
       "<!-- D1 -->\n",
       "<g id=\"node4\" class=\"node\">\n",
       "<title>D1</title>\n",
       "<ellipse fill=\"none\" stroke=\"#000000\" stroke-dasharray=\"5,2\" cx=\"99\" cy=\"-18\" rx=\"27\" ry=\"18\"/>\n",
       "<text text-anchor=\"middle\" x=\"99\" y=\"-14.3\" font-family=\"Times,serif\" font-size=\"14.00\" fill=\"#000000\">D1</text>\n",
       "</g>\n",
       "<!-- C1&#45;&gt;D1 -->\n",
       "<g id=\"edge3\" class=\"edge\">\n",
       "<title>C1&#45;&gt;D1</title>\n",
       "<path fill=\"none\" stroke=\"#000000\" d=\"M99,-86.9735C99,-75.1918 99,-59.5607 99,-46.1581\"/>\n",
       "<polygon fill=\"#000000\" stroke=\"#000000\" points=\"102.5001,-46.0033 99,-36.0034 95.5001,-46.0034 102.5001,-46.0033\"/>\n",
       "<text text-anchor=\"middle\" x=\"106.5\" y=\"-57.8\" font-family=\"Times,serif\" font-size=\"14.00\" fill=\"#000000\"> &#160;1</text>\n",
       "</g>\n",
       "<!-- start -->\n",
       "<g id=\"node6\" class=\"node\">\n",
       "<title>start</title>\n",
       "<ellipse fill=\"none\" stroke=\"#000000\" stroke-width=\"2\" cx=\"63\" cy=\"-192\" rx=\"27\" ry=\"18\"/>\n",
       "<text text-anchor=\"middle\" x=\"63\" y=\"-188.3\" font-family=\"Times,serif\" font-size=\"14.00\" fill=\"#000000\">start</text>\n",
       "</g>\n",
       "<!-- &#45;&gt;start -->\n",
       "<g id=\"edge1\" class=\"edge\">\n",
       "<title>&#45;&gt;start</title>\n",
       "<path fill=\"none\" stroke=\"#000000\" d=\"M63,-246.9551C63,-238.8828 63,-229.1764 63,-220.1817\"/>\n",
       "<polygon fill=\"#000000\" stroke=\"#000000\" points=\"66.5001,-220.0903 63,-210.0904 59.5001,-220.0904 66.5001,-220.0903\"/>\n",
       "</g>\n",
       "<!-- start&#45;&gt;A0 -->\n",
       "<g id=\"edge4\" class=\"edge\">\n",
       "<title>start&#45;&gt;A0</title>\n",
       "<path fill=\"none\" stroke=\"#000000\" d=\"M55.7149,-174.3943C50.6889,-162.2482 43.9107,-145.8674 38.2018,-132.0711\"/>\n",
       "<polygon fill=\"#000000\" stroke=\"#000000\" points=\"41.3319,-130.4815 34.2743,-122.5796 34.8638,-133.158 41.3319,-130.4815\"/>\n",
       "<text text-anchor=\"middle\" x=\"51.5\" y=\"-144.8\" font-family=\"Times,serif\" font-size=\"14.00\" fill=\"#000000\">ε</text>\n",
       "</g>\n",
       "<!-- start&#45;&gt;C1 -->\n",
       "<g id=\"edge5\" class=\"edge\">\n",
       "<title>start&#45;&gt;C1</title>\n",
       "<path fill=\"none\" stroke=\"#000000\" d=\"M70.2851,-174.3943C75.3111,-162.2482 82.0893,-145.8674 87.7982,-132.0711\"/>\n",
       "<polygon fill=\"#000000\" stroke=\"#000000\" points=\"91.1362,-133.158 91.7257,-122.5796 84.6681,-130.4815 91.1362,-133.158\"/>\n",
       "<text text-anchor=\"middle\" x=\"86.5\" y=\"-144.8\" font-family=\"Times,serif\" font-size=\"14.00\" fill=\"#000000\">ε</text>\n",
       "</g>\n",
       "</g>\n",
       "</svg>\n"
      ],
      "text/plain": [
       "<__main__.automata at 0x7ff7f08a4f28>"
      ]
     },
     "execution_count": 28,
     "metadata": {},
     "output_type": "execute_result"
    }
   ],
   "source": [
    "zero_one = automata.from_union([zero, one])\n",
    "\n",
    "zero_one"
   ]
  },
  {
   "cell_type": "code",
   "execution_count": 29,
   "metadata": {},
   "outputs": [
    {
     "data": {
      "image/svg+xml": [
       "<?xml version=\"1.0\" encoding=\"UTF-8\" standalone=\"no\"?>\n",
       "<!DOCTYPE svg PUBLIC \"-//W3C//DTD SVG 1.1//EN\"\n",
       " \"http://www.w3.org/Graphics/SVG/1.1/DTD/svg11.dtd\">\n",
       "<!-- Generated by graphviz version 2.40.1 (20161225.0304)\n",
       " -->\n",
       "<!-- Title: %3 Pages: 1 -->\n",
       "<svg width=\"64pt\" height=\"204pt\"\n",
       " viewBox=\"0.00 0.00 64.00 204.00\" xmlns=\"http://www.w3.org/2000/svg\" xmlns:xlink=\"http://www.w3.org/1999/xlink\">\n",
       "<g id=\"graph0\" class=\"graph\" transform=\"scale(1 1) rotate(0) translate(4 200)\">\n",
       "<title>%3</title>\n",
       "<polygon fill=\"#ffffff\" stroke=\"transparent\" points=\"-4,4 -4,-200 60,-200 60,4 -4,4\"/>\n",
       "<!-- A -->\n",
       "<g id=\"node2\" class=\"node\">\n",
       "<title>A</title>\n",
       "<ellipse fill=\"none\" stroke=\"#000000\" stroke-width=\"2\" cx=\"27\" cy=\"-105\" rx=\"27\" ry=\"18\"/>\n",
       "<text text-anchor=\"middle\" x=\"27\" y=\"-101.3\" font-family=\"Times,serif\" font-size=\"14.00\" fill=\"#000000\">A</text>\n",
       "</g>\n",
       "<!-- &#45;&gt;A -->\n",
       "<g id=\"edge1\" class=\"edge\">\n",
       "<title>&#45;&gt;A</title>\n",
       "<path fill=\"none\" stroke=\"#000000\" d=\"M27,-159.9551C27,-151.8828 27,-142.1764 27,-133.1817\"/>\n",
       "<polygon fill=\"#000000\" stroke=\"#000000\" points=\"30.5001,-133.0903 27,-123.0904 23.5001,-133.0904 30.5001,-133.0903\"/>\n",
       "</g>\n",
       "<!-- B -->\n",
       "<g id=\"node3\" class=\"node\">\n",
       "<title>B</title>\n",
       "<ellipse fill=\"none\" stroke=\"#000000\" stroke-dasharray=\"5,2\" cx=\"27\" cy=\"-18\" rx=\"27\" ry=\"18\"/>\n",
       "<text text-anchor=\"middle\" x=\"27\" y=\"-14.3\" font-family=\"Times,serif\" font-size=\"14.00\" fill=\"#000000\">B</text>\n",
       "</g>\n",
       "<!-- A&#45;&gt;B -->\n",
       "<g id=\"edge2\" class=\"edge\">\n",
       "<title>A&#45;&gt;B</title>\n",
       "<path fill=\"none\" stroke=\"#000000\" d=\"M27,-86.9735C27,-75.1918 27,-59.5607 27,-46.1581\"/>\n",
       "<polygon fill=\"#000000\" stroke=\"#000000\" points=\"30.5001,-46.0033 27,-36.0034 23.5001,-46.0034 30.5001,-46.0033\"/>\n",
       "<text text-anchor=\"middle\" x=\"41.5\" y=\"-57.8\" font-family=\"Times,serif\" font-size=\"14.00\" fill=\"#000000\"> &#160;0, 1</text>\n",
       "</g>\n",
       "</g>\n",
       "</svg>\n"
      ],
      "text/plain": [
       "<__main__.automata at 0x7ff7f00570f0>"
      ]
     },
     "execution_count": 29,
     "metadata": {},
     "output_type": "execute_result"
    }
   ],
   "source": [
    "zero_one = automata([\"A\", \"B\"], [\"0\", \"1\"], \"A\", \"B\")\n",
    "zero_one.edge(\"A\", \"B\", \"0, 1\")\n",
    "zero_one"
   ]
  },
  {
   "cell_type": "code",
   "execution_count": 30,
   "metadata": {
    "slideshow": {
     "slide_type": "subslide"
    }
   },
   "outputs": [
    {
     "data": {
      "image/svg+xml": [
       "<?xml version=\"1.0\" encoding=\"UTF-8\" standalone=\"no\"?>\n",
       "<!DOCTYPE svg PUBLIC \"-//W3C//DTD SVG 1.1//EN\"\n",
       " \"http://www.w3.org/Graphics/SVG/1.1/DTD/svg11.dtd\">\n",
       "<!-- Generated by graphviz version 2.40.1 (20161225.0304)\n",
       " -->\n",
       "<!-- Title: %3 Pages: 1 -->\n",
       "<svg width=\"62pt\" height=\"218pt\"\n",
       " viewBox=\"0.00 0.00 62.00 218.00\" xmlns=\"http://www.w3.org/2000/svg\" xmlns:xlink=\"http://www.w3.org/1999/xlink\">\n",
       "<g id=\"graph0\" class=\"graph\" transform=\"scale(1 1) rotate(0) translate(4 214)\">\n",
       "<title>%3</title>\n",
       "<polygon fill=\"#ffffff\" stroke=\"transparent\" points=\"-4,4 -4,-214 58,-214 58,4 -4,4\"/>\n",
       "<!-- A -->\n",
       "<g id=\"node1\" class=\"node\">\n",
       "<title>A</title>\n",
       "<ellipse fill=\"none\" stroke=\"#000000\" cx=\"27\" cy=\"-105\" rx=\"27\" ry=\"18\"/>\n",
       "<text text-anchor=\"middle\" x=\"27\" y=\"-101.3\" font-family=\"Times,serif\" font-size=\"14.00\" fill=\"#000000\">A</text>\n",
       "</g>\n",
       "<!-- B -->\n",
       "<g id=\"node2\" class=\"node\">\n",
       "<title>B</title>\n",
       "<ellipse fill=\"none\" stroke=\"#000000\" stroke-dasharray=\"5,2\" cx=\"27\" cy=\"-18\" rx=\"27\" ry=\"18\"/>\n",
       "<text text-anchor=\"middle\" x=\"27\" y=\"-14.3\" font-family=\"Times,serif\" font-size=\"14.00\" fill=\"#000000\">B</text>\n",
       "</g>\n",
       "<!-- A&#45;&gt;B -->\n",
       "<g id=\"edge1\" class=\"edge\">\n",
       "<title>A&#45;&gt;B</title>\n",
       "<path fill=\"none\" stroke=\"#000000\" d=\"M12.9972,-89.2773C8.5862,-83.3431 4.2741,-76.2615 2,-69 -.8567,-59.8781 2.0347,-50.3518 6.7306,-42.0353\"/>\n",
       "<polygon fill=\"#000000\" stroke=\"#000000\" points=\"9.7394,-43.831 12.3478,-33.5622 3.905,-39.9631 9.7394,-43.831\"/>\n",
       "<text text-anchor=\"middle\" x=\"16.5\" y=\"-57.8\" font-family=\"Times,serif\" font-size=\"14.00\" fill=\"#000000\"> &#160;0, 1</text>\n",
       "</g>\n",
       "<!-- B&#45;&gt;A -->\n",
       "<g id=\"edge2\" class=\"edge\">\n",
       "<title>B&#45;&gt;A</title>\n",
       "<path fill=\"none\" stroke=\"#000000\" d=\"M29.5795,-35.9244C30.6896,-45.6948 31.609,-58.004 31,-69 30.865,-71.437 30.679,-73.9625 30.4606,-76.4937\"/>\n",
       "<polygon fill=\"#000000\" stroke=\"#000000\" points=\"26.9506,-76.4174 29.4276,-86.7185 33.9151,-77.121 26.9506,-76.4174\"/>\n",
       "<text text-anchor=\"middle\" x=\"38.5\" y=\"-57.8\" font-family=\"Times,serif\" font-size=\"14.00\" fill=\"#000000\"> &#160;ε</text>\n",
       "</g>\n",
       "<!-- start -->\n",
       "<g id=\"node3\" class=\"node\">\n",
       "<title>start</title>\n",
       "<ellipse fill=\"none\" stroke=\"#000000\" stroke-width=\"2\" cx=\"27\" cy=\"-192\" rx=\"27\" ry=\"18\"/>\n",
       "<text text-anchor=\"middle\" x=\"27\" y=\"-188.3\" font-family=\"Times,serif\" font-size=\"14.00\" fill=\"#000000\">start</text>\n",
       "</g>\n",
       "<!-- start&#45;&gt;A -->\n",
       "<g id=\"edge3\" class=\"edge\">\n",
       "<title>start&#45;&gt;A</title>\n",
       "<path fill=\"none\" stroke=\"#000000\" d=\"M27,-173.9735C27,-162.1918 27,-146.5607 27,-133.1581\"/>\n",
       "<polygon fill=\"#000000\" stroke=\"#000000\" points=\"30.5001,-133.0033 27,-123.0034 23.5001,-133.0034 30.5001,-133.0033\"/>\n",
       "<text text-anchor=\"middle\" x=\"34.5\" y=\"-144.8\" font-family=\"Times,serif\" font-size=\"14.00\" fill=\"#000000\"> &#160;ε</text>\n",
       "</g>\n",
       "</g>\n",
       "</svg>\n"
      ],
      "text/plain": [
       "<__main__.automata at 0x7ff7f006f588>"
      ]
     },
     "execution_count": 30,
     "metadata": {},
     "output_type": "execute_result"
    }
   ],
   "source": [
    "zero_one_star = automata.from_star(zero_one)\n",
    "zero_one_star"
   ]
  },
  {
   "cell_type": "code",
   "execution_count": 31,
   "metadata": {},
   "outputs": [
    {
     "data": {
      "image/svg+xml": [
       "<?xml version=\"1.0\" encoding=\"UTF-8\" standalone=\"no\"?>\n",
       "<!DOCTYPE svg PUBLIC \"-//W3C//DTD SVG 1.1//EN\"\n",
       " \"http://www.w3.org/Graphics/SVG/1.1/DTD/svg11.dtd\">\n",
       "<!-- Generated by graphviz version 2.40.1 (20161225.0304)\n",
       " -->\n",
       "<!-- Title: %3 Pages: 1 -->\n",
       "<svg width=\"62pt\" height=\"378pt\"\n",
       " viewBox=\"0.00 0.00 62.00 378.00\" xmlns=\"http://www.w3.org/2000/svg\" xmlns:xlink=\"http://www.w3.org/1999/xlink\">\n",
       "<g id=\"graph0\" class=\"graph\" transform=\"scale(1 1) rotate(0) translate(4 374)\">\n",
       "<title>%3</title>\n",
       "<polygon fill=\"#ffffff\" stroke=\"transparent\" points=\"-4,4 -4,-374 58,-374 58,4 -4,4\"/>\n",
       "<!-- E -->\n",
       "<g id=\"node2\" class=\"node\">\n",
       "<title>E</title>\n",
       "<ellipse fill=\"none\" stroke=\"#000000\" stroke-width=\"2\" cx=\"27\" cy=\"-279\" rx=\"27\" ry=\"18\"/>\n",
       "<text text-anchor=\"middle\" x=\"27\" y=\"-275.3\" font-family=\"Times,serif\" font-size=\"14.00\" fill=\"#000000\">E</text>\n",
       "</g>\n",
       "<!-- &#45;&gt;E -->\n",
       "<g id=\"edge1\" class=\"edge\">\n",
       "<title>&#45;&gt;E</title>\n",
       "<path fill=\"none\" stroke=\"#000000\" d=\"M27,-333.9551C27,-325.8828 27,-316.1764 27,-307.1817\"/>\n",
       "<polygon fill=\"#000000\" stroke=\"#000000\" points=\"30.5001,-307.0903 27,-297.0904 23.5001,-307.0904 30.5001,-307.0903\"/>\n",
       "</g>\n",
       "<!-- F -->\n",
       "<g id=\"node3\" class=\"node\">\n",
       "<title>F</title>\n",
       "<ellipse fill=\"none\" stroke=\"#000000\" cx=\"27\" cy=\"-192\" rx=\"27\" ry=\"18\"/>\n",
       "<text text-anchor=\"middle\" x=\"27\" y=\"-188.3\" font-family=\"Times,serif\" font-size=\"14.00\" fill=\"#000000\">F</text>\n",
       "</g>\n",
       "<!-- E&#45;&gt;F -->\n",
       "<g id=\"edge2\" class=\"edge\">\n",
       "<title>E&#45;&gt;F</title>\n",
       "<path fill=\"none\" stroke=\"#000000\" d=\"M27,-260.9735C27,-249.1918 27,-233.5607 27,-220.1581\"/>\n",
       "<polygon fill=\"#000000\" stroke=\"#000000\" points=\"30.5001,-220.0033 27,-210.0034 23.5001,-220.0034 30.5001,-220.0033\"/>\n",
       "<text text-anchor=\"middle\" x=\"34.5\" y=\"-231.8\" font-family=\"Times,serif\" font-size=\"14.00\" fill=\"#000000\"> &#160;1</text>\n",
       "</g>\n",
       "<!-- G -->\n",
       "<g id=\"node4\" class=\"node\">\n",
       "<title>G</title>\n",
       "<ellipse fill=\"none\" stroke=\"#000000\" cx=\"27\" cy=\"-105\" rx=\"27\" ry=\"18\"/>\n",
       "<text text-anchor=\"middle\" x=\"27\" y=\"-101.3\" font-family=\"Times,serif\" font-size=\"14.00\" fill=\"#000000\">G</text>\n",
       "</g>\n",
       "<!-- F&#45;&gt;G -->\n",
       "<g id=\"edge3\" class=\"edge\">\n",
       "<title>F&#45;&gt;G</title>\n",
       "<path fill=\"none\" stroke=\"#000000\" d=\"M27,-173.9735C27,-162.1918 27,-146.5607 27,-133.1581\"/>\n",
       "<polygon fill=\"#000000\" stroke=\"#000000\" points=\"30.5001,-133.0033 27,-123.0034 23.5001,-133.0034 30.5001,-133.0033\"/>\n",
       "<text text-anchor=\"middle\" x=\"34.5\" y=\"-144.8\" font-family=\"Times,serif\" font-size=\"14.00\" fill=\"#000000\"> &#160;1</text>\n",
       "</g>\n",
       "<!-- H -->\n",
       "<g id=\"node5\" class=\"node\">\n",
       "<title>H</title>\n",
       "<ellipse fill=\"none\" stroke=\"#000000\" stroke-dasharray=\"5,2\" cx=\"27\" cy=\"-18\" rx=\"27\" ry=\"18\"/>\n",
       "<text text-anchor=\"middle\" x=\"27\" y=\"-14.3\" font-family=\"Times,serif\" font-size=\"14.00\" fill=\"#000000\">H</text>\n",
       "</g>\n",
       "<!-- G&#45;&gt;H -->\n",
       "<g id=\"edge4\" class=\"edge\">\n",
       "<title>G&#45;&gt;H</title>\n",
       "<path fill=\"none\" stroke=\"#000000\" d=\"M27,-86.9735C27,-75.1918 27,-59.5607 27,-46.1581\"/>\n",
       "<polygon fill=\"#000000\" stroke=\"#000000\" points=\"30.5001,-46.0033 27,-36.0034 23.5001,-46.0034 30.5001,-46.0033\"/>\n",
       "<text text-anchor=\"middle\" x=\"34.5\" y=\"-57.8\" font-family=\"Times,serif\" font-size=\"14.00\" fill=\"#000000\"> &#160;0</text>\n",
       "</g>\n",
       "</g>\n",
       "</svg>\n"
      ],
      "text/plain": [
       "<__main__.automata at 0x7ff7f0057908>"
      ]
     },
     "execution_count": 31,
     "metadata": {},
     "output_type": "execute_result"
    }
   ],
   "source": [
    "oneonezero = automata([\"E\", \"F\", \"G\", \"H\"], [\"0\", \"1\"], \"E\", [\"H\"])\n",
    "oneonezero.edge(\"E\", \"F\", \"1\")\n",
    "oneonezero.edge(\"F\", \"G\", \"1\")\n",
    "oneonezero.edge(\"G\", \"H\", \"0\")\n",
    "\n",
    "oneonezero"
   ]
  },
  {
   "cell_type": "code",
   "execution_count": 32,
   "metadata": {},
   "outputs": [
    {
     "data": {
      "image/svg+xml": [
       "<?xml version=\"1.0\" encoding=\"UTF-8\" standalone=\"no\"?>\n",
       "<!DOCTYPE svg PUBLIC \"-//W3C//DTD SVG 1.1//EN\"\n",
       " \"http://www.w3.org/Graphics/SVG/1.1/DTD/svg11.dtd\">\n",
       "<!-- Generated by graphviz version 2.40.1 (20161225.0304)\n",
       " -->\n",
       "<!-- Title: %3 Pages: 1 -->\n",
       "<svg width=\"62pt\" height=\"378pt\"\n",
       " viewBox=\"0.00 0.00 62.00 378.00\" xmlns=\"http://www.w3.org/2000/svg\" xmlns:xlink=\"http://www.w3.org/1999/xlink\">\n",
       "<g id=\"graph0\" class=\"graph\" transform=\"scale(1 1) rotate(0) translate(4 374)\">\n",
       "<title>%3</title>\n",
       "<polygon fill=\"#ffffff\" stroke=\"transparent\" points=\"-4,4 -4,-374 58,-374 58,4 -4,4\"/>\n",
       "<!-- I -->\n",
       "<g id=\"node2\" class=\"node\">\n",
       "<title>I</title>\n",
       "<ellipse fill=\"none\" stroke=\"#000000\" stroke-width=\"2\" cx=\"27\" cy=\"-279\" rx=\"27\" ry=\"18\"/>\n",
       "<text text-anchor=\"middle\" x=\"27\" y=\"-275.3\" font-family=\"Times,serif\" font-size=\"14.00\" fill=\"#000000\">I</text>\n",
       "</g>\n",
       "<!-- &#45;&gt;I -->\n",
       "<g id=\"edge1\" class=\"edge\">\n",
       "<title>&#45;&gt;I</title>\n",
       "<path fill=\"none\" stroke=\"#000000\" d=\"M27,-333.9551C27,-325.8828 27,-316.1764 27,-307.1817\"/>\n",
       "<polygon fill=\"#000000\" stroke=\"#000000\" points=\"30.5001,-307.0903 27,-297.0904 23.5001,-307.0904 30.5001,-307.0903\"/>\n",
       "</g>\n",
       "<!-- J -->\n",
       "<g id=\"node3\" class=\"node\">\n",
       "<title>J</title>\n",
       "<ellipse fill=\"none\" stroke=\"#000000\" cx=\"27\" cy=\"-192\" rx=\"27\" ry=\"18\"/>\n",
       "<text text-anchor=\"middle\" x=\"27\" y=\"-188.3\" font-family=\"Times,serif\" font-size=\"14.00\" fill=\"#000000\">J</text>\n",
       "</g>\n",
       "<!-- I&#45;&gt;J -->\n",
       "<g id=\"edge2\" class=\"edge\">\n",
       "<title>I&#45;&gt;J</title>\n",
       "<path fill=\"none\" stroke=\"#000000\" d=\"M27,-260.9735C27,-249.1918 27,-233.5607 27,-220.1581\"/>\n",
       "<polygon fill=\"#000000\" stroke=\"#000000\" points=\"30.5001,-220.0033 27,-210.0034 23.5001,-220.0034 30.5001,-220.0033\"/>\n",
       "<text text-anchor=\"middle\" x=\"34.5\" y=\"-231.8\" font-family=\"Times,serif\" font-size=\"14.00\" fill=\"#000000\"> &#160;1</text>\n",
       "</g>\n",
       "<!-- K -->\n",
       "<g id=\"node4\" class=\"node\">\n",
       "<title>K</title>\n",
       "<ellipse fill=\"none\" stroke=\"#000000\" cx=\"27\" cy=\"-105\" rx=\"27\" ry=\"18\"/>\n",
       "<text text-anchor=\"middle\" x=\"27\" y=\"-101.3\" font-family=\"Times,serif\" font-size=\"14.00\" fill=\"#000000\">K</text>\n",
       "</g>\n",
       "<!-- J&#45;&gt;K -->\n",
       "<g id=\"edge3\" class=\"edge\">\n",
       "<title>J&#45;&gt;K</title>\n",
       "<path fill=\"none\" stroke=\"#000000\" d=\"M27,-173.9735C27,-162.1918 27,-146.5607 27,-133.1581\"/>\n",
       "<polygon fill=\"#000000\" stroke=\"#000000\" points=\"30.5001,-133.0033 27,-123.0034 23.5001,-133.0034 30.5001,-133.0033\"/>\n",
       "<text text-anchor=\"middle\" x=\"34.5\" y=\"-144.8\" font-family=\"Times,serif\" font-size=\"14.00\" fill=\"#000000\"> &#160;1</text>\n",
       "</g>\n",
       "<!-- L -->\n",
       "<g id=\"node5\" class=\"node\">\n",
       "<title>L</title>\n",
       "<ellipse fill=\"none\" stroke=\"#000000\" stroke-dasharray=\"5,2\" cx=\"27\" cy=\"-18\" rx=\"27\" ry=\"18\"/>\n",
       "<text text-anchor=\"middle\" x=\"27\" y=\"-14.3\" font-family=\"Times,serif\" font-size=\"14.00\" fill=\"#000000\">L</text>\n",
       "</g>\n",
       "<!-- K&#45;&gt;L -->\n",
       "<g id=\"edge4\" class=\"edge\">\n",
       "<title>K&#45;&gt;L</title>\n",
       "<path fill=\"none\" stroke=\"#000000\" d=\"M27,-86.9735C27,-75.1918 27,-59.5607 27,-46.1581\"/>\n",
       "<polygon fill=\"#000000\" stroke=\"#000000\" points=\"30.5001,-46.0033 27,-36.0034 23.5001,-46.0034 30.5001,-46.0033\"/>\n",
       "<text text-anchor=\"middle\" x=\"34.5\" y=\"-57.8\" font-family=\"Times,serif\" font-size=\"14.00\" fill=\"#000000\"> &#160;0</text>\n",
       "</g>\n",
       "</g>\n",
       "</svg>\n"
      ],
      "text/plain": [
       "<__main__.automata at 0x7ff7f0057dd8>"
      ]
     },
     "execution_count": 32,
     "metadata": {},
     "output_type": "execute_result"
    }
   ],
   "source": [
    "oneoneone = automata([\"I\", \"J\", \"K\", \"L\"], [\"0\", \"1\"], \"I\", [\"L\"])\n",
    "oneoneone.edge(\"I\", \"J\", \"1\")\n",
    "oneoneone.edge(\"J\", \"K\", \"1\")\n",
    "oneoneone.edge(\"K\", \"L\", \"0\")\n",
    "\n",
    "oneoneone"
   ]
  },
  {
   "cell_type": "code",
   "execution_count": 33,
   "metadata": {},
   "outputs": [
    {
     "data": {
      "image/svg+xml": [
       "<?xml version=\"1.0\" encoding=\"UTF-8\" standalone=\"no\"?>\n",
       "<!DOCTYPE svg PUBLIC \"-//W3C//DTD SVG 1.1//EN\"\n",
       " \"http://www.w3.org/Graphics/SVG/1.1/DTD/svg11.dtd\">\n",
       "<!-- Generated by graphviz version 2.40.1 (20161225.0304)\n",
       " -->\n",
       "<!-- Title: %3 Pages: 1 -->\n",
       "<svg width=\"134pt\" height=\"465pt\"\n",
       " viewBox=\"0.00 0.00 134.00 465.00\" xmlns=\"http://www.w3.org/2000/svg\" xmlns:xlink=\"http://www.w3.org/1999/xlink\">\n",
       "<g id=\"graph0\" class=\"graph\" transform=\"scale(1 1) rotate(0) translate(4 461)\">\n",
       "<title>%3</title>\n",
       "<polygon fill=\"#ffffff\" stroke=\"transparent\" points=\"-4,4 -4,-461 130,-461 130,4 -4,4\"/>\n",
       "<!-- E0 -->\n",
       "<g id=\"node1\" class=\"node\">\n",
       "<title>E0</title>\n",
       "<ellipse fill=\"none\" stroke=\"#000000\" cx=\"27\" cy=\"-279\" rx=\"27\" ry=\"18\"/>\n",
       "<text text-anchor=\"middle\" x=\"27\" y=\"-275.3\" font-family=\"Times,serif\" font-size=\"14.00\" fill=\"#000000\">E0</text>\n",
       "</g>\n",
       "<!-- F0 -->\n",
       "<g id=\"node2\" class=\"node\">\n",
       "<title>F0</title>\n",
       "<ellipse fill=\"none\" stroke=\"#000000\" cx=\"27\" cy=\"-192\" rx=\"27\" ry=\"18\"/>\n",
       "<text text-anchor=\"middle\" x=\"27\" y=\"-188.3\" font-family=\"Times,serif\" font-size=\"14.00\" fill=\"#000000\">F0</text>\n",
       "</g>\n",
       "<!-- E0&#45;&gt;F0 -->\n",
       "<g id=\"edge2\" class=\"edge\">\n",
       "<title>E0&#45;&gt;F0</title>\n",
       "<path fill=\"none\" stroke=\"#000000\" d=\"M27,-260.9735C27,-249.1918 27,-233.5607 27,-220.1581\"/>\n",
       "<polygon fill=\"#000000\" stroke=\"#000000\" points=\"30.5001,-220.0033 27,-210.0034 23.5001,-220.0034 30.5001,-220.0033\"/>\n",
       "<text text-anchor=\"middle\" x=\"34.5\" y=\"-231.8\" font-family=\"Times,serif\" font-size=\"14.00\" fill=\"#000000\"> &#160;1</text>\n",
       "</g>\n",
       "<!-- G0 -->\n",
       "<g id=\"node3\" class=\"node\">\n",
       "<title>G0</title>\n",
       "<ellipse fill=\"none\" stroke=\"#000000\" cx=\"27\" cy=\"-105\" rx=\"27\" ry=\"18\"/>\n",
       "<text text-anchor=\"middle\" x=\"27\" y=\"-101.3\" font-family=\"Times,serif\" font-size=\"14.00\" fill=\"#000000\">G0</text>\n",
       "</g>\n",
       "<!-- F0&#45;&gt;G0 -->\n",
       "<g id=\"edge3\" class=\"edge\">\n",
       "<title>F0&#45;&gt;G0</title>\n",
       "<path fill=\"none\" stroke=\"#000000\" d=\"M27,-173.9735C27,-162.1918 27,-146.5607 27,-133.1581\"/>\n",
       "<polygon fill=\"#000000\" stroke=\"#000000\" points=\"30.5001,-133.0033 27,-123.0034 23.5001,-133.0034 30.5001,-133.0033\"/>\n",
       "<text text-anchor=\"middle\" x=\"34.5\" y=\"-144.8\" font-family=\"Times,serif\" font-size=\"14.00\" fill=\"#000000\"> &#160;1</text>\n",
       "</g>\n",
       "<!-- H0 -->\n",
       "<g id=\"node4\" class=\"node\">\n",
       "<title>H0</title>\n",
       "<ellipse fill=\"none\" stroke=\"#000000\" stroke-dasharray=\"5,2\" cx=\"27\" cy=\"-18\" rx=\"27\" ry=\"18\"/>\n",
       "<text text-anchor=\"middle\" x=\"27\" y=\"-14.3\" font-family=\"Times,serif\" font-size=\"14.00\" fill=\"#000000\">H0</text>\n",
       "</g>\n",
       "<!-- G0&#45;&gt;H0 -->\n",
       "<g id=\"edge4\" class=\"edge\">\n",
       "<title>G0&#45;&gt;H0</title>\n",
       "<path fill=\"none\" stroke=\"#000000\" d=\"M27,-86.9735C27,-75.1918 27,-59.5607 27,-46.1581\"/>\n",
       "<polygon fill=\"#000000\" stroke=\"#000000\" points=\"30.5001,-46.0033 27,-36.0034 23.5001,-46.0034 30.5001,-46.0033\"/>\n",
       "<text text-anchor=\"middle\" x=\"34.5\" y=\"-57.8\" font-family=\"Times,serif\" font-size=\"14.00\" fill=\"#000000\"> &#160;0</text>\n",
       "</g>\n",
       "<!-- I1 -->\n",
       "<g id=\"node5\" class=\"node\">\n",
       "<title>I1</title>\n",
       "<ellipse fill=\"none\" stroke=\"#000000\" cx=\"99\" cy=\"-279\" rx=\"27\" ry=\"18\"/>\n",
       "<text text-anchor=\"middle\" x=\"99\" y=\"-275.3\" font-family=\"Times,serif\" font-size=\"14.00\" fill=\"#000000\">I1</text>\n",
       "</g>\n",
       "<!-- J1 -->\n",
       "<g id=\"node6\" class=\"node\">\n",
       "<title>J1</title>\n",
       "<ellipse fill=\"none\" stroke=\"#000000\" cx=\"99\" cy=\"-192\" rx=\"27\" ry=\"18\"/>\n",
       "<text text-anchor=\"middle\" x=\"99\" y=\"-188.3\" font-family=\"Times,serif\" font-size=\"14.00\" fill=\"#000000\">J1</text>\n",
       "</g>\n",
       "<!-- I1&#45;&gt;J1 -->\n",
       "<g id=\"edge5\" class=\"edge\">\n",
       "<title>I1&#45;&gt;J1</title>\n",
       "<path fill=\"none\" stroke=\"#000000\" d=\"M99,-260.9735C99,-249.1918 99,-233.5607 99,-220.1581\"/>\n",
       "<polygon fill=\"#000000\" stroke=\"#000000\" points=\"102.5001,-220.0033 99,-210.0034 95.5001,-220.0034 102.5001,-220.0033\"/>\n",
       "<text text-anchor=\"middle\" x=\"106.5\" y=\"-231.8\" font-family=\"Times,serif\" font-size=\"14.00\" fill=\"#000000\"> &#160;1</text>\n",
       "</g>\n",
       "<!-- K1 -->\n",
       "<g id=\"node7\" class=\"node\">\n",
       "<title>K1</title>\n",
       "<ellipse fill=\"none\" stroke=\"#000000\" cx=\"99\" cy=\"-105\" rx=\"27\" ry=\"18\"/>\n",
       "<text text-anchor=\"middle\" x=\"99\" y=\"-101.3\" font-family=\"Times,serif\" font-size=\"14.00\" fill=\"#000000\">K1</text>\n",
       "</g>\n",
       "<!-- J1&#45;&gt;K1 -->\n",
       "<g id=\"edge6\" class=\"edge\">\n",
       "<title>J1&#45;&gt;K1</title>\n",
       "<path fill=\"none\" stroke=\"#000000\" d=\"M99,-173.9735C99,-162.1918 99,-146.5607 99,-133.1581\"/>\n",
       "<polygon fill=\"#000000\" stroke=\"#000000\" points=\"102.5001,-133.0033 99,-123.0034 95.5001,-133.0034 102.5001,-133.0033\"/>\n",
       "<text text-anchor=\"middle\" x=\"106.5\" y=\"-144.8\" font-family=\"Times,serif\" font-size=\"14.00\" fill=\"#000000\"> &#160;1</text>\n",
       "</g>\n",
       "<!-- L1 -->\n",
       "<g id=\"node8\" class=\"node\">\n",
       "<title>L1</title>\n",
       "<ellipse fill=\"none\" stroke=\"#000000\" stroke-dasharray=\"5,2\" cx=\"99\" cy=\"-18\" rx=\"27\" ry=\"18\"/>\n",
       "<text text-anchor=\"middle\" x=\"99\" y=\"-14.3\" font-family=\"Times,serif\" font-size=\"14.00\" fill=\"#000000\">L1</text>\n",
       "</g>\n",
       "<!-- K1&#45;&gt;L1 -->\n",
       "<g id=\"edge7\" class=\"edge\">\n",
       "<title>K1&#45;&gt;L1</title>\n",
       "<path fill=\"none\" stroke=\"#000000\" d=\"M99,-86.9735C99,-75.1918 99,-59.5607 99,-46.1581\"/>\n",
       "<polygon fill=\"#000000\" stroke=\"#000000\" points=\"102.5001,-46.0033 99,-36.0034 95.5001,-46.0034 102.5001,-46.0033\"/>\n",
       "<text text-anchor=\"middle\" x=\"106.5\" y=\"-57.8\" font-family=\"Times,serif\" font-size=\"14.00\" fill=\"#000000\"> &#160;0</text>\n",
       "</g>\n",
       "<!-- start -->\n",
       "<g id=\"node10\" class=\"node\">\n",
       "<title>start</title>\n",
       "<ellipse fill=\"none\" stroke=\"#000000\" stroke-width=\"2\" cx=\"63\" cy=\"-366\" rx=\"27\" ry=\"18\"/>\n",
       "<text text-anchor=\"middle\" x=\"63\" y=\"-362.3\" font-family=\"Times,serif\" font-size=\"14.00\" fill=\"#000000\">start</text>\n",
       "</g>\n",
       "<!-- &#45;&gt;start -->\n",
       "<g id=\"edge1\" class=\"edge\">\n",
       "<title>&#45;&gt;start</title>\n",
       "<path fill=\"none\" stroke=\"#000000\" d=\"M63,-420.9551C63,-412.8828 63,-403.1764 63,-394.1817\"/>\n",
       "<polygon fill=\"#000000\" stroke=\"#000000\" points=\"66.5001,-394.0903 63,-384.0904 59.5001,-394.0904 66.5001,-394.0903\"/>\n",
       "</g>\n",
       "<!-- start&#45;&gt;E0 -->\n",
       "<g id=\"edge8\" class=\"edge\">\n",
       "<title>start&#45;&gt;E0</title>\n",
       "<path fill=\"none\" stroke=\"#000000\" d=\"M55.7149,-348.3943C50.6889,-336.2482 43.9107,-319.8674 38.2018,-306.0711\"/>\n",
       "<polygon fill=\"#000000\" stroke=\"#000000\" points=\"41.3319,-304.4815 34.2743,-296.5796 34.8638,-307.158 41.3319,-304.4815\"/>\n",
       "<text text-anchor=\"middle\" x=\"51.5\" y=\"-318.8\" font-family=\"Times,serif\" font-size=\"14.00\" fill=\"#000000\">ε</text>\n",
       "</g>\n",
       "<!-- start&#45;&gt;I1 -->\n",
       "<g id=\"edge9\" class=\"edge\">\n",
       "<title>start&#45;&gt;I1</title>\n",
       "<path fill=\"none\" stroke=\"#000000\" d=\"M70.2851,-348.3943C75.3111,-336.2482 82.0893,-319.8674 87.7982,-306.0711\"/>\n",
       "<polygon fill=\"#000000\" stroke=\"#000000\" points=\"91.1362,-307.158 91.7257,-296.5796 84.6681,-304.4815 91.1362,-307.158\"/>\n",
       "<text text-anchor=\"middle\" x=\"86.5\" y=\"-318.8\" font-family=\"Times,serif\" font-size=\"14.00\" fill=\"#000000\">ε</text>\n",
       "</g>\n",
       "</g>\n",
       "</svg>\n"
      ],
      "text/plain": [
       "<__main__.automata at 0x7ff7f0057358>"
      ]
     },
     "execution_count": 33,
     "metadata": {},
     "output_type": "execute_result"
    }
   ],
   "source": [
    "substring = automata.from_union([oneonezero, oneoneone])\n",
    "\n",
    "substring\n"
   ]
  },
  {
   "cell_type": "code",
   "execution_count": 34,
   "metadata": {},
   "outputs": [
    {
     "data": {
      "image/svg+xml": [
       "<?xml version=\"1.0\" encoding=\"UTF-8\" standalone=\"no\"?>\n",
       "<!DOCTYPE svg PUBLIC \"-//W3C//DTD SVG 1.1//EN\"\n",
       " \"http://www.w3.org/Graphics/SVG/1.1/DTD/svg11.dtd\">\n",
       "<!-- Generated by graphviz version 2.40.1 (20161225.0304)\n",
       " -->\n",
       "<!-- Title: %3 Pages: 1 -->\n",
       "<svg width=\"302pt\" height=\"740pt\"\n",
       " viewBox=\"0.00 0.00 302.00 740.00\" xmlns=\"http://www.w3.org/2000/svg\" xmlns:xlink=\"http://www.w3.org/1999/xlink\">\n",
       "<g id=\"graph0\" class=\"graph\" transform=\"scale(1 1) rotate(0) translate(4 736)\">\n",
       "<title>%3</title>\n",
       "<polygon fill=\"#ffffff\" stroke=\"transparent\" points=\"-4,4 -4,-736 298,-736 298,4 -4,4\"/>\n",
       "<!-- B0 -->\n",
       "<g id=\"node1\" class=\"node\">\n",
       "<title>B0</title>\n",
       "<ellipse fill=\"none\" stroke=\"#000000\" stroke-dasharray=\"5,2\" cx=\"101\" cy=\"-714\" rx=\"27\" ry=\"18\"/>\n",
       "<text text-anchor=\"middle\" x=\"101\" y=\"-710.3\" font-family=\"Times,serif\" font-size=\"14.00\" fill=\"#000000\">B0</text>\n",
       "</g>\n",
       "<!-- start1 -->\n",
       "<g id=\"node11\" class=\"node\">\n",
       "<title>start1</title>\n",
       "<ellipse fill=\"none\" stroke=\"#000000\" cx=\"63\" cy=\"-627\" rx=\"30.5947\" ry=\"18\"/>\n",
       "<text text-anchor=\"middle\" x=\"63\" y=\"-623.3\" font-family=\"Times,serif\" font-size=\"14.00\" fill=\"#000000\">start1</text>\n",
       "</g>\n",
       "<!-- B0&#45;&gt;start1 -->\n",
       "<g id=\"edge15\" class=\"edge\">\n",
       "<title>B0&#45;&gt;start1</title>\n",
       "<path fill=\"none\" stroke=\"#000000\" d=\"M87.9844,-697.8991C83.6662,-691.9293 79.1602,-684.922 76,-678 72.7127,-670.7997 70.1616,-662.6328 68.2249,-654.9778\"/>\n",
       "<polygon fill=\"#000000\" stroke=\"#000000\" points=\"71.585,-653.9695 65.9533,-644.9954 64.7595,-655.5228 71.585,-653.9695\"/>\n",
       "<text text-anchor=\"middle\" x=\"83.5\" y=\"-666.8\" font-family=\"Times,serif\" font-size=\"14.00\" fill=\"#000000\"> &#160;ε</text>\n",
       "</g>\n",
       "<!-- A0 -->\n",
       "<g id=\"node14\" class=\"node\">\n",
       "<title>A0</title>\n",
       "<ellipse fill=\"none\" stroke=\"#000000\" cx=\"139\" cy=\"-627\" rx=\"27\" ry=\"18\"/>\n",
       "<text text-anchor=\"middle\" x=\"139\" y=\"-623.3\" font-family=\"Times,serif\" font-size=\"14.00\" fill=\"#000000\">A0</text>\n",
       "</g>\n",
       "<!-- B0&#45;&gt;A0 -->\n",
       "<g id=\"edge2\" class=\"edge\">\n",
       "<title>B0&#45;&gt;A0</title>\n",
       "<path fill=\"none\" stroke=\"#000000\" d=\"M95.9883,-696.2568C94.0677,-686.0924 93.3177,-673.3424 98,-663 100.9398,-656.5064 105.6939,-650.7198 110.9417,-645.7856\"/>\n",
       "<polygon fill=\"#000000\" stroke=\"#000000\" points=\"113.4078,-648.2857 118.8297,-639.1833 108.9148,-642.9179 113.4078,-648.2857\"/>\n",
       "<text text-anchor=\"middle\" x=\"105.5\" y=\"-666.8\" font-family=\"Times,serif\" font-size=\"14.00\" fill=\"#000000\"> &#160;ε</text>\n",
       "</g>\n",
       "<!-- start0 -->\n",
       "<g id=\"node3\" class=\"node\">\n",
       "<title>start0</title>\n",
       "<ellipse fill=\"none\" stroke=\"#000000\" stroke-width=\"2\" cx=\"191\" cy=\"-714\" rx=\"30.5947\" ry=\"18\"/>\n",
       "<text text-anchor=\"middle\" x=\"191\" y=\"-710.3\" font-family=\"Times,serif\" font-size=\"14.00\" fill=\"#000000\">start0</text>\n",
       "</g>\n",
       "<!-- start0&#45;&gt;A0 -->\n",
       "<g id=\"edge3\" class=\"edge\">\n",
       "<title>start0&#45;&gt;A0</title>\n",
       "<path fill=\"none\" stroke=\"#000000\" d=\"M180.7265,-696.8116C173.1997,-684.2187 162.8563,-666.9135 154.351,-652.6834\"/>\n",
       "<polygon fill=\"#000000\" stroke=\"#000000\" points=\"157.21,-650.6446 149.0752,-643.8567 151.2015,-654.236 157.21,-650.6446\"/>\n",
       "<text text-anchor=\"middle\" x=\"175.5\" y=\"-666.8\" font-family=\"Times,serif\" font-size=\"14.00\" fill=\"#000000\"> &#160;ε</text>\n",
       "</g>\n",
       "<!-- F01 -->\n",
       "<g id=\"node4\" class=\"node\">\n",
       "<title>F01</title>\n",
       "<ellipse fill=\"none\" stroke=\"#000000\" cx=\"99\" cy=\"-453\" rx=\"27\" ry=\"18\"/>\n",
       "<text text-anchor=\"middle\" x=\"99\" y=\"-449.3\" font-family=\"Times,serif\" font-size=\"14.00\" fill=\"#000000\">F01</text>\n",
       "</g>\n",
       "<!-- G01 -->\n",
       "<g id=\"node5\" class=\"node\">\n",
       "<title>G01</title>\n",
       "<ellipse fill=\"none\" stroke=\"#000000\" cx=\"99\" cy=\"-366\" rx=\"27\" ry=\"18\"/>\n",
       "<text text-anchor=\"middle\" x=\"99\" y=\"-362.3\" font-family=\"Times,serif\" font-size=\"14.00\" fill=\"#000000\">G01</text>\n",
       "</g>\n",
       "<!-- F01&#45;&gt;G01 -->\n",
       "<g id=\"edge5\" class=\"edge\">\n",
       "<title>F01&#45;&gt;G01</title>\n",
       "<path fill=\"none\" stroke=\"#000000\" d=\"M99,-434.9735C99,-423.1918 99,-407.5607 99,-394.1581\"/>\n",
       "<polygon fill=\"#000000\" stroke=\"#000000\" points=\"102.5001,-394.0033 99,-384.0034 95.5001,-394.0034 102.5001,-394.0033\"/>\n",
       "<text text-anchor=\"middle\" x=\"106.5\" y=\"-405.8\" font-family=\"Times,serif\" font-size=\"14.00\" fill=\"#000000\"> &#160;1</text>\n",
       "</g>\n",
       "<!-- H01 -->\n",
       "<g id=\"node6\" class=\"node\">\n",
       "<title>H01</title>\n",
       "<ellipse fill=\"none\" stroke=\"#000000\" stroke-dasharray=\"5,2\" cx=\"99\" cy=\"-279\" rx=\"27\" ry=\"18\"/>\n",
       "<text text-anchor=\"middle\" x=\"99\" y=\"-275.3\" font-family=\"Times,serif\" font-size=\"14.00\" fill=\"#000000\">H01</text>\n",
       "</g>\n",
       "<!-- G01&#45;&gt;H01 -->\n",
       "<g id=\"edge6\" class=\"edge\">\n",
       "<title>G01&#45;&gt;H01</title>\n",
       "<path fill=\"none\" stroke=\"#000000\" d=\"M99,-347.9735C99,-336.1918 99,-320.5607 99,-307.1581\"/>\n",
       "<polygon fill=\"#000000\" stroke=\"#000000\" points=\"102.5001,-307.0033 99,-297.0034 95.5001,-307.0034 102.5001,-307.0033\"/>\n",
       "<text text-anchor=\"middle\" x=\"106.5\" y=\"-318.8\" font-family=\"Times,serif\" font-size=\"14.00\" fill=\"#000000\"> &#160;0</text>\n",
       "</g>\n",
       "<!-- start2 -->\n",
       "<g id=\"node13\" class=\"node\">\n",
       "<title>start2</title>\n",
       "<ellipse fill=\"none\" stroke=\"#000000\" cx=\"63\" cy=\"-192\" rx=\"30.5947\" ry=\"18\"/>\n",
       "<text text-anchor=\"middle\" x=\"63\" y=\"-188.3\" font-family=\"Times,serif\" font-size=\"14.00\" fill=\"#000000\">start2</text>\n",
       "</g>\n",
       "<!-- H01&#45;&gt;start2 -->\n",
       "<g id=\"edge16\" class=\"edge\">\n",
       "<title>H01&#45;&gt;start2</title>\n",
       "<path fill=\"none\" stroke=\"#000000\" d=\"M91.7149,-261.3943C86.6889,-249.2482 79.9107,-232.8674 74.2018,-219.0711\"/>\n",
       "<polygon fill=\"#000000\" stroke=\"#000000\" points=\"77.3319,-217.4815 70.2743,-209.5796 70.8638,-220.158 77.3319,-217.4815\"/>\n",
       "<text text-anchor=\"middle\" x=\"91.5\" y=\"-231.8\" font-family=\"Times,serif\" font-size=\"14.00\" fill=\"#000000\"> &#160;ε</text>\n",
       "</g>\n",
       "<!-- I11 -->\n",
       "<g id=\"node7\" class=\"node\">\n",
       "<title>I11</title>\n",
       "<ellipse fill=\"none\" stroke=\"#000000\" cx=\"27\" cy=\"-540\" rx=\"27\" ry=\"18\"/>\n",
       "<text text-anchor=\"middle\" x=\"27\" y=\"-536.3\" font-family=\"Times,serif\" font-size=\"14.00\" fill=\"#000000\">I11</text>\n",
       "</g>\n",
       "<!-- J11 -->\n",
       "<g id=\"node8\" class=\"node\">\n",
       "<title>J11</title>\n",
       "<ellipse fill=\"none\" stroke=\"#000000\" cx=\"27\" cy=\"-453\" rx=\"27\" ry=\"18\"/>\n",
       "<text text-anchor=\"middle\" x=\"27\" y=\"-449.3\" font-family=\"Times,serif\" font-size=\"14.00\" fill=\"#000000\">J11</text>\n",
       "</g>\n",
       "<!-- I11&#45;&gt;J11 -->\n",
       "<g id=\"edge7\" class=\"edge\">\n",
       "<title>I11&#45;&gt;J11</title>\n",
       "<path fill=\"none\" stroke=\"#000000\" d=\"M27,-521.9735C27,-510.1918 27,-494.5607 27,-481.1581\"/>\n",
       "<polygon fill=\"#000000\" stroke=\"#000000\" points=\"30.5001,-481.0033 27,-471.0034 23.5001,-481.0034 30.5001,-481.0033\"/>\n",
       "<text text-anchor=\"middle\" x=\"34.5\" y=\"-492.8\" font-family=\"Times,serif\" font-size=\"14.00\" fill=\"#000000\"> &#160;1</text>\n",
       "</g>\n",
       "<!-- K11 -->\n",
       "<g id=\"node9\" class=\"node\">\n",
       "<title>K11</title>\n",
       "<ellipse fill=\"none\" stroke=\"#000000\" cx=\"27\" cy=\"-366\" rx=\"27\" ry=\"18\"/>\n",
       "<text text-anchor=\"middle\" x=\"27\" y=\"-362.3\" font-family=\"Times,serif\" font-size=\"14.00\" fill=\"#000000\">K11</text>\n",
       "</g>\n",
       "<!-- J11&#45;&gt;K11 -->\n",
       "<g id=\"edge8\" class=\"edge\">\n",
       "<title>J11&#45;&gt;K11</title>\n",
       "<path fill=\"none\" stroke=\"#000000\" d=\"M27,-434.9735C27,-423.1918 27,-407.5607 27,-394.1581\"/>\n",
       "<polygon fill=\"#000000\" stroke=\"#000000\" points=\"30.5001,-394.0033 27,-384.0034 23.5001,-394.0034 30.5001,-394.0033\"/>\n",
       "<text text-anchor=\"middle\" x=\"34.5\" y=\"-405.8\" font-family=\"Times,serif\" font-size=\"14.00\" fill=\"#000000\"> &#160;1</text>\n",
       "</g>\n",
       "<!-- L11 -->\n",
       "<g id=\"node10\" class=\"node\">\n",
       "<title>L11</title>\n",
       "<ellipse fill=\"none\" stroke=\"#000000\" stroke-dasharray=\"5,2\" cx=\"27\" cy=\"-279\" rx=\"27\" ry=\"18\"/>\n",
       "<text text-anchor=\"middle\" x=\"27\" y=\"-275.3\" font-family=\"Times,serif\" font-size=\"14.00\" fill=\"#000000\">L11</text>\n",
       "</g>\n",
       "<!-- K11&#45;&gt;L11 -->\n",
       "<g id=\"edge9\" class=\"edge\">\n",
       "<title>K11&#45;&gt;L11</title>\n",
       "<path fill=\"none\" stroke=\"#000000\" d=\"M27,-347.9735C27,-336.1918 27,-320.5607 27,-307.1581\"/>\n",
       "<polygon fill=\"#000000\" stroke=\"#000000\" points=\"30.5001,-307.0033 27,-297.0034 23.5001,-307.0034 30.5001,-307.0033\"/>\n",
       "<text text-anchor=\"middle\" x=\"34.5\" y=\"-318.8\" font-family=\"Times,serif\" font-size=\"14.00\" fill=\"#000000\"> &#160;0</text>\n",
       "</g>\n",
       "<!-- L11&#45;&gt;start2 -->\n",
       "<g id=\"edge17\" class=\"edge\">\n",
       "<title>L11&#45;&gt;start2</title>\n",
       "<path fill=\"none\" stroke=\"#000000\" d=\"M34.2851,-261.3943C39.3111,-249.2482 46.0893,-232.8674 51.7982,-219.0711\"/>\n",
       "<polygon fill=\"#000000\" stroke=\"#000000\" points=\"55.1362,-220.158 55.7257,-209.5796 48.6681,-217.4815 55.1362,-220.158\"/>\n",
       "<text text-anchor=\"middle\" x=\"55.5\" y=\"-231.8\" font-family=\"Times,serif\" font-size=\"14.00\" fill=\"#000000\"> &#160;ε</text>\n",
       "</g>\n",
       "<!-- start1&#45;&gt;I11 -->\n",
       "<g id=\"edge11\" class=\"edge\">\n",
       "<title>start1&#45;&gt;I11</title>\n",
       "<path fill=\"none\" stroke=\"#000000\" d=\"M55.7149,-609.3943C50.6889,-597.2482 43.9107,-580.8674 38.2018,-567.0711\"/>\n",
       "<polygon fill=\"#000000\" stroke=\"#000000\" points=\"41.3319,-565.4815 34.2743,-557.5796 34.8638,-568.158 41.3319,-565.4815\"/>\n",
       "<text text-anchor=\"middle\" x=\"51.5\" y=\"-579.8\" font-family=\"Times,serif\" font-size=\"14.00\" fill=\"#000000\">ε</text>\n",
       "</g>\n",
       "<!-- E01 -->\n",
       "<g id=\"node15\" class=\"node\">\n",
       "<title>E01</title>\n",
       "<ellipse fill=\"none\" stroke=\"#000000\" cx=\"99\" cy=\"-540\" rx=\"27\" ry=\"18\"/>\n",
       "<text text-anchor=\"middle\" x=\"99\" y=\"-536.3\" font-family=\"Times,serif\" font-size=\"14.00\" fill=\"#000000\">E01</text>\n",
       "</g>\n",
       "<!-- start1&#45;&gt;E01 -->\n",
       "<g id=\"edge10\" class=\"edge\">\n",
       "<title>start1&#45;&gt;E01</title>\n",
       "<path fill=\"none\" stroke=\"#000000\" d=\"M70.2851,-609.3943C75.3111,-597.2482 82.0893,-580.8674 87.7982,-567.0711\"/>\n",
       "<polygon fill=\"#000000\" stroke=\"#000000\" points=\"91.1362,-568.158 91.7257,-557.5796 84.6681,-565.4815 91.1362,-568.158\"/>\n",
       "<text text-anchor=\"middle\" x=\"87.5\" y=\"-579.8\" font-family=\"Times,serif\" font-size=\"14.00\" fill=\"#000000\">ε</text>\n",
       "</g>\n",
       "<!-- B2 -->\n",
       "<g id=\"node12\" class=\"node\">\n",
       "<title>B2</title>\n",
       "<ellipse fill=\"none\" stroke=\"#000000\" stroke-dasharray=\"5,2\" cx=\"63\" cy=\"-18\" rx=\"27\" ry=\"18\"/>\n",
       "<text text-anchor=\"middle\" x=\"63\" y=\"-14.3\" font-family=\"Times,serif\" font-size=\"14.00\" fill=\"#000000\">B2</text>\n",
       "</g>\n",
       "<!-- A2 -->\n",
       "<g id=\"node16\" class=\"node\">\n",
       "<title>A2</title>\n",
       "<ellipse fill=\"none\" stroke=\"#000000\" cx=\"63\" cy=\"-105\" rx=\"27\" ry=\"18\"/>\n",
       "<text text-anchor=\"middle\" x=\"63\" y=\"-101.3\" font-family=\"Times,serif\" font-size=\"14.00\" fill=\"#000000\">A2</text>\n",
       "</g>\n",
       "<!-- B2&#45;&gt;A2 -->\n",
       "<g id=\"edge13\" class=\"edge\">\n",
       "<title>B2&#45;&gt;A2</title>\n",
       "<path fill=\"none\" stroke=\"#000000\" d=\"M65.5795,-35.9244C66.6896,-45.6948 67.609,-58.004 67,-69 66.865,-71.437 66.679,-73.9625 66.4606,-76.4937\"/>\n",
       "<polygon fill=\"#000000\" stroke=\"#000000\" points=\"62.9506,-76.4174 65.4276,-86.7185 69.9151,-77.121 62.9506,-76.4174\"/>\n",
       "<text text-anchor=\"middle\" x=\"75.5\" y=\"-57.8\" font-family=\"Times,serif\" font-size=\"14.00\" fill=\"#000000\"> &#160;ε</text>\n",
       "</g>\n",
       "<!-- start2&#45;&gt;A2 -->\n",
       "<g id=\"edge14\" class=\"edge\">\n",
       "<title>start2&#45;&gt;A2</title>\n",
       "<path fill=\"none\" stroke=\"#000000\" d=\"M63,-173.9735C63,-162.1918 63,-146.5607 63,-133.1581\"/>\n",
       "<polygon fill=\"#000000\" stroke=\"#000000\" points=\"66.5001,-133.0033 63,-123.0034 59.5001,-133.0034 66.5001,-133.0033\"/>\n",
       "<text text-anchor=\"middle\" x=\"70.5\" y=\"-144.8\" font-family=\"Times,serif\" font-size=\"14.00\" fill=\"#000000\"> &#160;ε</text>\n",
       "</g>\n",
       "<!-- A0&#45;&gt;B0 -->\n",
       "<g id=\"edge1\" class=\"edge\">\n",
       "<title>A0&#45;&gt;B0</title>\n",
       "<path fill=\"none\" stroke=\"#000000\" d=\"M131.5125,-644.4875C127.2792,-654.3417 121.8736,-666.8703 117,-678 115.6831,-681.0073 114.2976,-684.1524 112.9154,-687.2781\"/>\n",
       "<polygon fill=\"#000000\" stroke=\"#000000\" points=\"109.7073,-685.8787 108.8511,-696.4389 116.1059,-688.7176 109.7073,-685.8787\"/>\n",
       "<text text-anchor=\"middle\" x=\"138.5\" y=\"-666.8\" font-family=\"Times,serif\" font-size=\"14.00\" fill=\"#000000\"> &#160;0, 1</text>\n",
       "</g>\n",
       "<!-- E01&#45;&gt;F01 -->\n",
       "<g id=\"edge4\" class=\"edge\">\n",
       "<title>E01&#45;&gt;F01</title>\n",
       "<path fill=\"none\" stroke=\"#000000\" d=\"M99,-521.9735C99,-510.1918 99,-494.5607 99,-481.1581\"/>\n",
       "<polygon fill=\"#000000\" stroke=\"#000000\" points=\"102.5001,-481.0033 99,-471.0034 95.5001,-481.0034 102.5001,-481.0033\"/>\n",
       "<text text-anchor=\"middle\" x=\"106.5\" y=\"-492.8\" font-family=\"Times,serif\" font-size=\"14.00\" fill=\"#000000\"> &#160;1</text>\n",
       "</g>\n",
       "<!-- A2&#45;&gt;B2 -->\n",
       "<g id=\"edge12\" class=\"edge\">\n",
       "<title>A2&#45;&gt;B2</title>\n",
       "<path fill=\"none\" stroke=\"#000000\" d=\"M48.3478,-89.4378C40.8783,-79.5925 34.11,-66.4213 38,-54 39.2792,-49.9154 41.2032,-45.8877 43.4269,-42.0892\"/>\n",
       "<polygon fill=\"#000000\" stroke=\"#000000\" points=\"46.3686,-43.9863 48.9972,-33.7227 40.5419,-40.1069 46.3686,-43.9863\"/>\n",
       "<text text-anchor=\"middle\" x=\"52.5\" y=\"-57.8\" font-family=\"Times,serif\" font-size=\"14.00\" fill=\"#000000\"> &#160;0, 1</text>\n",
       "</g>\n",
       "</g>\n",
       "</svg>\n"
      ],
      "text/plain": [
       "<__main__.automata at 0x7ff7f0073240>"
      ]
     },
     "execution_count": 34,
     "metadata": {},
     "output_type": "execute_result"
    }
   ],
   "source": [
    "full = automata.from_concat([zero_one_star, substring, zero_one_star])\n",
    "\n",
    "full"
   ]
  },
  {
   "cell_type": "markdown",
   "metadata": {
    "slideshow": {
     "slide_type": "notes"
    }
   },
   "source": [
    "There we have it! A long winded, but correct NFA for our regular expression.\n"
   ]
  },
  {
   "cell_type": "markdown",
   "metadata": {
    "slideshow": {
     "slide_type": "slide"
    }
   },
   "source": [
    "## Let's do an email"
   ]
  },
  {
   "cell_type": "markdown",
   "metadata": {
    "slideshow": {
     "slide_type": "subslide"
    }
   },
   "source": [
    "`^(\\w)+\\@(\\w)+\\.(\\w)`"
   ]
  },
  {
   "cell_type": "code",
   "execution_count": 35,
   "metadata": {
    "slideshow": {
     "slide_type": "subslide"
    }
   },
   "outputs": [],
   "source": [
    "alphabet = [\"a\", \"b\", \"c\", \"d\", \"@\", \".\"] # For conciseness - we won't match every available character ever"
   ]
  },
  {
   "cell_type": "code",
   "execution_count": 36,
   "metadata": {},
   "outputs": [
    {
     "data": {
      "image/svg+xml": [
       "<?xml version=\"1.0\" encoding=\"UTF-8\" standalone=\"no\"?>\n",
       "<!DOCTYPE svg PUBLIC \"-//W3C//DTD SVG 1.1//EN\"\n",
       " \"http://www.w3.org/Graphics/SVG/1.1/DTD/svg11.dtd\">\n",
       "<!-- Generated by graphviz version 2.40.1 (20161225.0304)\n",
       " -->\n",
       "<!-- Title: %3 Pages: 1 -->\n",
       "<svg width=\"134pt\" height=\"204pt\"\n",
       " viewBox=\"0.00 0.00 134.00 204.00\" xmlns=\"http://www.w3.org/2000/svg\" xmlns:xlink=\"http://www.w3.org/1999/xlink\">\n",
       "<g id=\"graph0\" class=\"graph\" transform=\"scale(1 1) rotate(0) translate(4 200)\">\n",
       "<title>%3</title>\n",
       "<polygon fill=\"#ffffff\" stroke=\"transparent\" points=\"-4,4 -4,-200 130,-200 130,4 -4,4\"/>\n",
       "<!-- A -->\n",
       "<g id=\"node2\" class=\"node\">\n",
       "<title>A</title>\n",
       "<ellipse fill=\"none\" stroke=\"#000000\" stroke-width=\"2\" cx=\"27\" cy=\"-105\" rx=\"27\" ry=\"18\"/>\n",
       "<text text-anchor=\"middle\" x=\"27\" y=\"-101.3\" font-family=\"Times,serif\" font-size=\"14.00\" fill=\"#000000\">A</text>\n",
       "</g>\n",
       "<!-- &#45;&gt;A -->\n",
       "<g id=\"edge1\" class=\"edge\">\n",
       "<title>&#45;&gt;A</title>\n",
       "<path fill=\"none\" stroke=\"#000000\" d=\"M27,-159.9551C27,-151.8828 27,-142.1764 27,-133.1817\"/>\n",
       "<polygon fill=\"#000000\" stroke=\"#000000\" points=\"30.5001,-133.0903 27,-123.0904 23.5001,-133.0904 30.5001,-133.0903\"/>\n",
       "</g>\n",
       "<!-- B -->\n",
       "<g id=\"node3\" class=\"node\">\n",
       "<title>B</title>\n",
       "<ellipse fill=\"none\" stroke=\"#000000\" stroke-dasharray=\"5,2\" cx=\"27\" cy=\"-18\" rx=\"27\" ry=\"18\"/>\n",
       "<text text-anchor=\"middle\" x=\"27\" y=\"-14.3\" font-family=\"Times,serif\" font-size=\"14.00\" fill=\"#000000\">B</text>\n",
       "</g>\n",
       "<!-- A&#45;&gt;B -->\n",
       "<g id=\"edge2\" class=\"edge\">\n",
       "<title>A&#45;&gt;B</title>\n",
       "<path fill=\"none\" stroke=\"#000000\" d=\"M27,-86.9735C27,-75.1918 27,-59.5607 27,-46.1581\"/>\n",
       "<polygon fill=\"#000000\" stroke=\"#000000\" points=\"30.5001,-46.0033 27,-36.0034 23.5001,-46.0034 30.5001,-46.0033\"/>\n",
       "<text text-anchor=\"middle\" x=\"76.5\" y=\"-57.8\" font-family=\"Times,serif\" font-size=\"14.00\" fill=\"#000000\"> &#160;[&#39;a&#39;, &#39;b&#39;, &#39;c&#39;, &#39;d&#39;, &#39;.&#39;]</text>\n",
       "</g>\n",
       "</g>\n",
       "</svg>\n"
      ],
      "text/plain": [
       "<__main__.automata at 0x7ff7dbf847b8>"
      ]
     },
     "execution_count": 36,
     "metadata": {},
     "output_type": "execute_result"
    }
   ],
   "source": [
    "characters = automata([\"A\", \"B\"], [\"a\", \"b\", \"c\", \"d\", \".\"], \"A\", [\"B\"])\n",
    "\n",
    "characters.edge(\"A\", \"B\", str([\"a\", \"b\", \"c\", \"d\", \".\"]))\n",
    "\n",
    "characters"
   ]
  },
  {
   "cell_type": "code",
   "execution_count": 37,
   "metadata": {},
   "outputs": [
    {
     "data": {
      "image/svg+xml": [
       "<?xml version=\"1.0\" encoding=\"UTF-8\" standalone=\"no\"?>\n",
       "<!DOCTYPE svg PUBLIC \"-//W3C//DTD SVG 1.1//EN\"\n",
       " \"http://www.w3.org/Graphics/SVG/1.1/DTD/svg11.dtd\">\n",
       "<!-- Generated by graphviz version 2.40.1 (20161225.0304)\n",
       " -->\n",
       "<!-- Title: %3 Pages: 1 -->\n",
       "<svg width=\"126pt\" height=\"218pt\"\n",
       " viewBox=\"0.00 0.00 125.91 218.00\" xmlns=\"http://www.w3.org/2000/svg\" xmlns:xlink=\"http://www.w3.org/1999/xlink\">\n",
       "<g id=\"graph0\" class=\"graph\" transform=\"scale(1 1) rotate(0) translate(4 214)\">\n",
       "<title>%3</title>\n",
       "<polygon fill=\"#ffffff\" stroke=\"transparent\" points=\"-4,4 -4,-214 121.9059,-214 121.9059,4 -4,4\"/>\n",
       "<!-- A -->\n",
       "<g id=\"node1\" class=\"node\">\n",
       "<title>A</title>\n",
       "<ellipse fill=\"none\" stroke=\"#000000\" cx=\"62.9059\" cy=\"-105\" rx=\"27\" ry=\"18\"/>\n",
       "<text text-anchor=\"middle\" x=\"62.9059\" y=\"-101.3\" font-family=\"Times,serif\" font-size=\"14.00\" fill=\"#000000\">A</text>\n",
       "</g>\n",
       "<!-- B -->\n",
       "<g id=\"node2\" class=\"node\">\n",
       "<title>B</title>\n",
       "<ellipse fill=\"none\" stroke=\"#000000\" stroke-dasharray=\"5,2\" cx=\"62.9059\" cy=\"-18\" rx=\"27\" ry=\"18\"/>\n",
       "<text text-anchor=\"middle\" x=\"62.9059\" y=\"-14.3\" font-family=\"Times,serif\" font-size=\"14.00\" fill=\"#000000\">B</text>\n",
       "</g>\n",
       "<!-- A&#45;&gt;B -->\n",
       "<g id=\"edge1\" class=\"edge\">\n",
       "<title>A&#45;&gt;B</title>\n",
       "<path fill=\"none\" stroke=\"#000000\" d=\"M38.3447,-97.0159C25.3331,-91.39 10.5072,-82.4252 2.9059,-69 -6.1984,-52.9199 11.0372,-39.6027 29.3366,-30.6135\"/>\n",
       "<polygon fill=\"#000000\" stroke=\"#000000\" points=\"30.9098,-33.7435 38.5808,-26.4355 28.0268,-27.3647 30.9098,-33.7435\"/>\n",
       "<text text-anchor=\"middle\" x=\"52.4059\" y=\"-57.8\" font-family=\"Times,serif\" font-size=\"14.00\" fill=\"#000000\"> &#160;[&#39;a&#39;, &#39;b&#39;, &#39;c&#39;, &#39;d&#39;, &#39;.&#39;]</text>\n",
       "</g>\n",
       "<!-- B&#45;&gt;A -->\n",
       "<g id=\"edge2\" class=\"edge\">\n",
       "<title>B&#45;&gt;A</title>\n",
       "<path fill=\"none\" stroke=\"#000000\" d=\"M82.7306,-30.5035C95.3805,-40.1966 108.2988,-54.3989 101.9059,-69 99.2381,-75.0933 94.9738,-80.6127 90.2255,-85.3973\"/>\n",
       "<polygon fill=\"#000000\" stroke=\"#000000\" points=\"87.6432,-83.0114 82.5254,-92.2881 92.3112,-88.2276 87.6432,-83.0114\"/>\n",
       "<text text-anchor=\"middle\" x=\"110.4059\" y=\"-57.8\" font-family=\"Times,serif\" font-size=\"14.00\" fill=\"#000000\"> &#160;ε</text>\n",
       "</g>\n",
       "<!-- start -->\n",
       "<g id=\"node3\" class=\"node\">\n",
       "<title>start</title>\n",
       "<ellipse fill=\"none\" stroke=\"#000000\" stroke-width=\"2\" cx=\"62.9059\" cy=\"-192\" rx=\"27\" ry=\"18\"/>\n",
       "<text text-anchor=\"middle\" x=\"62.9059\" y=\"-188.3\" font-family=\"Times,serif\" font-size=\"14.00\" fill=\"#000000\">start</text>\n",
       "</g>\n",
       "<!-- start&#45;&gt;A -->\n",
       "<g id=\"edge3\" class=\"edge\">\n",
       "<title>start&#45;&gt;A</title>\n",
       "<path fill=\"none\" stroke=\"#000000\" d=\"M62.9059,-173.9735C62.9059,-162.1918 62.9059,-146.5607 62.9059,-133.1581\"/>\n",
       "<polygon fill=\"#000000\" stroke=\"#000000\" points=\"66.406,-133.0033 62.9059,-123.0034 59.406,-133.0034 66.406,-133.0033\"/>\n",
       "<text text-anchor=\"middle\" x=\"70.4059\" y=\"-144.8\" font-family=\"Times,serif\" font-size=\"14.00\" fill=\"#000000\"> &#160;ε</text>\n",
       "</g>\n",
       "</g>\n",
       "</svg>\n"
      ],
      "text/plain": [
       "<__main__.automata at 0x7ff7dbf84278>"
      ]
     },
     "execution_count": 37,
     "metadata": {},
     "output_type": "execute_result"
    }
   ],
   "source": [
    "characters_star = automata.from_star(characters)\n",
    "\n",
    "characters_star"
   ]
  },
  {
   "cell_type": "code",
   "execution_count": 38,
   "metadata": {},
   "outputs": [
    {
     "data": {
      "image/svg+xml": [
       "<?xml version=\"1.0\" encoding=\"UTF-8\" standalone=\"no\"?>\n",
       "<!DOCTYPE svg PUBLIC \"-//W3C//DTD SVG 1.1//EN\"\n",
       " \"http://www.w3.org/Graphics/SVG/1.1/DTD/svg11.dtd\">\n",
       "<!-- Generated by graphviz version 2.40.1 (20161225.0304)\n",
       " -->\n",
       "<!-- Title: %3 Pages: 1 -->\n",
       "<svg width=\"62pt\" height=\"204pt\"\n",
       " viewBox=\"0.00 0.00 62.00 204.00\" xmlns=\"http://www.w3.org/2000/svg\" xmlns:xlink=\"http://www.w3.org/1999/xlink\">\n",
       "<g id=\"graph0\" class=\"graph\" transform=\"scale(1 1) rotate(0) translate(4 200)\">\n",
       "<title>%3</title>\n",
       "<polygon fill=\"#ffffff\" stroke=\"transparent\" points=\"-4,4 -4,-200 58,-200 58,4 -4,4\"/>\n",
       "<!-- A -->\n",
       "<g id=\"node2\" class=\"node\">\n",
       "<title>A</title>\n",
       "<ellipse fill=\"none\" stroke=\"#000000\" stroke-width=\"2\" cx=\"27\" cy=\"-105\" rx=\"27\" ry=\"18\"/>\n",
       "<text text-anchor=\"middle\" x=\"27\" y=\"-101.3\" font-family=\"Times,serif\" font-size=\"14.00\" fill=\"#000000\">A</text>\n",
       "</g>\n",
       "<!-- &#45;&gt;A -->\n",
       "<g id=\"edge1\" class=\"edge\">\n",
       "<title>&#45;&gt;A</title>\n",
       "<path fill=\"none\" stroke=\"#000000\" d=\"M27,-159.9551C27,-151.8828 27,-142.1764 27,-133.1817\"/>\n",
       "<polygon fill=\"#000000\" stroke=\"#000000\" points=\"30.5001,-133.0903 27,-123.0904 23.5001,-133.0904 30.5001,-133.0903\"/>\n",
       "</g>\n",
       "<!-- B -->\n",
       "<g id=\"node3\" class=\"node\">\n",
       "<title>B</title>\n",
       "<ellipse fill=\"none\" stroke=\"#000000\" stroke-dasharray=\"5,2\" cx=\"27\" cy=\"-18\" rx=\"27\" ry=\"18\"/>\n",
       "<text text-anchor=\"middle\" x=\"27\" y=\"-14.3\" font-family=\"Times,serif\" font-size=\"14.00\" fill=\"#000000\">B</text>\n",
       "</g>\n",
       "<!-- A&#45;&gt;B -->\n",
       "<g id=\"edge2\" class=\"edge\">\n",
       "<title>A&#45;&gt;B</title>\n",
       "<path fill=\"none\" stroke=\"#000000\" d=\"M27,-86.9735C27,-75.1918 27,-59.5607 27,-46.1581\"/>\n",
       "<polygon fill=\"#000000\" stroke=\"#000000\" points=\"30.5001,-46.0033 27,-36.0034 23.5001,-46.0034 30.5001,-46.0033\"/>\n",
       "<text text-anchor=\"middle\" x=\"37.5\" y=\"-57.8\" font-family=\"Times,serif\" font-size=\"14.00\" fill=\"#000000\"> &#160;@</text>\n",
       "</g>\n",
       "</g>\n",
       "</svg>\n"
      ],
      "text/plain": [
       "<__main__.automata at 0x7ff7dbf84a90>"
      ]
     },
     "execution_count": 38,
     "metadata": {},
     "output_type": "execute_result"
    }
   ],
   "source": [
    "at = automata([\"A\", \"B\"], [\"@\"], \"A\", [\"B\"])\n",
    "\n",
    "at.edge(\"A\", \"B\", \"@\")\n",
    "\n",
    "at"
   ]
  },
  {
   "cell_type": "code",
   "execution_count": 39,
   "metadata": {},
   "outputs": [
    {
     "data": {
      "image/svg+xml": [
       "<?xml version=\"1.0\" encoding=\"UTF-8\" standalone=\"no\"?>\n",
       "<!DOCTYPE svg PUBLIC \"-//W3C//DTD SVG 1.1//EN\"\n",
       " \"http://www.w3.org/Graphics/SVG/1.1/DTD/svg11.dtd\">\n",
       "<!-- Generated by graphviz version 2.40.1 (20161225.0304)\n",
       " -->\n",
       "<!-- Title: %3 Pages: 1 -->\n",
       "<svg width=\"62pt\" height=\"204pt\"\n",
       " viewBox=\"0.00 0.00 62.00 204.00\" xmlns=\"http://www.w3.org/2000/svg\" xmlns:xlink=\"http://www.w3.org/1999/xlink\">\n",
       "<g id=\"graph0\" class=\"graph\" transform=\"scale(1 1) rotate(0) translate(4 200)\">\n",
       "<title>%3</title>\n",
       "<polygon fill=\"#ffffff\" stroke=\"transparent\" points=\"-4,4 -4,-200 58,-200 58,4 -4,4\"/>\n",
       "<!-- A -->\n",
       "<g id=\"node2\" class=\"node\">\n",
       "<title>A</title>\n",
       "<ellipse fill=\"none\" stroke=\"#000000\" stroke-width=\"2\" cx=\"27\" cy=\"-105\" rx=\"27\" ry=\"18\"/>\n",
       "<text text-anchor=\"middle\" x=\"27\" y=\"-101.3\" font-family=\"Times,serif\" font-size=\"14.00\" fill=\"#000000\">A</text>\n",
       "</g>\n",
       "<!-- &#45;&gt;A -->\n",
       "<g id=\"edge1\" class=\"edge\">\n",
       "<title>&#45;&gt;A</title>\n",
       "<path fill=\"none\" stroke=\"#000000\" d=\"M27,-159.9551C27,-151.8828 27,-142.1764 27,-133.1817\"/>\n",
       "<polygon fill=\"#000000\" stroke=\"#000000\" points=\"30.5001,-133.0903 27,-123.0904 23.5001,-133.0904 30.5001,-133.0903\"/>\n",
       "</g>\n",
       "<!-- B -->\n",
       "<g id=\"node3\" class=\"node\">\n",
       "<title>B</title>\n",
       "<ellipse fill=\"none\" stroke=\"#000000\" stroke-dasharray=\"5,2\" cx=\"27\" cy=\"-18\" rx=\"27\" ry=\"18\"/>\n",
       "<text text-anchor=\"middle\" x=\"27\" y=\"-14.3\" font-family=\"Times,serif\" font-size=\"14.00\" fill=\"#000000\">B</text>\n",
       "</g>\n",
       "<!-- A&#45;&gt;B -->\n",
       "<g id=\"edge2\" class=\"edge\">\n",
       "<title>A&#45;&gt;B</title>\n",
       "<path fill=\"none\" stroke=\"#000000\" d=\"M27,-86.9735C27,-75.1918 27,-59.5607 27,-46.1581\"/>\n",
       "<polygon fill=\"#000000\" stroke=\"#000000\" points=\"30.5001,-46.0033 27,-36.0034 23.5001,-46.0034 30.5001,-46.0033\"/>\n",
       "<text text-anchor=\"middle\" x=\"33\" y=\"-57.8\" font-family=\"Times,serif\" font-size=\"14.00\" fill=\"#000000\"> &#160;.</text>\n",
       "</g>\n",
       "</g>\n",
       "</svg>\n"
      ],
      "text/plain": [
       "<__main__.automata at 0x7ff7dbf84a20>"
      ]
     },
     "execution_count": 39,
     "metadata": {},
     "output_type": "execute_result"
    }
   ],
   "source": [
    "dot = automata([\"A\", \"B\"], [\".\"], \"A\", [\"B\"])\n",
    "\n",
    "dot.edge(\"A\", \"B\", \".\")\n",
    "\n",
    "dot"
   ]
  },
  {
   "cell_type": "code",
   "execution_count": 40,
   "metadata": {},
   "outputs": [
    {
     "data": {
      "image/svg+xml": [
       "<?xml version=\"1.0\" encoding=\"UTF-8\" standalone=\"no\"?>\n",
       "<!DOCTYPE svg PUBLIC \"-//W3C//DTD SVG 1.1//EN\"\n",
       " \"http://www.w3.org/Graphics/SVG/1.1/DTD/svg11.dtd\">\n",
       "<!-- Generated by graphviz version 2.40.1 (20161225.0304)\n",
       " -->\n",
       "<!-- Title: %3 Pages: 1 -->\n",
       "<svg width=\"372pt\" height=\"914pt\"\n",
       " viewBox=\"0.00 0.00 372.07 914.00\" xmlns=\"http://www.w3.org/2000/svg\" xmlns:xlink=\"http://www.w3.org/1999/xlink\">\n",
       "<g id=\"graph0\" class=\"graph\" transform=\"scale(1 1) rotate(0) translate(4 910)\">\n",
       "<title>%3</title>\n",
       "<polygon fill=\"#ffffff\" stroke=\"transparent\" points=\"-4,4 -4,-910 368.0718,-910 368.0718,4 -4,4\"/>\n",
       "<!-- B0 -->\n",
       "<g id=\"node1\" class=\"node\">\n",
       "<title>B0</title>\n",
       "<ellipse fill=\"none\" stroke=\"#000000\" stroke-dasharray=\"5,2\" cx=\"101.0718\" cy=\"-888\" rx=\"27\" ry=\"18\"/>\n",
       "<text text-anchor=\"middle\" x=\"101.0718\" y=\"-884.3\" font-family=\"Times,serif\" font-size=\"14.00\" fill=\"#000000\">B0</text>\n",
       "</g>\n",
       "<!-- A1 -->\n",
       "<g id=\"node4\" class=\"node\">\n",
       "<title>A1</title>\n",
       "<ellipse fill=\"none\" stroke=\"#000000\" cx=\"63.0718\" cy=\"-801\" rx=\"27\" ry=\"18\"/>\n",
       "<text text-anchor=\"middle\" x=\"63.0718\" y=\"-797.3\" font-family=\"Times,serif\" font-size=\"14.00\" fill=\"#000000\">A1</text>\n",
       "</g>\n",
       "<!-- B0&#45;&gt;A1 -->\n",
       "<g id=\"edge12\" class=\"edge\">\n",
       "<title>B0&#45;&gt;A1</title>\n",
       "<path fill=\"none\" stroke=\"#000000\" d=\"M88.0562,-871.8991C83.738,-865.9293 79.232,-858.922 76.0718,-852 72.7845,-844.7997 70.2334,-836.6328 68.2967,-828.9778\"/>\n",
       "<polygon fill=\"#000000\" stroke=\"#000000\" points=\"71.6568,-827.9695 66.025,-818.9954 64.8313,-829.5228 71.6568,-827.9695\"/>\n",
       "<text text-anchor=\"middle\" x=\"83.5718\" y=\"-840.8\" font-family=\"Times,serif\" font-size=\"14.00\" fill=\"#000000\"> &#160;ε</text>\n",
       "</g>\n",
       "<!-- A0 -->\n",
       "<g id=\"node12\" class=\"node\">\n",
       "<title>A0</title>\n",
       "<ellipse fill=\"none\" stroke=\"#000000\" cx=\"139.0718\" cy=\"-801\" rx=\"27\" ry=\"18\"/>\n",
       "<text text-anchor=\"middle\" x=\"139.0718\" y=\"-797.3\" font-family=\"Times,serif\" font-size=\"14.00\" fill=\"#000000\">A0</text>\n",
       "</g>\n",
       "<!-- B0&#45;&gt;A0 -->\n",
       "<g id=\"edge2\" class=\"edge\">\n",
       "<title>B0&#45;&gt;A0</title>\n",
       "<path fill=\"none\" stroke=\"#000000\" d=\"M96.0601,-870.2568C94.1395,-860.0924 93.3895,-847.3424 98.0718,-837 101.0116,-830.5064 105.7657,-824.7198 111.0135,-819.7856\"/>\n",
       "<polygon fill=\"#000000\" stroke=\"#000000\" points=\"113.4795,-822.2857 118.9014,-813.1833 108.9866,-816.9179 113.4795,-822.2857\"/>\n",
       "<text text-anchor=\"middle\" x=\"105.5718\" y=\"-840.8\" font-family=\"Times,serif\" font-size=\"14.00\" fill=\"#000000\"> &#160;ε</text>\n",
       "</g>\n",
       "<!-- start0 -->\n",
       "<g id=\"node3\" class=\"node\">\n",
       "<title>start0</title>\n",
       "<ellipse fill=\"none\" stroke=\"#000000\" stroke-width=\"2\" cx=\"261.0718\" cy=\"-888\" rx=\"30.5947\" ry=\"18\"/>\n",
       "<text text-anchor=\"middle\" x=\"261.0718\" y=\"-884.3\" font-family=\"Times,serif\" font-size=\"14.00\" fill=\"#000000\">start0</text>\n",
       "</g>\n",
       "<!-- start0&#45;&gt;A0 -->\n",
       "<g id=\"edge3\" class=\"edge\">\n",
       "<title>start0&#45;&gt;A0</title>\n",
       "<path fill=\"none\" stroke=\"#000000\" d=\"M252.7866,-870.4426C246.9077,-859.5779 238.1096,-846.0277 227.0718,-837 211.7979,-824.5076 191.6006,-815.8323 174.4082,-810.1332\"/>\n",
       "<polygon fill=\"#000000\" stroke=\"#000000\" points=\"175.2809,-806.7394 164.6927,-807.1153 173.2043,-813.4243 175.2809,-806.7394\"/>\n",
       "<text text-anchor=\"middle\" x=\"247.5718\" y=\"-840.8\" font-family=\"Times,serif\" font-size=\"14.00\" fill=\"#000000\"> &#160;ε</text>\n",
       "</g>\n",
       "<!-- B1 -->\n",
       "<g id=\"node5\" class=\"node\">\n",
       "<title>B1</title>\n",
       "<ellipse fill=\"none\" stroke=\"#000000\" stroke-dasharray=\"5,2\" cx=\"63.0718\" cy=\"-714\" rx=\"27\" ry=\"18\"/>\n",
       "<text text-anchor=\"middle\" x=\"63.0718\" y=\"-710.3\" font-family=\"Times,serif\" font-size=\"14.00\" fill=\"#000000\">B1</text>\n",
       "</g>\n",
       "<!-- A1&#45;&gt;B1 -->\n",
       "<g id=\"edge4\" class=\"edge\">\n",
       "<title>A1&#45;&gt;B1</title>\n",
       "<path fill=\"none\" stroke=\"#000000\" d=\"M63.0718,-782.9735C63.0718,-771.1918 63.0718,-755.5607 63.0718,-742.1581\"/>\n",
       "<polygon fill=\"#000000\" stroke=\"#000000\" points=\"66.5719,-742.0033 63.0718,-732.0034 59.5719,-742.0034 66.5719,-742.0033\"/>\n",
       "<text text-anchor=\"middle\" x=\"73.5718\" y=\"-753.8\" font-family=\"Times,serif\" font-size=\"14.00\" fill=\"#000000\"> &#160;@</text>\n",
       "</g>\n",
       "<!-- start2 -->\n",
       "<g id=\"node7\" class=\"node\">\n",
       "<title>start2</title>\n",
       "<ellipse fill=\"none\" stroke=\"#000000\" cx=\"63.0718\" cy=\"-627\" rx=\"30.5947\" ry=\"18\"/>\n",
       "<text text-anchor=\"middle\" x=\"63.0718\" y=\"-623.3\" font-family=\"Times,serif\" font-size=\"14.00\" fill=\"#000000\">start2</text>\n",
       "</g>\n",
       "<!-- B1&#45;&gt;start2 -->\n",
       "<g id=\"edge13\" class=\"edge\">\n",
       "<title>B1&#45;&gt;start2</title>\n",
       "<path fill=\"none\" stroke=\"#000000\" d=\"M63.0718,-695.9735C63.0718,-684.1918 63.0718,-668.5607 63.0718,-655.1581\"/>\n",
       "<polygon fill=\"#000000\" stroke=\"#000000\" points=\"66.5719,-655.0033 63.0718,-645.0034 59.5719,-655.0034 66.5719,-655.0033\"/>\n",
       "<text text-anchor=\"middle\" x=\"70.5718\" y=\"-666.8\" font-family=\"Times,serif\" font-size=\"14.00\" fill=\"#000000\"> &#160;ε</text>\n",
       "</g>\n",
       "<!-- B2 -->\n",
       "<g id=\"node6\" class=\"node\">\n",
       "<title>B2</title>\n",
       "<ellipse fill=\"none\" stroke=\"#000000\" stroke-dasharray=\"5,2\" cx=\"63.0718\" cy=\"-453\" rx=\"27\" ry=\"18\"/>\n",
       "<text text-anchor=\"middle\" x=\"63.0718\" y=\"-449.3\" font-family=\"Times,serif\" font-size=\"14.00\" fill=\"#000000\">B2</text>\n",
       "</g>\n",
       "<!-- A3 -->\n",
       "<g id=\"node8\" class=\"node\">\n",
       "<title>A3</title>\n",
       "<ellipse fill=\"none\" stroke=\"#000000\" cx=\"63.0718\" cy=\"-366\" rx=\"27\" ry=\"18\"/>\n",
       "<text text-anchor=\"middle\" x=\"63.0718\" y=\"-362.3\" font-family=\"Times,serif\" font-size=\"14.00\" fill=\"#000000\">A3</text>\n",
       "</g>\n",
       "<!-- B2&#45;&gt;A3 -->\n",
       "<g id=\"edge14\" class=\"edge\">\n",
       "<title>B2&#45;&gt;A3</title>\n",
       "<path fill=\"none\" stroke=\"#000000\" d=\"M63.0718,-434.9735C63.0718,-423.1918 63.0718,-407.5607 63.0718,-394.1581\"/>\n",
       "<polygon fill=\"#000000\" stroke=\"#000000\" points=\"66.5719,-394.0033 63.0718,-384.0034 59.5719,-394.0034 66.5719,-394.0033\"/>\n",
       "<text text-anchor=\"middle\" x=\"70.5718\" y=\"-405.8\" font-family=\"Times,serif\" font-size=\"14.00\" fill=\"#000000\"> &#160;ε</text>\n",
       "</g>\n",
       "<!-- A2 -->\n",
       "<g id=\"node13\" class=\"node\">\n",
       "<title>A2</title>\n",
       "<ellipse fill=\"none\" stroke=\"#000000\" cx=\"63.0718\" cy=\"-540\" rx=\"27\" ry=\"18\"/>\n",
       "<text text-anchor=\"middle\" x=\"63.0718\" y=\"-536.3\" font-family=\"Times,serif\" font-size=\"14.00\" fill=\"#000000\">A2</text>\n",
       "</g>\n",
       "<!-- B2&#45;&gt;A2 -->\n",
       "<g id=\"edge6\" class=\"edge\">\n",
       "<title>B2&#45;&gt;A2</title>\n",
       "<path fill=\"none\" stroke=\"#000000\" d=\"M82.8965,-465.5035C95.5464,-475.1966 108.4646,-489.3989 102.0718,-504 99.404,-510.0933 95.1396,-515.6127 90.3913,-520.3973\"/>\n",
       "<polygon fill=\"#000000\" stroke=\"#000000\" points=\"87.809,-518.0114 82.6912,-527.2881 92.4771,-523.2276 87.809,-518.0114\"/>\n",
       "<text text-anchor=\"middle\" x=\"111.5718\" y=\"-492.8\" font-family=\"Times,serif\" font-size=\"14.00\" fill=\"#000000\"> &#160;ε</text>\n",
       "</g>\n",
       "<!-- start2&#45;&gt;A2 -->\n",
       "<g id=\"edge7\" class=\"edge\">\n",
       "<title>start2&#45;&gt;A2</title>\n",
       "<path fill=\"none\" stroke=\"#000000\" d=\"M63.0718,-608.9735C63.0718,-597.1918 63.0718,-581.5607 63.0718,-568.1581\"/>\n",
       "<polygon fill=\"#000000\" stroke=\"#000000\" points=\"66.5719,-568.0033 63.0718,-558.0034 59.5719,-568.0034 66.5719,-568.0033\"/>\n",
       "<text text-anchor=\"middle\" x=\"70.5718\" y=\"-579.8\" font-family=\"Times,serif\" font-size=\"14.00\" fill=\"#000000\"> &#160;ε</text>\n",
       "</g>\n",
       "<!-- B3 -->\n",
       "<g id=\"node9\" class=\"node\">\n",
       "<title>B3</title>\n",
       "<ellipse fill=\"none\" stroke=\"#000000\" stroke-dasharray=\"5,2\" cx=\"63.0718\" cy=\"-279\" rx=\"27\" ry=\"18\"/>\n",
       "<text text-anchor=\"middle\" x=\"63.0718\" y=\"-275.3\" font-family=\"Times,serif\" font-size=\"14.00\" fill=\"#000000\">B3</text>\n",
       "</g>\n",
       "<!-- A3&#45;&gt;B3 -->\n",
       "<g id=\"edge8\" class=\"edge\">\n",
       "<title>A3&#45;&gt;B3</title>\n",
       "<path fill=\"none\" stroke=\"#000000\" d=\"M63.0718,-347.9735C63.0718,-336.1918 63.0718,-320.5607 63.0718,-307.1581\"/>\n",
       "<polygon fill=\"#000000\" stroke=\"#000000\" points=\"66.5719,-307.0033 63.0718,-297.0034 59.5719,-307.0034 66.5719,-307.0033\"/>\n",
       "<text text-anchor=\"middle\" x=\"69.0718\" y=\"-318.8\" font-family=\"Times,serif\" font-size=\"14.00\" fill=\"#000000\"> &#160;.</text>\n",
       "</g>\n",
       "<!-- start4 -->\n",
       "<g id=\"node11\" class=\"node\">\n",
       "<title>start4</title>\n",
       "<ellipse fill=\"none\" stroke=\"#000000\" cx=\"63.0718\" cy=\"-192\" rx=\"30.5947\" ry=\"18\"/>\n",
       "<text text-anchor=\"middle\" x=\"63.0718\" y=\"-188.3\" font-family=\"Times,serif\" font-size=\"14.00\" fill=\"#000000\">start4</text>\n",
       "</g>\n",
       "<!-- B3&#45;&gt;start4 -->\n",
       "<g id=\"edge15\" class=\"edge\">\n",
       "<title>B3&#45;&gt;start4</title>\n",
       "<path fill=\"none\" stroke=\"#000000\" d=\"M63.0718,-260.9735C63.0718,-249.1918 63.0718,-233.5607 63.0718,-220.1581\"/>\n",
       "<polygon fill=\"#000000\" stroke=\"#000000\" points=\"66.5719,-220.0033 63.0718,-210.0034 59.5719,-220.0034 66.5719,-220.0033\"/>\n",
       "<text text-anchor=\"middle\" x=\"70.5718\" y=\"-231.8\" font-family=\"Times,serif\" font-size=\"14.00\" fill=\"#000000\"> &#160;ε</text>\n",
       "</g>\n",
       "<!-- B4 -->\n",
       "<g id=\"node10\" class=\"node\">\n",
       "<title>B4</title>\n",
       "<ellipse fill=\"none\" stroke=\"#000000\" stroke-dasharray=\"5,2\" cx=\"63.0718\" cy=\"-18\" rx=\"27\" ry=\"18\"/>\n",
       "<text text-anchor=\"middle\" x=\"63.0718\" y=\"-14.3\" font-family=\"Times,serif\" font-size=\"14.00\" fill=\"#000000\">B4</text>\n",
       "</g>\n",
       "<!-- A4 -->\n",
       "<g id=\"node14\" class=\"node\">\n",
       "<title>A4</title>\n",
       "<ellipse fill=\"none\" stroke=\"#000000\" cx=\"63.0718\" cy=\"-105\" rx=\"27\" ry=\"18\"/>\n",
       "<text text-anchor=\"middle\" x=\"63.0718\" y=\"-101.3\" font-family=\"Times,serif\" font-size=\"14.00\" fill=\"#000000\">A4</text>\n",
       "</g>\n",
       "<!-- B4&#45;&gt;A4 -->\n",
       "<g id=\"edge10\" class=\"edge\">\n",
       "<title>B4&#45;&gt;A4</title>\n",
       "<path fill=\"none\" stroke=\"#000000\" d=\"M82.8965,-30.5035C95.5464,-40.1966 108.4646,-54.3989 102.0718,-69 99.404,-75.0933 95.1396,-80.6127 90.3913,-85.3973\"/>\n",
       "<polygon fill=\"#000000\" stroke=\"#000000\" points=\"87.809,-83.0114 82.6912,-92.2881 92.4771,-88.2276 87.809,-83.0114\"/>\n",
       "<text text-anchor=\"middle\" x=\"111.5718\" y=\"-57.8\" font-family=\"Times,serif\" font-size=\"14.00\" fill=\"#000000\"> &#160;ε</text>\n",
       "</g>\n",
       "<!-- start4&#45;&gt;A4 -->\n",
       "<g id=\"edge11\" class=\"edge\">\n",
       "<title>start4&#45;&gt;A4</title>\n",
       "<path fill=\"none\" stroke=\"#000000\" d=\"M63.0718,-173.9735C63.0718,-162.1918 63.0718,-146.5607 63.0718,-133.1581\"/>\n",
       "<polygon fill=\"#000000\" stroke=\"#000000\" points=\"66.5719,-133.0033 63.0718,-123.0034 59.5719,-133.0034 66.5719,-133.0033\"/>\n",
       "<text text-anchor=\"middle\" x=\"70.5718\" y=\"-144.8\" font-family=\"Times,serif\" font-size=\"14.00\" fill=\"#000000\"> &#160;ε</text>\n",
       "</g>\n",
       "<!-- A0&#45;&gt;B0 -->\n",
       "<g id=\"edge1\" class=\"edge\">\n",
       "<title>A0&#45;&gt;B0</title>\n",
       "<path fill=\"none\" stroke=\"#000000\" d=\"M131.5843,-818.4875C127.351,-828.3417 121.9454,-840.8703 117.0718,-852 115.7549,-855.0073 114.3694,-858.1524 112.9872,-861.2781\"/>\n",
       "<polygon fill=\"#000000\" stroke=\"#000000\" points=\"109.7791,-859.8787 108.9229,-870.4389 116.1776,-862.7176 109.7791,-859.8787\"/>\n",
       "<text text-anchor=\"middle\" x=\"173.5718\" y=\"-840.8\" font-family=\"Times,serif\" font-size=\"14.00\" fill=\"#000000\"> &#160;[&#39;a&#39;, &#39;b&#39;, &#39;c&#39;, &#39;d&#39;, &#39;.&#39;]</text>\n",
       "</g>\n",
       "<!-- A2&#45;&gt;B2 -->\n",
       "<g id=\"edge5\" class=\"edge\">\n",
       "<title>A2&#45;&gt;B2</title>\n",
       "<path fill=\"none\" stroke=\"#000000\" d=\"M38.7467,-531.5645C17.7788,-522.8183 -7.5708,-507.7968 3.0718,-489 8.9509,-478.6164 19.1518,-470.9011 29.4925,-465.3351\"/>\n",
       "<polygon fill=\"#000000\" stroke=\"#000000\" points=\"31.025,-468.4819 38.5106,-460.9841 27.9831,-462.1773 31.025,-468.4819\"/>\n",
       "<text text-anchor=\"middle\" x=\"52.5718\" y=\"-492.8\" font-family=\"Times,serif\" font-size=\"14.00\" fill=\"#000000\"> &#160;[&#39;a&#39;, &#39;b&#39;, &#39;c&#39;, &#39;d&#39;, &#39;.&#39;]</text>\n",
       "</g>\n",
       "<!-- A4&#45;&gt;B4 -->\n",
       "<g id=\"edge9\" class=\"edge\">\n",
       "<title>A4&#45;&gt;B4</title>\n",
       "<path fill=\"none\" stroke=\"#000000\" d=\"M38.7467,-96.5645C17.7788,-87.8183 -7.5708,-72.7968 3.0718,-54 8.9509,-43.6164 19.1518,-35.9011 29.4925,-30.3351\"/>\n",
       "<polygon fill=\"#000000\" stroke=\"#000000\" points=\"31.025,-33.4819 38.5106,-25.9841 27.9831,-27.1773 31.025,-33.4819\"/>\n",
       "<text text-anchor=\"middle\" x=\"52.5718\" y=\"-57.8\" font-family=\"Times,serif\" font-size=\"14.00\" fill=\"#000000\"> &#160;[&#39;a&#39;, &#39;b&#39;, &#39;c&#39;, &#39;d&#39;, &#39;.&#39;]</text>\n",
       "</g>\n",
       "</g>\n",
       "</svg>\n"
      ],
      "text/plain": [
       "<__main__.automata at 0x7ff7dbf84c50>"
      ]
     },
     "execution_count": 40,
     "metadata": {},
     "output_type": "execute_result"
    }
   ],
   "source": [
    "full = automata.from_concat([characters_star, at, characters_star, dot, characters_star])\n",
    "\n",
    "full"
   ]
  },
  {
   "cell_type": "markdown",
   "metadata": {
    "slideshow": {
     "slide_type": "slide"
    }
   },
   "source": [
    "## Phew, done!"
   ]
  },
  {
   "cell_type": "markdown",
   "metadata": {
    "slideshow": {
     "slide_type": "slide"
    }
   },
   "source": [
    "## Recap"
   ]
  },
  {
   "cell_type": "markdown",
   "metadata": {
    "slideshow": {
     "slide_type": "subslide"
    }
   },
   "source": [
    "* Finite Automaton are simple _state machines_"
   ]
  },
  {
   "cell_type": "markdown",
   "metadata": {
    "slideshow": {
     "slide_type": "subslide"
    }
   },
   "source": [
    "* Deterministic Finite Automaton & Non-Deterministic Finite Automaton recognise Regular Languages"
   ]
  },
  {
   "cell_type": "markdown",
   "metadata": {
    "slideshow": {
     "slide_type": "subslide"
    }
   },
   "source": [
    "* They are all equivilent in power"
   ]
  },
  {
   "cell_type": "markdown",
   "metadata": {
    "slideshow": {
     "slide_type": "subslide"
    }
   },
   "source": [
    "* A Regular Expression describes a regular language"
   ]
  },
  {
   "cell_type": "markdown",
   "metadata": {
    "slideshow": {
     "slide_type": "subslide"
    }
   },
   "source": [
    "* Regular Expressions can be drawn as Finite Automaton"
   ]
  },
  {
   "cell_type": "markdown",
   "metadata": {
    "slideshow": {
     "slide_type": "slide"
    }
   },
   "source": [
    "## Further Reading"
   ]
  },
  {
   "cell_type": "markdown",
   "metadata": {
    "slideshow": {
     "slide_type": "subslide"
    }
   },
   "source": [
    "* Generalised NFAs - Converting a DFA into a regular expression"
   ]
  },
  {
   "cell_type": "markdown",
   "metadata": {
    "slideshow": {
     "slide_type": "subslide"
    }
   },
   "source": [
    "* Introduction to the Theory of Computation - M.Sipser"
   ]
  },
  {
   "cell_type": "markdown",
   "metadata": {
    "slideshow": {
     "slide_type": "slide"
    }
   },
   "source": [
    "## Samathy Barratt\n",
    "### @samathy_barratt\n",
    "### s@social.samathy.space\n",
    "### samathy.sbarratt.co.uk"
   ]
  }
 ],
 "metadata": {
  "celltoolbar": "Slideshow",
  "kernelspec": {
   "display_name": "Python 3",
   "language": "python",
   "name": "python3"
  },
  "language_info": {
   "codemirror_mode": {
    "name": "ipython",
    "version": 3
   },
   "file_extension": ".py",
   "mimetype": "text/x-python",
   "name": "python",
   "nbconvert_exporter": "python",
   "pygments_lexer": "ipython3",
   "version": "3.6.8"
  }
 },
 "nbformat": 4,
 "nbformat_minor": 2
}
