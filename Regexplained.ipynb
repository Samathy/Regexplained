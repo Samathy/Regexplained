{
 "cells": [
  {
   "cell_type": "code",
   "execution_count": 3,
   "metadata": {
    "slideshow": {
     "slide_type": "skip"
    }
   },
   "outputs": [],
   "source": [
    "import re\n"
   ]
  },
  {
   "cell_type": "code",
   "execution_count": 9,
   "metadata": {
    "slideshow": {
     "slide_type": "skip"
    }
   },
   "outputs": [],
   "source": [
    "import graphviz\n",
    "\n",
    "class State:\n",
    "\n",
    "    def __init__(self, name, style=\"solid\", color=\"black\"):\n",
    "        self.name = name\n",
    "        self.style = style\n",
    "        self.color = color\n",
    "        \n",
    "        self.rendered = False\n",
    "        \n",
    "    def set_style(self, style):\n",
    "        self.style = style\n",
    "\n",
    "    def __eq__(self, other):\n",
    "        if self.name == other:\n",
    "            return True\n",
    "        else:\n",
    "            return False\n",
    "    def __str__(self):\n",
    "        return self.name\n",
    "    \n",
    "    def __repr__(self):\n",
    "        return self.name\n",
    "\n",
    "    def render(self, graph):\n",
    "        graph.node(self.name, style=self.style, color=self.color)\n",
    "\n",
    "\n",
    "class automata:\n",
    "\n",
    "    def __init__(self, state_names, alphabet, start_state, final_states):\n",
    "        self.alphabet = alphabet\n",
    "        self.start_state = start_state\n",
    "        self.final_states = final_states\n",
    "        self.edges = list()\n",
    "        self.states = list()\n",
    "        self.graph = None\n",
    "        \n",
    "      \n",
    "        for state_name in state_names:\n",
    "            style= None\n",
    "            if state_name == start_state:\n",
    "                self.states.append(State(\"\", style=\"invis\"))\n",
    "                style = \"bold\"\n",
    "                self.edges.append([\"\", state_name, \"\"])\n",
    "            if state_name in final_states:\n",
    "                style = \"dashed\"\n",
    "              \n",
    "            self.states.append(State(state_name, style = style))\n",
    "\n",
    "        return\n",
    "    \n",
    "    def __remove_invisible(self):\n",
    "        new_states = list()\n",
    "        new_edges = list()\n",
    "        \n",
    "        for state in self.states:\n",
    "            if state.style == \"invis\" or state.name == \"\":\n",
    "                continue\n",
    "            else:\n",
    "                new_states.append(state)\n",
    "        for edge in self.edges:\n",
    "            if edge[0] == \"\":\n",
    "                continue\n",
    "            else:\n",
    "                new_edges.append(edge)\n",
    "        self.states = new_states\n",
    "        self.edges = new_edges\n",
    "\n",
    "    \n",
    "    \n",
    "    def __rename_states(self, name_postfix):\n",
    "        renamed_states = list()\n",
    "        renamed_edges = list()\n",
    "        renamed_final_states = list()\n",
    "            \n",
    "        for s in self.states:\n",
    "            if len(s.name) <= 0:\n",
    "                break\n",
    "            renamed_states.append(str(s)+str(name_postfix))\n",
    "        for e in self.edges:\n",
    "            if len(e[0]) <= 0:\n",
    "                renamed_edges.append([e[0], e[1]+str(name_postfix), e[2]])\n",
    "\n",
    "            renamed_edges.append([e[0]+str(name_postfix), e[1]+str(name_postfix), e[2]])\n",
    "        for s in self.final_states:\n",
    "            renamed_final_states.append(s+str(name_postfix))\n",
    "                \n",
    "             \n",
    "        self.states = renamed_states\n",
    "        self.edges = renamed_edges\n",
    "        self.final_states = renamed_final_states\n",
    "        self.start_state = self.start_state+str(name_postfix)\n",
    "        \n",
    "    def __copy(self):\n",
    "        a = automata([str(s) for s in self.states[1:]], self.alphabet, self.start_state, self.final_states)\n",
    "        a.edges = self.edges\n",
    "        return a\n",
    "    \n",
    "    def from_union(automatons):\n",
    "        \n",
    "        new_states = list()\n",
    "        new_edges = list()\n",
    "        new_final_states = list()\n",
    "        \n",
    "        copied_automatons = list()\n",
    "        \n",
    "        for a in automatons:\n",
    "            copied_automatons.append(a.__copy())\n",
    "            \n",
    "            \n",
    "        i = 0\n",
    "        for a in copied_automatons:\n",
    "            a.__remove_invisible()\n",
    "            a.__rename_states(i)\n",
    "            \n",
    "            new_states += a.states\n",
    "            new_edges += a.edges\n",
    "            new_final_states += a.final_states\n",
    "            i = i+1\n",
    "                   \n",
    "        new_states.append(\"start\")\n",
    "                \n",
    "        for a in copied_automatons:\n",
    "            new_edges.append([\"start\", a.start_state, \"ε\"])\n",
    "        \n",
    "        new_automaton = automata(new_states, automatons[0].alphabet, \"start\", new_final_states)\n",
    "        new_automaton.edges = new_automaton.edges + new_edges\n",
    "\n",
    "        return new_automaton\n",
    "    \n",
    "    def from_concat(automatons):\n",
    "        copied_automatons = list()\n",
    "        \n",
    "        for a in automatons:\n",
    "            copied_automatons.append(a.__copy())\n",
    "        \n",
    "        i = 0\n",
    "        for a in copied_automatons:\n",
    "            a.__remove_invisible()\n",
    "            a.__rename_states(i)\n",
    "            i+=1\n",
    "\n",
    "        first_automaton = copied_automatons[0]\n",
    "        \n",
    "        \n",
    "        new_states = list()\n",
    "        new_edges = list()\n",
    "        new_final_states = list()\n",
    "        \n",
    "        for a in copied_automatons:\n",
    "            new_states += a.states\n",
    "            new_edges += a.edges\n",
    "            new_final_states += a.final_states\n",
    "            \n",
    "        \n",
    "        new_automaton = automata(new_states, copied_automatons[0], copied_automatons[0].start_state, new_final_states)\n",
    "        \n",
    "        new_automaton.edges = new_edges\n",
    "            \n",
    "        for i in range(len(copied_automatons)):\n",
    "            last_a = copied_automatons[i]\n",
    "            if i != len(copied_automatons)-1:\n",
    "                next_a = copied_automatons[i+1]\n",
    "            else:\n",
    "                break\n",
    "            for state in last_a.final_states:\n",
    "                pass\n",
    "                new_automaton.edge(state, next_a.start_state, \"ε\")\n",
    "            \n",
    "        return new_automaton\n",
    "    \n",
    "    def from_star(automaton):\n",
    "        copied_automaton = automaton.__copy()\n",
    "        \n",
    "        copied_automaton.__remove_invisible()\n",
    "        \n",
    "        for state in copied_automaton.final_states:\n",
    "            copied_automaton.edge(state, copied_automaton.start_state, \"ε\")\n",
    "        \n",
    "        copied_automaton.states[0].style = \"solid\"  \n",
    "        copied_automaton.states.append(State(\"start\"))\n",
    "        copied_automaton.edge(\"start\", copied_automaton.start_state, \"ε\")\n",
    "        copied_automaton.start_state = \"start\"\n",
    "        \n",
    "        \n",
    "        return copied_automaton\n",
    "        \n",
    "        \n",
    "    def _check_start_end(self):\n",
    "        for state in self.states:\n",
    "            if state.name == \"\":\n",
    "                continue\n",
    "            if state.name == self.start_state:\n",
    "                state.style = \"bold\" \n",
    "            if state.name in self.final_states:\n",
    "                state.style = \"dashed\"\n",
    "        return\n",
    "            \n",
    "\n",
    "    def edge(self, source, dest, rule):\n",
    "        self.edges.append([source, dest, \"  \"+rule])\n",
    "        if source not in self.states:\n",
    "            self.states.append(State(source))\n",
    "            self._check_start_end()\n",
    "        if dest not in self.states:\n",
    "            self.states.append(State(dest))\n",
    "            self._check_start_end()\n",
    "        return\n",
    "    \n",
    "    def _repr_svg_(self):\n",
    "        self.graph = graphviz.Digraph()\n",
    "        \n",
    "        self._check_start_end() # Update if we changed/added the start/end states since making this obeject\n",
    "        \n",
    "        for state in self.states:\n",
    "            state.render(self.graph)\n",
    "\n",
    "        for e in self.edges:\n",
    "            self.graph.edge(e[0], e[1], label=e[2])\n",
    "\n",
    "        return self.graph._repr_svg_()\n"
   ]
  },
  {
   "cell_type": "code",
   "execution_count": 5,
   "metadata": {
    "slideshow": {
     "slide_type": "skip"
    }
   },
   "outputs": [
    {
     "name": "stdout",
     "output_type": "stream",
     "text": [
      "Style is invisible\n",
      "Style is invisible\n",
      "Edge is blank\n",
      "Style is invisible\n",
      "Style is invisible\n",
      "Edge is blank\n"
     ]
    },
    {
     "data": {
      "image/svg+xml": [
       "<?xml version=\"1.0\" encoding=\"UTF-8\" standalone=\"no\"?>\n",
       "<!DOCTYPE svg PUBLIC \"-//W3C//DTD SVG 1.1//EN\"\n",
       " \"http://www.w3.org/Graphics/SVG/1.1/DTD/svg11.dtd\">\n",
       "<!-- Generated by graphviz version 2.40.1 (0)\n",
       " -->\n",
       "<!-- Title: %3 Pages: 1 -->\n",
       "<svg width=\"134pt\" height=\"305pt\"\n",
       " viewBox=\"0.00 0.00 134.00 305.00\" xmlns=\"http://www.w3.org/2000/svg\" xmlns:xlink=\"http://www.w3.org/1999/xlink\">\n",
       "<g id=\"graph0\" class=\"graph\" transform=\"scale(1 1) rotate(0) translate(4 301)\">\n",
       "<title>%3</title>\n",
       "<polygon fill=\"#ffffff\" stroke=\"transparent\" points=\"-4,4 -4,-301 130,-301 130,4 -4,4\"/>\n",
       "<!-- C0 -->\n",
       "<g id=\"node2\" class=\"node\">\n",
       "<title>C0</title>\n",
       "<ellipse fill=\"none\" stroke=\"#000000\" stroke-width=\"2\" cx=\"99\" cy=\"-279\" rx=\"27\" ry=\"18\"/>\n",
       "<text text-anchor=\"middle\" x=\"99\" y=\"-275.3\" font-family=\"Times,serif\" font-size=\"14.00\" fill=\"#000000\">C0</text>\n",
       "</g>\n",
       "<!-- D0 -->\n",
       "<g id=\"node3\" class=\"node\">\n",
       "<title>D0</title>\n",
       "<ellipse fill=\"none\" stroke=\"#000000\" stroke-dasharray=\"5,2\" cx=\"99\" cy=\"-192\" rx=\"27\" ry=\"18\"/>\n",
       "<text text-anchor=\"middle\" x=\"99\" y=\"-188.3\" font-family=\"Times,serif\" font-size=\"14.00\" fill=\"#000000\">D0</text>\n",
       "</g>\n",
       "<!-- C0&#45;&gt;D0 -->\n",
       "<g id=\"edge1\" class=\"edge\">\n",
       "<title>C0&#45;&gt;D0</title>\n",
       "<path fill=\"none\" stroke=\"#000000\" d=\"M99,-260.9735C99,-249.1918 99,-233.5607 99,-220.1581\"/>\n",
       "<polygon fill=\"#000000\" stroke=\"#000000\" points=\"102.5001,-220.0033 99,-210.0034 95.5001,-220.0034 102.5001,-220.0033\"/>\n",
       "<text text-anchor=\"middle\" x=\"106.5\" y=\"-231.8\" font-family=\"Times,serif\" font-size=\"14.00\" fill=\"#000000\"> &#160;1</text>\n",
       "</g>\n",
       "<!-- C1 -->\n",
       "<g id=\"node4\" class=\"node\">\n",
       "<title>C1</title>\n",
       "<ellipse fill=\"none\" stroke=\"#000000\" cx=\"99\" cy=\"-105\" rx=\"27\" ry=\"18\"/>\n",
       "<text text-anchor=\"middle\" x=\"99\" y=\"-101.3\" font-family=\"Times,serif\" font-size=\"14.00\" fill=\"#000000\">C1</text>\n",
       "</g>\n",
       "<!-- D0&#45;&gt;C1 -->\n",
       "<g id=\"edge3\" class=\"edge\">\n",
       "<title>D0&#45;&gt;C1</title>\n",
       "<path fill=\"none\" stroke=\"#000000\" d=\"M99,-173.9735C99,-162.1918 99,-146.5607 99,-133.1581\"/>\n",
       "<polygon fill=\"#000000\" stroke=\"#000000\" points=\"102.5001,-133.0033 99,-123.0034 95.5001,-133.0034 102.5001,-133.0033\"/>\n",
       "<text text-anchor=\"middle\" x=\"106\" y=\"-144.8\" font-family=\"Times,serif\" font-size=\"14.00\" fill=\"#000000\"> &#160;ε</text>\n",
       "</g>\n",
       "<!-- D1 -->\n",
       "<g id=\"node5\" class=\"node\">\n",
       "<title>D1</title>\n",
       "<ellipse fill=\"none\" stroke=\"#000000\" stroke-dasharray=\"5,2\" cx=\"99\" cy=\"-18\" rx=\"27\" ry=\"18\"/>\n",
       "<text text-anchor=\"middle\" x=\"99\" y=\"-14.3\" font-family=\"Times,serif\" font-size=\"14.00\" fill=\"#000000\">D1</text>\n",
       "</g>\n",
       "<!-- C1&#45;&gt;D1 -->\n",
       "<g id=\"edge2\" class=\"edge\">\n",
       "<title>C1&#45;&gt;D1</title>\n",
       "<path fill=\"none\" stroke=\"#000000\" d=\"M99,-86.9735C99,-75.1918 99,-59.5607 99,-46.1581\"/>\n",
       "<polygon fill=\"#000000\" stroke=\"#000000\" points=\"102.5001,-46.0033 99,-36.0034 95.5001,-46.0034 102.5001,-46.0033\"/>\n",
       "<text text-anchor=\"middle\" x=\"106.5\" y=\"-57.8\" font-family=\"Times,serif\" font-size=\"14.00\" fill=\"#000000\"> &#160;1</text>\n",
       "</g>\n",
       "</g>\n",
       "</svg>\n"
      ],
      "text/plain": [
       "<__main__.automata at 0x7f13a59e2b90>"
      ]
     },
     "execution_count": 5,
     "metadata": {},
     "output_type": "execute_result"
    }
   ],
   "source": [
    "a = automata([\"A\", \"B\",], [1,2], \"A\", \"B\")\n",
    "a.edge(\"A\", \"B\", \"0\")\n",
    "\n",
    "\n",
    "b = automata([\"C\", \"\", \"D\"], [], \"C\", \"D\")\n",
    "b.edge(\"C\", \"D\", \"1\")\n",
    "\n",
    "c = automata.from_concat([b,b])\n",
    "c"
   ]
  },
  {
   "cell_type": "markdown",
   "metadata": {
    "slideshow": {
     "slide_type": "slide"
    }
   },
   "source": [
    "# Regexplained \n",
    "\n",
    "## Samathy Barratt - PyConUK 2019\n",
    "\n",
    "\n",
    "\n",
    "\n",
    "\n",
    "*@samathy_barratt*\n",
    "\n",
    "*s@social.samathy.space*\n",
    "\n",
    "\n",
    "CC-BY-SA Samathy Barratt"
   ]
  },
  {
   "cell_type": "markdown",
   "metadata": {
    "slideshow": {
     "slide_type": "notes"
    }
   },
   "source": [
    "Going to discuss:\n",
    "* Set Theory\n",
    "* Theory of computation\n",
    "* Finite Automata\n",
    "* Languages\n",
    "* Regular Expressions"
   ]
  },
  {
   "cell_type": "markdown",
   "metadata": {
    "slideshow": {
     "slide_type": "slide"
    }
   },
   "source": [
    "Regular Expressions"
   ]
  },
  {
   "cell_type": "markdown",
   "metadata": {
    "slideshow": {
     "slide_type": "slide"
    }
   },
   "source": [
    "What is a regular expression?"
   ]
  },
  {
   "cell_type": "markdown",
   "metadata": {
    "slideshow": {
     "slide_type": "slide"
    }
   },
   "source": [
    "A garbled collection of characters which somehow recognises strings"
   ]
  },
  {
   "cell_type": "markdown",
   "metadata": {
    "slideshow": {
     "slide_type": "notes"
    }
   },
   "source": [
    "to me, they were always magic incantations - until I understood that they're more like an assembly language for finite automata."
   ]
  },
  {
   "cell_type": "markdown",
   "metadata": {
    "slideshow": {
     "slide_type": "slide"
    }
   },
   "source": [
    "##Where can we find regexes?"
   ]
  },
  {
   "cell_type": "markdown",
   "metadata": {
    "slideshow": {
     "slide_type": "subslide"
    }
   },
   "source": [
    "###String Matching"
   ]
  },
  {
   "cell_type": "markdown",
   "metadata": {
    "slideshow": {
     "slide_type": "subslide"
    }
   },
   "source": [
    "* Compilers"
   ]
  },
  {
   "cell_type": "markdown",
   "metadata": {
    "slideshow": {
     "slide_type": "subslide"
    }
   },
   "source": [
    "* Web Servers"
   ]
  },
  {
   "cell_type": "markdown",
   "metadata": {
    "slideshow": {
     "slide_type": "subslide"
    }
   },
   "source": [
    "* Pretty much any program that needs to know if a string, is a particular type of string or not"
   ]
  },
  {
   "cell_type": "markdown",
   "metadata": {
    "slideshow": {
     "slide_type": "notes"
    }
   },
   "source": [
    "And that includes knowing if the type of string, is one that contains a substring or not."
   ]
  },
  {
   "cell_type": "markdown",
   "metadata": {
    "slideshow": {
     "slide_type": "slide"
    }
   },
   "source": [
    "Lets get onto looking at a regular expression\n",
    "\n",
    "### `^(\\w)+\\@(\\w)+\\.(\\w)`"
   ]
  },
  {
   "cell_type": "markdown",
   "metadata": {
    "slideshow": {
     "slide_type": "notes"
    }
   },
   "source": [
    "A simple, nieve regex which matches email addresses"
   ]
  },
  {
   "cell_type": "code",
   "execution_count": 6,
   "metadata": {
    "slideshow": {
     "slide_type": "subslide"
    }
   },
   "outputs": [
    {
     "data": {
      "text/plain": [
       "['chrisjen_avasarala@UN.com',\n",
       " 'Josephus_Miller@StarHelix.net',\n",
       " 'Dimitri_Havelock@StarHelix.net',\n",
       " 'Fred_Johnson@TychoStation.space']"
      ]
     },
     "execution_count": 6,
     "metadata": {},
     "output_type": "execute_result"
    }
   ],
   "source": [
    "#A very simple Regex\n",
    "\n",
    "regex = re.compile(\"^(\\w)+\\@(\\w)+\\.(\\w)\")\n",
    "\n",
    "expanse_characters = [\n",
    "    \"chrisjen_avasarala@UN.com\",\n",
    "    \"James_Holden\",\n",
    "    \"Amos_Burton\",\n",
    "    \"Praxidike Meng\",\n",
    "    \"Mei Meng\",\n",
    "    \"Josephus_Miller@StarHelix.net\",\n",
    "    \"Naomi_Nagata\",\n",
    "    \"Bobbie Draper\",\n",
    "    \"Dimitri_Havelock@StarHelix.net\",\n",
    "    \"Fred_Johnson@TychoStation.space\",\n",
    "]\n",
    "\n",
    "list(filter(regex.match, expanse_characters))\n",
    "\n"
   ]
  },
  {
   "cell_type": "code",
   "execution_count": 7,
   "metadata": {
    "slideshow": {
     "slide_type": "subslide"
    }
   },
   "outputs": [],
   "source": [
    "a = automata(\n",
    "[\"A\", \"B\", \"C\", \"D\"],\n",
    "[],\n",
    "\"A\",\n",
    "[\"D\"])\n",
    "\n",
    "a.edge(\"A\", \"A\", \"\\w\")\n",
    "a.edge(\"A\", \"B\", \"@\")\n",
    "a.edge(\"B\", \"B\", \"\\w\")\n",
    "a.edge(\"B\", \"C\", \"\\.\")\n",
    "a.edge(\"C\", \"D\", \"\\w\")\n",
    "a.edge(\"D\", \"D\", \"\\w\")\n"
   ]
  },
  {
   "cell_type": "code",
   "execution_count": 8,
   "metadata": {
    "scrolled": true,
    "slideshow": {
     "slide_type": "subslide"
    }
   },
   "outputs": [
    {
     "data": {
      "image/svg+xml": [
       "<?xml version=\"1.0\" encoding=\"UTF-8\" standalone=\"no\"?>\n",
       "<!DOCTYPE svg PUBLIC \"-//W3C//DTD SVG 1.1//EN\"\n",
       " \"http://www.w3.org/Graphics/SVG/1.1/DTD/svg11.dtd\">\n",
       "<!-- Generated by graphviz version 2.40.1 (0)\n",
       " -->\n",
       "<!-- Title: %3 Pages: 1 -->\n",
       "<svg width=\"102pt\" height=\"378pt\"\n",
       " viewBox=\"0.00 0.00 102.00 378.00\" xmlns=\"http://www.w3.org/2000/svg\" xmlns:xlink=\"http://www.w3.org/1999/xlink\">\n",
       "<g id=\"graph0\" class=\"graph\" transform=\"scale(1 1) rotate(0) translate(4 374)\">\n",
       "<title>%3</title>\n",
       "<polygon fill=\"#ffffff\" stroke=\"transparent\" points=\"-4,4 -4,-374 98,-374 98,4 -4,4\"/>\n",
       "<!-- A -->\n",
       "<g id=\"node2\" class=\"node\">\n",
       "<title>A</title>\n",
       "<ellipse fill=\"none\" stroke=\"#000000\" stroke-width=\"2\" cx=\"27\" cy=\"-279\" rx=\"27\" ry=\"18\"/>\n",
       "<text text-anchor=\"middle\" x=\"27\" y=\"-275.3\" font-family=\"Times,serif\" font-size=\"14.00\" fill=\"#000000\">A</text>\n",
       "</g>\n",
       "<!-- &#45;&gt;A -->\n",
       "<g id=\"edge1\" class=\"edge\">\n",
       "<title>&#45;&gt;A</title>\n",
       "<path fill=\"none\" stroke=\"#000000\" d=\"M27,-333.9551C27,-325.8828 27,-316.1764 27,-307.1817\"/>\n",
       "<polygon fill=\"#000000\" stroke=\"#000000\" points=\"30.5001,-307.0903 27,-297.0904 23.5001,-307.0904 30.5001,-307.0903\"/>\n",
       "</g>\n",
       "<!-- A&#45;&gt;A -->\n",
       "<g id=\"edge2\" class=\"edge\">\n",
       "<title>A&#45;&gt;A</title>\n",
       "<path fill=\"none\" stroke=\"#000000\" d=\"M52.4435,-285.6907C63.0278,-286.1521 72,-283.9219 72,-279 72,-275.77 68.136,-273.6992 62.4881,-272.7876\"/>\n",
       "<polygon fill=\"#000000\" stroke=\"#000000\" points=\"62.5987,-269.289 52.4435,-272.3093 62.2656,-276.2811 62.5987,-269.289\"/>\n",
       "<text text-anchor=\"middle\" x=\"83\" y=\"-275.3\" font-family=\"Times,serif\" font-size=\"14.00\" fill=\"#000000\"> &#160;\\w</text>\n",
       "</g>\n",
       "<!-- B -->\n",
       "<g id=\"node3\" class=\"node\">\n",
       "<title>B</title>\n",
       "<ellipse fill=\"none\" stroke=\"#000000\" cx=\"27\" cy=\"-192\" rx=\"27\" ry=\"18\"/>\n",
       "<text text-anchor=\"middle\" x=\"27\" y=\"-188.3\" font-family=\"Times,serif\" font-size=\"14.00\" fill=\"#000000\">B</text>\n",
       "</g>\n",
       "<!-- A&#45;&gt;B -->\n",
       "<g id=\"edge3\" class=\"edge\">\n",
       "<title>A&#45;&gt;B</title>\n",
       "<path fill=\"none\" stroke=\"#000000\" d=\"M27,-260.9735C27,-249.1918 27,-233.5607 27,-220.1581\"/>\n",
       "<polygon fill=\"#000000\" stroke=\"#000000\" points=\"30.5001,-220.0033 27,-210.0034 23.5001,-220.0034 30.5001,-220.0033\"/>\n",
       "<text text-anchor=\"middle\" x=\"37.5\" y=\"-231.8\" font-family=\"Times,serif\" font-size=\"14.00\" fill=\"#000000\"> &#160;@</text>\n",
       "</g>\n",
       "<!-- B&#45;&gt;B -->\n",
       "<g id=\"edge4\" class=\"edge\">\n",
       "<title>B&#45;&gt;B</title>\n",
       "<path fill=\"none\" stroke=\"#000000\" d=\"M51.5325,-199.752C62.5078,-200.4902 72,-197.9063 72,-192 72,-188.0317 67.7151,-185.5632 61.5743,-184.5944\"/>\n",
       "<polygon fill=\"#000000\" stroke=\"#000000\" points=\"61.6472,-181.0949 51.5325,-184.248 61.4059,-188.0908 61.6472,-181.0949\"/>\n",
       "<text text-anchor=\"middle\" x=\"83\" y=\"-188.3\" font-family=\"Times,serif\" font-size=\"14.00\" fill=\"#000000\"> &#160;\\w</text>\n",
       "</g>\n",
       "<!-- C -->\n",
       "<g id=\"node4\" class=\"node\">\n",
       "<title>C</title>\n",
       "<ellipse fill=\"none\" stroke=\"#000000\" cx=\"27\" cy=\"-105\" rx=\"27\" ry=\"18\"/>\n",
       "<text text-anchor=\"middle\" x=\"27\" y=\"-101.3\" font-family=\"Times,serif\" font-size=\"14.00\" fill=\"#000000\">C</text>\n",
       "</g>\n",
       "<!-- B&#45;&gt;C -->\n",
       "<g id=\"edge5\" class=\"edge\">\n",
       "<title>B&#45;&gt;C</title>\n",
       "<path fill=\"none\" stroke=\"#000000\" d=\"M27,-173.9735C27,-162.1918 27,-146.5607 27,-133.1581\"/>\n",
       "<polygon fill=\"#000000\" stroke=\"#000000\" points=\"30.5001,-133.0033 27,-123.0034 23.5001,-133.0034 30.5001,-133.0033\"/>\n",
       "<text text-anchor=\"middle\" x=\"35\" y=\"-144.8\" font-family=\"Times,serif\" font-size=\"14.00\" fill=\"#000000\"> &#160;\\.</text>\n",
       "</g>\n",
       "<!-- D -->\n",
       "<g id=\"node5\" class=\"node\">\n",
       "<title>D</title>\n",
       "<ellipse fill=\"none\" stroke=\"#000000\" stroke-dasharray=\"5,2\" cx=\"27\" cy=\"-18\" rx=\"27\" ry=\"18\"/>\n",
       "<text text-anchor=\"middle\" x=\"27\" y=\"-14.3\" font-family=\"Times,serif\" font-size=\"14.00\" fill=\"#000000\">D</text>\n",
       "</g>\n",
       "<!-- C&#45;&gt;D -->\n",
       "<g id=\"edge6\" class=\"edge\">\n",
       "<title>C&#45;&gt;D</title>\n",
       "<path fill=\"none\" stroke=\"#000000\" d=\"M27,-86.9735C27,-75.1918 27,-59.5607 27,-46.1581\"/>\n",
       "<polygon fill=\"#000000\" stroke=\"#000000\" points=\"30.5001,-46.0033 27,-36.0034 23.5001,-46.0034 30.5001,-46.0033\"/>\n",
       "<text text-anchor=\"middle\" x=\"38\" y=\"-57.8\" font-family=\"Times,serif\" font-size=\"14.00\" fill=\"#000000\"> &#160;\\w</text>\n",
       "</g>\n",
       "<!-- D&#45;&gt;D -->\n",
       "<g id=\"edge7\" class=\"edge\">\n",
       "<title>D&#45;&gt;D</title>\n",
       "<path fill=\"none\" stroke=\"#000000\" d=\"M51.5325,-25.752C62.5078,-26.4902 72,-23.9063 72,-18 72,-14.0317 67.7151,-11.5632 61.5743,-10.5944\"/>\n",
       "<polygon fill=\"#000000\" stroke=\"#000000\" points=\"61.6472,-7.0949 51.5325,-10.248 61.4059,-14.0908 61.6472,-7.0949\"/>\n",
       "<text text-anchor=\"middle\" x=\"83\" y=\"-14.3\" font-family=\"Times,serif\" font-size=\"14.00\" fill=\"#000000\"> &#160;\\w</text>\n",
       "</g>\n",
       "</g>\n",
       "</svg>\n"
      ],
      "text/plain": [
       "<__main__.automata at 0x7f139d7d9950>"
      ]
     },
     "execution_count": 8,
     "metadata": {},
     "output_type": "execute_result"
    }
   ],
   "source": [
    "a"
   ]
  },
  {
   "cell_type": "markdown",
   "metadata": {
    "slideshow": {
     "slide_type": "notes"
    }
   },
   "source": [
    "Or, we could display it as a graph of some sort."
   ]
  },
  {
   "cell_type": "markdown",
   "metadata": {
    "slideshow": {
     "slide_type": "subslide"
    }
   },
   "source": [
    "This graph _could_ be described like so:\n",
    "\n",
    "$$ Q = \\{q0, q1, q2, q3 \\} $$\n",
    "$$ \\Sigma = \\{\\{a,b,c,d,e,f... x,y,z\\}, \\{\"Unicode characters\" \\} $$\n",
    "$$ \\delta = Q x \\Sigma \\rightarrow Q $$\n",
    "$$ q0 \\in Q $$\n",
    "$$ F \\subseteq Q $$\n",
    "\n",
    "\n",
    "\n",
    "\n",
    "\n"
   ]
  },
  {
   "cell_type": "markdown",
   "metadata": {
    "slideshow": {
     "slide_type": "notes"
    }
   },
   "source": [
    "A bit better, but lets look at whats going on here.\n",
    "\n",
    "We have broken our regular expression into a graph\n",
    "\n",
    "This graph, and the formal mathematical explaination of it above, is a Deterministic Finite Automaton."
   ]
  },
  {
   "cell_type": "markdown",
   "metadata": {
    "slideshow": {
     "slide_type": "slide"
    }
   },
   "source": [
    "##Finite Automata\n",
    "\n",
    "State Machines"
   ]
  },
  {
   "cell_type": "markdown",
   "metadata": {
    "slideshow": {
     "slide_type": "notes"
    }
   },
   "source": [
    "Finite Automata, or state machines\n",
    "\n",
    "The simplest model of computing\n",
    "Very little memory, but surprisingly useful processing power.\n",
    "Present in many small machines - like an electric door, or perhaps a washing machine.\n",
    "Used in parts of compilers and many, many programs.\n",
    "Can be used to represent much more complex computational problems."
   ]
  },
  {
   "cell_type": "markdown",
   "metadata": {
    "slideshow": {
     "slide_type": "subslide"
    }
   },
   "source": [
    "Capable of recognising _Regular Languages_"
   ]
  },
  {
   "cell_type": "markdown",
   "metadata": {},
   "source": [
    "**Set** $\\rightarrow$ A collection of items where no item appears more than once."
   ]
  },
  {
   "cell_type": "markdown",
   "metadata": {
    "slideshow": {
     "slide_type": "subslide"
    }
   },
   "source": [
    "**Language** $ \\rightarrow $ The set of strings recognised by a machine\n",
    "\n"
   ]
  },
  {
   "cell_type": "markdown",
   "metadata": {
    "slideshow": {
     "slide_type": "subslide"
    }
   },
   "source": [
    "**String (over an alphabet)** $ \\rightarrow $ A combination of symbols such that each symbol in the string is an element of the alphabet."
   ]
  },
  {
   "cell_type": "markdown",
   "metadata": {
    "slideshow": {
     "slide_type": "subslide"
    }
   },
   "source": [
    "**Alphabet** $\\rightarrow$ A finite set of symbols"
   ]
  },
  {
   "cell_type": "markdown",
   "metadata": {
    "slideshow": {
     "slide_type": "subslide"
    }
   },
   "source": [
    "* **Set** $\\rightarrow$ A collection of items where no item appears more than once. \n",
    "* **Language** $ \\rightarrow $ The set of strings recognised by a machine $ L = \\{ 001, 110, 111111, S_1, S_2 ... \\} $\n",
    "* **String (over an alphabet)** $ \\rightarrow $ A combination of symbols such that each symbol in the string is an element of the alphabet. $ S = \\{ w | w \\in A \\} $\n",
    "* **Alphabet** $\\rightarrow$ A finite set of symbols $ A = \\{0,1\\} $"
   ]
  },
  {
   "cell_type": "markdown",
   "metadata": {
    "slideshow": {
     "slide_type": "subslide"
    }
   },
   "source": [
    "**Empty String** $ \\rightarrow $ $ \\varepsilon$ , A string containing no characters, a 0 if you will"
   ]
  },
  {
   "cell_type": "markdown",
   "metadata": {
    "slideshow": {
     "slide_type": "subslide"
    }
   },
   "source": [
    "**Empty Set** $ \\rightarrow $ $ \\emptyset $, A set containing nothing."
   ]
  },
  {
   "cell_type": "markdown",
   "metadata": {
    "slideshow": {
     "slide_type": "subslide"
    }
   },
   "source": [
    "### A Language is a _regular language_ as long as some finite automaton recognises it"
   ]
  },
  {
   "cell_type": "markdown",
   "metadata": {
    "slideshow": {
     "slide_type": "notes"
    }
   },
   "source": [
    "A regular language is simple a collection of symbols from an alphabet. Can be letters, numbers, tokens or some other signal."
   ]
  },
  {
   "cell_type": "markdown",
   "metadata": {
    "slideshow": {
     "slide_type": "notes"
    }
   },
   "source": [
    "Ditching the regular expression for a second, lets look at what a finite automoton is"
   ]
  },
  {
   "cell_type": "markdown",
   "metadata": {
    "slideshow": {
     "slide_type": "slide"
    }
   },
   "source": [
    "Lets recognise strings containing `01` anywhere."
   ]
  },
  {
   "cell_type": "markdown",
   "metadata": {
    "slideshow": {
     "slide_type": "subslide"
    }
   },
   "source": [
    "DFA for strings containing 01\n",
    "\n",
    "$$ Q = \\{A, B, C \\} $$\n",
    "$$ \\Sigma = \\{0,1\\}$$\n",
    "$$ \\delta = Q x \\Sigma \\rightarrow Q $$\n",
    "$$ A \\in Q $$\n",
    "$$ F \\subseteq Q = C $$\n"
   ]
  },
  {
   "cell_type": "code",
   "execution_count": 251,
   "metadata": {
    "slideshow": {
     "slide_type": "subslide"
    }
   },
   "outputs": [],
   "source": [
    "states = set([\"A\", \"B\", \"C\"]) # Q = {\"A\", \"B\"}\n",
    "alphabet = set([0,1])    # Σ = {0,1}\n",
    "start_state = \"A\" # A is in states\n",
    "end_state = states.intersection(set([\"C\"]))"
   ]
  },
  {
   "cell_type": "code",
   "execution_count": 317,
   "metadata": {
    "slideshow": {
     "slide_type": "subslide"
    }
   },
   "outputs": [],
   "source": [
    "zero_one_a = automata(states, alphabet, start_state, end_state)"
   ]
  },
  {
   "cell_type": "code",
   "execution_count": 318,
   "metadata": {
    "slideshow": {
     "slide_type": "subslide"
    }
   },
   "outputs": [
    {
     "data": {
      "image/svg+xml": [
       "<?xml version=\"1.0\" encoding=\"UTF-8\" standalone=\"no\"?>\n",
       "<!DOCTYPE svg PUBLIC \"-//W3C//DTD SVG 1.1//EN\"\n",
       " \"http://www.w3.org/Graphics/SVG/1.1/DTD/svg11.dtd\">\n",
       "<!-- Generated by graphviz version 2.40.1 (0)\n",
       " -->\n",
       "<!-- Title: %3 Pages: 1 -->\n",
       "<svg width=\"109pt\" height=\"291pt\"\n",
       " viewBox=\"0.00 0.00 109.00 291.00\" xmlns=\"http://www.w3.org/2000/svg\" xmlns:xlink=\"http://www.w3.org/1999/xlink\">\n",
       "<g id=\"graph0\" class=\"graph\" transform=\"scale(1 1) rotate(0) translate(4 287)\">\n",
       "<title>%3</title>\n",
       "<polygon fill=\"#ffffff\" stroke=\"transparent\" points=\"-4,4 -4,-287 105,-287 105,4 -4,4\"/>\n",
       "<!-- B -->\n",
       "<g id=\"node1\" class=\"node\">\n",
       "<title>B</title>\n",
       "<ellipse fill=\"none\" stroke=\"#000000\" cx=\"27\" cy=\"-105\" rx=\"27\" ry=\"18\"/>\n",
       "<text text-anchor=\"middle\" x=\"27\" y=\"-101.3\" font-family=\"Times,serif\" font-size=\"14.00\" fill=\"#000000\">B</text>\n",
       "</g>\n",
       "<!-- B&#45;&gt;B -->\n",
       "<g id=\"edge4\" class=\"edge\">\n",
       "<title>B&#45;&gt;B</title>\n",
       "<path fill=\"none\" stroke=\"#000000\" d=\"M51.5325,-112.752C62.5078,-113.4902 72,-110.9063 72,-105 72,-101.0317 67.7151,-98.5632 61.5743,-97.5944\"/>\n",
       "<polygon fill=\"#000000\" stroke=\"#000000\" points=\"61.6472,-94.0949 51.5325,-97.248 61.4059,-101.0908 61.6472,-94.0949\"/>\n",
       "<text text-anchor=\"middle\" x=\"79.5\" y=\"-101.3\" font-family=\"Times,serif\" font-size=\"14.00\" fill=\"#000000\"> &#160;0</text>\n",
       "</g>\n",
       "<!-- C -->\n",
       "<g id=\"node4\" class=\"node\">\n",
       "<title>C</title>\n",
       "<ellipse fill=\"none\" stroke=\"#000000\" stroke-dasharray=\"5,2\" cx=\"27\" cy=\"-18\" rx=\"27\" ry=\"18\"/>\n",
       "<text text-anchor=\"middle\" x=\"27\" y=\"-14.3\" font-family=\"Times,serif\" font-size=\"14.00\" fill=\"#000000\">C</text>\n",
       "</g>\n",
       "<!-- B&#45;&gt;C -->\n",
       "<g id=\"edge5\" class=\"edge\">\n",
       "<title>B&#45;&gt;C</title>\n",
       "<path fill=\"none\" stroke=\"#000000\" d=\"M27,-86.9735C27,-75.1918 27,-59.5607 27,-46.1581\"/>\n",
       "<polygon fill=\"#000000\" stroke=\"#000000\" points=\"30.5001,-46.0033 27,-36.0034 23.5001,-46.0034 30.5001,-46.0033\"/>\n",
       "<text text-anchor=\"middle\" x=\"34.5\" y=\"-57.8\" font-family=\"Times,serif\" font-size=\"14.00\" fill=\"#000000\"> &#160;1</text>\n",
       "</g>\n",
       "<!-- A -->\n",
       "<g id=\"node3\" class=\"node\">\n",
       "<title>A</title>\n",
       "<ellipse fill=\"none\" stroke=\"#000000\" stroke-width=\"2\" cx=\"27\" cy=\"-192\" rx=\"27\" ry=\"18\"/>\n",
       "<text text-anchor=\"middle\" x=\"27\" y=\"-188.3\" font-family=\"Times,serif\" font-size=\"14.00\" fill=\"#000000\">A</text>\n",
       "</g>\n",
       "<!-- &#45;&gt;A -->\n",
       "<g id=\"edge1\" class=\"edge\">\n",
       "<title>&#45;&gt;A</title>\n",
       "<path fill=\"none\" stroke=\"#000000\" d=\"M27,-246.9551C27,-238.8828 27,-229.1764 27,-220.1817\"/>\n",
       "<polygon fill=\"#000000\" stroke=\"#000000\" points=\"30.5001,-220.0903 27,-210.0904 23.5001,-220.0904 30.5001,-220.0903\"/>\n",
       "</g>\n",
       "<!-- A&#45;&gt;B -->\n",
       "<g id=\"edge3\" class=\"edge\">\n",
       "<title>A&#45;&gt;B</title>\n",
       "<path fill=\"none\" stroke=\"#000000\" d=\"M27,-173.9735C27,-162.1918 27,-146.5607 27,-133.1581\"/>\n",
       "<polygon fill=\"#000000\" stroke=\"#000000\" points=\"30.5001,-133.0033 27,-123.0034 23.5001,-133.0034 30.5001,-133.0033\"/>\n",
       "<text text-anchor=\"middle\" x=\"34.5\" y=\"-144.8\" font-family=\"Times,serif\" font-size=\"14.00\" fill=\"#000000\"> &#160;0</text>\n",
       "</g>\n",
       "<!-- A&#45;&gt;A -->\n",
       "<g id=\"edge2\" class=\"edge\">\n",
       "<title>A&#45;&gt;A</title>\n",
       "<path fill=\"none\" stroke=\"#000000\" d=\"M52.4435,-198.6907C63.0278,-199.1521 72,-196.9219 72,-192 72,-188.77 68.136,-186.6992 62.4881,-185.7876\"/>\n",
       "<polygon fill=\"#000000\" stroke=\"#000000\" points=\"62.5987,-182.289 52.4435,-185.3093 62.2656,-189.2811 62.5987,-182.289\"/>\n",
       "<text text-anchor=\"middle\" x=\"79.5\" y=\"-188.3\" font-family=\"Times,serif\" font-size=\"14.00\" fill=\"#000000\"> &#160;1</text>\n",
       "</g>\n",
       "<!-- C&#45;&gt;C -->\n",
       "<g id=\"edge6\" class=\"edge\">\n",
       "<title>C&#45;&gt;C</title>\n",
       "<path fill=\"none\" stroke=\"#000000\" d=\"M51.5325,-25.752C62.5078,-26.4902 72,-23.9063 72,-18 72,-14.0317 67.7151,-11.5632 61.5743,-10.5944\"/>\n",
       "<polygon fill=\"#000000\" stroke=\"#000000\" points=\"61.6472,-7.0949 51.5325,-10.248 61.4059,-14.0908 61.6472,-7.0949\"/>\n",
       "<text text-anchor=\"middle\" x=\"86.5\" y=\"-14.3\" font-family=\"Times,serif\" font-size=\"14.00\" fill=\"#000000\"> &#160;1, 0</text>\n",
       "</g>\n",
       "</g>\n",
       "</svg>\n"
      ],
      "text/plain": [
       "<__main__.automata at 0x7f4f53c56d50>"
      ]
     },
     "execution_count": 318,
     "metadata": {},
     "output_type": "execute_result"
    }
   ],
   "source": [
    "zero_one_a.edge(\"A\", \"A\", \"1\")\n",
    "zero_one_a.edge(\"A\", \"B\", \"0\")\n",
    "zero_one_a.edge(\"B\", \"B\", \"0\")\n",
    "zero_one_a.edge(\"B\", \"C\", \"1\")\n",
    "zero_one_a.edge(\"C\", \"C\", \"1, 0\")\n",
    "\n",
    "zero_one_a"
   ]
  },
  {
   "cell_type": "markdown",
   "metadata": {
    "slideshow": {
     "slide_type": "notes"
    }
   },
   "source": [
    "DFAs have a number of states.\n",
    "\n",
    "A here, is our starting state, A"
   ]
  },
  {
   "cell_type": "code",
   "execution_count": 319,
   "metadata": {
    "slideshow": {
     "slide_type": "subslide"
    }
   },
   "outputs": [
    {
     "data": {
      "image/svg+xml": [
       "<?xml version=\"1.0\" encoding=\"UTF-8\" standalone=\"no\"?>\n",
       "<!DOCTYPE svg PUBLIC \"-//W3C//DTD SVG 1.1//EN\"\n",
       " \"http://www.w3.org/Graphics/SVG/1.1/DTD/svg11.dtd\">\n",
       "<!-- Generated by graphviz version 2.40.1 (0)\n",
       " -->\n",
       "<!-- Title: %3 Pages: 1 -->\n",
       "<svg width=\"62pt\" height=\"116pt\"\n",
       " viewBox=\"0.00 0.00 62.00 116.00\" xmlns=\"http://www.w3.org/2000/svg\" xmlns:xlink=\"http://www.w3.org/1999/xlink\">\n",
       "<g id=\"graph0\" class=\"graph\" transform=\"scale(1 1) rotate(0) translate(4 112)\">\n",
       "<title>%3</title>\n",
       "<polygon fill=\"#ffffff\" stroke=\"transparent\" points=\"-4,4 -4,-112 58,-112 58,4 -4,4\"/>\n",
       "<!-- A -->\n",
       "<g id=\"node2\" class=\"node\">\n",
       "<title>A</title>\n",
       "<ellipse fill=\"none\" stroke=\"#000000\" stroke-width=\"2\" cx=\"27\" cy=\"-18\" rx=\"27\" ry=\"18\"/>\n",
       "<text text-anchor=\"middle\" x=\"27\" y=\"-14.3\" font-family=\"Times,serif\" font-size=\"14.00\" fill=\"#000000\">A</text>\n",
       "</g>\n",
       "<!-- &#45;&gt;A -->\n",
       "<g id=\"edge1\" class=\"edge\">\n",
       "<title>&#45;&gt;A</title>\n",
       "<path fill=\"none\" stroke=\"#000000\" d=\"M27,-71.8314C27,-64.131 27,-54.9743 27,-46.4166\"/>\n",
       "<polygon fill=\"#000000\" stroke=\"#000000\" points=\"30.5001,-46.4132 27,-36.4133 23.5001,-46.4133 30.5001,-46.4132\"/>\n",
       "</g>\n",
       "</g>\n",
       "</svg>\n"
      ],
      "text/plain": [
       "<__main__.automata at 0x7f4f53201250>"
      ]
     },
     "execution_count": 319,
     "metadata": {},
     "output_type": "execute_result"
    }
   ],
   "source": [
    "a = automata([\"A\"], [], \"A\", \"\")\n",
    "a"
   ]
  },
  {
   "cell_type": "code",
   "execution_count": 320,
   "metadata": {
    "slideshow": {
     "slide_type": "subslide"
    }
   },
   "outputs": [
    {
     "data": {
      "image/svg+xml": [
       "<?xml version=\"1.0\" encoding=\"UTF-8\" standalone=\"no\"?>\n",
       "<!DOCTYPE svg PUBLIC \"-//W3C//DTD SVG 1.1//EN\"\n",
       " \"http://www.w3.org/Graphics/SVG/1.1/DTD/svg11.dtd\">\n",
       "<!-- Generated by graphviz version 2.40.1 (0)\n",
       " -->\n",
       "<!-- Title: %3 Pages: 1 -->\n",
       "<svg width=\"95pt\" height=\"117pt\"\n",
       " viewBox=\"0.00 0.00 95.00 117.00\" xmlns=\"http://www.w3.org/2000/svg\" xmlns:xlink=\"http://www.w3.org/1999/xlink\">\n",
       "<g id=\"graph0\" class=\"graph\" transform=\"scale(1 1) rotate(0) translate(4 113)\">\n",
       "<title>%3</title>\n",
       "<polygon fill=\"#ffffff\" stroke=\"transparent\" points=\"-4,4 -4,-113 91,-113 91,4 -4,4\"/>\n",
       "<!-- A -->\n",
       "<g id=\"node2\" class=\"node\">\n",
       "<title>A</title>\n",
       "<ellipse fill=\"none\" stroke=\"#000000\" stroke-width=\"2\" cx=\"27\" cy=\"-18\" rx=\"27\" ry=\"18\"/>\n",
       "<text text-anchor=\"middle\" x=\"27\" y=\"-14.3\" font-family=\"Times,serif\" font-size=\"14.00\" fill=\"#000000\">A</text>\n",
       "</g>\n",
       "<!-- &#45;&gt;A -->\n",
       "<g id=\"edge1\" class=\"edge\">\n",
       "<title>&#45;&gt;A</title>\n",
       "<path fill=\"none\" stroke=\"#000000\" d=\"M27,-72.9551C27,-64.8828 27,-55.1764 27,-46.1817\"/>\n",
       "<polygon fill=\"#000000\" stroke=\"#000000\" points=\"30.5001,-46.0903 27,-36.0904 23.5001,-46.0904 30.5001,-46.0903\"/>\n",
       "</g>\n",
       "<!-- A&#45;&gt;A -->\n",
       "<g id=\"edge2\" class=\"edge\">\n",
       "<title>A&#45;&gt;A</title>\n",
       "<path fill=\"none\" stroke=\"#000000\" d=\"M52.4435,-24.6907C63.0278,-25.1521 72,-22.9219 72,-18 72,-14.77 68.136,-12.6992 62.4881,-11.7876\"/>\n",
       "<polygon fill=\"#000000\" stroke=\"#000000\" points=\"62.5987,-8.289 52.4435,-11.3093 62.2656,-15.2811 62.5987,-8.289\"/>\n",
       "<text text-anchor=\"middle\" x=\"79.5\" y=\"-14.3\" font-family=\"Times,serif\" font-size=\"14.00\" fill=\"#000000\"> &#160;1</text>\n",
       "</g>\n",
       "</g>\n",
       "</svg>\n"
      ],
      "text/plain": [
       "<__main__.automata at 0x7f4f53201250>"
      ]
     },
     "execution_count": 320,
     "metadata": {},
     "output_type": "execute_result"
    }
   ],
   "source": [
    "a.edge(\"A\", \"A\", \"1\")\n",
    "a"
   ]
  },
  {
   "cell_type": "markdown",
   "metadata": {
    "slideshow": {
     "slide_type": "notes"
    }
   },
   "source": [
    "Our start state takes parts of our string as input, and does one of two things.\n",
    "\n",
    "If its a 1, the machine stays in the A state\n",
    "If its a 0, it moves on - perhaps because this is the start of the '01' string we're looking for.\n",
    "\n",
    "If it stays in the A state and reaches the end of the string, the machine returns False, it dies, the input was\n",
    "not one that we wanted."
   ]
  },
  {
   "cell_type": "code",
   "execution_count": 321,
   "metadata": {
    "slideshow": {
     "slide_type": "subslide"
    }
   },
   "outputs": [
    {
     "data": {
      "image/svg+xml": [
       "<?xml version=\"1.0\" encoding=\"UTF-8\" standalone=\"no\"?>\n",
       "<!DOCTYPE svg PUBLIC \"-//W3C//DTD SVG 1.1//EN\"\n",
       " \"http://www.w3.org/Graphics/SVG/1.1/DTD/svg11.dtd\">\n",
       "<!-- Generated by graphviz version 2.40.1 (0)\n",
       " -->\n",
       "<!-- Title: %3 Pages: 1 -->\n",
       "<svg width=\"95pt\" height=\"204pt\"\n",
       " viewBox=\"0.00 0.00 95.00 204.00\" xmlns=\"http://www.w3.org/2000/svg\" xmlns:xlink=\"http://www.w3.org/1999/xlink\">\n",
       "<g id=\"graph0\" class=\"graph\" transform=\"scale(1 1) rotate(0) translate(4 200)\">\n",
       "<title>%3</title>\n",
       "<polygon fill=\"#ffffff\" stroke=\"transparent\" points=\"-4,4 -4,-200 91,-200 91,4 -4,4\"/>\n",
       "<!-- A -->\n",
       "<g id=\"node2\" class=\"node\">\n",
       "<title>A</title>\n",
       "<ellipse fill=\"none\" stroke=\"#000000\" stroke-width=\"2\" cx=\"27\" cy=\"-105\" rx=\"27\" ry=\"18\"/>\n",
       "<text text-anchor=\"middle\" x=\"27\" y=\"-101.3\" font-family=\"Times,serif\" font-size=\"14.00\" fill=\"#000000\">A</text>\n",
       "</g>\n",
       "<!-- &#45;&gt;A -->\n",
       "<g id=\"edge1\" class=\"edge\">\n",
       "<title>&#45;&gt;A</title>\n",
       "<path fill=\"none\" stroke=\"#000000\" d=\"M27,-159.9551C27,-151.8828 27,-142.1764 27,-133.1817\"/>\n",
       "<polygon fill=\"#000000\" stroke=\"#000000\" points=\"30.5001,-133.0903 27,-123.0904 23.5001,-133.0904 30.5001,-133.0903\"/>\n",
       "</g>\n",
       "<!-- A&#45;&gt;A -->\n",
       "<g id=\"edge2\" class=\"edge\">\n",
       "<title>A&#45;&gt;A</title>\n",
       "<path fill=\"none\" stroke=\"#000000\" d=\"M52.4435,-111.6907C63.0278,-112.1521 72,-109.9219 72,-105 72,-101.77 68.136,-99.6992 62.4881,-98.7876\"/>\n",
       "<polygon fill=\"#000000\" stroke=\"#000000\" points=\"62.5987,-95.289 52.4435,-98.3093 62.2656,-102.2811 62.5987,-95.289\"/>\n",
       "<text text-anchor=\"middle\" x=\"79.5\" y=\"-101.3\" font-family=\"Times,serif\" font-size=\"14.00\" fill=\"#000000\"> &#160;1</text>\n",
       "</g>\n",
       "<!-- B -->\n",
       "<g id=\"node3\" class=\"node\">\n",
       "<title>B</title>\n",
       "<ellipse fill=\"none\" stroke=\"#000000\" cx=\"27\" cy=\"-18\" rx=\"27\" ry=\"18\"/>\n",
       "<text text-anchor=\"middle\" x=\"27\" y=\"-14.3\" font-family=\"Times,serif\" font-size=\"14.00\" fill=\"#000000\">B</text>\n",
       "</g>\n",
       "<!-- A&#45;&gt;B -->\n",
       "<g id=\"edge3\" class=\"edge\">\n",
       "<title>A&#45;&gt;B</title>\n",
       "<path fill=\"none\" stroke=\"#000000\" d=\"M27,-86.9735C27,-75.1918 27,-59.5607 27,-46.1581\"/>\n",
       "<polygon fill=\"#000000\" stroke=\"#000000\" points=\"30.5001,-46.0033 27,-36.0034 23.5001,-46.0034 30.5001,-46.0033\"/>\n",
       "<text text-anchor=\"middle\" x=\"34.5\" y=\"-57.8\" font-family=\"Times,serif\" font-size=\"14.00\" fill=\"#000000\"> &#160;0</text>\n",
       "</g>\n",
       "</g>\n",
       "</svg>\n"
      ],
      "text/plain": [
       "<__main__.automata at 0x7f4f53201250>"
      ]
     },
     "execution_count": 321,
     "metadata": {},
     "output_type": "execute_result"
    }
   ],
   "source": [
    "a.edge(\"A\", \"B\", \"0\")\n",
    "a"
   ]
  },
  {
   "cell_type": "markdown",
   "metadata": {
    "slideshow": {
     "slide_type": "notes"
    }
   },
   "source": [
    "Next, we add the move to state `B`, only if the character was `0`.\n",
    "We can essentially skip state A if the first character is `0`"
   ]
  },
  {
   "cell_type": "code",
   "execution_count": 322,
   "metadata": {
    "slideshow": {
     "slide_type": "subslide"
    }
   },
   "outputs": [
    {
     "data": {
      "image/svg+xml": [
       "<?xml version=\"1.0\" encoding=\"UTF-8\" standalone=\"no\"?>\n",
       "<!DOCTYPE svg PUBLIC \"-//W3C//DTD SVG 1.1//EN\"\n",
       " \"http://www.w3.org/Graphics/SVG/1.1/DTD/svg11.dtd\">\n",
       "<!-- Generated by graphviz version 2.40.1 (0)\n",
       " -->\n",
       "<!-- Title: %3 Pages: 1 -->\n",
       "<svg width=\"95pt\" height=\"204pt\"\n",
       " viewBox=\"0.00 0.00 95.00 204.00\" xmlns=\"http://www.w3.org/2000/svg\" xmlns:xlink=\"http://www.w3.org/1999/xlink\">\n",
       "<g id=\"graph0\" class=\"graph\" transform=\"scale(1 1) rotate(0) translate(4 200)\">\n",
       "<title>%3</title>\n",
       "<polygon fill=\"#ffffff\" stroke=\"transparent\" points=\"-4,4 -4,-200 91,-200 91,4 -4,4\"/>\n",
       "<!-- A -->\n",
       "<g id=\"node2\" class=\"node\">\n",
       "<title>A</title>\n",
       "<ellipse fill=\"none\" stroke=\"#000000\" stroke-width=\"2\" cx=\"27\" cy=\"-105\" rx=\"27\" ry=\"18\"/>\n",
       "<text text-anchor=\"middle\" x=\"27\" y=\"-101.3\" font-family=\"Times,serif\" font-size=\"14.00\" fill=\"#000000\">A</text>\n",
       "</g>\n",
       "<!-- &#45;&gt;A -->\n",
       "<g id=\"edge1\" class=\"edge\">\n",
       "<title>&#45;&gt;A</title>\n",
       "<path fill=\"none\" stroke=\"#000000\" d=\"M27,-159.9551C27,-151.8828 27,-142.1764 27,-133.1817\"/>\n",
       "<polygon fill=\"#000000\" stroke=\"#000000\" points=\"30.5001,-133.0903 27,-123.0904 23.5001,-133.0904 30.5001,-133.0903\"/>\n",
       "</g>\n",
       "<!-- A&#45;&gt;A -->\n",
       "<g id=\"edge2\" class=\"edge\">\n",
       "<title>A&#45;&gt;A</title>\n",
       "<path fill=\"none\" stroke=\"#000000\" d=\"M52.4435,-111.6907C63.0278,-112.1521 72,-109.9219 72,-105 72,-101.77 68.136,-99.6992 62.4881,-98.7876\"/>\n",
       "<polygon fill=\"#000000\" stroke=\"#000000\" points=\"62.5987,-95.289 52.4435,-98.3093 62.2656,-102.2811 62.5987,-95.289\"/>\n",
       "<text text-anchor=\"middle\" x=\"79.5\" y=\"-101.3\" font-family=\"Times,serif\" font-size=\"14.00\" fill=\"#000000\"> &#160;1</text>\n",
       "</g>\n",
       "<!-- B -->\n",
       "<g id=\"node3\" class=\"node\">\n",
       "<title>B</title>\n",
       "<ellipse fill=\"none\" stroke=\"#000000\" cx=\"27\" cy=\"-18\" rx=\"27\" ry=\"18\"/>\n",
       "<text text-anchor=\"middle\" x=\"27\" y=\"-14.3\" font-family=\"Times,serif\" font-size=\"14.00\" fill=\"#000000\">B</text>\n",
       "</g>\n",
       "<!-- A&#45;&gt;B -->\n",
       "<g id=\"edge3\" class=\"edge\">\n",
       "<title>A&#45;&gt;B</title>\n",
       "<path fill=\"none\" stroke=\"#000000\" d=\"M27,-86.9735C27,-75.1918 27,-59.5607 27,-46.1581\"/>\n",
       "<polygon fill=\"#000000\" stroke=\"#000000\" points=\"30.5001,-46.0033 27,-36.0034 23.5001,-46.0034 30.5001,-46.0033\"/>\n",
       "<text text-anchor=\"middle\" x=\"34.5\" y=\"-57.8\" font-family=\"Times,serif\" font-size=\"14.00\" fill=\"#000000\"> &#160;0</text>\n",
       "</g>\n",
       "<!-- B&#45;&gt;B -->\n",
       "<g id=\"edge4\" class=\"edge\">\n",
       "<title>B&#45;&gt;B</title>\n",
       "<path fill=\"none\" stroke=\"#000000\" d=\"M51.5325,-25.752C62.5078,-26.4902 72,-23.9063 72,-18 72,-14.0317 67.7151,-11.5632 61.5743,-10.5944\"/>\n",
       "<polygon fill=\"#000000\" stroke=\"#000000\" points=\"61.6472,-7.0949 51.5325,-10.248 61.4059,-14.0908 61.6472,-7.0949\"/>\n",
       "<text text-anchor=\"middle\" x=\"79.5\" y=\"-14.3\" font-family=\"Times,serif\" font-size=\"14.00\" fill=\"#000000\"> &#160;0</text>\n",
       "</g>\n",
       "</g>\n",
       "</svg>\n"
      ],
      "text/plain": [
       "<__main__.automata at 0x7f4f53201250>"
      ]
     },
     "execution_count": 322,
     "metadata": {},
     "output_type": "execute_result"
    }
   ],
   "source": [
    "a.edge(\"B\", \"B\", \"0\")\n",
    "a"
   ]
  },
  {
   "cell_type": "markdown",
   "metadata": {
    "slideshow": {
     "slide_type": "notes"
    }
   },
   "source": [
    "If the next character is a 0, then we've broken the 01 sequence.\n",
    "cycle around on B until the next character.\n"
   ]
  },
  {
   "cell_type": "code",
   "execution_count": 323,
   "metadata": {
    "slideshow": {
     "slide_type": "subslide"
    }
   },
   "outputs": [
    {
     "data": {
      "image/svg+xml": [
       "<?xml version=\"1.0\" encoding=\"UTF-8\" standalone=\"no\"?>\n",
       "<!DOCTYPE svg PUBLIC \"-//W3C//DTD SVG 1.1//EN\"\n",
       " \"http://www.w3.org/Graphics/SVG/1.1/DTD/svg11.dtd\">\n",
       "<!-- Generated by graphviz version 2.40.1 (0)\n",
       " -->\n",
       "<!-- Title: %3 Pages: 1 -->\n",
       "<svg width=\"95pt\" height=\"291pt\"\n",
       " viewBox=\"0.00 0.00 95.00 291.00\" xmlns=\"http://www.w3.org/2000/svg\" xmlns:xlink=\"http://www.w3.org/1999/xlink\">\n",
       "<g id=\"graph0\" class=\"graph\" transform=\"scale(1 1) rotate(0) translate(4 287)\">\n",
       "<title>%3</title>\n",
       "<polygon fill=\"#ffffff\" stroke=\"transparent\" points=\"-4,4 -4,-287 91,-287 91,4 -4,4\"/>\n",
       "<!-- A -->\n",
       "<g id=\"node2\" class=\"node\">\n",
       "<title>A</title>\n",
       "<ellipse fill=\"none\" stroke=\"#000000\" stroke-width=\"2\" cx=\"27\" cy=\"-192\" rx=\"27\" ry=\"18\"/>\n",
       "<text text-anchor=\"middle\" x=\"27\" y=\"-188.3\" font-family=\"Times,serif\" font-size=\"14.00\" fill=\"#000000\">A</text>\n",
       "</g>\n",
       "<!-- &#45;&gt;A -->\n",
       "<g id=\"edge1\" class=\"edge\">\n",
       "<title>&#45;&gt;A</title>\n",
       "<path fill=\"none\" stroke=\"#000000\" d=\"M27,-246.9551C27,-238.8828 27,-229.1764 27,-220.1817\"/>\n",
       "<polygon fill=\"#000000\" stroke=\"#000000\" points=\"30.5001,-220.0903 27,-210.0904 23.5001,-220.0904 30.5001,-220.0903\"/>\n",
       "</g>\n",
       "<!-- A&#45;&gt;A -->\n",
       "<g id=\"edge2\" class=\"edge\">\n",
       "<title>A&#45;&gt;A</title>\n",
       "<path fill=\"none\" stroke=\"#000000\" d=\"M52.4435,-198.6907C63.0278,-199.1521 72,-196.9219 72,-192 72,-188.77 68.136,-186.6992 62.4881,-185.7876\"/>\n",
       "<polygon fill=\"#000000\" stroke=\"#000000\" points=\"62.5987,-182.289 52.4435,-185.3093 62.2656,-189.2811 62.5987,-182.289\"/>\n",
       "<text text-anchor=\"middle\" x=\"79.5\" y=\"-188.3\" font-family=\"Times,serif\" font-size=\"14.00\" fill=\"#000000\"> &#160;1</text>\n",
       "</g>\n",
       "<!-- B -->\n",
       "<g id=\"node3\" class=\"node\">\n",
       "<title>B</title>\n",
       "<ellipse fill=\"none\" stroke=\"#000000\" cx=\"27\" cy=\"-105\" rx=\"27\" ry=\"18\"/>\n",
       "<text text-anchor=\"middle\" x=\"27\" y=\"-101.3\" font-family=\"Times,serif\" font-size=\"14.00\" fill=\"#000000\">B</text>\n",
       "</g>\n",
       "<!-- A&#45;&gt;B -->\n",
       "<g id=\"edge3\" class=\"edge\">\n",
       "<title>A&#45;&gt;B</title>\n",
       "<path fill=\"none\" stroke=\"#000000\" d=\"M27,-173.9735C27,-162.1918 27,-146.5607 27,-133.1581\"/>\n",
       "<polygon fill=\"#000000\" stroke=\"#000000\" points=\"30.5001,-133.0033 27,-123.0034 23.5001,-133.0034 30.5001,-133.0033\"/>\n",
       "<text text-anchor=\"middle\" x=\"34.5\" y=\"-144.8\" font-family=\"Times,serif\" font-size=\"14.00\" fill=\"#000000\"> &#160;0</text>\n",
       "</g>\n",
       "<!-- B&#45;&gt;B -->\n",
       "<g id=\"edge4\" class=\"edge\">\n",
       "<title>B&#45;&gt;B</title>\n",
       "<path fill=\"none\" stroke=\"#000000\" d=\"M51.5325,-112.752C62.5078,-113.4902 72,-110.9063 72,-105 72,-101.0317 67.7151,-98.5632 61.5743,-97.5944\"/>\n",
       "<polygon fill=\"#000000\" stroke=\"#000000\" points=\"61.6472,-94.0949 51.5325,-97.248 61.4059,-101.0908 61.6472,-94.0949\"/>\n",
       "<text text-anchor=\"middle\" x=\"79.5\" y=\"-101.3\" font-family=\"Times,serif\" font-size=\"14.00\" fill=\"#000000\"> &#160;0</text>\n",
       "</g>\n",
       "<!-- C -->\n",
       "<g id=\"node4\" class=\"node\">\n",
       "<title>C</title>\n",
       "<ellipse fill=\"none\" stroke=\"#000000\" cx=\"27\" cy=\"-18\" rx=\"27\" ry=\"18\"/>\n",
       "<text text-anchor=\"middle\" x=\"27\" y=\"-14.3\" font-family=\"Times,serif\" font-size=\"14.00\" fill=\"#000000\">C</text>\n",
       "</g>\n",
       "<!-- B&#45;&gt;C -->\n",
       "<g id=\"edge5\" class=\"edge\">\n",
       "<title>B&#45;&gt;C</title>\n",
       "<path fill=\"none\" stroke=\"#000000\" d=\"M27,-86.9735C27,-75.1918 27,-59.5607 27,-46.1581\"/>\n",
       "<polygon fill=\"#000000\" stroke=\"#000000\" points=\"30.5001,-46.0033 27,-36.0034 23.5001,-46.0034 30.5001,-46.0033\"/>\n",
       "<text text-anchor=\"middle\" x=\"34.5\" y=\"-57.8\" font-family=\"Times,serif\" font-size=\"14.00\" fill=\"#000000\"> &#160;1</text>\n",
       "</g>\n",
       "</g>\n",
       "</svg>\n"
      ],
      "text/plain": [
       "<__main__.automata at 0x7f4f53201250>"
      ]
     },
     "execution_count": 323,
     "metadata": {},
     "output_type": "execute_result"
    }
   ],
   "source": [
    "a.edge(\"B\", \"C\", \"1\")\n",
    "a"
   ]
  },
  {
   "cell_type": "markdown",
   "metadata": {
    "slideshow": {
     "slide_type": "notes"
    }
   },
   "source": [
    "If the next one is a 1, then the `01` sequence is continued!"
   ]
  },
  {
   "cell_type": "code",
   "execution_count": 325,
   "metadata": {
    "slideshow": {
     "slide_type": "subslide"
    }
   },
   "outputs": [
    {
     "data": {
      "image/svg+xml": [
       "<?xml version=\"1.0\" encoding=\"UTF-8\" standalone=\"no\"?>\n",
       "<!DOCTYPE svg PUBLIC \"-//W3C//DTD SVG 1.1//EN\"\n",
       " \"http://www.w3.org/Graphics/SVG/1.1/DTD/svg11.dtd\">\n",
       "<!-- Generated by graphviz version 2.40.1 (0)\n",
       " -->\n",
       "<!-- Title: %3 Pages: 1 -->\n",
       "<svg width=\"156pt\" height=\"291pt\"\n",
       " viewBox=\"0.00 0.00 156.00 291.00\" xmlns=\"http://www.w3.org/2000/svg\" xmlns:xlink=\"http://www.w3.org/1999/xlink\">\n",
       "<g id=\"graph0\" class=\"graph\" transform=\"scale(1 1) rotate(0) translate(4 287)\">\n",
       "<title>%3</title>\n",
       "<polygon fill=\"#ffffff\" stroke=\"transparent\" points=\"-4,4 -4,-287 152,-287 152,4 -4,4\"/>\n",
       "<!-- A -->\n",
       "<g id=\"node2\" class=\"node\">\n",
       "<title>A</title>\n",
       "<ellipse fill=\"none\" stroke=\"#000000\" stroke-width=\"2\" cx=\"27\" cy=\"-192\" rx=\"27\" ry=\"18\"/>\n",
       "<text text-anchor=\"middle\" x=\"27\" y=\"-188.3\" font-family=\"Times,serif\" font-size=\"14.00\" fill=\"#000000\">A</text>\n",
       "</g>\n",
       "<!-- &#45;&gt;A -->\n",
       "<g id=\"edge1\" class=\"edge\">\n",
       "<title>&#45;&gt;A</title>\n",
       "<path fill=\"none\" stroke=\"#000000\" d=\"M27,-246.9551C27,-238.8828 27,-229.1764 27,-220.1817\"/>\n",
       "<polygon fill=\"#000000\" stroke=\"#000000\" points=\"30.5001,-220.0903 27,-210.0904 23.5001,-220.0904 30.5001,-220.0903\"/>\n",
       "</g>\n",
       "<!-- A&#45;&gt;A -->\n",
       "<g id=\"edge2\" class=\"edge\">\n",
       "<title>A&#45;&gt;A</title>\n",
       "<path fill=\"none\" stroke=\"#000000\" d=\"M52.4435,-198.6907C63.0278,-199.1521 72,-196.9219 72,-192 72,-188.77 68.136,-186.6992 62.4881,-185.7876\"/>\n",
       "<polygon fill=\"#000000\" stroke=\"#000000\" points=\"62.5987,-182.289 52.4435,-185.3093 62.2656,-189.2811 62.5987,-182.289\"/>\n",
       "<text text-anchor=\"middle\" x=\"79.5\" y=\"-188.3\" font-family=\"Times,serif\" font-size=\"14.00\" fill=\"#000000\"> &#160;1</text>\n",
       "</g>\n",
       "<!-- B -->\n",
       "<g id=\"node3\" class=\"node\">\n",
       "<title>B</title>\n",
       "<ellipse fill=\"none\" stroke=\"#000000\" cx=\"27\" cy=\"-105\" rx=\"27\" ry=\"18\"/>\n",
       "<text text-anchor=\"middle\" x=\"27\" y=\"-101.3\" font-family=\"Times,serif\" font-size=\"14.00\" fill=\"#000000\">B</text>\n",
       "</g>\n",
       "<!-- A&#45;&gt;B -->\n",
       "<g id=\"edge3\" class=\"edge\">\n",
       "<title>A&#45;&gt;B</title>\n",
       "<path fill=\"none\" stroke=\"#000000\" d=\"M27,-173.9735C27,-162.1918 27,-146.5607 27,-133.1581\"/>\n",
       "<polygon fill=\"#000000\" stroke=\"#000000\" points=\"30.5001,-133.0033 27,-123.0034 23.5001,-133.0034 30.5001,-133.0033\"/>\n",
       "<text text-anchor=\"middle\" x=\"34.5\" y=\"-144.8\" font-family=\"Times,serif\" font-size=\"14.00\" fill=\"#000000\"> &#160;0</text>\n",
       "</g>\n",
       "<!-- B&#45;&gt;B -->\n",
       "<g id=\"edge4\" class=\"edge\">\n",
       "<title>B&#45;&gt;B</title>\n",
       "<path fill=\"none\" stroke=\"#000000\" d=\"M51.5325,-112.752C62.5078,-113.4902 72,-110.9063 72,-105 72,-101.0317 67.7151,-98.5632 61.5743,-97.5944\"/>\n",
       "<polygon fill=\"#000000\" stroke=\"#000000\" points=\"61.6472,-94.0949 51.5325,-97.248 61.4059,-101.0908 61.6472,-94.0949\"/>\n",
       "<text text-anchor=\"middle\" x=\"79.5\" y=\"-101.3\" font-family=\"Times,serif\" font-size=\"14.00\" fill=\"#000000\"> &#160;0</text>\n",
       "</g>\n",
       "<!-- C -->\n",
       "<g id=\"node4\" class=\"node\">\n",
       "<title>C</title>\n",
       "<ellipse fill=\"none\" stroke=\"#000000\" stroke-dasharray=\"5,2\" cx=\"27\" cy=\"-18\" rx=\"27\" ry=\"18\"/>\n",
       "<text text-anchor=\"middle\" x=\"27\" y=\"-14.3\" font-family=\"Times,serif\" font-size=\"14.00\" fill=\"#000000\">C</text>\n",
       "</g>\n",
       "<!-- B&#45;&gt;C -->\n",
       "<g id=\"edge5\" class=\"edge\">\n",
       "<title>B&#45;&gt;C</title>\n",
       "<path fill=\"none\" stroke=\"#000000\" d=\"M27,-86.9735C27,-75.1918 27,-59.5607 27,-46.1581\"/>\n",
       "<polygon fill=\"#000000\" stroke=\"#000000\" points=\"30.5001,-46.0033 27,-36.0034 23.5001,-46.0034 30.5001,-46.0033\"/>\n",
       "<text text-anchor=\"middle\" x=\"34.5\" y=\"-57.8\" font-family=\"Times,serif\" font-size=\"14.00\" fill=\"#000000\"> &#160;1</text>\n",
       "</g>\n",
       "<!-- C&#45;&gt;C -->\n",
       "<g id=\"edge6\" class=\"edge\">\n",
       "<title>C&#45;&gt;C</title>\n",
       "<path fill=\"none\" stroke=\"#000000\" d=\"M53.7949,-21.9288C63.7804,-22.0577 72,-20.748 72,-18 72,-16.2825 68.7892,-15.1268 63.9433,-14.5331\"/>\n",
       "<polygon fill=\"#000000\" stroke=\"#000000\" points=\"63.9437,-11.0296 53.7949,-14.0712 63.6253,-18.0223 63.9437,-11.0296\"/>\n",
       "<text text-anchor=\"middle\" x=\"86.5\" y=\"-14.3\" font-family=\"Times,serif\" font-size=\"14.00\" fill=\"#000000\"> &#160;0, 1</text>\n",
       "</g>\n",
       "<!-- C&#45;&gt;C -->\n",
       "<g id=\"edge7\" class=\"edge\">\n",
       "<title>C&#45;&gt;C</title>\n",
       "<path fill=\"none\" stroke=\"#000000\" d=\"M52.3213,-24.6248C75.0879,-27.5501 101,-25.3418 101,-18 101,-11.7193 82.0369,-9.1955 62.3022,-10.4285\"/>\n",
       "<polygon fill=\"#000000\" stroke=\"#000000\" points=\"61.9461,-6.9465 52.3213,-11.3752 62.6071,-13.9152 61.9461,-6.9465\"/>\n",
       "<text text-anchor=\"middle\" x=\"115.5\" y=\"-14.3\" font-family=\"Times,serif\" font-size=\"14.00\" fill=\"#000000\"> &#160;0, 1</text>\n",
       "</g>\n",
       "</g>\n",
       "</svg>\n"
      ],
      "text/plain": [
       "<__main__.automata at 0x7f4f53201250>"
      ]
     },
     "execution_count": 325,
     "metadata": {},
     "output_type": "execute_result"
    }
   ],
   "source": [
    "a.final_states = set(\"C\")\n",
    "a.edge(\"C\", \"C\", \"0, 1\")\n",
    "a"
   ]
  },
  {
   "cell_type": "markdown",
   "metadata": {
    "slideshow": {
     "slide_type": "subslide"
    }
   },
   "source": [
    "Finally, we cycle around on C in case there are spare characters at the end of the string.\n",
    "If we reache the end of the string while sitting in the C state, then we're complete! we accept the string!"
   ]
  },
  {
   "cell_type": "markdown",
   "metadata": {
    "slideshow": {
     "slide_type": "notes"
    }
   },
   "source": [
    "Hopefully this all makes sense!\n",
    "\n",
    "Before we go back to Regular Expressions - we have to jump into _non-deterministic finite automoton_"
   ]
  },
  {
   "cell_type": "markdown",
   "metadata": {
    "slideshow": {
     "slide_type": "slide"
    }
   },
   "source": [
    "##Non-Deterministic Finite Automoton"
   ]
  },
  {
   "cell_type": "markdown",
   "metadata": {
    "slideshow": {
     "slide_type": "notes"
    }
   },
   "source": [
    "Unlike the prior example ( A deterministic finite automoton ) - NFAs are capable of being in more than one state at once.\n",
    "\n",
    "NFA is a generalizeation of a DFA.\n",
    "Every DFA is an NFA, just a restricted one."
   ]
  },
  {
   "cell_type": "markdown",
   "metadata": {
    "slideshow": {
     "slide_type": "notes"
    }
   },
   "source": [
    "In a DFA, every state has exactly one edge for every item in the alphabet.\n",
    "An NFA may have many."
   ]
  },
  {
   "cell_type": "markdown",
   "metadata": {
    "slideshow": {
     "slide_type": "notes"
    }
   },
   "source": [
    "Consider an NFA which recognises the language of strings ending in `110`"
   ]
  },
  {
   "cell_type": "code",
   "execution_count": 334,
   "metadata": {
    "slideshow": {
     "slide_type": "subslide"
    }
   },
   "outputs": [
    {
     "data": {
      "image/svg+xml": [
       "<?xml version=\"1.0\" encoding=\"UTF-8\" standalone=\"no\"?>\n",
       "<!DOCTYPE svg PUBLIC \"-//W3C//DTD SVG 1.1//EN\"\n",
       " \"http://www.w3.org/Graphics/SVG/1.1/DTD/svg11.dtd\">\n",
       "<!-- Generated by graphviz version 2.40.1 (0)\n",
       " -->\n",
       "<!-- Title: %3 Pages: 1 -->\n",
       "<svg width=\"109pt\" height=\"378pt\"\n",
       " viewBox=\"0.00 0.00 109.00 378.00\" xmlns=\"http://www.w3.org/2000/svg\" xmlns:xlink=\"http://www.w3.org/1999/xlink\">\n",
       "<g id=\"graph0\" class=\"graph\" transform=\"scale(1 1) rotate(0) translate(4 374)\">\n",
       "<title>%3</title>\n",
       "<polygon fill=\"#ffffff\" stroke=\"transparent\" points=\"-4,4 -4,-374 105,-374 105,4 -4,4\"/>\n",
       "<!-- A -->\n",
       "<g id=\"node2\" class=\"node\">\n",
       "<title>A</title>\n",
       "<ellipse fill=\"none\" stroke=\"#000000\" stroke-width=\"2\" cx=\"27\" cy=\"-279\" rx=\"27\" ry=\"18\"/>\n",
       "<text text-anchor=\"middle\" x=\"27\" y=\"-275.3\" font-family=\"Times,serif\" font-size=\"14.00\" fill=\"#000000\">A</text>\n",
       "</g>\n",
       "<!-- &#45;&gt;A -->\n",
       "<g id=\"edge1\" class=\"edge\">\n",
       "<title>&#45;&gt;A</title>\n",
       "<path fill=\"none\" stroke=\"#000000\" d=\"M27,-333.9551C27,-325.8828 27,-316.1764 27,-307.1817\"/>\n",
       "<polygon fill=\"#000000\" stroke=\"#000000\" points=\"30.5001,-307.0903 27,-297.0904 23.5001,-307.0904 30.5001,-307.0903\"/>\n",
       "</g>\n",
       "<!-- A&#45;&gt;A -->\n",
       "<g id=\"edge2\" class=\"edge\">\n",
       "<title>A&#45;&gt;A</title>\n",
       "<path fill=\"none\" stroke=\"#000000\" d=\"M52.4435,-285.6907C63.0278,-286.1521 72,-283.9219 72,-279 72,-275.77 68.136,-273.6992 62.4881,-272.7876\"/>\n",
       "<polygon fill=\"#000000\" stroke=\"#000000\" points=\"62.5987,-269.289 52.4435,-272.3093 62.2656,-276.2811 62.5987,-269.289\"/>\n",
       "<text text-anchor=\"middle\" x=\"86.5\" y=\"-275.3\" font-family=\"Times,serif\" font-size=\"14.00\" fill=\"#000000\"> &#160;0, 1</text>\n",
       "</g>\n",
       "<!-- B -->\n",
       "<g id=\"node3\" class=\"node\">\n",
       "<title>B</title>\n",
       "<ellipse fill=\"none\" stroke=\"#000000\" cx=\"27\" cy=\"-192\" rx=\"27\" ry=\"18\"/>\n",
       "<text text-anchor=\"middle\" x=\"27\" y=\"-188.3\" font-family=\"Times,serif\" font-size=\"14.00\" fill=\"#000000\">B</text>\n",
       "</g>\n",
       "<!-- A&#45;&gt;B -->\n",
       "<g id=\"edge3\" class=\"edge\">\n",
       "<title>A&#45;&gt;B</title>\n",
       "<path fill=\"none\" stroke=\"#000000\" d=\"M27,-260.9735C27,-249.1918 27,-233.5607 27,-220.1581\"/>\n",
       "<polygon fill=\"#000000\" stroke=\"#000000\" points=\"30.5001,-220.0033 27,-210.0034 23.5001,-220.0034 30.5001,-220.0033\"/>\n",
       "<text text-anchor=\"middle\" x=\"34.5\" y=\"-231.8\" font-family=\"Times,serif\" font-size=\"14.00\" fill=\"#000000\"> &#160;1</text>\n",
       "</g>\n",
       "<!-- C -->\n",
       "<g id=\"node4\" class=\"node\">\n",
       "<title>C</title>\n",
       "<ellipse fill=\"none\" stroke=\"#000000\" cx=\"27\" cy=\"-105\" rx=\"27\" ry=\"18\"/>\n",
       "<text text-anchor=\"middle\" x=\"27\" y=\"-101.3\" font-family=\"Times,serif\" font-size=\"14.00\" fill=\"#000000\">C</text>\n",
       "</g>\n",
       "<!-- B&#45;&gt;C -->\n",
       "<g id=\"edge4\" class=\"edge\">\n",
       "<title>B&#45;&gt;C</title>\n",
       "<path fill=\"none\" stroke=\"#000000\" d=\"M27,-173.9735C27,-162.1918 27,-146.5607 27,-133.1581\"/>\n",
       "<polygon fill=\"#000000\" stroke=\"#000000\" points=\"30.5001,-133.0033 27,-123.0034 23.5001,-133.0034 30.5001,-133.0033\"/>\n",
       "<text text-anchor=\"middle\" x=\"34.5\" y=\"-144.8\" font-family=\"Times,serif\" font-size=\"14.00\" fill=\"#000000\"> &#160;1</text>\n",
       "</g>\n",
       "<!-- D -->\n",
       "<g id=\"node5\" class=\"node\">\n",
       "<title>D</title>\n",
       "<ellipse fill=\"none\" stroke=\"#000000\" stroke-dasharray=\"5,2\" cx=\"27\" cy=\"-18\" rx=\"27\" ry=\"18\"/>\n",
       "<text text-anchor=\"middle\" x=\"27\" y=\"-14.3\" font-family=\"Times,serif\" font-size=\"14.00\" fill=\"#000000\">D</text>\n",
       "</g>\n",
       "<!-- C&#45;&gt;D -->\n",
       "<g id=\"edge5\" class=\"edge\">\n",
       "<title>C&#45;&gt;D</title>\n",
       "<path fill=\"none\" stroke=\"#000000\" d=\"M27,-86.9735C27,-75.1918 27,-59.5607 27,-46.1581\"/>\n",
       "<polygon fill=\"#000000\" stroke=\"#000000\" points=\"30.5001,-46.0033 27,-36.0034 23.5001,-46.0034 30.5001,-46.0033\"/>\n",
       "<text text-anchor=\"middle\" x=\"34.5\" y=\"-57.8\" font-family=\"Times,serif\" font-size=\"14.00\" fill=\"#000000\"> &#160;0</text>\n",
       "</g>\n",
       "</g>\n",
       "</svg>\n"
      ],
      "text/plain": [
       "<__main__.automata at 0x7f4f52ee1910>"
      ]
     },
     "execution_count": 334,
     "metadata": {},
     "output_type": "execute_result"
    }
   ],
   "source": [
    "states = [\"A\", \"B\", \"C\", \"D\"]\n",
    "alphabet = set([0,1])\n",
    "start_state = \"A\"\n",
    "end_states = set(\"D\")\n",
    "\n",
    "a = automata(states, alphabet, start_state, end_states)\n",
    "\n",
    "a.edge(\"A\", \"A\", \"0, 1\")\n",
    "a.edge(\"A\", \"B\", \"1\")\n",
    "a.edge(\"B\", \"C\", \"1\")\n",
    "a.edge(\"C\", \"D\", \"0\")"
   ]
  },
  {
   "cell_type": "code",
   "execution_count": 335,
   "metadata": {
    "slideshow": {
     "slide_type": "subslide"
    }
   },
   "outputs": [
    {
     "data": {
      "image/svg+xml": [
       "<?xml version=\"1.0\" encoding=\"UTF-8\" standalone=\"no\"?>\n",
       "<!DOCTYPE svg PUBLIC \"-//W3C//DTD SVG 1.1//EN\"\n",
       " \"http://www.w3.org/Graphics/SVG/1.1/DTD/svg11.dtd\">\n",
       "<!-- Generated by graphviz version 2.40.1 (0)\n",
       " -->\n",
       "<!-- Title: %3 Pages: 1 -->\n",
       "<svg width=\"109pt\" height=\"378pt\"\n",
       " viewBox=\"0.00 0.00 109.00 378.00\" xmlns=\"http://www.w3.org/2000/svg\" xmlns:xlink=\"http://www.w3.org/1999/xlink\">\n",
       "<g id=\"graph0\" class=\"graph\" transform=\"scale(1 1) rotate(0) translate(4 374)\">\n",
       "<title>%3</title>\n",
       "<polygon fill=\"#ffffff\" stroke=\"transparent\" points=\"-4,4 -4,-374 105,-374 105,4 -4,4\"/>\n",
       "<!-- A -->\n",
       "<g id=\"node2\" class=\"node\">\n",
       "<title>A</title>\n",
       "<ellipse fill=\"none\" stroke=\"#000000\" stroke-width=\"2\" cx=\"27\" cy=\"-279\" rx=\"27\" ry=\"18\"/>\n",
       "<text text-anchor=\"middle\" x=\"27\" y=\"-275.3\" font-family=\"Times,serif\" font-size=\"14.00\" fill=\"#000000\">A</text>\n",
       "</g>\n",
       "<!-- &#45;&gt;A -->\n",
       "<g id=\"edge1\" class=\"edge\">\n",
       "<title>&#45;&gt;A</title>\n",
       "<path fill=\"none\" stroke=\"#000000\" d=\"M27,-333.9551C27,-325.8828 27,-316.1764 27,-307.1817\"/>\n",
       "<polygon fill=\"#000000\" stroke=\"#000000\" points=\"30.5001,-307.0903 27,-297.0904 23.5001,-307.0904 30.5001,-307.0903\"/>\n",
       "</g>\n",
       "<!-- A&#45;&gt;A -->\n",
       "<g id=\"edge2\" class=\"edge\">\n",
       "<title>A&#45;&gt;A</title>\n",
       "<path fill=\"none\" stroke=\"#000000\" d=\"M52.4435,-285.6907C63.0278,-286.1521 72,-283.9219 72,-279 72,-275.77 68.136,-273.6992 62.4881,-272.7876\"/>\n",
       "<polygon fill=\"#000000\" stroke=\"#000000\" points=\"62.5987,-269.289 52.4435,-272.3093 62.2656,-276.2811 62.5987,-269.289\"/>\n",
       "<text text-anchor=\"middle\" x=\"86.5\" y=\"-275.3\" font-family=\"Times,serif\" font-size=\"14.00\" fill=\"#000000\"> &#160;0, 1</text>\n",
       "</g>\n",
       "<!-- B -->\n",
       "<g id=\"node3\" class=\"node\">\n",
       "<title>B</title>\n",
       "<ellipse fill=\"none\" stroke=\"#000000\" cx=\"27\" cy=\"-192\" rx=\"27\" ry=\"18\"/>\n",
       "<text text-anchor=\"middle\" x=\"27\" y=\"-188.3\" font-family=\"Times,serif\" font-size=\"14.00\" fill=\"#000000\">B</text>\n",
       "</g>\n",
       "<!-- A&#45;&gt;B -->\n",
       "<g id=\"edge3\" class=\"edge\">\n",
       "<title>A&#45;&gt;B</title>\n",
       "<path fill=\"none\" stroke=\"#000000\" d=\"M27,-260.9735C27,-249.1918 27,-233.5607 27,-220.1581\"/>\n",
       "<polygon fill=\"#000000\" stroke=\"#000000\" points=\"30.5001,-220.0033 27,-210.0034 23.5001,-220.0034 30.5001,-220.0033\"/>\n",
       "<text text-anchor=\"middle\" x=\"34.5\" y=\"-231.8\" font-family=\"Times,serif\" font-size=\"14.00\" fill=\"#000000\"> &#160;1</text>\n",
       "</g>\n",
       "<!-- C -->\n",
       "<g id=\"node4\" class=\"node\">\n",
       "<title>C</title>\n",
       "<ellipse fill=\"none\" stroke=\"#000000\" cx=\"27\" cy=\"-105\" rx=\"27\" ry=\"18\"/>\n",
       "<text text-anchor=\"middle\" x=\"27\" y=\"-101.3\" font-family=\"Times,serif\" font-size=\"14.00\" fill=\"#000000\">C</text>\n",
       "</g>\n",
       "<!-- B&#45;&gt;C -->\n",
       "<g id=\"edge4\" class=\"edge\">\n",
       "<title>B&#45;&gt;C</title>\n",
       "<path fill=\"none\" stroke=\"#000000\" d=\"M27,-173.9735C27,-162.1918 27,-146.5607 27,-133.1581\"/>\n",
       "<polygon fill=\"#000000\" stroke=\"#000000\" points=\"30.5001,-133.0033 27,-123.0034 23.5001,-133.0034 30.5001,-133.0033\"/>\n",
       "<text text-anchor=\"middle\" x=\"34.5\" y=\"-144.8\" font-family=\"Times,serif\" font-size=\"14.00\" fill=\"#000000\"> &#160;1</text>\n",
       "</g>\n",
       "<!-- D -->\n",
       "<g id=\"node5\" class=\"node\">\n",
       "<title>D</title>\n",
       "<ellipse fill=\"none\" stroke=\"#000000\" stroke-dasharray=\"5,2\" cx=\"27\" cy=\"-18\" rx=\"27\" ry=\"18\"/>\n",
       "<text text-anchor=\"middle\" x=\"27\" y=\"-14.3\" font-family=\"Times,serif\" font-size=\"14.00\" fill=\"#000000\">D</text>\n",
       "</g>\n",
       "<!-- C&#45;&gt;D -->\n",
       "<g id=\"edge5\" class=\"edge\">\n",
       "<title>C&#45;&gt;D</title>\n",
       "<path fill=\"none\" stroke=\"#000000\" d=\"M27,-86.9735C27,-75.1918 27,-59.5607 27,-46.1581\"/>\n",
       "<polygon fill=\"#000000\" stroke=\"#000000\" points=\"30.5001,-46.0033 27,-36.0034 23.5001,-46.0034 30.5001,-46.0033\"/>\n",
       "<text text-anchor=\"middle\" x=\"34.5\" y=\"-57.8\" font-family=\"Times,serif\" font-size=\"14.00\" fill=\"#000000\"> &#160;0</text>\n",
       "</g>\n",
       "</g>\n",
       "</svg>\n"
      ],
      "text/plain": [
       "<__main__.automata at 0x7f4f52ee1910>"
      ]
     },
     "execution_count": 335,
     "metadata": {},
     "output_type": "execute_result"
    }
   ],
   "source": [
    "a"
   ]
  },
  {
   "cell_type": "markdown",
   "metadata": {
    "slideshow": {
     "slide_type": "notes"
    }
   },
   "source": [
    "This automaton can be in two states at once - this means that for any character, it can both stay in the `A` state and transition to the `B` state.\n",
    "\n",
    "You can think of this like forking a program for every node which has more than one edge for a given character of the alphabet."
   ]
  },
  {
   "cell_type": "markdown",
   "metadata": {
    "slideshow": {
     "slide_type": "notes"
    }
   },
   "source": [
    "NFAs can be reduced to DFAs through several different methods that I won't be going into today.\n",
    "\n",
    "The main bonus of an NFA is the ability to represent more complex computations in less space than we'd need for the equivilent DFA.\n",
    "\n",
    "They can't do more, or less than a DFA."
   ]
  },
  {
   "cell_type": "markdown",
   "metadata": {
    "slideshow": {
     "slide_type": "slide"
    }
   },
   "source": [
    "## Combining finite automation"
   ]
  },
  {
   "cell_type": "markdown",
   "metadata": {
    "slideshow": {
     "slide_type": "notes"
    }
   },
   "source": [
    "If we have two automata which recognise two languages with the same alphabet. It is useful to be able to combine those automata into the same machine."
   ]
  },
  {
   "cell_type": "markdown",
   "metadata": {
    "slideshow": {
     "slide_type": "subslide"
    }
   },
   "source": [
    "### Union\n",
    "A Logical `OR`"
   ]
  },
  {
   "cell_type": "markdown",
   "metadata": {
    "slideshow": {
     "slide_type": "notes"
    }
   },
   "source": [
    "Consider our automaton which recognises strings containing `110`"
   ]
  },
  {
   "cell_type": "code",
   "execution_count": 209,
   "metadata": {
    "slideshow": {
     "slide_type": "subslide"
    }
   },
   "outputs": [],
   "source": [
    "states = [\"A\", \"B\", \"C\", \"D\"]\n",
    "alphabet = set([0,1])\n",
    "start_state = \"A\"\n",
    "end_states = set(\"D\")\n",
    "\n",
    "a = automata(states, alphabet, start_state, end_states)\n",
    "\n",
    "a.edge(\"A\", \"A\", \"0, 1\")\n",
    "a.edge(\"A\", \"B\", \"1\")\n",
    "a.edge(\"B\", \"C\", \"1\")\n",
    "a.edge(\"C\", \"D\", \"0\")\n",
    "a.edge(\"D\", \"D\", \"0, 1\")"
   ]
  },
  {
   "cell_type": "code",
   "execution_count": 210,
   "metadata": {},
   "outputs": [
    {
     "data": {
      "image/svg+xml": [
       "<?xml version=\"1.0\" encoding=\"UTF-8\" standalone=\"no\"?>\n",
       "<!DOCTYPE svg PUBLIC \"-//W3C//DTD SVG 1.1//EN\"\n",
       " \"http://www.w3.org/Graphics/SVG/1.1/DTD/svg11.dtd\">\n",
       "<!-- Generated by graphviz version 2.40.1 (0)\n",
       " -->\n",
       "<!-- Title: %3 Pages: 1 -->\n",
       "<svg width=\"109pt\" height=\"378pt\"\n",
       " viewBox=\"0.00 0.00 109.00 378.00\" xmlns=\"http://www.w3.org/2000/svg\" xmlns:xlink=\"http://www.w3.org/1999/xlink\">\n",
       "<g id=\"graph0\" class=\"graph\" transform=\"scale(1 1) rotate(0) translate(4 374)\">\n",
       "<title>%3</title>\n",
       "<polygon fill=\"#ffffff\" stroke=\"transparent\" points=\"-4,4 -4,-374 105,-374 105,4 -4,4\"/>\n",
       "<!-- A -->\n",
       "<g id=\"node2\" class=\"node\">\n",
       "<title>A</title>\n",
       "<ellipse fill=\"none\" stroke=\"#000000\" stroke-width=\"2\" cx=\"27\" cy=\"-279\" rx=\"27\" ry=\"18\"/>\n",
       "<text text-anchor=\"middle\" x=\"27\" y=\"-275.3\" font-family=\"Times,serif\" font-size=\"14.00\" fill=\"#000000\">A</text>\n",
       "</g>\n",
       "<!-- &#45;&gt;A -->\n",
       "<g id=\"edge1\" class=\"edge\">\n",
       "<title>&#45;&gt;A</title>\n",
       "<path fill=\"none\" stroke=\"#000000\" d=\"M27,-333.9551C27,-325.8828 27,-316.1764 27,-307.1817\"/>\n",
       "<polygon fill=\"#000000\" stroke=\"#000000\" points=\"30.5001,-307.0903 27,-297.0904 23.5001,-307.0904 30.5001,-307.0903\"/>\n",
       "</g>\n",
       "<!-- A&#45;&gt;A -->\n",
       "<g id=\"edge2\" class=\"edge\">\n",
       "<title>A&#45;&gt;A</title>\n",
       "<path fill=\"none\" stroke=\"#000000\" d=\"M52.4435,-285.6907C63.0278,-286.1521 72,-283.9219 72,-279 72,-275.77 68.136,-273.6992 62.4881,-272.7876\"/>\n",
       "<polygon fill=\"#000000\" stroke=\"#000000\" points=\"62.5987,-269.289 52.4435,-272.3093 62.2656,-276.2811 62.5987,-269.289\"/>\n",
       "<text text-anchor=\"middle\" x=\"86.5\" y=\"-275.3\" font-family=\"Times,serif\" font-size=\"14.00\" fill=\"#000000\"> &#160;0, 1</text>\n",
       "</g>\n",
       "<!-- B -->\n",
       "<g id=\"node3\" class=\"node\">\n",
       "<title>B</title>\n",
       "<ellipse fill=\"none\" stroke=\"#000000\" cx=\"27\" cy=\"-192\" rx=\"27\" ry=\"18\"/>\n",
       "<text text-anchor=\"middle\" x=\"27\" y=\"-188.3\" font-family=\"Times,serif\" font-size=\"14.00\" fill=\"#000000\">B</text>\n",
       "</g>\n",
       "<!-- A&#45;&gt;B -->\n",
       "<g id=\"edge3\" class=\"edge\">\n",
       "<title>A&#45;&gt;B</title>\n",
       "<path fill=\"none\" stroke=\"#000000\" d=\"M27,-260.9735C27,-249.1918 27,-233.5607 27,-220.1581\"/>\n",
       "<polygon fill=\"#000000\" stroke=\"#000000\" points=\"30.5001,-220.0033 27,-210.0034 23.5001,-220.0034 30.5001,-220.0033\"/>\n",
       "<text text-anchor=\"middle\" x=\"34.5\" y=\"-231.8\" font-family=\"Times,serif\" font-size=\"14.00\" fill=\"#000000\"> &#160;1</text>\n",
       "</g>\n",
       "<!-- C -->\n",
       "<g id=\"node4\" class=\"node\">\n",
       "<title>C</title>\n",
       "<ellipse fill=\"none\" stroke=\"#000000\" cx=\"27\" cy=\"-105\" rx=\"27\" ry=\"18\"/>\n",
       "<text text-anchor=\"middle\" x=\"27\" y=\"-101.3\" font-family=\"Times,serif\" font-size=\"14.00\" fill=\"#000000\">C</text>\n",
       "</g>\n",
       "<!-- B&#45;&gt;C -->\n",
       "<g id=\"edge4\" class=\"edge\">\n",
       "<title>B&#45;&gt;C</title>\n",
       "<path fill=\"none\" stroke=\"#000000\" d=\"M27,-173.9735C27,-162.1918 27,-146.5607 27,-133.1581\"/>\n",
       "<polygon fill=\"#000000\" stroke=\"#000000\" points=\"30.5001,-133.0033 27,-123.0034 23.5001,-133.0034 30.5001,-133.0033\"/>\n",
       "<text text-anchor=\"middle\" x=\"34.5\" y=\"-144.8\" font-family=\"Times,serif\" font-size=\"14.00\" fill=\"#000000\"> &#160;1</text>\n",
       "</g>\n",
       "<!-- D -->\n",
       "<g id=\"node5\" class=\"node\">\n",
       "<title>D</title>\n",
       "<ellipse fill=\"none\" stroke=\"#000000\" stroke-dasharray=\"5,2\" cx=\"27\" cy=\"-18\" rx=\"27\" ry=\"18\"/>\n",
       "<text text-anchor=\"middle\" x=\"27\" y=\"-14.3\" font-family=\"Times,serif\" font-size=\"14.00\" fill=\"#000000\">D</text>\n",
       "</g>\n",
       "<!-- C&#45;&gt;D -->\n",
       "<g id=\"edge5\" class=\"edge\">\n",
       "<title>C&#45;&gt;D</title>\n",
       "<path fill=\"none\" stroke=\"#000000\" d=\"M27,-86.9735C27,-75.1918 27,-59.5607 27,-46.1581\"/>\n",
       "<polygon fill=\"#000000\" stroke=\"#000000\" points=\"30.5001,-46.0033 27,-36.0034 23.5001,-46.0034 30.5001,-46.0033\"/>\n",
       "<text text-anchor=\"middle\" x=\"34.5\" y=\"-57.8\" font-family=\"Times,serif\" font-size=\"14.00\" fill=\"#000000\"> &#160;0</text>\n",
       "</g>\n",
       "<!-- D&#45;&gt;D -->\n",
       "<g id=\"edge6\" class=\"edge\">\n",
       "<title>D&#45;&gt;D</title>\n",
       "<path fill=\"none\" stroke=\"#000000\" d=\"M51.5325,-25.752C62.5078,-26.4902 72,-23.9063 72,-18 72,-14.0317 67.7151,-11.5632 61.5743,-10.5944\"/>\n",
       "<polygon fill=\"#000000\" stroke=\"#000000\" points=\"61.6472,-7.0949 51.5325,-10.248 61.4059,-14.0908 61.6472,-7.0949\"/>\n",
       "<text text-anchor=\"middle\" x=\"86.5\" y=\"-14.3\" font-family=\"Times,serif\" font-size=\"14.00\" fill=\"#000000\"> &#160;0, 1</text>\n",
       "</g>\n",
       "</g>\n",
       "</svg>\n"
      ],
      "text/plain": [
       "<__main__.automata at 0x7f77dc381890>"
      ]
     },
     "execution_count": 210,
     "metadata": {},
     "output_type": "execute_result"
    }
   ],
   "source": [
    "a"
   ]
  },
  {
   "cell_type": "markdown",
   "metadata": {
    "slideshow": {
     "slide_type": "notes"
    }
   },
   "source": [
    "We might want to also recognise languages which contain the substring containing `111`"
   ]
  },
  {
   "cell_type": "code",
   "execution_count": 211,
   "metadata": {},
   "outputs": [],
   "source": [
    "b = automata(states, alphabet, start_state, end_states)\n",
    "\n",
    "b.edge(\"A\", \"A\", \"0, 1\")\n",
    "b.edge(\"A\", \"B\", \"1\")\n",
    "b.edge(\"B\", \"C\", \"1\")\n",
    "b.edge(\"C\", \"D\", \"1\")\n",
    "b.edge(\"D\", \"D\", \"0, 1\")"
   ]
  },
  {
   "cell_type": "code",
   "execution_count": 203,
   "metadata": {},
   "outputs": [
    {
     "data": {
      "image/svg+xml": [
       "<?xml version=\"1.0\" encoding=\"UTF-8\" standalone=\"no\"?>\n",
       "<!DOCTYPE svg PUBLIC \"-//W3C//DTD SVG 1.1//EN\"\n",
       " \"http://www.w3.org/Graphics/SVG/1.1/DTD/svg11.dtd\">\n",
       "<!-- Generated by graphviz version 2.40.1 (0)\n",
       " -->\n",
       "<!-- Title: %3 Pages: 1 -->\n",
       "<svg width=\"109pt\" height=\"378pt\"\n",
       " viewBox=\"0.00 0.00 109.00 378.00\" xmlns=\"http://www.w3.org/2000/svg\" xmlns:xlink=\"http://www.w3.org/1999/xlink\">\n",
       "<g id=\"graph0\" class=\"graph\" transform=\"scale(1 1) rotate(0) translate(4 374)\">\n",
       "<title>%3</title>\n",
       "<polygon fill=\"#ffffff\" stroke=\"transparent\" points=\"-4,4 -4,-374 105,-374 105,4 -4,4\"/>\n",
       "<!-- A -->\n",
       "<g id=\"node2\" class=\"node\">\n",
       "<title>A</title>\n",
       "<ellipse fill=\"none\" stroke=\"#000000\" stroke-width=\"2\" cx=\"27\" cy=\"-279\" rx=\"27\" ry=\"18\"/>\n",
       "<text text-anchor=\"middle\" x=\"27\" y=\"-275.3\" font-family=\"Times,serif\" font-size=\"14.00\" fill=\"#000000\">A</text>\n",
       "</g>\n",
       "<!-- &#45;&gt;A -->\n",
       "<g id=\"edge1\" class=\"edge\">\n",
       "<title>&#45;&gt;A</title>\n",
       "<path fill=\"none\" stroke=\"#000000\" d=\"M27,-333.9551C27,-325.8828 27,-316.1764 27,-307.1817\"/>\n",
       "<polygon fill=\"#000000\" stroke=\"#000000\" points=\"30.5001,-307.0903 27,-297.0904 23.5001,-307.0904 30.5001,-307.0903\"/>\n",
       "</g>\n",
       "<!-- A&#45;&gt;A -->\n",
       "<g id=\"edge2\" class=\"edge\">\n",
       "<title>A&#45;&gt;A</title>\n",
       "<path fill=\"none\" stroke=\"#000000\" d=\"M52.4435,-285.6907C63.0278,-286.1521 72,-283.9219 72,-279 72,-275.77 68.136,-273.6992 62.4881,-272.7876\"/>\n",
       "<polygon fill=\"#000000\" stroke=\"#000000\" points=\"62.5987,-269.289 52.4435,-272.3093 62.2656,-276.2811 62.5987,-269.289\"/>\n",
       "<text text-anchor=\"middle\" x=\"86.5\" y=\"-275.3\" font-family=\"Times,serif\" font-size=\"14.00\" fill=\"#000000\"> &#160;0, 1</text>\n",
       "</g>\n",
       "<!-- B -->\n",
       "<g id=\"node3\" class=\"node\">\n",
       "<title>B</title>\n",
       "<ellipse fill=\"none\" stroke=\"#000000\" cx=\"27\" cy=\"-192\" rx=\"27\" ry=\"18\"/>\n",
       "<text text-anchor=\"middle\" x=\"27\" y=\"-188.3\" font-family=\"Times,serif\" font-size=\"14.00\" fill=\"#000000\">B</text>\n",
       "</g>\n",
       "<!-- A&#45;&gt;B -->\n",
       "<g id=\"edge3\" class=\"edge\">\n",
       "<title>A&#45;&gt;B</title>\n",
       "<path fill=\"none\" stroke=\"#000000\" d=\"M27,-260.9735C27,-249.1918 27,-233.5607 27,-220.1581\"/>\n",
       "<polygon fill=\"#000000\" stroke=\"#000000\" points=\"30.5001,-220.0033 27,-210.0034 23.5001,-220.0034 30.5001,-220.0033\"/>\n",
       "<text text-anchor=\"middle\" x=\"34.5\" y=\"-231.8\" font-family=\"Times,serif\" font-size=\"14.00\" fill=\"#000000\"> &#160;1</text>\n",
       "</g>\n",
       "<!-- C -->\n",
       "<g id=\"node4\" class=\"node\">\n",
       "<title>C</title>\n",
       "<ellipse fill=\"none\" stroke=\"#000000\" cx=\"27\" cy=\"-105\" rx=\"27\" ry=\"18\"/>\n",
       "<text text-anchor=\"middle\" x=\"27\" y=\"-101.3\" font-family=\"Times,serif\" font-size=\"14.00\" fill=\"#000000\">C</text>\n",
       "</g>\n",
       "<!-- B&#45;&gt;C -->\n",
       "<g id=\"edge4\" class=\"edge\">\n",
       "<title>B&#45;&gt;C</title>\n",
       "<path fill=\"none\" stroke=\"#000000\" d=\"M27,-173.9735C27,-162.1918 27,-146.5607 27,-133.1581\"/>\n",
       "<polygon fill=\"#000000\" stroke=\"#000000\" points=\"30.5001,-133.0033 27,-123.0034 23.5001,-133.0034 30.5001,-133.0033\"/>\n",
       "<text text-anchor=\"middle\" x=\"34.5\" y=\"-144.8\" font-family=\"Times,serif\" font-size=\"14.00\" fill=\"#000000\"> &#160;1</text>\n",
       "</g>\n",
       "<!-- D -->\n",
       "<g id=\"node5\" class=\"node\">\n",
       "<title>D</title>\n",
       "<ellipse fill=\"none\" stroke=\"#000000\" stroke-dasharray=\"5,2\" cx=\"27\" cy=\"-18\" rx=\"27\" ry=\"18\"/>\n",
       "<text text-anchor=\"middle\" x=\"27\" y=\"-14.3\" font-family=\"Times,serif\" font-size=\"14.00\" fill=\"#000000\">D</text>\n",
       "</g>\n",
       "<!-- C&#45;&gt;D -->\n",
       "<g id=\"edge5\" class=\"edge\">\n",
       "<title>C&#45;&gt;D</title>\n",
       "<path fill=\"none\" stroke=\"#000000\" d=\"M27,-86.9735C27,-75.1918 27,-59.5607 27,-46.1581\"/>\n",
       "<polygon fill=\"#000000\" stroke=\"#000000\" points=\"30.5001,-46.0033 27,-36.0034 23.5001,-46.0034 30.5001,-46.0033\"/>\n",
       "<text text-anchor=\"middle\" x=\"34.5\" y=\"-57.8\" font-family=\"Times,serif\" font-size=\"14.00\" fill=\"#000000\"> &#160;1</text>\n",
       "</g>\n",
       "<!-- D&#45;&gt;D -->\n",
       "<g id=\"edge6\" class=\"edge\">\n",
       "<title>D&#45;&gt;D</title>\n",
       "<path fill=\"none\" stroke=\"#000000\" d=\"M51.5325,-25.752C62.5078,-26.4902 72,-23.9063 72,-18 72,-14.0317 67.7151,-11.5632 61.5743,-10.5944\"/>\n",
       "<polygon fill=\"#000000\" stroke=\"#000000\" points=\"61.6472,-7.0949 51.5325,-10.248 61.4059,-14.0908 61.6472,-7.0949\"/>\n",
       "<text text-anchor=\"middle\" x=\"86.5\" y=\"-14.3\" font-family=\"Times,serif\" font-size=\"14.00\" fill=\"#000000\"> &#160;1, 0</text>\n",
       "</g>\n",
       "</g>\n",
       "</svg>\n"
      ],
      "text/plain": [
       "<__main__.automata at 0x7f77dc39c350>"
      ]
     },
     "execution_count": 203,
     "metadata": {},
     "output_type": "execute_result"
    }
   ],
   "source": [
    "b"
   ]
  },
  {
   "cell_type": "markdown",
   "metadata": {
    "slideshow": {
     "slide_type": "notes"
    }
   },
   "source": [
    "If we wish to now recognise the language of strings containg _either_ `110` or `111`, we can combine the two automata in an Union"
   ]
  },
  {
   "cell_type": "code",
   "execution_count": 257,
   "metadata": {
    "slideshow": {
     "slide_type": "subslide"
    }
   },
   "outputs": [
    {
     "data": {
      "image/svg+xml": [
       "<?xml version=\"1.0\" encoding=\"UTF-8\" standalone=\"no\"?>\n",
       "<!DOCTYPE svg PUBLIC \"-//W3C//DTD SVG 1.1//EN\"\n",
       " \"http://www.w3.org/Graphics/SVG/1.1/DTD/svg11.dtd\">\n",
       "<!-- Generated by graphviz version 2.40.1 (0)\n",
       " -->\n",
       "<!-- Title: %3 Pages: 1 -->\n",
       "<svg width=\"228pt\" height=\"392pt\"\n",
       " viewBox=\"0.00 0.00 228.00 392.00\" xmlns=\"http://www.w3.org/2000/svg\" xmlns:xlink=\"http://www.w3.org/1999/xlink\">\n",
       "<g id=\"graph0\" class=\"graph\" transform=\"scale(1 1) rotate(0) translate(4 388)\">\n",
       "<title>%3</title>\n",
       "<polygon fill=\"#ffffff\" stroke=\"transparent\" points=\"-4,4 -4,-388 224,-388 224,4 -4,4\"/>\n",
       "<!-- A0 -->\n",
       "<g id=\"node1\" class=\"node\">\n",
       "<title>A0</title>\n",
       "<ellipse fill=\"none\" stroke=\"#000000\" cx=\"27\" cy=\"-279\" rx=\"27\" ry=\"18\"/>\n",
       "<text text-anchor=\"middle\" x=\"27\" y=\"-275.3\" font-family=\"Times,serif\" font-size=\"14.00\" fill=\"#000000\">A0</text>\n",
       "</g>\n",
       "<!-- A0&#45;&gt;A0 -->\n",
       "<g id=\"edge1\" class=\"edge\">\n",
       "<title>A0&#45;&gt;A0</title>\n",
       "<path fill=\"none\" stroke=\"#000000\" d=\"M51.5325,-286.752C62.5078,-287.4902 72,-284.9063 72,-279 72,-275.0317 67.7151,-272.5632 61.5743,-271.5944\"/>\n",
       "<polygon fill=\"#000000\" stroke=\"#000000\" points=\"61.6472,-268.0949 51.5325,-271.248 61.4059,-275.0908 61.6472,-268.0949\"/>\n",
       "<text text-anchor=\"middle\" x=\"86.5\" y=\"-275.3\" font-family=\"Times,serif\" font-size=\"14.00\" fill=\"#000000\"> &#160;0, 1</text>\n",
       "</g>\n",
       "<!-- B0 -->\n",
       "<g id=\"node2\" class=\"node\">\n",
       "<title>B0</title>\n",
       "<ellipse fill=\"none\" stroke=\"#000000\" cx=\"27\" cy=\"-192\" rx=\"27\" ry=\"18\"/>\n",
       "<text text-anchor=\"middle\" x=\"27\" y=\"-188.3\" font-family=\"Times,serif\" font-size=\"14.00\" fill=\"#000000\">B0</text>\n",
       "</g>\n",
       "<!-- A0&#45;&gt;B0 -->\n",
       "<g id=\"edge2\" class=\"edge\">\n",
       "<title>A0&#45;&gt;B0</title>\n",
       "<path fill=\"none\" stroke=\"#000000\" d=\"M27,-260.9735C27,-249.1918 27,-233.5607 27,-220.1581\"/>\n",
       "<polygon fill=\"#000000\" stroke=\"#000000\" points=\"30.5001,-220.0033 27,-210.0034 23.5001,-220.0034 30.5001,-220.0033\"/>\n",
       "<text text-anchor=\"middle\" x=\"34.5\" y=\"-231.8\" font-family=\"Times,serif\" font-size=\"14.00\" fill=\"#000000\"> &#160;1</text>\n",
       "</g>\n",
       "<!-- C0 -->\n",
       "<g id=\"node3\" class=\"node\">\n",
       "<title>C0</title>\n",
       "<ellipse fill=\"none\" stroke=\"#000000\" cx=\"27\" cy=\"-105\" rx=\"27\" ry=\"18\"/>\n",
       "<text text-anchor=\"middle\" x=\"27\" y=\"-101.3\" font-family=\"Times,serif\" font-size=\"14.00\" fill=\"#000000\">C0</text>\n",
       "</g>\n",
       "<!-- B0&#45;&gt;C0 -->\n",
       "<g id=\"edge3\" class=\"edge\">\n",
       "<title>B0&#45;&gt;C0</title>\n",
       "<path fill=\"none\" stroke=\"#000000\" d=\"M27,-173.9735C27,-162.1918 27,-146.5607 27,-133.1581\"/>\n",
       "<polygon fill=\"#000000\" stroke=\"#000000\" points=\"30.5001,-133.0033 27,-123.0034 23.5001,-133.0034 30.5001,-133.0033\"/>\n",
       "<text text-anchor=\"middle\" x=\"34.5\" y=\"-144.8\" font-family=\"Times,serif\" font-size=\"14.00\" fill=\"#000000\"> &#160;1</text>\n",
       "</g>\n",
       "<!-- D0 -->\n",
       "<g id=\"node4\" class=\"node\">\n",
       "<title>D0</title>\n",
       "<ellipse fill=\"none\" stroke=\"#000000\" stroke-dasharray=\"5,2\" cx=\"27\" cy=\"-18\" rx=\"27\" ry=\"18\"/>\n",
       "<text text-anchor=\"middle\" x=\"27\" y=\"-14.3\" font-family=\"Times,serif\" font-size=\"14.00\" fill=\"#000000\">D0</text>\n",
       "</g>\n",
       "<!-- C0&#45;&gt;D0 -->\n",
       "<g id=\"edge4\" class=\"edge\">\n",
       "<title>C0&#45;&gt;D0</title>\n",
       "<path fill=\"none\" stroke=\"#000000\" d=\"M27,-86.9735C27,-75.1918 27,-59.5607 27,-46.1581\"/>\n",
       "<polygon fill=\"#000000\" stroke=\"#000000\" points=\"30.5001,-46.0033 27,-36.0034 23.5001,-46.0034 30.5001,-46.0033\"/>\n",
       "<text text-anchor=\"middle\" x=\"34.5\" y=\"-57.8\" font-family=\"Times,serif\" font-size=\"14.00\" fill=\"#000000\"> &#160;0</text>\n",
       "</g>\n",
       "<!-- D0&#45;&gt;D0 -->\n",
       "<g id=\"edge5\" class=\"edge\">\n",
       "<title>D0&#45;&gt;D0</title>\n",
       "<path fill=\"none\" stroke=\"#000000\" d=\"M51.5325,-25.752C62.5078,-26.4902 72,-23.9063 72,-18 72,-14.0317 67.7151,-11.5632 61.5743,-10.5944\"/>\n",
       "<polygon fill=\"#000000\" stroke=\"#000000\" points=\"61.6472,-7.0949 51.5325,-10.248 61.4059,-14.0908 61.6472,-7.0949\"/>\n",
       "<text text-anchor=\"middle\" x=\"86.5\" y=\"-14.3\" font-family=\"Times,serif\" font-size=\"14.00\" fill=\"#000000\"> &#160;0, 1</text>\n",
       "</g>\n",
       "<!-- A1 -->\n",
       "<g id=\"node5\" class=\"node\">\n",
       "<title>A1</title>\n",
       "<ellipse fill=\"none\" stroke=\"#000000\" cx=\"146\" cy=\"-279\" rx=\"27\" ry=\"18\"/>\n",
       "<text text-anchor=\"middle\" x=\"146\" y=\"-275.3\" font-family=\"Times,serif\" font-size=\"14.00\" fill=\"#000000\">A1</text>\n",
       "</g>\n",
       "<!-- A1&#45;&gt;A1 -->\n",
       "<g id=\"edge6\" class=\"edge\">\n",
       "<title>A1&#45;&gt;A1</title>\n",
       "<path fill=\"none\" stroke=\"#000000\" d=\"M170.5325,-286.752C181.5078,-287.4902 191,-284.9063 191,-279 191,-275.0317 186.7151,-272.5632 180.5743,-271.5944\"/>\n",
       "<polygon fill=\"#000000\" stroke=\"#000000\" points=\"180.6472,-268.0949 170.5325,-271.248 180.4059,-275.0908 180.6472,-268.0949\"/>\n",
       "<text text-anchor=\"middle\" x=\"205.5\" y=\"-275.3\" font-family=\"Times,serif\" font-size=\"14.00\" fill=\"#000000\"> &#160;0, 1</text>\n",
       "</g>\n",
       "<!-- B1 -->\n",
       "<g id=\"node6\" class=\"node\">\n",
       "<title>B1</title>\n",
       "<ellipse fill=\"none\" stroke=\"#000000\" cx=\"146\" cy=\"-192\" rx=\"27\" ry=\"18\"/>\n",
       "<text text-anchor=\"middle\" x=\"146\" y=\"-188.3\" font-family=\"Times,serif\" font-size=\"14.00\" fill=\"#000000\">B1</text>\n",
       "</g>\n",
       "<!-- A1&#45;&gt;B1 -->\n",
       "<g id=\"edge7\" class=\"edge\">\n",
       "<title>A1&#45;&gt;B1</title>\n",
       "<path fill=\"none\" stroke=\"#000000\" d=\"M146,-260.9735C146,-249.1918 146,-233.5607 146,-220.1581\"/>\n",
       "<polygon fill=\"#000000\" stroke=\"#000000\" points=\"149.5001,-220.0033 146,-210.0034 142.5001,-220.0034 149.5001,-220.0033\"/>\n",
       "<text text-anchor=\"middle\" x=\"153.5\" y=\"-231.8\" font-family=\"Times,serif\" font-size=\"14.00\" fill=\"#000000\"> &#160;1</text>\n",
       "</g>\n",
       "<!-- C1 -->\n",
       "<g id=\"node7\" class=\"node\">\n",
       "<title>C1</title>\n",
       "<ellipse fill=\"none\" stroke=\"#000000\" cx=\"146\" cy=\"-105\" rx=\"27\" ry=\"18\"/>\n",
       "<text text-anchor=\"middle\" x=\"146\" y=\"-101.3\" font-family=\"Times,serif\" font-size=\"14.00\" fill=\"#000000\">C1</text>\n",
       "</g>\n",
       "<!-- B1&#45;&gt;C1 -->\n",
       "<g id=\"edge8\" class=\"edge\">\n",
       "<title>B1&#45;&gt;C1</title>\n",
       "<path fill=\"none\" stroke=\"#000000\" d=\"M146,-173.9735C146,-162.1918 146,-146.5607 146,-133.1581\"/>\n",
       "<polygon fill=\"#000000\" stroke=\"#000000\" points=\"149.5001,-133.0033 146,-123.0034 142.5001,-133.0034 149.5001,-133.0033\"/>\n",
       "<text text-anchor=\"middle\" x=\"153.5\" y=\"-144.8\" font-family=\"Times,serif\" font-size=\"14.00\" fill=\"#000000\"> &#160;1</text>\n",
       "</g>\n",
       "<!-- D1 -->\n",
       "<g id=\"node8\" class=\"node\">\n",
       "<title>D1</title>\n",
       "<ellipse fill=\"none\" stroke=\"#000000\" stroke-dasharray=\"5,2\" cx=\"146\" cy=\"-18\" rx=\"27\" ry=\"18\"/>\n",
       "<text text-anchor=\"middle\" x=\"146\" y=\"-14.3\" font-family=\"Times,serif\" font-size=\"14.00\" fill=\"#000000\">D1</text>\n",
       "</g>\n",
       "<!-- C1&#45;&gt;D1 -->\n",
       "<g id=\"edge9\" class=\"edge\">\n",
       "<title>C1&#45;&gt;D1</title>\n",
       "<path fill=\"none\" stroke=\"#000000\" d=\"M146,-86.9735C146,-75.1918 146,-59.5607 146,-46.1581\"/>\n",
       "<polygon fill=\"#000000\" stroke=\"#000000\" points=\"149.5001,-46.0033 146,-36.0034 142.5001,-46.0034 149.5001,-46.0033\"/>\n",
       "<text text-anchor=\"middle\" x=\"153.5\" y=\"-57.8\" font-family=\"Times,serif\" font-size=\"14.00\" fill=\"#000000\"> &#160;1</text>\n",
       "</g>\n",
       "<!-- D1&#45;&gt;D1 -->\n",
       "<g id=\"edge10\" class=\"edge\">\n",
       "<title>D1&#45;&gt;D1</title>\n",
       "<path fill=\"none\" stroke=\"#000000\" d=\"M170.5325,-25.752C181.5078,-26.4902 191,-23.9063 191,-18 191,-14.0317 186.7151,-11.5632 180.5743,-10.5944\"/>\n",
       "<polygon fill=\"#000000\" stroke=\"#000000\" points=\"180.6472,-7.0949 170.5325,-10.248 180.4059,-14.0908 180.6472,-7.0949\"/>\n",
       "<text text-anchor=\"middle\" x=\"205.5\" y=\"-14.3\" font-family=\"Times,serif\" font-size=\"14.00\" fill=\"#000000\"> &#160;0, 1</text>\n",
       "</g>\n",
       "<!-- start -->\n",
       "<g id=\"node9\" class=\"node\">\n",
       "<title>start</title>\n",
       "<ellipse fill=\"none\" stroke=\"#000000\" cx=\"158\" cy=\"-366\" rx=\"27\" ry=\"18\"/>\n",
       "<text text-anchor=\"middle\" x=\"158\" y=\"-362.3\" font-family=\"Times,serif\" font-size=\"14.00\" fill=\"#000000\">start</text>\n",
       "</g>\n",
       "<!-- 0 -->\n",
       "<g id=\"node10\" class=\"node\">\n",
       "<title>0</title>\n",
       "<ellipse fill=\"none\" stroke=\"#000000\" cx=\"86\" cy=\"-366\" rx=\"27\" ry=\"18\"/>\n",
       "<text text-anchor=\"middle\" x=\"86\" y=\"-362.3\" font-family=\"Times,serif\" font-size=\"14.00\" fill=\"#000000\">0</text>\n",
       "</g>\n",
       "<!-- 0&#45;&gt;A0 -->\n",
       "<g id=\"edge11\" class=\"edge\">\n",
       "<title>0&#45;&gt;A0</title>\n",
       "<path fill=\"none\" stroke=\"#000000\" d=\"M74.6242,-349.2255C65.9169,-336.3859 53.77,-318.4744 43.9232,-303.9546\"/>\n",
       "<polygon fill=\"#000000\" stroke=\"#000000\" points=\"46.6502,-301.7398 38.1408,-295.4279 40.8568,-305.6687 46.6502,-301.7398\"/>\n",
       "<text text-anchor=\"middle\" x=\"64.5\" y=\"-318.8\" font-family=\"Times,serif\" font-size=\"14.00\" fill=\"#000000\">ε</text>\n",
       "</g>\n",
       "<!-- 0&#45;&gt;A1 -->\n",
       "<g id=\"edge12\" class=\"edge\">\n",
       "<title>0&#45;&gt;A1</title>\n",
       "<path fill=\"none\" stroke=\"#000000\" d=\"M97.2855,-349.636C106.1127,-336.8367 118.5388,-318.8187 128.6315,-304.1843\"/>\n",
       "<polygon fill=\"#000000\" stroke=\"#000000\" points=\"131.7649,-305.8057 134.5611,-295.5865 126.0024,-301.8315 131.7649,-305.8057\"/>\n",
       "<text text-anchor=\"middle\" x=\"122.5\" y=\"-318.8\" font-family=\"Times,serif\" font-size=\"14.00\" fill=\"#000000\">ε</text>\n",
       "</g>\n",
       "</g>\n",
       "</svg>\n"
      ],
      "text/plain": [
       "<__main__.automata at 0x7f77dc0eb2d0>"
      ]
     },
     "execution_count": 257,
     "metadata": {},
     "output_type": "execute_result"
    }
   ],
   "source": [
    "a_union = a\n",
    "b_union = a\n",
    "\n",
    "unioned = automata.from_union([a,b])\n",
    "unioned"
   ]
  },
  {
   "cell_type": "markdown",
   "metadata": {
    "slideshow": {
     "slide_type": "notes"
    }
   },
   "source": [
    "When strings are processed by this NFA they can be analyzed by both the left and right paths at once, possibly reaching a final state in either, or both.\n",
    "\n",
    "Thus, the Union operation can be consitered similar to a logical, inclusive OR."
   ]
  },
  {
   "cell_type": "markdown",
   "metadata": {
    "slideshow": {
     "slide_type": "subslide"
    }
   },
   "source": [
    "### $\\varepsilon$\n",
    "Hello again, Epsilon!"
   ]
  },
  {
   "cell_type": "markdown",
   "metadata": {
    "slideshow": {
     "slide_type": "subslide"
    }
   },
   "source": [
    "The $\\varepsilon$ symbol here represents the _empty string_.\n"
   ]
  },
  {
   "cell_type": "markdown",
   "metadata": {
    "slideshow": {
     "slide_type": "notes"
    }
   },
   "source": [
    "In the context of finite automaton, this means that we change state whatever the input symbol is."
   ]
  },
  {
   "cell_type": "markdown",
   "metadata": {
    "slideshow": {
     "slide_type": "subslide"
    }
   },
   "source": [
    "### Concatination\n",
    "A logical AND"
   ]
  },
  {
   "cell_type": "markdown",
   "metadata": {
    "slideshow": {
     "slide_type": "notes"
    }
   },
   "source": [
    "We can also stick two NFAs after one another in a concatination.\n",
    "\n",
    "This produces a result like that or a logical AND - the language must be accepted by both automata in the chain."
   ]
  },
  {
   "cell_type": "markdown",
   "metadata": {
    "slideshow": {
     "slide_type": "notes"
    }
   },
   "source": [
    "Combing our two automaton from earlier in concatination we get the following:"
   ]
  },
  {
   "cell_type": "code",
   "execution_count": 200,
   "metadata": {
    "slideshow": {
     "slide_type": "subslide"
    }
   },
   "outputs": [
    {
     "data": {
      "image/svg+xml": [
       "<?xml version=\"1.0\" encoding=\"UTF-8\" standalone=\"no\"?>\n",
       "<!DOCTYPE svg PUBLIC \"-//W3C//DTD SVG 1.1//EN\"\n",
       " \"http://www.w3.org/Graphics/SVG/1.1/DTD/svg11.dtd\">\n",
       "<!-- Generated by graphviz version 2.40.1 (0)\n",
       " -->\n",
       "<!-- Title: %3 Pages: 1 -->\n",
       "<svg width=\"109pt\" height=\"726pt\"\n",
       " viewBox=\"0.00 0.00 109.00 726.00\" xmlns=\"http://www.w3.org/2000/svg\" xmlns:xlink=\"http://www.w3.org/1999/xlink\">\n",
       "<g id=\"graph0\" class=\"graph\" transform=\"scale(1 1) rotate(0) translate(4 722)\">\n",
       "<title>%3</title>\n",
       "<polygon fill=\"#ffffff\" stroke=\"transparent\" points=\"-4,4 -4,-722 105,-722 105,4 -4,4\"/>\n",
       "<!-- A0 -->\n",
       "<g id=\"node2\" class=\"node\">\n",
       "<title>A0</title>\n",
       "<ellipse fill=\"none\" stroke=\"#000000\" stroke-width=\"2\" cx=\"27\" cy=\"-627\" rx=\"27\" ry=\"18\"/>\n",
       "<text text-anchor=\"middle\" x=\"27\" y=\"-623.3\" font-family=\"Times,serif\" font-size=\"14.00\" fill=\"#000000\">A0</text>\n",
       "</g>\n",
       "<!-- &#45;&gt;A0 -->\n",
       "<g id=\"edge1\" class=\"edge\">\n",
       "<title>&#45;&gt;A0</title>\n",
       "<path fill=\"none\" stroke=\"#000000\" d=\"M27,-681.9551C27,-673.8828 27,-664.1764 27,-655.1817\"/>\n",
       "<polygon fill=\"#000000\" stroke=\"#000000\" points=\"30.5001,-655.0903 27,-645.0904 23.5001,-655.0904 30.5001,-655.0903\"/>\n",
       "</g>\n",
       "<!-- A0&#45;&gt;A0 -->\n",
       "<g id=\"edge2\" class=\"edge\">\n",
       "<title>A0&#45;&gt;A0</title>\n",
       "<path fill=\"none\" stroke=\"#000000\" d=\"M52.4435,-633.6907C63.0278,-634.1521 72,-631.9219 72,-627 72,-623.77 68.136,-621.6992 62.4881,-620.7876\"/>\n",
       "<polygon fill=\"#000000\" stroke=\"#000000\" points=\"62.5987,-617.289 52.4435,-620.3093 62.2656,-624.2811 62.5987,-617.289\"/>\n",
       "<text text-anchor=\"middle\" x=\"86.5\" y=\"-623.3\" font-family=\"Times,serif\" font-size=\"14.00\" fill=\"#000000\"> &#160;0, 1</text>\n",
       "</g>\n",
       "<!-- B0 -->\n",
       "<g id=\"node3\" class=\"node\">\n",
       "<title>B0</title>\n",
       "<ellipse fill=\"none\" stroke=\"#000000\" cx=\"27\" cy=\"-540\" rx=\"27\" ry=\"18\"/>\n",
       "<text text-anchor=\"middle\" x=\"27\" y=\"-536.3\" font-family=\"Times,serif\" font-size=\"14.00\" fill=\"#000000\">B0</text>\n",
       "</g>\n",
       "<!-- A0&#45;&gt;B0 -->\n",
       "<g id=\"edge3\" class=\"edge\">\n",
       "<title>A0&#45;&gt;B0</title>\n",
       "<path fill=\"none\" stroke=\"#000000\" d=\"M27,-608.9735C27,-597.1918 27,-581.5607 27,-568.1581\"/>\n",
       "<polygon fill=\"#000000\" stroke=\"#000000\" points=\"30.5001,-568.0033 27,-558.0034 23.5001,-568.0034 30.5001,-568.0033\"/>\n",
       "<text text-anchor=\"middle\" x=\"34.5\" y=\"-579.8\" font-family=\"Times,serif\" font-size=\"14.00\" fill=\"#000000\"> &#160;1</text>\n",
       "</g>\n",
       "<!-- C0 -->\n",
       "<g id=\"node4\" class=\"node\">\n",
       "<title>C0</title>\n",
       "<ellipse fill=\"none\" stroke=\"#000000\" cx=\"27\" cy=\"-453\" rx=\"27\" ry=\"18\"/>\n",
       "<text text-anchor=\"middle\" x=\"27\" y=\"-449.3\" font-family=\"Times,serif\" font-size=\"14.00\" fill=\"#000000\">C0</text>\n",
       "</g>\n",
       "<!-- B0&#45;&gt;C0 -->\n",
       "<g id=\"edge4\" class=\"edge\">\n",
       "<title>B0&#45;&gt;C0</title>\n",
       "<path fill=\"none\" stroke=\"#000000\" d=\"M27,-521.9735C27,-510.1918 27,-494.5607 27,-481.1581\"/>\n",
       "<polygon fill=\"#000000\" stroke=\"#000000\" points=\"30.5001,-481.0033 27,-471.0034 23.5001,-481.0034 30.5001,-481.0033\"/>\n",
       "<text text-anchor=\"middle\" x=\"34.5\" y=\"-492.8\" font-family=\"Times,serif\" font-size=\"14.00\" fill=\"#000000\"> &#160;1</text>\n",
       "</g>\n",
       "<!-- D0 -->\n",
       "<g id=\"node5\" class=\"node\">\n",
       "<title>D0</title>\n",
       "<ellipse fill=\"none\" stroke=\"#000000\" stroke-dasharray=\"5,2\" cx=\"27\" cy=\"-366\" rx=\"27\" ry=\"18\"/>\n",
       "<text text-anchor=\"middle\" x=\"27\" y=\"-362.3\" font-family=\"Times,serif\" font-size=\"14.00\" fill=\"#000000\">D0</text>\n",
       "</g>\n",
       "<!-- C0&#45;&gt;D0 -->\n",
       "<g id=\"edge5\" class=\"edge\">\n",
       "<title>C0&#45;&gt;D0</title>\n",
       "<path fill=\"none\" stroke=\"#000000\" d=\"M27,-434.9735C27,-423.1918 27,-407.5607 27,-394.1581\"/>\n",
       "<polygon fill=\"#000000\" stroke=\"#000000\" points=\"30.5001,-394.0033 27,-384.0034 23.5001,-394.0034 30.5001,-394.0033\"/>\n",
       "<text text-anchor=\"middle\" x=\"34.5\" y=\"-405.8\" font-family=\"Times,serif\" font-size=\"14.00\" fill=\"#000000\"> &#160;0</text>\n",
       "</g>\n",
       "<!-- A1 -->\n",
       "<g id=\"node6\" class=\"node\">\n",
       "<title>A1</title>\n",
       "<ellipse fill=\"none\" stroke=\"#000000\" cx=\"27\" cy=\"-279\" rx=\"27\" ry=\"18\"/>\n",
       "<text text-anchor=\"middle\" x=\"27\" y=\"-275.3\" font-family=\"Times,serif\" font-size=\"14.00\" fill=\"#000000\">A1</text>\n",
       "</g>\n",
       "<!-- D0&#45;&gt;A1 -->\n",
       "<g id=\"edge10\" class=\"edge\">\n",
       "<title>D0&#45;&gt;A1</title>\n",
       "<path fill=\"none\" stroke=\"#000000\" d=\"M27,-347.9735C27,-336.1918 27,-320.5607 27,-307.1581\"/>\n",
       "<polygon fill=\"#000000\" stroke=\"#000000\" points=\"30.5001,-307.0033 27,-297.0034 23.5001,-307.0034 30.5001,-307.0033\"/>\n",
       "<text text-anchor=\"middle\" x=\"34\" y=\"-318.8\" font-family=\"Times,serif\" font-size=\"14.00\" fill=\"#000000\"> &#160;ε</text>\n",
       "</g>\n",
       "<!-- A1&#45;&gt;A1 -->\n",
       "<g id=\"edge6\" class=\"edge\">\n",
       "<title>A1&#45;&gt;A1</title>\n",
       "<path fill=\"none\" stroke=\"#000000\" d=\"M51.5325,-286.752C62.5078,-287.4902 72,-284.9063 72,-279 72,-275.0317 67.7151,-272.5632 61.5743,-271.5944\"/>\n",
       "<polygon fill=\"#000000\" stroke=\"#000000\" points=\"61.6472,-268.0949 51.5325,-271.248 61.4059,-275.0908 61.6472,-268.0949\"/>\n",
       "<text text-anchor=\"middle\" x=\"86.5\" y=\"-275.3\" font-family=\"Times,serif\" font-size=\"14.00\" fill=\"#000000\"> &#160;0, 1</text>\n",
       "</g>\n",
       "<!-- B1 -->\n",
       "<g id=\"node7\" class=\"node\">\n",
       "<title>B1</title>\n",
       "<ellipse fill=\"none\" stroke=\"#000000\" cx=\"27\" cy=\"-192\" rx=\"27\" ry=\"18\"/>\n",
       "<text text-anchor=\"middle\" x=\"27\" y=\"-188.3\" font-family=\"Times,serif\" font-size=\"14.00\" fill=\"#000000\">B1</text>\n",
       "</g>\n",
       "<!-- A1&#45;&gt;B1 -->\n",
       "<g id=\"edge7\" class=\"edge\">\n",
       "<title>A1&#45;&gt;B1</title>\n",
       "<path fill=\"none\" stroke=\"#000000\" d=\"M27,-260.9735C27,-249.1918 27,-233.5607 27,-220.1581\"/>\n",
       "<polygon fill=\"#000000\" stroke=\"#000000\" points=\"30.5001,-220.0033 27,-210.0034 23.5001,-220.0034 30.5001,-220.0033\"/>\n",
       "<text text-anchor=\"middle\" x=\"34.5\" y=\"-231.8\" font-family=\"Times,serif\" font-size=\"14.00\" fill=\"#000000\"> &#160;1</text>\n",
       "</g>\n",
       "<!-- C1 -->\n",
       "<g id=\"node8\" class=\"node\">\n",
       "<title>C1</title>\n",
       "<ellipse fill=\"none\" stroke=\"#000000\" cx=\"27\" cy=\"-105\" rx=\"27\" ry=\"18\"/>\n",
       "<text text-anchor=\"middle\" x=\"27\" y=\"-101.3\" font-family=\"Times,serif\" font-size=\"14.00\" fill=\"#000000\">C1</text>\n",
       "</g>\n",
       "<!-- B1&#45;&gt;C1 -->\n",
       "<g id=\"edge8\" class=\"edge\">\n",
       "<title>B1&#45;&gt;C1</title>\n",
       "<path fill=\"none\" stroke=\"#000000\" d=\"M27,-173.9735C27,-162.1918 27,-146.5607 27,-133.1581\"/>\n",
       "<polygon fill=\"#000000\" stroke=\"#000000\" points=\"30.5001,-133.0033 27,-123.0034 23.5001,-133.0034 30.5001,-133.0033\"/>\n",
       "<text text-anchor=\"middle\" x=\"34.5\" y=\"-144.8\" font-family=\"Times,serif\" font-size=\"14.00\" fill=\"#000000\"> &#160;1</text>\n",
       "</g>\n",
       "<!-- D1 -->\n",
       "<g id=\"node9\" class=\"node\">\n",
       "<title>D1</title>\n",
       "<ellipse fill=\"none\" stroke=\"#000000\" stroke-dasharray=\"5,2\" cx=\"27\" cy=\"-18\" rx=\"27\" ry=\"18\"/>\n",
       "<text text-anchor=\"middle\" x=\"27\" y=\"-14.3\" font-family=\"Times,serif\" font-size=\"14.00\" fill=\"#000000\">D1</text>\n",
       "</g>\n",
       "<!-- C1&#45;&gt;D1 -->\n",
       "<g id=\"edge9\" class=\"edge\">\n",
       "<title>C1&#45;&gt;D1</title>\n",
       "<path fill=\"none\" stroke=\"#000000\" d=\"M27,-86.9735C27,-75.1918 27,-59.5607 27,-46.1581\"/>\n",
       "<polygon fill=\"#000000\" stroke=\"#000000\" points=\"30.5001,-46.0033 27,-36.0034 23.5001,-46.0034 30.5001,-46.0033\"/>\n",
       "<text text-anchor=\"middle\" x=\"34.5\" y=\"-57.8\" font-family=\"Times,serif\" font-size=\"14.00\" fill=\"#000000\"> &#160;1</text>\n",
       "</g>\n",
       "</g>\n",
       "</svg>\n"
      ],
      "text/plain": [
       "<__main__.automata at 0x7f77e8e27d10>"
      ]
     },
     "execution_count": 200,
     "metadata": {},
     "output_type": "execute_result"
    }
   ],
   "source": [
    "concatinated = automata.from_concat([a,b])\n",
    "\n",
    "concatinated"
   ]
  },
  {
   "cell_type": "markdown",
   "metadata": {
    "slideshow": {
     "slide_type": "notes"
    }
   },
   "source": [
    "Strings accepted by this machine must contain `110` followed by `111`"
   ]
  },
  {
   "cell_type": "markdown",
   "metadata": {
    "slideshow": {
     "slide_type": "subslide"
    }
   },
   "source": [
    "### Star\n",
    "\n",
    "_More than one of that_"
   ]
  },
  {
   "cell_type": "markdown",
   "metadata": {
    "slideshow": {
     "slide_type": "notes"
    }
   },
   "source": [
    "The star operation duplicates a machine so that it accepts a string which contains any number of strings in the language combined together."
   ]
  },
  {
   "cell_type": "code",
   "execution_count": 201,
   "metadata": {
    "slideshow": {
     "slide_type": "subslide"
    }
   },
   "outputs": [
    {
     "data": {
      "image/svg+xml": [
       "<?xml version=\"1.0\" encoding=\"UTF-8\" standalone=\"no\"?>\n",
       "<!DOCTYPE svg PUBLIC \"-//W3C//DTD SVG 1.1//EN\"\n",
       " \"http://www.w3.org/Graphics/SVG/1.1/DTD/svg11.dtd\">\n",
       "<!-- Generated by graphviz version 2.40.1 (0)\n",
       " -->\n",
       "<!-- Title: %3 Pages: 1 -->\n",
       "<svg width=\"137pt\" height=\"392pt\"\n",
       " viewBox=\"0.00 0.00 137.00 392.00\" xmlns=\"http://www.w3.org/2000/svg\" xmlns:xlink=\"http://www.w3.org/1999/xlink\">\n",
       "<g id=\"graph0\" class=\"graph\" transform=\"scale(1 1) rotate(0) translate(4 388)\">\n",
       "<title>%3</title>\n",
       "<polygon fill=\"#ffffff\" stroke=\"transparent\" points=\"-4,4 -4,-388 133,-388 133,4 -4,4\"/>\n",
       "<!-- A -->\n",
       "<g id=\"node1\" class=\"node\">\n",
       "<title>A</title>\n",
       "<ellipse fill=\"none\" stroke=\"#000000\" cx=\"55\" cy=\"-279\" rx=\"27\" ry=\"18\"/>\n",
       "<text text-anchor=\"middle\" x=\"55\" y=\"-275.3\" font-family=\"Times,serif\" font-size=\"14.00\" fill=\"#000000\">A</text>\n",
       "</g>\n",
       "<!-- A&#45;&gt;A -->\n",
       "<g id=\"edge1\" class=\"edge\">\n",
       "<title>A&#45;&gt;A</title>\n",
       "<path fill=\"none\" stroke=\"#000000\" d=\"M79.5325,-286.752C90.5078,-287.4902 100,-284.9063 100,-279 100,-275.0317 95.7151,-272.5632 89.5743,-271.5944\"/>\n",
       "<polygon fill=\"#000000\" stroke=\"#000000\" points=\"89.6472,-268.0949 79.5325,-271.248 89.4059,-275.0908 89.6472,-268.0949\"/>\n",
       "<text text-anchor=\"middle\" x=\"114.5\" y=\"-275.3\" font-family=\"Times,serif\" font-size=\"14.00\" fill=\"#000000\"> &#160;0, 1</text>\n",
       "</g>\n",
       "<!-- B -->\n",
       "<g id=\"node2\" class=\"node\">\n",
       "<title>B</title>\n",
       "<ellipse fill=\"none\" stroke=\"#000000\" cx=\"27\" cy=\"-192\" rx=\"27\" ry=\"18\"/>\n",
       "<text text-anchor=\"middle\" x=\"27\" y=\"-188.3\" font-family=\"Times,serif\" font-size=\"14.00\" fill=\"#000000\">B</text>\n",
       "</g>\n",
       "<!-- A&#45;&gt;B -->\n",
       "<g id=\"edge2\" class=\"edge\">\n",
       "<title>A&#45;&gt;B</title>\n",
       "<path fill=\"none\" stroke=\"#000000\" d=\"M49.3338,-261.3943C45.4881,-249.4453 40.3234,-233.3978 35.9293,-219.7446\"/>\n",
       "<polygon fill=\"#000000\" stroke=\"#000000\" points=\"39.1493,-218.325 32.7539,-209.8782 32.4859,-220.4696 39.1493,-218.325\"/>\n",
       "<text text-anchor=\"middle\" x=\"50.5\" y=\"-231.8\" font-family=\"Times,serif\" font-size=\"14.00\" fill=\"#000000\"> &#160;1</text>\n",
       "</g>\n",
       "<!-- C -->\n",
       "<g id=\"node3\" class=\"node\">\n",
       "<title>C</title>\n",
       "<ellipse fill=\"none\" stroke=\"#000000\" cx=\"27\" cy=\"-105\" rx=\"27\" ry=\"18\"/>\n",
       "<text text-anchor=\"middle\" x=\"27\" y=\"-101.3\" font-family=\"Times,serif\" font-size=\"14.00\" fill=\"#000000\">C</text>\n",
       "</g>\n",
       "<!-- B&#45;&gt;C -->\n",
       "<g id=\"edge3\" class=\"edge\">\n",
       "<title>B&#45;&gt;C</title>\n",
       "<path fill=\"none\" stroke=\"#000000\" d=\"M27,-173.9735C27,-162.1918 27,-146.5607 27,-133.1581\"/>\n",
       "<polygon fill=\"#000000\" stroke=\"#000000\" points=\"30.5001,-133.0033 27,-123.0034 23.5001,-133.0034 30.5001,-133.0033\"/>\n",
       "<text text-anchor=\"middle\" x=\"34.5\" y=\"-144.8\" font-family=\"Times,serif\" font-size=\"14.00\" fill=\"#000000\"> &#160;1</text>\n",
       "</g>\n",
       "<!-- D -->\n",
       "<g id=\"node4\" class=\"node\">\n",
       "<title>D</title>\n",
       "<ellipse fill=\"none\" stroke=\"#000000\" stroke-dasharray=\"5,2\" cx=\"55\" cy=\"-18\" rx=\"27\" ry=\"18\"/>\n",
       "<text text-anchor=\"middle\" x=\"55\" y=\"-14.3\" font-family=\"Times,serif\" font-size=\"14.00\" fill=\"#000000\">D</text>\n",
       "</g>\n",
       "<!-- C&#45;&gt;D -->\n",
       "<g id=\"edge4\" class=\"edge\">\n",
       "<title>C&#45;&gt;D</title>\n",
       "<path fill=\"none\" stroke=\"#000000\" d=\"M32.6662,-87.3943C36.5119,-75.4453 41.6766,-59.3978 46.0707,-45.7446\"/>\n",
       "<polygon fill=\"#000000\" stroke=\"#000000\" points=\"49.5141,-46.4696 49.2461,-35.8782 42.8507,-44.325 49.5141,-46.4696\"/>\n",
       "<text text-anchor=\"middle\" x=\"50.5\" y=\"-57.8\" font-family=\"Times,serif\" font-size=\"14.00\" fill=\"#000000\"> &#160;0</text>\n",
       "</g>\n",
       "<!-- D&#45;&gt;A -->\n",
       "<g id=\"edge5\" class=\"edge\">\n",
       "<title>D&#45;&gt;A</title>\n",
       "<path fill=\"none\" stroke=\"#000000\" d=\"M59.064,-35.8574C60.2158,-41.6182 61.336,-48.0519 62,-54 63.6279,-68.5828 62.7778,-72.3283 63,-87 64.1879,-165.4213 65.308,-213.3667 62,-243 61.6991,-245.6952 61.3046,-248.4902 60.8559,-251.277\"/>\n",
       "<polygon fill=\"#000000\" stroke=\"#000000\" points=\"57.4075,-250.678 59.064,-261.1426 64.2948,-251.929 57.4075,-250.678\"/>\n",
       "<text text-anchor=\"middle\" x=\"70\" y=\"-144.8\" font-family=\"Times,serif\" font-size=\"14.00\" fill=\"#000000\"> &#160;ε</text>\n",
       "</g>\n",
       "<!-- 0 -->\n",
       "<g id=\"node5\" class=\"node\">\n",
       "<title>0</title>\n",
       "<ellipse fill=\"none\" stroke=\"#000000\" stroke-width=\"2\" cx=\"55\" cy=\"-366\" rx=\"27\" ry=\"18\"/>\n",
       "<text text-anchor=\"middle\" x=\"55\" y=\"-362.3\" font-family=\"Times,serif\" font-size=\"14.00\" fill=\"#000000\">0</text>\n",
       "</g>\n",
       "<!-- 0&#45;&gt;A -->\n",
       "<g id=\"edge6\" class=\"edge\">\n",
       "<title>0&#45;&gt;A</title>\n",
       "<path fill=\"none\" stroke=\"#000000\" d=\"M55,-347.9735C55,-336.1918 55,-320.5607 55,-307.1581\"/>\n",
       "<polygon fill=\"#000000\" stroke=\"#000000\" points=\"58.5001,-307.0033 55,-297.0034 51.5001,-307.0034 58.5001,-307.0033\"/>\n",
       "<text text-anchor=\"middle\" x=\"62\" y=\"-318.8\" font-family=\"Times,serif\" font-size=\"14.00\" fill=\"#000000\"> &#160;ε</text>\n",
       "</g>\n",
       "</g>\n",
       "</svg>\n"
      ],
      "text/plain": [
       "<__main__.automata at 0x7f77dc692190>"
      ]
     },
     "execution_count": 201,
     "metadata": {},
     "output_type": "execute_result"
    }
   ],
   "source": [
    "star = automata.from_star(a)\n",
    "\n",
    "star\n"
   ]
  },
  {
   "cell_type": "markdown",
   "metadata": {
    "slideshow": {
     "slide_type": "notes"
    }
   },
   "source": [
    "Essentially - once a string has reached the final state because part of it matches the language, it runs back around to the starting state again, to check for more occurances!"
   ]
  },
  {
   "cell_type": "markdown",
   "metadata": {
    "slideshow": {
     "slide_type": "slide"
    }
   },
   "source": [
    "## Regular Expressions\n",
    "_What you've all been waiting for!_"
   ]
  },
  {
   "cell_type": "markdown",
   "metadata": {
    "slideshow": {
     "slide_type": "notes"
    }
   },
   "source": [
    "No we know how to take multiple NFAs which recognise regular languages and combine them, we can represent those combinations as an expression"
   ]
  },
  {
   "cell_type": "markdown",
   "metadata": {
    "slideshow": {
     "slide_type": "subslide"
    }
   },
   "source": [
    "$$ ( 0 \\cup 1 )^* (110 \\cup 111 ) (0 \\cup 1)^* $$\n",
    "\n",
    "The language of strings containing both `110` and `111` anywhere in the string."
   ]
  },
  {
   "cell_type": "markdown",
   "metadata": {
    "slideshow": {
     "slide_type": "notes"
    }
   },
   "source": [
    "This regular expression describes a language that we've seen before. the language of strings which contain either `110` or `111`"
   ]
  },
  {
   "cell_type": "code",
   "execution_count": 217,
   "metadata": {
    "slideshow": {
     "slide_type": "subslide"
    }
   },
   "outputs": [
    {
     "data": {
      "image/svg+xml": [
       "<?xml version=\"1.0\" encoding=\"UTF-8\" standalone=\"no\"?>\n",
       "<!DOCTYPE svg PUBLIC \"-//W3C//DTD SVG 1.1//EN\"\n",
       " \"http://www.w3.org/Graphics/SVG/1.1/DTD/svg11.dtd\">\n",
       "<!-- Generated by graphviz version 2.40.1 (0)\n",
       " -->\n",
       "<!-- Title: %3 Pages: 1 -->\n",
       "<svg width=\"228pt\" height=\"465pt\"\n",
       " viewBox=\"0.00 0.00 228.00 465.00\" xmlns=\"http://www.w3.org/2000/svg\" xmlns:xlink=\"http://www.w3.org/1999/xlink\">\n",
       "<g id=\"graph0\" class=\"graph\" transform=\"scale(1 1) rotate(0) translate(4 461)\">\n",
       "<title>%3</title>\n",
       "<polygon fill=\"#ffffff\" stroke=\"transparent\" points=\"-4,4 -4,-461 224,-461 224,4 -4,4\"/>\n",
       "<!-- A0 -->\n",
       "<g id=\"node1\" class=\"node\">\n",
       "<title>A0</title>\n",
       "<ellipse fill=\"none\" stroke=\"#000000\" cx=\"27\" cy=\"-279\" rx=\"27\" ry=\"18\"/>\n",
       "<text text-anchor=\"middle\" x=\"27\" y=\"-275.3\" font-family=\"Times,serif\" font-size=\"14.00\" fill=\"#000000\">A0</text>\n",
       "</g>\n",
       "<!-- A0&#45;&gt;A0 -->\n",
       "<g id=\"edge2\" class=\"edge\">\n",
       "<title>A0&#45;&gt;A0</title>\n",
       "<path fill=\"none\" stroke=\"#000000\" d=\"M51.5325,-286.752C62.5078,-287.4902 72,-284.9063 72,-279 72,-275.0317 67.7151,-272.5632 61.5743,-271.5944\"/>\n",
       "<polygon fill=\"#000000\" stroke=\"#000000\" points=\"61.6472,-268.0949 51.5325,-271.248 61.4059,-275.0908 61.6472,-268.0949\"/>\n",
       "<text text-anchor=\"middle\" x=\"86.5\" y=\"-275.3\" font-family=\"Times,serif\" font-size=\"14.00\" fill=\"#000000\"> &#160;0, 1</text>\n",
       "</g>\n",
       "<!-- B0 -->\n",
       "<g id=\"node2\" class=\"node\">\n",
       "<title>B0</title>\n",
       "<ellipse fill=\"none\" stroke=\"#000000\" cx=\"27\" cy=\"-192\" rx=\"27\" ry=\"18\"/>\n",
       "<text text-anchor=\"middle\" x=\"27\" y=\"-188.3\" font-family=\"Times,serif\" font-size=\"14.00\" fill=\"#000000\">B0</text>\n",
       "</g>\n",
       "<!-- A0&#45;&gt;B0 -->\n",
       "<g id=\"edge3\" class=\"edge\">\n",
       "<title>A0&#45;&gt;B0</title>\n",
       "<path fill=\"none\" stroke=\"#000000\" d=\"M27,-260.9735C27,-249.1918 27,-233.5607 27,-220.1581\"/>\n",
       "<polygon fill=\"#000000\" stroke=\"#000000\" points=\"30.5001,-220.0033 27,-210.0034 23.5001,-220.0034 30.5001,-220.0033\"/>\n",
       "<text text-anchor=\"middle\" x=\"34.5\" y=\"-231.8\" font-family=\"Times,serif\" font-size=\"14.00\" fill=\"#000000\"> &#160;1</text>\n",
       "</g>\n",
       "<!-- C0 -->\n",
       "<g id=\"node3\" class=\"node\">\n",
       "<title>C0</title>\n",
       "<ellipse fill=\"none\" stroke=\"#000000\" cx=\"27\" cy=\"-105\" rx=\"27\" ry=\"18\"/>\n",
       "<text text-anchor=\"middle\" x=\"27\" y=\"-101.3\" font-family=\"Times,serif\" font-size=\"14.00\" fill=\"#000000\">C0</text>\n",
       "</g>\n",
       "<!-- B0&#45;&gt;C0 -->\n",
       "<g id=\"edge4\" class=\"edge\">\n",
       "<title>B0&#45;&gt;C0</title>\n",
       "<path fill=\"none\" stroke=\"#000000\" d=\"M27,-173.9735C27,-162.1918 27,-146.5607 27,-133.1581\"/>\n",
       "<polygon fill=\"#000000\" stroke=\"#000000\" points=\"30.5001,-133.0033 27,-123.0034 23.5001,-133.0034 30.5001,-133.0033\"/>\n",
       "<text text-anchor=\"middle\" x=\"34.5\" y=\"-144.8\" font-family=\"Times,serif\" font-size=\"14.00\" fill=\"#000000\"> &#160;1</text>\n",
       "</g>\n",
       "<!-- D0 -->\n",
       "<g id=\"node4\" class=\"node\">\n",
       "<title>D0</title>\n",
       "<ellipse fill=\"none\" stroke=\"#000000\" stroke-dasharray=\"5,2\" cx=\"27\" cy=\"-18\" rx=\"27\" ry=\"18\"/>\n",
       "<text text-anchor=\"middle\" x=\"27\" y=\"-14.3\" font-family=\"Times,serif\" font-size=\"14.00\" fill=\"#000000\">D0</text>\n",
       "</g>\n",
       "<!-- C0&#45;&gt;D0 -->\n",
       "<g id=\"edge5\" class=\"edge\">\n",
       "<title>C0&#45;&gt;D0</title>\n",
       "<path fill=\"none\" stroke=\"#000000\" d=\"M27,-86.9735C27,-75.1918 27,-59.5607 27,-46.1581\"/>\n",
       "<polygon fill=\"#000000\" stroke=\"#000000\" points=\"30.5001,-46.0033 27,-36.0034 23.5001,-46.0034 30.5001,-46.0033\"/>\n",
       "<text text-anchor=\"middle\" x=\"34.5\" y=\"-57.8\" font-family=\"Times,serif\" font-size=\"14.00\" fill=\"#000000\"> &#160;0</text>\n",
       "</g>\n",
       "<!-- D0&#45;&gt;D0 -->\n",
       "<g id=\"edge6\" class=\"edge\">\n",
       "<title>D0&#45;&gt;D0</title>\n",
       "<path fill=\"none\" stroke=\"#000000\" d=\"M51.5325,-25.752C62.5078,-26.4902 72,-23.9063 72,-18 72,-14.0317 67.7151,-11.5632 61.5743,-10.5944\"/>\n",
       "<polygon fill=\"#000000\" stroke=\"#000000\" points=\"61.6472,-7.0949 51.5325,-10.248 61.4059,-14.0908 61.6472,-7.0949\"/>\n",
       "<text text-anchor=\"middle\" x=\"86.5\" y=\"-14.3\" font-family=\"Times,serif\" font-size=\"14.00\" fill=\"#000000\"> &#160;0, 1</text>\n",
       "</g>\n",
       "<!-- A1 -->\n",
       "<g id=\"node5\" class=\"node\">\n",
       "<title>A1</title>\n",
       "<ellipse fill=\"none\" stroke=\"#000000\" cx=\"146\" cy=\"-279\" rx=\"27\" ry=\"18\"/>\n",
       "<text text-anchor=\"middle\" x=\"146\" y=\"-275.3\" font-family=\"Times,serif\" font-size=\"14.00\" fill=\"#000000\">A1</text>\n",
       "</g>\n",
       "<!-- A1&#45;&gt;A1 -->\n",
       "<g id=\"edge7\" class=\"edge\">\n",
       "<title>A1&#45;&gt;A1</title>\n",
       "<path fill=\"none\" stroke=\"#000000\" d=\"M170.5325,-286.752C181.5078,-287.4902 191,-284.9063 191,-279 191,-275.0317 186.7151,-272.5632 180.5743,-271.5944\"/>\n",
       "<polygon fill=\"#000000\" stroke=\"#000000\" points=\"180.6472,-268.0949 170.5325,-271.248 180.4059,-275.0908 180.6472,-268.0949\"/>\n",
       "<text text-anchor=\"middle\" x=\"205.5\" y=\"-275.3\" font-family=\"Times,serif\" font-size=\"14.00\" fill=\"#000000\"> &#160;0, 1</text>\n",
       "</g>\n",
       "<!-- B1 -->\n",
       "<g id=\"node6\" class=\"node\">\n",
       "<title>B1</title>\n",
       "<ellipse fill=\"none\" stroke=\"#000000\" cx=\"146\" cy=\"-192\" rx=\"27\" ry=\"18\"/>\n",
       "<text text-anchor=\"middle\" x=\"146\" y=\"-188.3\" font-family=\"Times,serif\" font-size=\"14.00\" fill=\"#000000\">B1</text>\n",
       "</g>\n",
       "<!-- A1&#45;&gt;B1 -->\n",
       "<g id=\"edge8\" class=\"edge\">\n",
       "<title>A1&#45;&gt;B1</title>\n",
       "<path fill=\"none\" stroke=\"#000000\" d=\"M146,-260.9735C146,-249.1918 146,-233.5607 146,-220.1581\"/>\n",
       "<polygon fill=\"#000000\" stroke=\"#000000\" points=\"149.5001,-220.0033 146,-210.0034 142.5001,-220.0034 149.5001,-220.0033\"/>\n",
       "<text text-anchor=\"middle\" x=\"153.5\" y=\"-231.8\" font-family=\"Times,serif\" font-size=\"14.00\" fill=\"#000000\"> &#160;1</text>\n",
       "</g>\n",
       "<!-- C1 -->\n",
       "<g id=\"node7\" class=\"node\">\n",
       "<title>C1</title>\n",
       "<ellipse fill=\"none\" stroke=\"#000000\" cx=\"146\" cy=\"-105\" rx=\"27\" ry=\"18\"/>\n",
       "<text text-anchor=\"middle\" x=\"146\" y=\"-101.3\" font-family=\"Times,serif\" font-size=\"14.00\" fill=\"#000000\">C1</text>\n",
       "</g>\n",
       "<!-- B1&#45;&gt;C1 -->\n",
       "<g id=\"edge9\" class=\"edge\">\n",
       "<title>B1&#45;&gt;C1</title>\n",
       "<path fill=\"none\" stroke=\"#000000\" d=\"M146,-173.9735C146,-162.1918 146,-146.5607 146,-133.1581\"/>\n",
       "<polygon fill=\"#000000\" stroke=\"#000000\" points=\"149.5001,-133.0033 146,-123.0034 142.5001,-133.0034 149.5001,-133.0033\"/>\n",
       "<text text-anchor=\"middle\" x=\"153.5\" y=\"-144.8\" font-family=\"Times,serif\" font-size=\"14.00\" fill=\"#000000\"> &#160;1</text>\n",
       "</g>\n",
       "<!-- D1 -->\n",
       "<g id=\"node8\" class=\"node\">\n",
       "<title>D1</title>\n",
       "<ellipse fill=\"none\" stroke=\"#000000\" stroke-dasharray=\"5,2\" cx=\"146\" cy=\"-18\" rx=\"27\" ry=\"18\"/>\n",
       "<text text-anchor=\"middle\" x=\"146\" y=\"-14.3\" font-family=\"Times,serif\" font-size=\"14.00\" fill=\"#000000\">D1</text>\n",
       "</g>\n",
       "<!-- C1&#45;&gt;D1 -->\n",
       "<g id=\"edge10\" class=\"edge\">\n",
       "<title>C1&#45;&gt;D1</title>\n",
       "<path fill=\"none\" stroke=\"#000000\" d=\"M146,-86.9735C146,-75.1918 146,-59.5607 146,-46.1581\"/>\n",
       "<polygon fill=\"#000000\" stroke=\"#000000\" points=\"149.5001,-46.0033 146,-36.0034 142.5001,-46.0034 149.5001,-46.0033\"/>\n",
       "<text text-anchor=\"middle\" x=\"153.5\" y=\"-57.8\" font-family=\"Times,serif\" font-size=\"14.00\" fill=\"#000000\"> &#160;1</text>\n",
       "</g>\n",
       "<!-- D1&#45;&gt;D1 -->\n",
       "<g id=\"edge11\" class=\"edge\">\n",
       "<title>D1&#45;&gt;D1</title>\n",
       "<path fill=\"none\" stroke=\"#000000\" d=\"M170.5325,-25.752C181.5078,-26.4902 191,-23.9063 191,-18 191,-14.0317 186.7151,-11.5632 180.5743,-10.5944\"/>\n",
       "<polygon fill=\"#000000\" stroke=\"#000000\" points=\"180.6472,-7.0949 170.5325,-10.248 180.4059,-14.0908 180.6472,-7.0949\"/>\n",
       "<text text-anchor=\"middle\" x=\"205.5\" y=\"-14.3\" font-family=\"Times,serif\" font-size=\"14.00\" fill=\"#000000\"> &#160;0, 1</text>\n",
       "</g>\n",
       "<!-- 0 -->\n",
       "<g id=\"node10\" class=\"node\">\n",
       "<title>0</title>\n",
       "<ellipse fill=\"none\" stroke=\"#000000\" stroke-width=\"2\" cx=\"86\" cy=\"-366\" rx=\"27\" ry=\"18\"/>\n",
       "<text text-anchor=\"middle\" x=\"86\" y=\"-362.3\" font-family=\"Times,serif\" font-size=\"14.00\" fill=\"#000000\">0</text>\n",
       "</g>\n",
       "<!-- &#45;&gt;0 -->\n",
       "<g id=\"edge1\" class=\"edge\">\n",
       "<title>&#45;&gt;0</title>\n",
       "<path fill=\"none\" stroke=\"#000000\" d=\"M86,-420.9551C86,-412.8828 86,-403.1764 86,-394.1817\"/>\n",
       "<polygon fill=\"#000000\" stroke=\"#000000\" points=\"89.5001,-394.0903 86,-384.0904 82.5001,-394.0904 89.5001,-394.0903\"/>\n",
       "</g>\n",
       "<!-- 0&#45;&gt;A0 -->\n",
       "<g id=\"edge12\" class=\"edge\">\n",
       "<title>0&#45;&gt;A0</title>\n",
       "<path fill=\"none\" stroke=\"#000000\" d=\"M74.6242,-349.2255C65.9169,-336.3859 53.77,-318.4744 43.9232,-303.9546\"/>\n",
       "<polygon fill=\"#000000\" stroke=\"#000000\" points=\"46.6502,-301.7398 38.1408,-295.4279 40.8568,-305.6687 46.6502,-301.7398\"/>\n",
       "<text text-anchor=\"middle\" x=\"64.5\" y=\"-318.8\" font-family=\"Times,serif\" font-size=\"14.00\" fill=\"#000000\">ε</text>\n",
       "</g>\n",
       "<!-- 0&#45;&gt;A1 -->\n",
       "<g id=\"edge13\" class=\"edge\">\n",
       "<title>0&#45;&gt;A1</title>\n",
       "<path fill=\"none\" stroke=\"#000000\" d=\"M97.2855,-349.636C106.1127,-336.8367 118.5388,-318.8187 128.6315,-304.1843\"/>\n",
       "<polygon fill=\"#000000\" stroke=\"#000000\" points=\"131.7649,-305.8057 134.5611,-295.5865 126.0024,-301.8315 131.7649,-305.8057\"/>\n",
       "<text text-anchor=\"middle\" x=\"122.5\" y=\"-318.8\" font-family=\"Times,serif\" font-size=\"14.00\" fill=\"#000000\">ε</text>\n",
       "</g>\n",
       "</g>\n",
       "</svg>\n"
      ],
      "text/plain": [
       "<__main__.automata at 0x7f77dcc36490>"
      ]
     },
     "execution_count": 217,
     "metadata": {},
     "output_type": "execute_result"
    }
   ],
   "source": [
    "unioned"
   ]
  },
  {
   "cell_type": "markdown",
   "metadata": {
    "slideshow": {
     "slide_type": "notes"
    }
   },
   "source": [
    "A0 and A1 handle the $(0 \\cup 1)$\n",
    "\n",
    "B0, B1  through to D0 and D1 handle the mathching of `110` and `111`. and D0 and D1 finally spin until they reach the end of the string."
   ]
  },
  {
   "cell_type": "markdown",
   "metadata": {
    "slideshow": {
     "slide_type": "notes"
    }
   },
   "source": [
    "While we know that this NFA is one we've seen before - for practice, lets build up an NFA to represent our regular expression above.\n",
    "\n",
    "This preceedure won't give an NFA with the fewest number of states - but it does demonstrate how Regular Expressions can be converted into an NFA diagram."
   ]
  },
  {
   "cell_type": "code",
   "execution_count": 263,
   "metadata": {},
   "outputs": [
    {
     "data": {
      "image/svg+xml": [
       "<?xml version=\"1.0\" encoding=\"UTF-8\" standalone=\"no\"?>\n",
       "<!DOCTYPE svg PUBLIC \"-//W3C//DTD SVG 1.1//EN\"\n",
       " \"http://www.w3.org/Graphics/SVG/1.1/DTD/svg11.dtd\">\n",
       "<!-- Generated by graphviz version 2.40.1 (0)\n",
       " -->\n",
       "<!-- Title: %3 Pages: 1 -->\n",
       "<svg width=\"62pt\" height=\"204pt\"\n",
       " viewBox=\"0.00 0.00 62.00 204.00\" xmlns=\"http://www.w3.org/2000/svg\" xmlns:xlink=\"http://www.w3.org/1999/xlink\">\n",
       "<g id=\"graph0\" class=\"graph\" transform=\"scale(1 1) rotate(0) translate(4 200)\">\n",
       "<title>%3</title>\n",
       "<polygon fill=\"#ffffff\" stroke=\"transparent\" points=\"-4,4 -4,-200 58,-200 58,4 -4,4\"/>\n",
       "<!-- A -->\n",
       "<g id=\"node2\" class=\"node\">\n",
       "<title>A</title>\n",
       "<ellipse fill=\"none\" stroke=\"#000000\" stroke-width=\"2\" cx=\"27\" cy=\"-105\" rx=\"27\" ry=\"18\"/>\n",
       "<text text-anchor=\"middle\" x=\"27\" y=\"-101.3\" font-family=\"Times,serif\" font-size=\"14.00\" fill=\"#000000\">A</text>\n",
       "</g>\n",
       "<!-- &#45;&gt;A -->\n",
       "<g id=\"edge1\" class=\"edge\">\n",
       "<title>&#45;&gt;A</title>\n",
       "<path fill=\"none\" stroke=\"#000000\" d=\"M27,-159.9551C27,-151.8828 27,-142.1764 27,-133.1817\"/>\n",
       "<polygon fill=\"#000000\" stroke=\"#000000\" points=\"30.5001,-133.0903 27,-123.0904 23.5001,-133.0904 30.5001,-133.0903\"/>\n",
       "</g>\n",
       "<!-- B -->\n",
       "<g id=\"node3\" class=\"node\">\n",
       "<title>B</title>\n",
       "<ellipse fill=\"none\" stroke=\"#000000\" stroke-dasharray=\"5,2\" cx=\"27\" cy=\"-18\" rx=\"27\" ry=\"18\"/>\n",
       "<text text-anchor=\"middle\" x=\"27\" y=\"-14.3\" font-family=\"Times,serif\" font-size=\"14.00\" fill=\"#000000\">B</text>\n",
       "</g>\n",
       "<!-- A&#45;&gt;B -->\n",
       "<g id=\"edge2\" class=\"edge\">\n",
       "<title>A&#45;&gt;B</title>\n",
       "<path fill=\"none\" stroke=\"#000000\" d=\"M27,-86.9735C27,-75.1918 27,-59.5607 27,-46.1581\"/>\n",
       "<polygon fill=\"#000000\" stroke=\"#000000\" points=\"30.5001,-46.0033 27,-36.0034 23.5001,-46.0034 30.5001,-46.0033\"/>\n",
       "<text text-anchor=\"middle\" x=\"34.5\" y=\"-57.8\" font-family=\"Times,serif\" font-size=\"14.00\" fill=\"#000000\"> &#160;0</text>\n",
       "</g>\n",
       "</g>\n",
       "</svg>\n"
      ],
      "text/plain": [
       "<__main__.automata at 0x7f77dc348310>"
      ]
     },
     "execution_count": 263,
     "metadata": {},
     "output_type": "execute_result"
    }
   ],
   "source": [
    "zero = automata([\"A\", \"B\"], [\"0\", \"1\"], \"A\", [\"B\"])\n",
    "zero.edge(\"A\", \"B\", \"0\")\n",
    "\n",
    "zero"
   ]
  },
  {
   "cell_type": "code",
   "execution_count": 264,
   "metadata": {},
   "outputs": [
    {
     "data": {
      "image/svg+xml": [
       "<?xml version=\"1.0\" encoding=\"UTF-8\" standalone=\"no\"?>\n",
       "<!DOCTYPE svg PUBLIC \"-//W3C//DTD SVG 1.1//EN\"\n",
       " \"http://www.w3.org/Graphics/SVG/1.1/DTD/svg11.dtd\">\n",
       "<!-- Generated by graphviz version 2.40.1 (0)\n",
       " -->\n",
       "<!-- Title: %3 Pages: 1 -->\n",
       "<svg width=\"62pt\" height=\"204pt\"\n",
       " viewBox=\"0.00 0.00 62.00 204.00\" xmlns=\"http://www.w3.org/2000/svg\" xmlns:xlink=\"http://www.w3.org/1999/xlink\">\n",
       "<g id=\"graph0\" class=\"graph\" transform=\"scale(1 1) rotate(0) translate(4 200)\">\n",
       "<title>%3</title>\n",
       "<polygon fill=\"#ffffff\" stroke=\"transparent\" points=\"-4,4 -4,-200 58,-200 58,4 -4,4\"/>\n",
       "<!-- C -->\n",
       "<g id=\"node2\" class=\"node\">\n",
       "<title>C</title>\n",
       "<ellipse fill=\"none\" stroke=\"#000000\" stroke-width=\"2\" cx=\"27\" cy=\"-105\" rx=\"27\" ry=\"18\"/>\n",
       "<text text-anchor=\"middle\" x=\"27\" y=\"-101.3\" font-family=\"Times,serif\" font-size=\"14.00\" fill=\"#000000\">C</text>\n",
       "</g>\n",
       "<!-- &#45;&gt;C -->\n",
       "<g id=\"edge1\" class=\"edge\">\n",
       "<title>&#45;&gt;C</title>\n",
       "<path fill=\"none\" stroke=\"#000000\" d=\"M27,-159.9551C27,-151.8828 27,-142.1764 27,-133.1817\"/>\n",
       "<polygon fill=\"#000000\" stroke=\"#000000\" points=\"30.5001,-133.0903 27,-123.0904 23.5001,-133.0904 30.5001,-133.0903\"/>\n",
       "</g>\n",
       "<!-- D -->\n",
       "<g id=\"node3\" class=\"node\">\n",
       "<title>D</title>\n",
       "<ellipse fill=\"none\" stroke=\"#000000\" stroke-dasharray=\"5,2\" cx=\"27\" cy=\"-18\" rx=\"27\" ry=\"18\"/>\n",
       "<text text-anchor=\"middle\" x=\"27\" y=\"-14.3\" font-family=\"Times,serif\" font-size=\"14.00\" fill=\"#000000\">D</text>\n",
       "</g>\n",
       "<!-- C&#45;&gt;D -->\n",
       "<g id=\"edge2\" class=\"edge\">\n",
       "<title>C&#45;&gt;D</title>\n",
       "<path fill=\"none\" stroke=\"#000000\" d=\"M27,-86.9735C27,-75.1918 27,-59.5607 27,-46.1581\"/>\n",
       "<polygon fill=\"#000000\" stroke=\"#000000\" points=\"30.5001,-46.0033 27,-36.0034 23.5001,-46.0034 30.5001,-46.0033\"/>\n",
       "<text text-anchor=\"middle\" x=\"34.5\" y=\"-57.8\" font-family=\"Times,serif\" font-size=\"14.00\" fill=\"#000000\"> &#160;1</text>\n",
       "</g>\n",
       "</g>\n",
       "</svg>\n"
      ],
      "text/plain": [
       "<__main__.automata at 0x7f77dc3509d0>"
      ]
     },
     "execution_count": 264,
     "metadata": {},
     "output_type": "execute_result"
    }
   ],
   "source": [
    "one = automata([\"C\", \"D\"], [\"0\", \"1\"], \"C\", [\"D\"])\n",
    "one.edge(\"C\", \"D\", \"1\")\n",
    "\n",
    "one"
   ]
  },
  {
   "cell_type": "code",
   "execution_count": 265,
   "metadata": {},
   "outputs": [
    {
     "data": {
      "image/svg+xml": [
       "<?xml version=\"1.0\" encoding=\"UTF-8\" standalone=\"no\"?>\n",
       "<!DOCTYPE svg PUBLIC \"-//W3C//DTD SVG 1.1//EN\"\n",
       " \"http://www.w3.org/Graphics/SVG/1.1/DTD/svg11.dtd\">\n",
       "<!-- Generated by graphviz version 2.40.1 (0)\n",
       " -->\n",
       "<!-- Title: %3 Pages: 1 -->\n",
       "<svg width=\"134pt\" height=\"291pt\"\n",
       " viewBox=\"0.00 0.00 134.00 291.00\" xmlns=\"http://www.w3.org/2000/svg\" xmlns:xlink=\"http://www.w3.org/1999/xlink\">\n",
       "<g id=\"graph0\" class=\"graph\" transform=\"scale(1 1) rotate(0) translate(4 287)\">\n",
       "<title>%3</title>\n",
       "<polygon fill=\"#ffffff\" stroke=\"transparent\" points=\"-4,4 -4,-287 130,-287 130,4 -4,4\"/>\n",
       "<!-- A0 -->\n",
       "<g id=\"node1\" class=\"node\">\n",
       "<title>A0</title>\n",
       "<ellipse fill=\"none\" stroke=\"#000000\" cx=\"27\" cy=\"-105\" rx=\"27\" ry=\"18\"/>\n",
       "<text text-anchor=\"middle\" x=\"27\" y=\"-101.3\" font-family=\"Times,serif\" font-size=\"14.00\" fill=\"#000000\">A0</text>\n",
       "</g>\n",
       "<!-- B0 -->\n",
       "<g id=\"node2\" class=\"node\">\n",
       "<title>B0</title>\n",
       "<ellipse fill=\"none\" stroke=\"#000000\" stroke-dasharray=\"5,2\" cx=\"27\" cy=\"-18\" rx=\"27\" ry=\"18\"/>\n",
       "<text text-anchor=\"middle\" x=\"27\" y=\"-14.3\" font-family=\"Times,serif\" font-size=\"14.00\" fill=\"#000000\">B0</text>\n",
       "</g>\n",
       "<!-- A0&#45;&gt;B0 -->\n",
       "<g id=\"edge2\" class=\"edge\">\n",
       "<title>A0&#45;&gt;B0</title>\n",
       "<path fill=\"none\" stroke=\"#000000\" d=\"M27,-86.9735C27,-75.1918 27,-59.5607 27,-46.1581\"/>\n",
       "<polygon fill=\"#000000\" stroke=\"#000000\" points=\"30.5001,-46.0033 27,-36.0034 23.5001,-46.0034 30.5001,-46.0033\"/>\n",
       "<text text-anchor=\"middle\" x=\"34.5\" y=\"-57.8\" font-family=\"Times,serif\" font-size=\"14.00\" fill=\"#000000\"> &#160;0</text>\n",
       "</g>\n",
       "<!-- C1 -->\n",
       "<g id=\"node3\" class=\"node\">\n",
       "<title>C1</title>\n",
       "<ellipse fill=\"none\" stroke=\"#000000\" cx=\"99\" cy=\"-105\" rx=\"27\" ry=\"18\"/>\n",
       "<text text-anchor=\"middle\" x=\"99\" y=\"-101.3\" font-family=\"Times,serif\" font-size=\"14.00\" fill=\"#000000\">C1</text>\n",
       "</g>\n",
       "<!-- D1 -->\n",
       "<g id=\"node4\" class=\"node\">\n",
       "<title>D1</title>\n",
       "<ellipse fill=\"none\" stroke=\"#000000\" stroke-dasharray=\"5,2\" cx=\"99\" cy=\"-18\" rx=\"27\" ry=\"18\"/>\n",
       "<text text-anchor=\"middle\" x=\"99\" y=\"-14.3\" font-family=\"Times,serif\" font-size=\"14.00\" fill=\"#000000\">D1</text>\n",
       "</g>\n",
       "<!-- C1&#45;&gt;D1 -->\n",
       "<g id=\"edge3\" class=\"edge\">\n",
       "<title>C1&#45;&gt;D1</title>\n",
       "<path fill=\"none\" stroke=\"#000000\" d=\"M99,-86.9735C99,-75.1918 99,-59.5607 99,-46.1581\"/>\n",
       "<polygon fill=\"#000000\" stroke=\"#000000\" points=\"102.5001,-46.0033 99,-36.0034 95.5001,-46.0034 102.5001,-46.0033\"/>\n",
       "<text text-anchor=\"middle\" x=\"106.5\" y=\"-57.8\" font-family=\"Times,serif\" font-size=\"14.00\" fill=\"#000000\"> &#160;1</text>\n",
       "</g>\n",
       "<!-- start -->\n",
       "<g id=\"node6\" class=\"node\">\n",
       "<title>start</title>\n",
       "<ellipse fill=\"none\" stroke=\"#000000\" stroke-width=\"2\" cx=\"63\" cy=\"-192\" rx=\"27\" ry=\"18\"/>\n",
       "<text text-anchor=\"middle\" x=\"63\" y=\"-188.3\" font-family=\"Times,serif\" font-size=\"14.00\" fill=\"#000000\">start</text>\n",
       "</g>\n",
       "<!-- &#45;&gt;start -->\n",
       "<g id=\"edge1\" class=\"edge\">\n",
       "<title>&#45;&gt;start</title>\n",
       "<path fill=\"none\" stroke=\"#000000\" d=\"M63,-246.9551C63,-238.8828 63,-229.1764 63,-220.1817\"/>\n",
       "<polygon fill=\"#000000\" stroke=\"#000000\" points=\"66.5001,-220.0903 63,-210.0904 59.5001,-220.0904 66.5001,-220.0903\"/>\n",
       "</g>\n",
       "<!-- start&#45;&gt;A0 -->\n",
       "<g id=\"edge4\" class=\"edge\">\n",
       "<title>start&#45;&gt;A0</title>\n",
       "<path fill=\"none\" stroke=\"#000000\" d=\"M55.7149,-174.3943C50.6889,-162.2482 43.9107,-145.8674 38.2018,-132.0711\"/>\n",
       "<polygon fill=\"#000000\" stroke=\"#000000\" points=\"41.3319,-130.4815 34.2743,-122.5796 34.8638,-133.158 41.3319,-130.4815\"/>\n",
       "<text text-anchor=\"middle\" x=\"51.5\" y=\"-144.8\" font-family=\"Times,serif\" font-size=\"14.00\" fill=\"#000000\">ε</text>\n",
       "</g>\n",
       "<!-- start&#45;&gt;C1 -->\n",
       "<g id=\"edge5\" class=\"edge\">\n",
       "<title>start&#45;&gt;C1</title>\n",
       "<path fill=\"none\" stroke=\"#000000\" d=\"M70.2851,-174.3943C75.3111,-162.2482 82.0893,-145.8674 87.7982,-132.0711\"/>\n",
       "<polygon fill=\"#000000\" stroke=\"#000000\" points=\"91.1362,-133.158 91.7257,-122.5796 84.6681,-130.4815 91.1362,-133.158\"/>\n",
       "<text text-anchor=\"middle\" x=\"86.5\" y=\"-144.8\" font-family=\"Times,serif\" font-size=\"14.00\" fill=\"#000000\">ε</text>\n",
       "</g>\n",
       "</g>\n",
       "</svg>\n"
      ],
      "text/plain": [
       "<__main__.automata at 0x7f77dc3503d0>"
      ]
     },
     "execution_count": 265,
     "metadata": {},
     "output_type": "execute_result"
    }
   ],
   "source": [
    "zero_one = automata.from_union([zero, one])\n",
    "\n",
    "zero_one"
   ]
  },
  {
   "cell_type": "code",
   "execution_count": 266,
   "metadata": {},
   "outputs": [
    {
     "data": {
      "image/svg+xml": [
       "<?xml version=\"1.0\" encoding=\"UTF-8\" standalone=\"no\"?>\n",
       "<!DOCTYPE svg PUBLIC \"-//W3C//DTD SVG 1.1//EN\"\n",
       " \"http://www.w3.org/Graphics/SVG/1.1/DTD/svg11.dtd\">\n",
       "<!-- Generated by graphviz version 2.40.1 (0)\n",
       " -->\n",
       "<!-- Title: %3 Pages: 1 -->\n",
       "<svg width=\"64pt\" height=\"204pt\"\n",
       " viewBox=\"0.00 0.00 64.00 204.00\" xmlns=\"http://www.w3.org/2000/svg\" xmlns:xlink=\"http://www.w3.org/1999/xlink\">\n",
       "<g id=\"graph0\" class=\"graph\" transform=\"scale(1 1) rotate(0) translate(4 200)\">\n",
       "<title>%3</title>\n",
       "<polygon fill=\"#ffffff\" stroke=\"transparent\" points=\"-4,4 -4,-200 60,-200 60,4 -4,4\"/>\n",
       "<!-- A -->\n",
       "<g id=\"node2\" class=\"node\">\n",
       "<title>A</title>\n",
       "<ellipse fill=\"none\" stroke=\"#000000\" stroke-width=\"2\" cx=\"27\" cy=\"-105\" rx=\"27\" ry=\"18\"/>\n",
       "<text text-anchor=\"middle\" x=\"27\" y=\"-101.3\" font-family=\"Times,serif\" font-size=\"14.00\" fill=\"#000000\">A</text>\n",
       "</g>\n",
       "<!-- &#45;&gt;A -->\n",
       "<g id=\"edge1\" class=\"edge\">\n",
       "<title>&#45;&gt;A</title>\n",
       "<path fill=\"none\" stroke=\"#000000\" d=\"M27,-159.9551C27,-151.8828 27,-142.1764 27,-133.1817\"/>\n",
       "<polygon fill=\"#000000\" stroke=\"#000000\" points=\"30.5001,-133.0903 27,-123.0904 23.5001,-133.0904 30.5001,-133.0903\"/>\n",
       "</g>\n",
       "<!-- B -->\n",
       "<g id=\"node3\" class=\"node\">\n",
       "<title>B</title>\n",
       "<ellipse fill=\"none\" stroke=\"#000000\" stroke-dasharray=\"5,2\" cx=\"27\" cy=\"-18\" rx=\"27\" ry=\"18\"/>\n",
       "<text text-anchor=\"middle\" x=\"27\" y=\"-14.3\" font-family=\"Times,serif\" font-size=\"14.00\" fill=\"#000000\">B</text>\n",
       "</g>\n",
       "<!-- A&#45;&gt;B -->\n",
       "<g id=\"edge2\" class=\"edge\">\n",
       "<title>A&#45;&gt;B</title>\n",
       "<path fill=\"none\" stroke=\"#000000\" d=\"M27,-86.9735C27,-75.1918 27,-59.5607 27,-46.1581\"/>\n",
       "<polygon fill=\"#000000\" stroke=\"#000000\" points=\"30.5001,-46.0033 27,-36.0034 23.5001,-46.0034 30.5001,-46.0033\"/>\n",
       "<text text-anchor=\"middle\" x=\"41.5\" y=\"-57.8\" font-family=\"Times,serif\" font-size=\"14.00\" fill=\"#000000\"> &#160;0, 1</text>\n",
       "</g>\n",
       "</g>\n",
       "</svg>\n"
      ],
      "text/plain": [
       "<__main__.automata at 0x7f77dc32cc90>"
      ]
     },
     "execution_count": 266,
     "metadata": {},
     "output_type": "execute_result"
    }
   ],
   "source": [
    "zero_one = automata([\"A\", \"B\"], [\"0\", \"1\"], \"A\", \"B\")\n",
    "zero_one.edge(\"A\", \"B\", \"0, 1\")\n",
    "zero_one"
   ]
  },
  {
   "cell_type": "code",
   "execution_count": 267,
   "metadata": {
    "slideshow": {
     "slide_type": "subslide"
    }
   },
   "outputs": [
    {
     "data": {
      "image/svg+xml": [
       "<?xml version=\"1.0\" encoding=\"UTF-8\" standalone=\"no\"?>\n",
       "<!DOCTYPE svg PUBLIC \"-//W3C//DTD SVG 1.1//EN\"\n",
       " \"http://www.w3.org/Graphics/SVG/1.1/DTD/svg11.dtd\">\n",
       "<!-- Generated by graphviz version 2.40.1 (0)\n",
       " -->\n",
       "<!-- Title: %3 Pages: 1 -->\n",
       "<svg width=\"62pt\" height=\"218pt\"\n",
       " viewBox=\"0.00 0.00 62.00 218.00\" xmlns=\"http://www.w3.org/2000/svg\" xmlns:xlink=\"http://www.w3.org/1999/xlink\">\n",
       "<g id=\"graph0\" class=\"graph\" transform=\"scale(1 1) rotate(0) translate(4 214)\">\n",
       "<title>%3</title>\n",
       "<polygon fill=\"#ffffff\" stroke=\"transparent\" points=\"-4,4 -4,-214 58,-214 58,4 -4,4\"/>\n",
       "<!-- A -->\n",
       "<g id=\"node1\" class=\"node\">\n",
       "<title>A</title>\n",
       "<ellipse fill=\"none\" stroke=\"#000000\" cx=\"27\" cy=\"-105\" rx=\"27\" ry=\"18\"/>\n",
       "<text text-anchor=\"middle\" x=\"27\" y=\"-101.3\" font-family=\"Times,serif\" font-size=\"14.00\" fill=\"#000000\">A</text>\n",
       "</g>\n",
       "<!-- B -->\n",
       "<g id=\"node2\" class=\"node\">\n",
       "<title>B</title>\n",
       "<ellipse fill=\"none\" stroke=\"#000000\" stroke-dasharray=\"5,2\" cx=\"27\" cy=\"-18\" rx=\"27\" ry=\"18\"/>\n",
       "<text text-anchor=\"middle\" x=\"27\" y=\"-14.3\" font-family=\"Times,serif\" font-size=\"14.00\" fill=\"#000000\">B</text>\n",
       "</g>\n",
       "<!-- A&#45;&gt;B -->\n",
       "<g id=\"edge1\" class=\"edge\">\n",
       "<title>A&#45;&gt;B</title>\n",
       "<path fill=\"none\" stroke=\"#000000\" d=\"M12.9972,-89.2773C8.5862,-83.3431 4.2741,-76.2615 2,-69 -.8567,-59.8781 2.0347,-50.3518 6.7306,-42.0353\"/>\n",
       "<polygon fill=\"#000000\" stroke=\"#000000\" points=\"9.7394,-43.831 12.3478,-33.5622 3.905,-39.9631 9.7394,-43.831\"/>\n",
       "<text text-anchor=\"middle\" x=\"16.5\" y=\"-57.8\" font-family=\"Times,serif\" font-size=\"14.00\" fill=\"#000000\"> &#160;0, 1</text>\n",
       "</g>\n",
       "<!-- B&#45;&gt;A -->\n",
       "<g id=\"edge2\" class=\"edge\">\n",
       "<title>B&#45;&gt;A</title>\n",
       "<path fill=\"none\" stroke=\"#000000\" d=\"M29.5795,-35.9244C30.6896,-45.6948 31.609,-58.004 31,-69 30.865,-71.437 30.679,-73.9625 30.4606,-76.4937\"/>\n",
       "<polygon fill=\"#000000\" stroke=\"#000000\" points=\"26.9506,-76.4174 29.4276,-86.7185 33.9151,-77.121 26.9506,-76.4174\"/>\n",
       "<text text-anchor=\"middle\" x=\"38\" y=\"-57.8\" font-family=\"Times,serif\" font-size=\"14.00\" fill=\"#000000\"> &#160;ε</text>\n",
       "</g>\n",
       "<!-- start -->\n",
       "<g id=\"node3\" class=\"node\">\n",
       "<title>start</title>\n",
       "<ellipse fill=\"none\" stroke=\"#000000\" stroke-width=\"2\" cx=\"27\" cy=\"-192\" rx=\"27\" ry=\"18\"/>\n",
       "<text text-anchor=\"middle\" x=\"27\" y=\"-188.3\" font-family=\"Times,serif\" font-size=\"14.00\" fill=\"#000000\">start</text>\n",
       "</g>\n",
       "<!-- start&#45;&gt;A -->\n",
       "<g id=\"edge3\" class=\"edge\">\n",
       "<title>start&#45;&gt;A</title>\n",
       "<path fill=\"none\" stroke=\"#000000\" d=\"M27,-173.9735C27,-162.1918 27,-146.5607 27,-133.1581\"/>\n",
       "<polygon fill=\"#000000\" stroke=\"#000000\" points=\"30.5001,-133.0033 27,-123.0034 23.5001,-133.0034 30.5001,-133.0033\"/>\n",
       "<text text-anchor=\"middle\" x=\"34\" y=\"-144.8\" font-family=\"Times,serif\" font-size=\"14.00\" fill=\"#000000\"> &#160;ε</text>\n",
       "</g>\n",
       "</g>\n",
       "</svg>\n"
      ],
      "text/plain": [
       "<__main__.automata at 0x7f77dc32cf50>"
      ]
     },
     "execution_count": 267,
     "metadata": {},
     "output_type": "execute_result"
    }
   ],
   "source": [
    "zero_one_star = automata.from_star(zero_one)\n",
    "zero_one_star"
   ]
  },
  {
   "cell_type": "code",
   "execution_count": 268,
   "metadata": {},
   "outputs": [
    {
     "data": {
      "image/svg+xml": [
       "<?xml version=\"1.0\" encoding=\"UTF-8\" standalone=\"no\"?>\n",
       "<!DOCTYPE svg PUBLIC \"-//W3C//DTD SVG 1.1//EN\"\n",
       " \"http://www.w3.org/Graphics/SVG/1.1/DTD/svg11.dtd\">\n",
       "<!-- Generated by graphviz version 2.40.1 (0)\n",
       " -->\n",
       "<!-- Title: %3 Pages: 1 -->\n",
       "<svg width=\"62pt\" height=\"378pt\"\n",
       " viewBox=\"0.00 0.00 62.00 378.00\" xmlns=\"http://www.w3.org/2000/svg\" xmlns:xlink=\"http://www.w3.org/1999/xlink\">\n",
       "<g id=\"graph0\" class=\"graph\" transform=\"scale(1 1) rotate(0) translate(4 374)\">\n",
       "<title>%3</title>\n",
       "<polygon fill=\"#ffffff\" stroke=\"transparent\" points=\"-4,4 -4,-374 58,-374 58,4 -4,4\"/>\n",
       "<!-- E -->\n",
       "<g id=\"node2\" class=\"node\">\n",
       "<title>E</title>\n",
       "<ellipse fill=\"none\" stroke=\"#000000\" stroke-width=\"2\" cx=\"27\" cy=\"-279\" rx=\"27\" ry=\"18\"/>\n",
       "<text text-anchor=\"middle\" x=\"27\" y=\"-275.3\" font-family=\"Times,serif\" font-size=\"14.00\" fill=\"#000000\">E</text>\n",
       "</g>\n",
       "<!-- &#45;&gt;E -->\n",
       "<g id=\"edge1\" class=\"edge\">\n",
       "<title>&#45;&gt;E</title>\n",
       "<path fill=\"none\" stroke=\"#000000\" d=\"M27,-333.9551C27,-325.8828 27,-316.1764 27,-307.1817\"/>\n",
       "<polygon fill=\"#000000\" stroke=\"#000000\" points=\"30.5001,-307.0903 27,-297.0904 23.5001,-307.0904 30.5001,-307.0903\"/>\n",
       "</g>\n",
       "<!-- F -->\n",
       "<g id=\"node3\" class=\"node\">\n",
       "<title>F</title>\n",
       "<ellipse fill=\"none\" stroke=\"#000000\" cx=\"27\" cy=\"-192\" rx=\"27\" ry=\"18\"/>\n",
       "<text text-anchor=\"middle\" x=\"27\" y=\"-188.3\" font-family=\"Times,serif\" font-size=\"14.00\" fill=\"#000000\">F</text>\n",
       "</g>\n",
       "<!-- E&#45;&gt;F -->\n",
       "<g id=\"edge2\" class=\"edge\">\n",
       "<title>E&#45;&gt;F</title>\n",
       "<path fill=\"none\" stroke=\"#000000\" d=\"M27,-260.9735C27,-249.1918 27,-233.5607 27,-220.1581\"/>\n",
       "<polygon fill=\"#000000\" stroke=\"#000000\" points=\"30.5001,-220.0033 27,-210.0034 23.5001,-220.0034 30.5001,-220.0033\"/>\n",
       "<text text-anchor=\"middle\" x=\"34.5\" y=\"-231.8\" font-family=\"Times,serif\" font-size=\"14.00\" fill=\"#000000\"> &#160;1</text>\n",
       "</g>\n",
       "<!-- G -->\n",
       "<g id=\"node4\" class=\"node\">\n",
       "<title>G</title>\n",
       "<ellipse fill=\"none\" stroke=\"#000000\" cx=\"27\" cy=\"-105\" rx=\"27\" ry=\"18\"/>\n",
       "<text text-anchor=\"middle\" x=\"27\" y=\"-101.3\" font-family=\"Times,serif\" font-size=\"14.00\" fill=\"#000000\">G</text>\n",
       "</g>\n",
       "<!-- F&#45;&gt;G -->\n",
       "<g id=\"edge3\" class=\"edge\">\n",
       "<title>F&#45;&gt;G</title>\n",
       "<path fill=\"none\" stroke=\"#000000\" d=\"M27,-173.9735C27,-162.1918 27,-146.5607 27,-133.1581\"/>\n",
       "<polygon fill=\"#000000\" stroke=\"#000000\" points=\"30.5001,-133.0033 27,-123.0034 23.5001,-133.0034 30.5001,-133.0033\"/>\n",
       "<text text-anchor=\"middle\" x=\"34.5\" y=\"-144.8\" font-family=\"Times,serif\" font-size=\"14.00\" fill=\"#000000\"> &#160;1</text>\n",
       "</g>\n",
       "<!-- H -->\n",
       "<g id=\"node5\" class=\"node\">\n",
       "<title>H</title>\n",
       "<ellipse fill=\"none\" stroke=\"#000000\" stroke-dasharray=\"5,2\" cx=\"27\" cy=\"-18\" rx=\"27\" ry=\"18\"/>\n",
       "<text text-anchor=\"middle\" x=\"27\" y=\"-14.3\" font-family=\"Times,serif\" font-size=\"14.00\" fill=\"#000000\">H</text>\n",
       "</g>\n",
       "<!-- G&#45;&gt;H -->\n",
       "<g id=\"edge4\" class=\"edge\">\n",
       "<title>G&#45;&gt;H</title>\n",
       "<path fill=\"none\" stroke=\"#000000\" d=\"M27,-86.9735C27,-75.1918 27,-59.5607 27,-46.1581\"/>\n",
       "<polygon fill=\"#000000\" stroke=\"#000000\" points=\"30.5001,-46.0033 27,-36.0034 23.5001,-46.0034 30.5001,-46.0033\"/>\n",
       "<text text-anchor=\"middle\" x=\"34.5\" y=\"-57.8\" font-family=\"Times,serif\" font-size=\"14.00\" fill=\"#000000\"> &#160;0</text>\n",
       "</g>\n",
       "</g>\n",
       "</svg>\n"
      ],
      "text/plain": [
       "<__main__.automata at 0x7f77dc31e3d0>"
      ]
     },
     "execution_count": 268,
     "metadata": {},
     "output_type": "execute_result"
    }
   ],
   "source": [
    "oneonezero = automata([\"E\", \"F\", \"G\", \"H\"], [\"0\", \"1\"], \"E\", [\"H\"])\n",
    "oneonezero.edge(\"E\", \"F\", \"1\")\n",
    "oneonezero.edge(\"F\", \"G\", \"1\")\n",
    "oneonezero.edge(\"G\", \"H\", \"0\")\n",
    "\n",
    "oneonezero"
   ]
  },
  {
   "cell_type": "code",
   "execution_count": 269,
   "metadata": {},
   "outputs": [
    {
     "data": {
      "image/svg+xml": [
       "<?xml version=\"1.0\" encoding=\"UTF-8\" standalone=\"no\"?>\n",
       "<!DOCTYPE svg PUBLIC \"-//W3C//DTD SVG 1.1//EN\"\n",
       " \"http://www.w3.org/Graphics/SVG/1.1/DTD/svg11.dtd\">\n",
       "<!-- Generated by graphviz version 2.40.1 (0)\n",
       " -->\n",
       "<!-- Title: %3 Pages: 1 -->\n",
       "<svg width=\"62pt\" height=\"378pt\"\n",
       " viewBox=\"0.00 0.00 62.00 378.00\" xmlns=\"http://www.w3.org/2000/svg\" xmlns:xlink=\"http://www.w3.org/1999/xlink\">\n",
       "<g id=\"graph0\" class=\"graph\" transform=\"scale(1 1) rotate(0) translate(4 374)\">\n",
       "<title>%3</title>\n",
       "<polygon fill=\"#ffffff\" stroke=\"transparent\" points=\"-4,4 -4,-374 58,-374 58,4 -4,4\"/>\n",
       "<!-- I -->\n",
       "<g id=\"node2\" class=\"node\">\n",
       "<title>I</title>\n",
       "<ellipse fill=\"none\" stroke=\"#000000\" stroke-width=\"2\" cx=\"27\" cy=\"-279\" rx=\"27\" ry=\"18\"/>\n",
       "<text text-anchor=\"middle\" x=\"27\" y=\"-275.3\" font-family=\"Times,serif\" font-size=\"14.00\" fill=\"#000000\">I</text>\n",
       "</g>\n",
       "<!-- &#45;&gt;I -->\n",
       "<g id=\"edge1\" class=\"edge\">\n",
       "<title>&#45;&gt;I</title>\n",
       "<path fill=\"none\" stroke=\"#000000\" d=\"M27,-333.9551C27,-325.8828 27,-316.1764 27,-307.1817\"/>\n",
       "<polygon fill=\"#000000\" stroke=\"#000000\" points=\"30.5001,-307.0903 27,-297.0904 23.5001,-307.0904 30.5001,-307.0903\"/>\n",
       "</g>\n",
       "<!-- J -->\n",
       "<g id=\"node3\" class=\"node\">\n",
       "<title>J</title>\n",
       "<ellipse fill=\"none\" stroke=\"#000000\" cx=\"27\" cy=\"-192\" rx=\"27\" ry=\"18\"/>\n",
       "<text text-anchor=\"middle\" x=\"27\" y=\"-188.3\" font-family=\"Times,serif\" font-size=\"14.00\" fill=\"#000000\">J</text>\n",
       "</g>\n",
       "<!-- I&#45;&gt;J -->\n",
       "<g id=\"edge2\" class=\"edge\">\n",
       "<title>I&#45;&gt;J</title>\n",
       "<path fill=\"none\" stroke=\"#000000\" d=\"M27,-260.9735C27,-249.1918 27,-233.5607 27,-220.1581\"/>\n",
       "<polygon fill=\"#000000\" stroke=\"#000000\" points=\"30.5001,-220.0033 27,-210.0034 23.5001,-220.0034 30.5001,-220.0033\"/>\n",
       "<text text-anchor=\"middle\" x=\"34.5\" y=\"-231.8\" font-family=\"Times,serif\" font-size=\"14.00\" fill=\"#000000\"> &#160;1</text>\n",
       "</g>\n",
       "<!-- K -->\n",
       "<g id=\"node4\" class=\"node\">\n",
       "<title>K</title>\n",
       "<ellipse fill=\"none\" stroke=\"#000000\" cx=\"27\" cy=\"-105\" rx=\"27\" ry=\"18\"/>\n",
       "<text text-anchor=\"middle\" x=\"27\" y=\"-101.3\" font-family=\"Times,serif\" font-size=\"14.00\" fill=\"#000000\">K</text>\n",
       "</g>\n",
       "<!-- J&#45;&gt;K -->\n",
       "<g id=\"edge3\" class=\"edge\">\n",
       "<title>J&#45;&gt;K</title>\n",
       "<path fill=\"none\" stroke=\"#000000\" d=\"M27,-173.9735C27,-162.1918 27,-146.5607 27,-133.1581\"/>\n",
       "<polygon fill=\"#000000\" stroke=\"#000000\" points=\"30.5001,-133.0033 27,-123.0034 23.5001,-133.0034 30.5001,-133.0033\"/>\n",
       "<text text-anchor=\"middle\" x=\"34.5\" y=\"-144.8\" font-family=\"Times,serif\" font-size=\"14.00\" fill=\"#000000\"> &#160;1</text>\n",
       "</g>\n",
       "<!-- L -->\n",
       "<g id=\"node5\" class=\"node\">\n",
       "<title>L</title>\n",
       "<ellipse fill=\"none\" stroke=\"#000000\" stroke-dasharray=\"5,2\" cx=\"27\" cy=\"-18\" rx=\"27\" ry=\"18\"/>\n",
       "<text text-anchor=\"middle\" x=\"27\" y=\"-14.3\" font-family=\"Times,serif\" font-size=\"14.00\" fill=\"#000000\">L</text>\n",
       "</g>\n",
       "<!-- K&#45;&gt;L -->\n",
       "<g id=\"edge4\" class=\"edge\">\n",
       "<title>K&#45;&gt;L</title>\n",
       "<path fill=\"none\" stroke=\"#000000\" d=\"M27,-86.9735C27,-75.1918 27,-59.5607 27,-46.1581\"/>\n",
       "<polygon fill=\"#000000\" stroke=\"#000000\" points=\"30.5001,-46.0033 27,-36.0034 23.5001,-46.0034 30.5001,-46.0033\"/>\n",
       "<text text-anchor=\"middle\" x=\"34.5\" y=\"-57.8\" font-family=\"Times,serif\" font-size=\"14.00\" fill=\"#000000\"> &#160;0</text>\n",
       "</g>\n",
       "</g>\n",
       "</svg>\n"
      ],
      "text/plain": [
       "<__main__.automata at 0x7f77dc38c210>"
      ]
     },
     "execution_count": 269,
     "metadata": {},
     "output_type": "execute_result"
    }
   ],
   "source": [
    "oneoneone = automata([\"I\", \"J\", \"K\", \"L\"], [\"0\", \"1\"], \"I\", [\"L\"])\n",
    "oneoneone.edge(\"I\", \"J\", \"1\")\n",
    "oneoneone.edge(\"J\", \"K\", \"1\")\n",
    "oneoneone.edge(\"K\", \"L\", \"0\")\n",
    "\n",
    "oneoneone"
   ]
  },
  {
   "cell_type": "code",
   "execution_count": 352,
   "metadata": {},
   "outputs": [
    {
     "data": {
      "image/svg+xml": [
       "<?xml version=\"1.0\" encoding=\"UTF-8\" standalone=\"no\"?>\n",
       "<!DOCTYPE svg PUBLIC \"-//W3C//DTD SVG 1.1//EN\"\n",
       " \"http://www.w3.org/Graphics/SVG/1.1/DTD/svg11.dtd\">\n",
       "<!-- Generated by graphviz version 2.40.1 (0)\n",
       " -->\n",
       "<!-- Title: %3 Pages: 1 -->\n",
       "<svg width=\"134pt\" height=\"465pt\"\n",
       " viewBox=\"0.00 0.00 134.00 465.00\" xmlns=\"http://www.w3.org/2000/svg\" xmlns:xlink=\"http://www.w3.org/1999/xlink\">\n",
       "<g id=\"graph0\" class=\"graph\" transform=\"scale(1 1) rotate(0) translate(4 461)\">\n",
       "<title>%3</title>\n",
       "<polygon fill=\"#ffffff\" stroke=\"transparent\" points=\"-4,4 -4,-461 130,-461 130,4 -4,4\"/>\n",
       "<!-- E0 -->\n",
       "<g id=\"node1\" class=\"node\">\n",
       "<title>E0</title>\n",
       "<ellipse fill=\"none\" stroke=\"#000000\" cx=\"27\" cy=\"-279\" rx=\"27\" ry=\"18\"/>\n",
       "<text text-anchor=\"middle\" x=\"27\" y=\"-275.3\" font-family=\"Times,serif\" font-size=\"14.00\" fill=\"#000000\">E0</text>\n",
       "</g>\n",
       "<!-- F0 -->\n",
       "<g id=\"node2\" class=\"node\">\n",
       "<title>F0</title>\n",
       "<ellipse fill=\"none\" stroke=\"#000000\" cx=\"27\" cy=\"-192\" rx=\"27\" ry=\"18\"/>\n",
       "<text text-anchor=\"middle\" x=\"27\" y=\"-188.3\" font-family=\"Times,serif\" font-size=\"14.00\" fill=\"#000000\">F0</text>\n",
       "</g>\n",
       "<!-- E0&#45;&gt;F0 -->\n",
       "<g id=\"edge2\" class=\"edge\">\n",
       "<title>E0&#45;&gt;F0</title>\n",
       "<path fill=\"none\" stroke=\"#000000\" d=\"M27,-260.9735C27,-249.1918 27,-233.5607 27,-220.1581\"/>\n",
       "<polygon fill=\"#000000\" stroke=\"#000000\" points=\"30.5001,-220.0033 27,-210.0034 23.5001,-220.0034 30.5001,-220.0033\"/>\n",
       "<text text-anchor=\"middle\" x=\"34.5\" y=\"-231.8\" font-family=\"Times,serif\" font-size=\"14.00\" fill=\"#000000\"> &#160;1</text>\n",
       "</g>\n",
       "<!-- G0 -->\n",
       "<g id=\"node3\" class=\"node\">\n",
       "<title>G0</title>\n",
       "<ellipse fill=\"none\" stroke=\"#000000\" cx=\"27\" cy=\"-105\" rx=\"27\" ry=\"18\"/>\n",
       "<text text-anchor=\"middle\" x=\"27\" y=\"-101.3\" font-family=\"Times,serif\" font-size=\"14.00\" fill=\"#000000\">G0</text>\n",
       "</g>\n",
       "<!-- F0&#45;&gt;G0 -->\n",
       "<g id=\"edge3\" class=\"edge\">\n",
       "<title>F0&#45;&gt;G0</title>\n",
       "<path fill=\"none\" stroke=\"#000000\" d=\"M27,-173.9735C27,-162.1918 27,-146.5607 27,-133.1581\"/>\n",
       "<polygon fill=\"#000000\" stroke=\"#000000\" points=\"30.5001,-133.0033 27,-123.0034 23.5001,-133.0034 30.5001,-133.0033\"/>\n",
       "<text text-anchor=\"middle\" x=\"34.5\" y=\"-144.8\" font-family=\"Times,serif\" font-size=\"14.00\" fill=\"#000000\"> &#160;1</text>\n",
       "</g>\n",
       "<!-- H0 -->\n",
       "<g id=\"node4\" class=\"node\">\n",
       "<title>H0</title>\n",
       "<ellipse fill=\"none\" stroke=\"#000000\" stroke-dasharray=\"5,2\" cx=\"27\" cy=\"-18\" rx=\"27\" ry=\"18\"/>\n",
       "<text text-anchor=\"middle\" x=\"27\" y=\"-14.3\" font-family=\"Times,serif\" font-size=\"14.00\" fill=\"#000000\">H0</text>\n",
       "</g>\n",
       "<!-- G0&#45;&gt;H0 -->\n",
       "<g id=\"edge4\" class=\"edge\">\n",
       "<title>G0&#45;&gt;H0</title>\n",
       "<path fill=\"none\" stroke=\"#000000\" d=\"M27,-86.9735C27,-75.1918 27,-59.5607 27,-46.1581\"/>\n",
       "<polygon fill=\"#000000\" stroke=\"#000000\" points=\"30.5001,-46.0033 27,-36.0034 23.5001,-46.0034 30.5001,-46.0033\"/>\n",
       "<text text-anchor=\"middle\" x=\"34.5\" y=\"-57.8\" font-family=\"Times,serif\" font-size=\"14.00\" fill=\"#000000\"> &#160;0</text>\n",
       "</g>\n",
       "<!-- I1 -->\n",
       "<g id=\"node5\" class=\"node\">\n",
       "<title>I1</title>\n",
       "<ellipse fill=\"none\" stroke=\"#000000\" cx=\"99\" cy=\"-279\" rx=\"27\" ry=\"18\"/>\n",
       "<text text-anchor=\"middle\" x=\"99\" y=\"-275.3\" font-family=\"Times,serif\" font-size=\"14.00\" fill=\"#000000\">I1</text>\n",
       "</g>\n",
       "<!-- J1 -->\n",
       "<g id=\"node6\" class=\"node\">\n",
       "<title>J1</title>\n",
       "<ellipse fill=\"none\" stroke=\"#000000\" cx=\"99\" cy=\"-192\" rx=\"27\" ry=\"18\"/>\n",
       "<text text-anchor=\"middle\" x=\"99\" y=\"-188.3\" font-family=\"Times,serif\" font-size=\"14.00\" fill=\"#000000\">J1</text>\n",
       "</g>\n",
       "<!-- I1&#45;&gt;J1 -->\n",
       "<g id=\"edge5\" class=\"edge\">\n",
       "<title>I1&#45;&gt;J1</title>\n",
       "<path fill=\"none\" stroke=\"#000000\" d=\"M99,-260.9735C99,-249.1918 99,-233.5607 99,-220.1581\"/>\n",
       "<polygon fill=\"#000000\" stroke=\"#000000\" points=\"102.5001,-220.0033 99,-210.0034 95.5001,-220.0034 102.5001,-220.0033\"/>\n",
       "<text text-anchor=\"middle\" x=\"106.5\" y=\"-231.8\" font-family=\"Times,serif\" font-size=\"14.00\" fill=\"#000000\"> &#160;1</text>\n",
       "</g>\n",
       "<!-- K1 -->\n",
       "<g id=\"node7\" class=\"node\">\n",
       "<title>K1</title>\n",
       "<ellipse fill=\"none\" stroke=\"#000000\" cx=\"99\" cy=\"-105\" rx=\"27\" ry=\"18\"/>\n",
       "<text text-anchor=\"middle\" x=\"99\" y=\"-101.3\" font-family=\"Times,serif\" font-size=\"14.00\" fill=\"#000000\">K1</text>\n",
       "</g>\n",
       "<!-- J1&#45;&gt;K1 -->\n",
       "<g id=\"edge6\" class=\"edge\">\n",
       "<title>J1&#45;&gt;K1</title>\n",
       "<path fill=\"none\" stroke=\"#000000\" d=\"M99,-173.9735C99,-162.1918 99,-146.5607 99,-133.1581\"/>\n",
       "<polygon fill=\"#000000\" stroke=\"#000000\" points=\"102.5001,-133.0033 99,-123.0034 95.5001,-133.0034 102.5001,-133.0033\"/>\n",
       "<text text-anchor=\"middle\" x=\"106.5\" y=\"-144.8\" font-family=\"Times,serif\" font-size=\"14.00\" fill=\"#000000\"> &#160;1</text>\n",
       "</g>\n",
       "<!-- L1 -->\n",
       "<g id=\"node8\" class=\"node\">\n",
       "<title>L1</title>\n",
       "<ellipse fill=\"none\" stroke=\"#000000\" stroke-dasharray=\"5,2\" cx=\"99\" cy=\"-18\" rx=\"27\" ry=\"18\"/>\n",
       "<text text-anchor=\"middle\" x=\"99\" y=\"-14.3\" font-family=\"Times,serif\" font-size=\"14.00\" fill=\"#000000\">L1</text>\n",
       "</g>\n",
       "<!-- K1&#45;&gt;L1 -->\n",
       "<g id=\"edge7\" class=\"edge\">\n",
       "<title>K1&#45;&gt;L1</title>\n",
       "<path fill=\"none\" stroke=\"#000000\" d=\"M99,-86.9735C99,-75.1918 99,-59.5607 99,-46.1581\"/>\n",
       "<polygon fill=\"#000000\" stroke=\"#000000\" points=\"102.5001,-46.0033 99,-36.0034 95.5001,-46.0034 102.5001,-46.0033\"/>\n",
       "<text text-anchor=\"middle\" x=\"106.5\" y=\"-57.8\" font-family=\"Times,serif\" font-size=\"14.00\" fill=\"#000000\"> &#160;0</text>\n",
       "</g>\n",
       "<!-- start -->\n",
       "<g id=\"node10\" class=\"node\">\n",
       "<title>start</title>\n",
       "<ellipse fill=\"none\" stroke=\"#000000\" stroke-width=\"2\" cx=\"63\" cy=\"-366\" rx=\"27\" ry=\"18\"/>\n",
       "<text text-anchor=\"middle\" x=\"63\" y=\"-362.3\" font-family=\"Times,serif\" font-size=\"14.00\" fill=\"#000000\">start</text>\n",
       "</g>\n",
       "<!-- &#45;&gt;start -->\n",
       "<g id=\"edge1\" class=\"edge\">\n",
       "<title>&#45;&gt;start</title>\n",
       "<path fill=\"none\" stroke=\"#000000\" d=\"M63,-420.9551C63,-412.8828 63,-403.1764 63,-394.1817\"/>\n",
       "<polygon fill=\"#000000\" stroke=\"#000000\" points=\"66.5001,-394.0903 63,-384.0904 59.5001,-394.0904 66.5001,-394.0903\"/>\n",
       "</g>\n",
       "<!-- start&#45;&gt;E0 -->\n",
       "<g id=\"edge8\" class=\"edge\">\n",
       "<title>start&#45;&gt;E0</title>\n",
       "<path fill=\"none\" stroke=\"#000000\" d=\"M55.7149,-348.3943C50.6889,-336.2482 43.9107,-319.8674 38.2018,-306.0711\"/>\n",
       "<polygon fill=\"#000000\" stroke=\"#000000\" points=\"41.3319,-304.4815 34.2743,-296.5796 34.8638,-307.158 41.3319,-304.4815\"/>\n",
       "<text text-anchor=\"middle\" x=\"51.5\" y=\"-318.8\" font-family=\"Times,serif\" font-size=\"14.00\" fill=\"#000000\">ε</text>\n",
       "</g>\n",
       "<!-- start&#45;&gt;I1 -->\n",
       "<g id=\"edge9\" class=\"edge\">\n",
       "<title>start&#45;&gt;I1</title>\n",
       "<path fill=\"none\" stroke=\"#000000\" d=\"M70.2851,-348.3943C75.3111,-336.2482 82.0893,-319.8674 87.7982,-306.0711\"/>\n",
       "<polygon fill=\"#000000\" stroke=\"#000000\" points=\"91.1362,-307.158 91.7257,-296.5796 84.6681,-304.4815 91.1362,-307.158\"/>\n",
       "<text text-anchor=\"middle\" x=\"86.5\" y=\"-318.8\" font-family=\"Times,serif\" font-size=\"14.00\" fill=\"#000000\">ε</text>\n",
       "</g>\n",
       "</g>\n",
       "</svg>\n"
      ],
      "text/plain": [
       "<__main__.automata at 0x7f77dc6edad0>"
      ]
     },
     "execution_count": 352,
     "metadata": {},
     "output_type": "execute_result"
    }
   ],
   "source": [
    "substring = automata.from_union([oneonezero, oneoneone])\n",
    "\n",
    "substring\n"
   ]
  },
  {
   "cell_type": "code",
   "execution_count": 390,
   "metadata": {},
   "outputs": [
    {
     "name": "stdout",
     "output_type": "stream",
     "text": [
      "Style is invisible\n",
      "Style is invisible\n",
      "Style is invisible\n",
      "Edge is blank\n",
      "Style is invisible\n"
     ]
    },
    {
     "data": {
      "image/svg+xml": [
       "<?xml version=\"1.0\" encoding=\"UTF-8\" standalone=\"no\"?>\n",
       "<!DOCTYPE svg PUBLIC \"-//W3C//DTD SVG 1.1//EN\"\n",
       " \"http://www.w3.org/Graphics/SVG/1.1/DTD/svg11.dtd\">\n",
       "<!-- Generated by graphviz version 2.40.1 (0)\n",
       " -->\n",
       "<!-- Title: %3 Pages: 1 -->\n",
       "<svg width=\"301pt\" height=\"740pt\"\n",
       " viewBox=\"0.00 0.00 301.00 740.00\" xmlns=\"http://www.w3.org/2000/svg\" xmlns:xlink=\"http://www.w3.org/1999/xlink\">\n",
       "<g id=\"graph0\" class=\"graph\" transform=\"scale(1 1) rotate(0) translate(4 736)\">\n",
       "<title>%3</title>\n",
       "<polygon fill=\"#ffffff\" stroke=\"transparent\" points=\"-4,4 -4,-736 297,-736 297,4 -4,4\"/>\n",
       "<!-- B0 -->\n",
       "<g id=\"node1\" class=\"node\">\n",
       "<title>B0</title>\n",
       "<ellipse fill=\"none\" stroke=\"#000000\" stroke-dasharray=\"5,2\" cx=\"101\" cy=\"-714\" rx=\"27\" ry=\"18\"/>\n",
       "<text text-anchor=\"middle\" x=\"101\" y=\"-710.3\" font-family=\"Times,serif\" font-size=\"14.00\" fill=\"#000000\">B0</text>\n",
       "</g>\n",
       "<!-- start1 -->\n",
       "<g id=\"node11\" class=\"node\">\n",
       "<title>start1</title>\n",
       "<ellipse fill=\"none\" stroke=\"#000000\" cx=\"63\" cy=\"-627\" rx=\"30.5947\" ry=\"18\"/>\n",
       "<text text-anchor=\"middle\" x=\"63\" y=\"-623.3\" font-family=\"Times,serif\" font-size=\"14.00\" fill=\"#000000\">start1</text>\n",
       "</g>\n",
       "<!-- B0&#45;&gt;start1 -->\n",
       "<g id=\"edge15\" class=\"edge\">\n",
       "<title>B0&#45;&gt;start1</title>\n",
       "<path fill=\"none\" stroke=\"#000000\" d=\"M89.5954,-697.2566C85.8877,-691.3433 81.968,-684.5358 79,-678 75.6384,-670.5977 72.7038,-662.2889 70.2976,-654.561\"/>\n",
       "<polygon fill=\"#000000\" stroke=\"#000000\" points=\"73.6248,-653.4691 67.4473,-644.8616 66.9088,-655.4427 73.6248,-653.4691\"/>\n",
       "<text text-anchor=\"middle\" x=\"86\" y=\"-666.8\" font-family=\"Times,serif\" font-size=\"14.00\" fill=\"#000000\"> &#160;ε</text>\n",
       "</g>\n",
       "<!-- A0 -->\n",
       "<g id=\"node14\" class=\"node\">\n",
       "<title>A0</title>\n",
       "<ellipse fill=\"none\" stroke=\"#000000\" cx=\"139\" cy=\"-627\" rx=\"27\" ry=\"18\"/>\n",
       "<text text-anchor=\"middle\" x=\"139\" y=\"-623.3\" font-family=\"Times,serif\" font-size=\"14.00\" fill=\"#000000\">A0</text>\n",
       "</g>\n",
       "<!-- B0&#45;&gt;A0 -->\n",
       "<g id=\"edge2\" class=\"edge\">\n",
       "<title>B0&#45;&gt;A0</title>\n",
       "<path fill=\"none\" stroke=\"#000000\" d=\"M97.0261,-695.81C95.697,-685.736 95.5247,-673.2216 100,-663 102.6678,-656.9067 106.9321,-651.3873 111.6804,-646.6027\"/>\n",
       "<polygon fill=\"#000000\" stroke=\"#000000\" points=\"114.2628,-648.9886 119.3806,-639.7119 109.5947,-643.7724 114.2628,-648.9886\"/>\n",
       "<text text-anchor=\"middle\" x=\"107\" y=\"-666.8\" font-family=\"Times,serif\" font-size=\"14.00\" fill=\"#000000\"> &#160;ε</text>\n",
       "</g>\n",
       "<!-- start0 -->\n",
       "<g id=\"node3\" class=\"node\">\n",
       "<title>start0</title>\n",
       "<ellipse fill=\"none\" stroke=\"#000000\" stroke-width=\"2\" cx=\"190\" cy=\"-714\" rx=\"30.5947\" ry=\"18\"/>\n",
       "<text text-anchor=\"middle\" x=\"190\" y=\"-710.3\" font-family=\"Times,serif\" font-size=\"14.00\" fill=\"#000000\">start0</text>\n",
       "</g>\n",
       "<!-- start0&#45;&gt;A0 -->\n",
       "<g id=\"edge3\" class=\"edge\">\n",
       "<title>start0&#45;&gt;A0</title>\n",
       "<path fill=\"none\" stroke=\"#000000\" d=\"M179.924,-696.8116C172.542,-684.2187 162.3976,-666.9135 154.0558,-652.6834\"/>\n",
       "<polygon fill=\"#000000\" stroke=\"#000000\" points=\"156.9582,-650.7136 148.8815,-643.8567 150.9193,-654.2537 156.9582,-650.7136\"/>\n",
       "<text text-anchor=\"middle\" x=\"174\" y=\"-666.8\" font-family=\"Times,serif\" font-size=\"14.00\" fill=\"#000000\"> &#160;ε</text>\n",
       "</g>\n",
       "<!-- F01 -->\n",
       "<g id=\"node4\" class=\"node\">\n",
       "<title>F01</title>\n",
       "<ellipse fill=\"none\" stroke=\"#000000\" cx=\"99\" cy=\"-453\" rx=\"27\" ry=\"18\"/>\n",
       "<text text-anchor=\"middle\" x=\"99\" y=\"-449.3\" font-family=\"Times,serif\" font-size=\"14.00\" fill=\"#000000\">F01</text>\n",
       "</g>\n",
       "<!-- G01 -->\n",
       "<g id=\"node5\" class=\"node\">\n",
       "<title>G01</title>\n",
       "<ellipse fill=\"none\" stroke=\"#000000\" cx=\"99\" cy=\"-366\" rx=\"27\" ry=\"18\"/>\n",
       "<text text-anchor=\"middle\" x=\"99\" y=\"-362.3\" font-family=\"Times,serif\" font-size=\"14.00\" fill=\"#000000\">G01</text>\n",
       "</g>\n",
       "<!-- F01&#45;&gt;G01 -->\n",
       "<g id=\"edge5\" class=\"edge\">\n",
       "<title>F01&#45;&gt;G01</title>\n",
       "<path fill=\"none\" stroke=\"#000000\" d=\"M99,-434.9735C99,-423.1918 99,-407.5607 99,-394.1581\"/>\n",
       "<polygon fill=\"#000000\" stroke=\"#000000\" points=\"102.5001,-394.0033 99,-384.0034 95.5001,-394.0034 102.5001,-394.0033\"/>\n",
       "<text text-anchor=\"middle\" x=\"106.5\" y=\"-405.8\" font-family=\"Times,serif\" font-size=\"14.00\" fill=\"#000000\"> &#160;1</text>\n",
       "</g>\n",
       "<!-- H01 -->\n",
       "<g id=\"node6\" class=\"node\">\n",
       "<title>H01</title>\n",
       "<ellipse fill=\"none\" stroke=\"#000000\" stroke-dasharray=\"5,2\" cx=\"99\" cy=\"-279\" rx=\"27\" ry=\"18\"/>\n",
       "<text text-anchor=\"middle\" x=\"99\" y=\"-275.3\" font-family=\"Times,serif\" font-size=\"14.00\" fill=\"#000000\">H01</text>\n",
       "</g>\n",
       "<!-- G01&#45;&gt;H01 -->\n",
       "<g id=\"edge6\" class=\"edge\">\n",
       "<title>G01&#45;&gt;H01</title>\n",
       "<path fill=\"none\" stroke=\"#000000\" d=\"M99,-347.9735C99,-336.1918 99,-320.5607 99,-307.1581\"/>\n",
       "<polygon fill=\"#000000\" stroke=\"#000000\" points=\"102.5001,-307.0033 99,-297.0034 95.5001,-307.0034 102.5001,-307.0033\"/>\n",
       "<text text-anchor=\"middle\" x=\"106.5\" y=\"-318.8\" font-family=\"Times,serif\" font-size=\"14.00\" fill=\"#000000\"> &#160;0</text>\n",
       "</g>\n",
       "<!-- start2 -->\n",
       "<g id=\"node13\" class=\"node\">\n",
       "<title>start2</title>\n",
       "<ellipse fill=\"none\" stroke=\"#000000\" cx=\"62\" cy=\"-192\" rx=\"30.5947\" ry=\"18\"/>\n",
       "<text text-anchor=\"middle\" x=\"62\" y=\"-188.3\" font-family=\"Times,serif\" font-size=\"14.00\" fill=\"#000000\">start2</text>\n",
       "</g>\n",
       "<!-- H01&#45;&gt;start2 -->\n",
       "<g id=\"edge16\" class=\"edge\">\n",
       "<title>H01&#45;&gt;start2</title>\n",
       "<path fill=\"none\" stroke=\"#000000\" d=\"M91.5125,-261.3943C86.3469,-249.2482 79.3804,-232.8674 73.513,-219.0711\"/>\n",
       "<polygon fill=\"#000000\" stroke=\"#000000\" points=\"76.6109,-217.4121 69.4764,-209.5796 70.1692,-220.1517 76.6109,-217.4121\"/>\n",
       "<text text-anchor=\"middle\" x=\"90\" y=\"-231.8\" font-family=\"Times,serif\" font-size=\"14.00\" fill=\"#000000\"> &#160;ε</text>\n",
       "</g>\n",
       "<!-- I11 -->\n",
       "<g id=\"node7\" class=\"node\">\n",
       "<title>I11</title>\n",
       "<ellipse fill=\"none\" stroke=\"#000000\" cx=\"27\" cy=\"-540\" rx=\"27\" ry=\"18\"/>\n",
       "<text text-anchor=\"middle\" x=\"27\" y=\"-536.3\" font-family=\"Times,serif\" font-size=\"14.00\" fill=\"#000000\">I11</text>\n",
       "</g>\n",
       "<!-- J11 -->\n",
       "<g id=\"node8\" class=\"node\">\n",
       "<title>J11</title>\n",
       "<ellipse fill=\"none\" stroke=\"#000000\" cx=\"27\" cy=\"-453\" rx=\"27\" ry=\"18\"/>\n",
       "<text text-anchor=\"middle\" x=\"27\" y=\"-449.3\" font-family=\"Times,serif\" font-size=\"14.00\" fill=\"#000000\">J11</text>\n",
       "</g>\n",
       "<!-- I11&#45;&gt;J11 -->\n",
       "<g id=\"edge7\" class=\"edge\">\n",
       "<title>I11&#45;&gt;J11</title>\n",
       "<path fill=\"none\" stroke=\"#000000\" d=\"M27,-521.9735C27,-510.1918 27,-494.5607 27,-481.1581\"/>\n",
       "<polygon fill=\"#000000\" stroke=\"#000000\" points=\"30.5001,-481.0033 27,-471.0034 23.5001,-481.0034 30.5001,-481.0033\"/>\n",
       "<text text-anchor=\"middle\" x=\"34.5\" y=\"-492.8\" font-family=\"Times,serif\" font-size=\"14.00\" fill=\"#000000\"> &#160;1</text>\n",
       "</g>\n",
       "<!-- K11 -->\n",
       "<g id=\"node9\" class=\"node\">\n",
       "<title>K11</title>\n",
       "<ellipse fill=\"none\" stroke=\"#000000\" cx=\"27\" cy=\"-366\" rx=\"27\" ry=\"18\"/>\n",
       "<text text-anchor=\"middle\" x=\"27\" y=\"-362.3\" font-family=\"Times,serif\" font-size=\"14.00\" fill=\"#000000\">K11</text>\n",
       "</g>\n",
       "<!-- J11&#45;&gt;K11 -->\n",
       "<g id=\"edge8\" class=\"edge\">\n",
       "<title>J11&#45;&gt;K11</title>\n",
       "<path fill=\"none\" stroke=\"#000000\" d=\"M27,-434.9735C27,-423.1918 27,-407.5607 27,-394.1581\"/>\n",
       "<polygon fill=\"#000000\" stroke=\"#000000\" points=\"30.5001,-394.0033 27,-384.0034 23.5001,-394.0034 30.5001,-394.0033\"/>\n",
       "<text text-anchor=\"middle\" x=\"34.5\" y=\"-405.8\" font-family=\"Times,serif\" font-size=\"14.00\" fill=\"#000000\"> &#160;1</text>\n",
       "</g>\n",
       "<!-- L11 -->\n",
       "<g id=\"node10\" class=\"node\">\n",
       "<title>L11</title>\n",
       "<ellipse fill=\"none\" stroke=\"#000000\" stroke-dasharray=\"5,2\" cx=\"27\" cy=\"-279\" rx=\"27\" ry=\"18\"/>\n",
       "<text text-anchor=\"middle\" x=\"27\" y=\"-275.3\" font-family=\"Times,serif\" font-size=\"14.00\" fill=\"#000000\">L11</text>\n",
       "</g>\n",
       "<!-- K11&#45;&gt;L11 -->\n",
       "<g id=\"edge9\" class=\"edge\">\n",
       "<title>K11&#45;&gt;L11</title>\n",
       "<path fill=\"none\" stroke=\"#000000\" d=\"M27,-347.9735C27,-336.1918 27,-320.5607 27,-307.1581\"/>\n",
       "<polygon fill=\"#000000\" stroke=\"#000000\" points=\"30.5001,-307.0033 27,-297.0034 23.5001,-307.0034 30.5001,-307.0033\"/>\n",
       "<text text-anchor=\"middle\" x=\"34.5\" y=\"-318.8\" font-family=\"Times,serif\" font-size=\"14.00\" fill=\"#000000\"> &#160;0</text>\n",
       "</g>\n",
       "<!-- L11&#45;&gt;start2 -->\n",
       "<g id=\"edge17\" class=\"edge\">\n",
       "<title>L11&#45;&gt;start2</title>\n",
       "<path fill=\"none\" stroke=\"#000000\" d=\"M34.0828,-261.3943C38.9691,-249.2482 45.5591,-232.8674 51.1093,-219.0711\"/>\n",
       "<polygon fill=\"#000000\" stroke=\"#000000\" points=\"54.4425,-220.1633 54.9278,-209.5796 47.9483,-217.5506 54.4425,-220.1633\"/>\n",
       "<text text-anchor=\"middle\" x=\"54\" y=\"-231.8\" font-family=\"Times,serif\" font-size=\"14.00\" fill=\"#000000\"> &#160;ε</text>\n",
       "</g>\n",
       "<!-- start1&#45;&gt;I11 -->\n",
       "<g id=\"edge11\" class=\"edge\">\n",
       "<title>start1&#45;&gt;I11</title>\n",
       "<path fill=\"none\" stroke=\"#000000\" d=\"M55.7149,-609.3943C50.6889,-597.2482 43.9107,-580.8674 38.2018,-567.0711\"/>\n",
       "<polygon fill=\"#000000\" stroke=\"#000000\" points=\"41.3319,-565.4815 34.2743,-557.5796 34.8638,-568.158 41.3319,-565.4815\"/>\n",
       "<text text-anchor=\"middle\" x=\"51.5\" y=\"-579.8\" font-family=\"Times,serif\" font-size=\"14.00\" fill=\"#000000\">ε</text>\n",
       "</g>\n",
       "<!-- E01 -->\n",
       "<g id=\"node15\" class=\"node\">\n",
       "<title>E01</title>\n",
       "<ellipse fill=\"none\" stroke=\"#000000\" cx=\"99\" cy=\"-540\" rx=\"27\" ry=\"18\"/>\n",
       "<text text-anchor=\"middle\" x=\"99\" y=\"-536.3\" font-family=\"Times,serif\" font-size=\"14.00\" fill=\"#000000\">E01</text>\n",
       "</g>\n",
       "<!-- start1&#45;&gt;E01 -->\n",
       "<g id=\"edge10\" class=\"edge\">\n",
       "<title>start1&#45;&gt;E01</title>\n",
       "<path fill=\"none\" stroke=\"#000000\" d=\"M70.2851,-609.3943C75.3111,-597.2482 82.0893,-580.8674 87.7982,-567.0711\"/>\n",
       "<polygon fill=\"#000000\" stroke=\"#000000\" points=\"91.1362,-568.158 91.7257,-557.5796 84.6681,-565.4815 91.1362,-568.158\"/>\n",
       "<text text-anchor=\"middle\" x=\"87.5\" y=\"-579.8\" font-family=\"Times,serif\" font-size=\"14.00\" fill=\"#000000\">ε</text>\n",
       "</g>\n",
       "<!-- B2 -->\n",
       "<g id=\"node12\" class=\"node\">\n",
       "<title>B2</title>\n",
       "<ellipse fill=\"none\" stroke=\"#000000\" stroke-dasharray=\"5,2\" cx=\"62\" cy=\"-18\" rx=\"27\" ry=\"18\"/>\n",
       "<text text-anchor=\"middle\" x=\"62\" y=\"-14.3\" font-family=\"Times,serif\" font-size=\"14.00\" fill=\"#000000\">B2</text>\n",
       "</g>\n",
       "<!-- A2 -->\n",
       "<g id=\"node16\" class=\"node\">\n",
       "<title>A2</title>\n",
       "<ellipse fill=\"none\" stroke=\"#000000\" cx=\"62\" cy=\"-105\" rx=\"27\" ry=\"18\"/>\n",
       "<text text-anchor=\"middle\" x=\"62\" y=\"-101.3\" font-family=\"Times,serif\" font-size=\"14.00\" fill=\"#000000\">A2</text>\n",
       "</g>\n",
       "<!-- B2&#45;&gt;A2 -->\n",
       "<g id=\"edge13\" class=\"edge\">\n",
       "<title>B2&#45;&gt;A2</title>\n",
       "<path fill=\"none\" stroke=\"#000000\" d=\"M64.5795,-35.9244C65.6896,-45.6948 66.609,-58.004 66,-69 65.865,-71.437 65.679,-73.9625 65.4606,-76.4937\"/>\n",
       "<polygon fill=\"#000000\" stroke=\"#000000\" points=\"61.9506,-76.4174 64.4276,-86.7185 68.9151,-77.121 61.9506,-76.4174\"/>\n",
       "<text text-anchor=\"middle\" x=\"74\" y=\"-57.8\" font-family=\"Times,serif\" font-size=\"14.00\" fill=\"#000000\"> &#160;ε</text>\n",
       "</g>\n",
       "<!-- start2&#45;&gt;A2 -->\n",
       "<g id=\"edge14\" class=\"edge\">\n",
       "<title>start2&#45;&gt;A2</title>\n",
       "<path fill=\"none\" stroke=\"#000000\" d=\"M62,-173.9735C62,-162.1918 62,-146.5607 62,-133.1581\"/>\n",
       "<polygon fill=\"#000000\" stroke=\"#000000\" points=\"65.5001,-133.0033 62,-123.0034 58.5001,-133.0034 65.5001,-133.0033\"/>\n",
       "<text text-anchor=\"middle\" x=\"69\" y=\"-144.8\" font-family=\"Times,serif\" font-size=\"14.00\" fill=\"#000000\"> &#160;ε</text>\n",
       "</g>\n",
       "<!-- A0&#45;&gt;B0 -->\n",
       "<g id=\"edge1\" class=\"edge\">\n",
       "<title>A0&#45;&gt;B0</title>\n",
       "<path fill=\"none\" stroke=\"#000000\" d=\"M131.4513,-644.2827C126.1445,-656.4322 118.9369,-672.9339 112.866,-686.833\"/>\n",
       "<polygon fill=\"#000000\" stroke=\"#000000\" points=\"109.4852,-685.8293 108.6899,-696.3943 115.9,-688.6312 109.4852,-685.8293\"/>\n",
       "<text text-anchor=\"middle\" x=\"137.5\" y=\"-666.8\" font-family=\"Times,serif\" font-size=\"14.00\" fill=\"#000000\"> &#160;0, 1</text>\n",
       "</g>\n",
       "<!-- E01&#45;&gt;F01 -->\n",
       "<g id=\"edge4\" class=\"edge\">\n",
       "<title>E01&#45;&gt;F01</title>\n",
       "<path fill=\"none\" stroke=\"#000000\" d=\"M99,-521.9735C99,-510.1918 99,-494.5607 99,-481.1581\"/>\n",
       "<polygon fill=\"#000000\" stroke=\"#000000\" points=\"102.5001,-481.0033 99,-471.0034 95.5001,-481.0034 102.5001,-481.0033\"/>\n",
       "<text text-anchor=\"middle\" x=\"106.5\" y=\"-492.8\" font-family=\"Times,serif\" font-size=\"14.00\" fill=\"#000000\"> &#160;1</text>\n",
       "</g>\n",
       "<!-- A2&#45;&gt;B2 -->\n",
       "<g id=\"edge12\" class=\"edge\">\n",
       "<title>A2&#45;&gt;B2</title>\n",
       "<path fill=\"none\" stroke=\"#000000\" d=\"M47.3478,-89.4378C39.8783,-79.5925 33.11,-66.4213 37,-54 38.2792,-49.9154 40.2032,-45.8877 42.4269,-42.0892\"/>\n",
       "<polygon fill=\"#000000\" stroke=\"#000000\" points=\"45.3686,-43.9863 47.9972,-33.7227 39.5419,-40.1069 45.3686,-43.9863\"/>\n",
       "<text text-anchor=\"middle\" x=\"51.5\" y=\"-57.8\" font-family=\"Times,serif\" font-size=\"14.00\" fill=\"#000000\"> &#160;0, 1</text>\n",
       "</g>\n",
       "</g>\n",
       "</svg>\n"
      ],
      "text/plain": [
       "<__main__.automata at 0x7f77cbd20ed0>"
      ]
     },
     "execution_count": 390,
     "metadata": {},
     "output_type": "execute_result"
    }
   ],
   "source": [
    "full = automata.from_concat([zero_one_star, substring, zero_one_star])\n",
    "\n",
    "full"
   ]
  },
  {
   "cell_type": "markdown",
   "metadata": {
    "slideshow": {
     "slide_type": "notes"
    }
   },
   "source": [
    "There we have it! A long winded, but correct NFA for our regular expression.\n"
   ]
  },
  {
   "cell_type": "markdown",
   "metadata": {
    "slideshow": {
     "slide_type": "slide"
    }
   },
   "source": [
    "## Let's do an email"
   ]
  },
  {
   "cell_type": "markdown",
   "metadata": {
    "slideshow": {
     "slide_type": "subslide"
    }
   },
   "source": [
    "`^(\\w)+\\@(\\w)+\\.(\\w)`"
   ]
  },
  {
   "cell_type": "code",
   "execution_count": 392,
   "metadata": {
    "slideshow": {
     "slide_type": "subslide"
    }
   },
   "outputs": [],
   "source": [
    "alphabet = [\"a\", \"b\", \"c\", \"d\", \"@\", \".\"] # For conciseness - we won't match every available character ever"
   ]
  },
  {
   "cell_type": "code",
   "execution_count": 397,
   "metadata": {},
   "outputs": [
    {
     "data": {
      "image/svg+xml": [
       "<?xml version=\"1.0\" encoding=\"UTF-8\" standalone=\"no\"?>\n",
       "<!DOCTYPE svg PUBLIC \"-//W3C//DTD SVG 1.1//EN\"\n",
       " \"http://www.w3.org/Graphics/SVG/1.1/DTD/svg11.dtd\">\n",
       "<!-- Generated by graphviz version 2.40.1 (0)\n",
       " -->\n",
       "<!-- Title: %3 Pages: 1 -->\n",
       "<svg width=\"134pt\" height=\"204pt\"\n",
       " viewBox=\"0.00 0.00 134.00 204.00\" xmlns=\"http://www.w3.org/2000/svg\" xmlns:xlink=\"http://www.w3.org/1999/xlink\">\n",
       "<g id=\"graph0\" class=\"graph\" transform=\"scale(1 1) rotate(0) translate(4 200)\">\n",
       "<title>%3</title>\n",
       "<polygon fill=\"#ffffff\" stroke=\"transparent\" points=\"-4,4 -4,-200 130,-200 130,4 -4,4\"/>\n",
       "<!-- A -->\n",
       "<g id=\"node2\" class=\"node\">\n",
       "<title>A</title>\n",
       "<ellipse fill=\"none\" stroke=\"#000000\" stroke-width=\"2\" cx=\"27\" cy=\"-105\" rx=\"27\" ry=\"18\"/>\n",
       "<text text-anchor=\"middle\" x=\"27\" y=\"-101.3\" font-family=\"Times,serif\" font-size=\"14.00\" fill=\"#000000\">A</text>\n",
       "</g>\n",
       "<!-- &#45;&gt;A -->\n",
       "<g id=\"edge1\" class=\"edge\">\n",
       "<title>&#45;&gt;A</title>\n",
       "<path fill=\"none\" stroke=\"#000000\" d=\"M27,-159.9551C27,-151.8828 27,-142.1764 27,-133.1817\"/>\n",
       "<polygon fill=\"#000000\" stroke=\"#000000\" points=\"30.5001,-133.0903 27,-123.0904 23.5001,-133.0904 30.5001,-133.0903\"/>\n",
       "</g>\n",
       "<!-- B -->\n",
       "<g id=\"node3\" class=\"node\">\n",
       "<title>B</title>\n",
       "<ellipse fill=\"none\" stroke=\"#000000\" stroke-dasharray=\"5,2\" cx=\"27\" cy=\"-18\" rx=\"27\" ry=\"18\"/>\n",
       "<text text-anchor=\"middle\" x=\"27\" y=\"-14.3\" font-family=\"Times,serif\" font-size=\"14.00\" fill=\"#000000\">B</text>\n",
       "</g>\n",
       "<!-- A&#45;&gt;B -->\n",
       "<g id=\"edge2\" class=\"edge\">\n",
       "<title>A&#45;&gt;B</title>\n",
       "<path fill=\"none\" stroke=\"#000000\" d=\"M27,-86.9735C27,-75.1918 27,-59.5607 27,-46.1581\"/>\n",
       "<polygon fill=\"#000000\" stroke=\"#000000\" points=\"30.5001,-46.0033 27,-36.0034 23.5001,-46.0034 30.5001,-46.0033\"/>\n",
       "<text text-anchor=\"middle\" x=\"76.5\" y=\"-57.8\" font-family=\"Times,serif\" font-size=\"14.00\" fill=\"#000000\"> &#160;[&#39;a&#39;, &#39;b&#39;, &#39;c&#39;, &#39;d&#39;, &#39;.&#39;]</text>\n",
       "</g>\n",
       "</g>\n",
       "</svg>\n"
      ],
      "text/plain": [
       "<__main__.automata at 0x7f77cbd2e910>"
      ]
     },
     "execution_count": 397,
     "metadata": {},
     "output_type": "execute_result"
    }
   ],
   "source": [
    "characters = automata([\"A\", \"B\"], [\"a\", \"b\", \"c\", \"d\", \".\"], \"A\", [\"B\"])\n",
    "\n",
    "characters.edge(\"A\", \"B\", str([\"a\", \"b\", \"c\", \"d\", \".\"]))\n",
    "\n",
    "characters"
   ]
  },
  {
   "cell_type": "code",
   "execution_count": 401,
   "metadata": {},
   "outputs": [
    {
     "name": "stdout",
     "output_type": "stream",
     "text": [
      "Style is invisible\n",
      "Edge is blank\n"
     ]
    },
    {
     "data": {
      "image/svg+xml": [
       "<?xml version=\"1.0\" encoding=\"UTF-8\" standalone=\"no\"?>\n",
       "<!DOCTYPE svg PUBLIC \"-//W3C//DTD SVG 1.1//EN\"\n",
       " \"http://www.w3.org/Graphics/SVG/1.1/DTD/svg11.dtd\">\n",
       "<!-- Generated by graphviz version 2.40.1 (0)\n",
       " -->\n",
       "<!-- Title: %3 Pages: 1 -->\n",
       "<svg width=\"125pt\" height=\"218pt\"\n",
       " viewBox=\"0.00 0.00 124.91 218.00\" xmlns=\"http://www.w3.org/2000/svg\" xmlns:xlink=\"http://www.w3.org/1999/xlink\">\n",
       "<g id=\"graph0\" class=\"graph\" transform=\"scale(1 1) rotate(0) translate(4 214)\">\n",
       "<title>%3</title>\n",
       "<polygon fill=\"#ffffff\" stroke=\"transparent\" points=\"-4,4 -4,-214 120.9059,-214 120.9059,4 -4,4\"/>\n",
       "<!-- A -->\n",
       "<g id=\"node1\" class=\"node\">\n",
       "<title>A</title>\n",
       "<ellipse fill=\"none\" stroke=\"#000000\" cx=\"62.9059\" cy=\"-105\" rx=\"27\" ry=\"18\"/>\n",
       "<text text-anchor=\"middle\" x=\"62.9059\" y=\"-101.3\" font-family=\"Times,serif\" font-size=\"14.00\" fill=\"#000000\">A</text>\n",
       "</g>\n",
       "<!-- B -->\n",
       "<g id=\"node2\" class=\"node\">\n",
       "<title>B</title>\n",
       "<ellipse fill=\"none\" stroke=\"#000000\" stroke-dasharray=\"5,2\" cx=\"62.9059\" cy=\"-18\" rx=\"27\" ry=\"18\"/>\n",
       "<text text-anchor=\"middle\" x=\"62.9059\" y=\"-14.3\" font-family=\"Times,serif\" font-size=\"14.00\" fill=\"#000000\">B</text>\n",
       "</g>\n",
       "<!-- A&#45;&gt;B -->\n",
       "<g id=\"edge1\" class=\"edge\">\n",
       "<title>A&#45;&gt;B</title>\n",
       "<path fill=\"none\" stroke=\"#000000\" d=\"M38.3447,-97.0159C25.3331,-91.39 10.5072,-82.4252 2.9059,-69 -6.1984,-52.9199 11.0372,-39.6027 29.3366,-30.6135\"/>\n",
       "<polygon fill=\"#000000\" stroke=\"#000000\" points=\"30.9098,-33.7435 38.5808,-26.4355 28.0268,-27.3647 30.9098,-33.7435\"/>\n",
       "<text text-anchor=\"middle\" x=\"52.4059\" y=\"-57.8\" font-family=\"Times,serif\" font-size=\"14.00\" fill=\"#000000\"> &#160;[&#39;a&#39;, &#39;b&#39;, &#39;c&#39;, &#39;d&#39;, &#39;.&#39;]</text>\n",
       "</g>\n",
       "<!-- B&#45;&gt;A -->\n",
       "<g id=\"edge2\" class=\"edge\">\n",
       "<title>B&#45;&gt;A</title>\n",
       "<path fill=\"none\" stroke=\"#000000\" d=\"M82.7306,-30.5035C95.3805,-40.1966 108.2988,-54.3989 101.9059,-69 99.2381,-75.0933 94.9738,-80.6127 90.2255,-85.3973\"/>\n",
       "<polygon fill=\"#000000\" stroke=\"#000000\" points=\"87.6432,-83.0114 82.5254,-92.2881 92.3112,-88.2276 87.6432,-83.0114\"/>\n",
       "<text text-anchor=\"middle\" x=\"109.9059\" y=\"-57.8\" font-family=\"Times,serif\" font-size=\"14.00\" fill=\"#000000\"> &#160;ε</text>\n",
       "</g>\n",
       "<!-- start -->\n",
       "<g id=\"node3\" class=\"node\">\n",
       "<title>start</title>\n",
       "<ellipse fill=\"none\" stroke=\"#000000\" stroke-width=\"2\" cx=\"62.9059\" cy=\"-192\" rx=\"27\" ry=\"18\"/>\n",
       "<text text-anchor=\"middle\" x=\"62.9059\" y=\"-188.3\" font-family=\"Times,serif\" font-size=\"14.00\" fill=\"#000000\">start</text>\n",
       "</g>\n",
       "<!-- start&#45;&gt;A -->\n",
       "<g id=\"edge3\" class=\"edge\">\n",
       "<title>start&#45;&gt;A</title>\n",
       "<path fill=\"none\" stroke=\"#000000\" d=\"M62.9059,-173.9735C62.9059,-162.1918 62.9059,-146.5607 62.9059,-133.1581\"/>\n",
       "<polygon fill=\"#000000\" stroke=\"#000000\" points=\"66.406,-133.0033 62.9059,-123.0034 59.406,-133.0034 66.406,-133.0033\"/>\n",
       "<text text-anchor=\"middle\" x=\"69.9059\" y=\"-144.8\" font-family=\"Times,serif\" font-size=\"14.00\" fill=\"#000000\"> &#160;ε</text>\n",
       "</g>\n",
       "</g>\n",
       "</svg>\n"
      ],
      "text/plain": [
       "<__main__.automata at 0x7f77cbd2eb10>"
      ]
     },
     "execution_count": 401,
     "metadata": {},
     "output_type": "execute_result"
    }
   ],
   "source": [
    "characters_star = automata.from_star(characters)\n",
    "\n",
    "characters_star"
   ]
  },
  {
   "cell_type": "code",
   "execution_count": 398,
   "metadata": {},
   "outputs": [
    {
     "data": {
      "image/svg+xml": [
       "<?xml version=\"1.0\" encoding=\"UTF-8\" standalone=\"no\"?>\n",
       "<!DOCTYPE svg PUBLIC \"-//W3C//DTD SVG 1.1//EN\"\n",
       " \"http://www.w3.org/Graphics/SVG/1.1/DTD/svg11.dtd\">\n",
       "<!-- Generated by graphviz version 2.40.1 (0)\n",
       " -->\n",
       "<!-- Title: %3 Pages: 1 -->\n",
       "<svg width=\"62pt\" height=\"204pt\"\n",
       " viewBox=\"0.00 0.00 62.00 204.00\" xmlns=\"http://www.w3.org/2000/svg\" xmlns:xlink=\"http://www.w3.org/1999/xlink\">\n",
       "<g id=\"graph0\" class=\"graph\" transform=\"scale(1 1) rotate(0) translate(4 200)\">\n",
       "<title>%3</title>\n",
       "<polygon fill=\"#ffffff\" stroke=\"transparent\" points=\"-4,4 -4,-200 58,-200 58,4 -4,4\"/>\n",
       "<!-- A -->\n",
       "<g id=\"node2\" class=\"node\">\n",
       "<title>A</title>\n",
       "<ellipse fill=\"none\" stroke=\"#000000\" stroke-width=\"2\" cx=\"27\" cy=\"-105\" rx=\"27\" ry=\"18\"/>\n",
       "<text text-anchor=\"middle\" x=\"27\" y=\"-101.3\" font-family=\"Times,serif\" font-size=\"14.00\" fill=\"#000000\">A</text>\n",
       "</g>\n",
       "<!-- &#45;&gt;A -->\n",
       "<g id=\"edge1\" class=\"edge\">\n",
       "<title>&#45;&gt;A</title>\n",
       "<path fill=\"none\" stroke=\"#000000\" d=\"M27,-159.9551C27,-151.8828 27,-142.1764 27,-133.1817\"/>\n",
       "<polygon fill=\"#000000\" stroke=\"#000000\" points=\"30.5001,-133.0903 27,-123.0904 23.5001,-133.0904 30.5001,-133.0903\"/>\n",
       "</g>\n",
       "<!-- B -->\n",
       "<g id=\"node3\" class=\"node\">\n",
       "<title>B</title>\n",
       "<ellipse fill=\"none\" stroke=\"#000000\" stroke-dasharray=\"5,2\" cx=\"27\" cy=\"-18\" rx=\"27\" ry=\"18\"/>\n",
       "<text text-anchor=\"middle\" x=\"27\" y=\"-14.3\" font-family=\"Times,serif\" font-size=\"14.00\" fill=\"#000000\">B</text>\n",
       "</g>\n",
       "<!-- A&#45;&gt;B -->\n",
       "<g id=\"edge2\" class=\"edge\">\n",
       "<title>A&#45;&gt;B</title>\n",
       "<path fill=\"none\" stroke=\"#000000\" d=\"M27,-86.9735C27,-75.1918 27,-59.5607 27,-46.1581\"/>\n",
       "<polygon fill=\"#000000\" stroke=\"#000000\" points=\"30.5001,-46.0033 27,-36.0034 23.5001,-46.0034 30.5001,-46.0033\"/>\n",
       "<text text-anchor=\"middle\" x=\"37.5\" y=\"-57.8\" font-family=\"Times,serif\" font-size=\"14.00\" fill=\"#000000\"> &#160;@</text>\n",
       "</g>\n",
       "</g>\n",
       "</svg>\n"
      ],
      "text/plain": [
       "<__main__.automata at 0x7f77cbd35490>"
      ]
     },
     "execution_count": 398,
     "metadata": {},
     "output_type": "execute_result"
    }
   ],
   "source": [
    "at = automata([\"A\", \"B\"], [\"@\"], \"A\", [\"B\"])\n",
    "\n",
    "at.edge(\"A\", \"B\", \"@\")\n",
    "\n",
    "at"
   ]
  },
  {
   "cell_type": "code",
   "execution_count": 400,
   "metadata": {},
   "outputs": [
    {
     "data": {
      "image/svg+xml": [
       "<?xml version=\"1.0\" encoding=\"UTF-8\" standalone=\"no\"?>\n",
       "<!DOCTYPE svg PUBLIC \"-//W3C//DTD SVG 1.1//EN\"\n",
       " \"http://www.w3.org/Graphics/SVG/1.1/DTD/svg11.dtd\">\n",
       "<!-- Generated by graphviz version 2.40.1 (0)\n",
       " -->\n",
       "<!-- Title: %3 Pages: 1 -->\n",
       "<svg width=\"62pt\" height=\"204pt\"\n",
       " viewBox=\"0.00 0.00 62.00 204.00\" xmlns=\"http://www.w3.org/2000/svg\" xmlns:xlink=\"http://www.w3.org/1999/xlink\">\n",
       "<g id=\"graph0\" class=\"graph\" transform=\"scale(1 1) rotate(0) translate(4 200)\">\n",
       "<title>%3</title>\n",
       "<polygon fill=\"#ffffff\" stroke=\"transparent\" points=\"-4,4 -4,-200 58,-200 58,4 -4,4\"/>\n",
       "<!-- A -->\n",
       "<g id=\"node2\" class=\"node\">\n",
       "<title>A</title>\n",
       "<ellipse fill=\"none\" stroke=\"#000000\" stroke-width=\"2\" cx=\"27\" cy=\"-105\" rx=\"27\" ry=\"18\"/>\n",
       "<text text-anchor=\"middle\" x=\"27\" y=\"-101.3\" font-family=\"Times,serif\" font-size=\"14.00\" fill=\"#000000\">A</text>\n",
       "</g>\n",
       "<!-- &#45;&gt;A -->\n",
       "<g id=\"edge1\" class=\"edge\">\n",
       "<title>&#45;&gt;A</title>\n",
       "<path fill=\"none\" stroke=\"#000000\" d=\"M27,-159.9551C27,-151.8828 27,-142.1764 27,-133.1817\"/>\n",
       "<polygon fill=\"#000000\" stroke=\"#000000\" points=\"30.5001,-133.0903 27,-123.0904 23.5001,-133.0904 30.5001,-133.0903\"/>\n",
       "</g>\n",
       "<!-- B -->\n",
       "<g id=\"node3\" class=\"node\">\n",
       "<title>B</title>\n",
       "<ellipse fill=\"none\" stroke=\"#000000\" stroke-dasharray=\"5,2\" cx=\"27\" cy=\"-18\" rx=\"27\" ry=\"18\"/>\n",
       "<text text-anchor=\"middle\" x=\"27\" y=\"-14.3\" font-family=\"Times,serif\" font-size=\"14.00\" fill=\"#000000\">B</text>\n",
       "</g>\n",
       "<!-- A&#45;&gt;B -->\n",
       "<g id=\"edge2\" class=\"edge\">\n",
       "<title>A&#45;&gt;B</title>\n",
       "<path fill=\"none\" stroke=\"#000000\" d=\"M27,-86.9735C27,-75.1918 27,-59.5607 27,-46.1581\"/>\n",
       "<polygon fill=\"#000000\" stroke=\"#000000\" points=\"30.5001,-46.0033 27,-36.0034 23.5001,-46.0034 30.5001,-46.0033\"/>\n",
       "<text text-anchor=\"middle\" x=\"33\" y=\"-57.8\" font-family=\"Times,serif\" font-size=\"14.00\" fill=\"#000000\"> &#160;.</text>\n",
       "</g>\n",
       "</g>\n",
       "</svg>\n"
      ],
      "text/plain": [
       "<__main__.automata at 0x7f77cbd31890>"
      ]
     },
     "execution_count": 400,
     "metadata": {},
     "output_type": "execute_result"
    }
   ],
   "source": [
    "dot = automata([\"A\", \"B\"], [\".\"], \"A\", [\"B\"])\n",
    "\n",
    "dot.edge(\"A\", \"B\", \".\")\n",
    "\n",
    "dot"
   ]
  },
  {
   "cell_type": "code",
   "execution_count": 404,
   "metadata": {},
   "outputs": [
    {
     "name": "stdout",
     "output_type": "stream",
     "text": [
      "Style is invisible\n",
      "Style is invisible\n",
      "Edge is blank\n",
      "Style is invisible\n",
      "Style is invisible\n",
      "Edge is blank\n",
      "Style is invisible\n"
     ]
    },
    {
     "data": {
      "image/svg+xml": [
       "<?xml version=\"1.0\" encoding=\"UTF-8\" standalone=\"no\"?>\n",
       "<!DOCTYPE svg PUBLIC \"-//W3C//DTD SVG 1.1//EN\"\n",
       " \"http://www.w3.org/Graphics/SVG/1.1/DTD/svg11.dtd\">\n",
       "<!-- Generated by graphviz version 2.40.1 (0)\n",
       " -->\n",
       "<!-- Title: %3 Pages: 1 -->\n",
       "<svg width=\"370pt\" height=\"914pt\"\n",
       " viewBox=\"0.00 0.00 369.91 914.00\" xmlns=\"http://www.w3.org/2000/svg\" xmlns:xlink=\"http://www.w3.org/1999/xlink\">\n",
       "<g id=\"graph0\" class=\"graph\" transform=\"scale(1 1) rotate(0) translate(4 910)\">\n",
       "<title>%3</title>\n",
       "<polygon fill=\"#ffffff\" stroke=\"transparent\" points=\"-4,4 -4,-910 365.9059,-910 365.9059,4 -4,4\"/>\n",
       "<!-- B0 -->\n",
       "<g id=\"node1\" class=\"node\">\n",
       "<title>B0</title>\n",
       "<ellipse fill=\"none\" stroke=\"#000000\" stroke-dasharray=\"5,2\" cx=\"99.9059\" cy=\"-888\" rx=\"27\" ry=\"18\"/>\n",
       "<text text-anchor=\"middle\" x=\"99.9059\" y=\"-884.3\" font-family=\"Times,serif\" font-size=\"14.00\" fill=\"#000000\">B0</text>\n",
       "</g>\n",
       "<!-- A1 -->\n",
       "<g id=\"node4\" class=\"node\">\n",
       "<title>A1</title>\n",
       "<ellipse fill=\"none\" stroke=\"#000000\" cx=\"62.9059\" cy=\"-801\" rx=\"27\" ry=\"18\"/>\n",
       "<text text-anchor=\"middle\" x=\"62.9059\" y=\"-797.3\" font-family=\"Times,serif\" font-size=\"14.00\" fill=\"#000000\">A1</text>\n",
       "</g>\n",
       "<!-- B0&#45;&gt;A1 -->\n",
       "<g id=\"edge12\" class=\"edge\">\n",
       "<title>B0&#45;&gt;A1</title>\n",
       "<path fill=\"none\" stroke=\"#000000\" d=\"M88.4342,-871.2868C84.7211,-865.3758 80.8152,-858.5622 77.9059,-852 74.6289,-844.6082 71.838,-836.3027 69.5844,-828.5747\"/>\n",
       "<polygon fill=\"#000000\" stroke=\"#000000\" points=\"72.946,-827.5983 66.9356,-818.8733 66.1932,-829.4421 72.946,-827.5983\"/>\n",
       "<text text-anchor=\"middle\" x=\"84.9059\" y=\"-840.8\" font-family=\"Times,serif\" font-size=\"14.00\" fill=\"#000000\"> &#160;ε</text>\n",
       "</g>\n",
       "<!-- A0 -->\n",
       "<g id=\"node12\" class=\"node\">\n",
       "<title>A0</title>\n",
       "<ellipse fill=\"none\" stroke=\"#000000\" cx=\"136.9059\" cy=\"-801\" rx=\"27\" ry=\"18\"/>\n",
       "<text text-anchor=\"middle\" x=\"136.9059\" y=\"-797.3\" font-family=\"Times,serif\" font-size=\"14.00\" fill=\"#000000\">A0</text>\n",
       "</g>\n",
       "<!-- B0&#45;&gt;A0 -->\n",
       "<g id=\"edge2\" class=\"edge\">\n",
       "<title>B0&#45;&gt;A0</title>\n",
       "<path fill=\"none\" stroke=\"#000000\" d=\"M95.9833,-869.8323C94.6703,-859.7652 94.4969,-847.2504 98.9059,-837 101.4981,-830.9737 105.6499,-825.4835 110.2756,-820.7062\"/>\n",
       "<polygon fill=\"#000000\" stroke=\"#000000\" points=\"112.7837,-823.1548 117.7787,-813.8114 108.0473,-818.0006 112.7837,-823.1548\"/>\n",
       "<text text-anchor=\"middle\" x=\"105.9059\" y=\"-840.8\" font-family=\"Times,serif\" font-size=\"14.00\" fill=\"#000000\"> &#160;ε</text>\n",
       "</g>\n",
       "<!-- start0 -->\n",
       "<g id=\"node3\" class=\"node\">\n",
       "<title>start0</title>\n",
       "<ellipse fill=\"none\" stroke=\"#000000\" stroke-width=\"2\" cx=\"258.9059\" cy=\"-888\" rx=\"30.5947\" ry=\"18\"/>\n",
       "<text text-anchor=\"middle\" x=\"258.9059\" y=\"-884.3\" font-family=\"Times,serif\" font-size=\"14.00\" fill=\"#000000\">start0</text>\n",
       "</g>\n",
       "<!-- start0&#45;&gt;A0 -->\n",
       "<g id=\"edge3\" class=\"edge\">\n",
       "<title>start0&#45;&gt;A0</title>\n",
       "<path fill=\"none\" stroke=\"#000000\" d=\"M250.2539,-870.4629C244.1529,-859.6064 235.0875,-846.0576 223.9059,-837 208.8286,-824.7866 189.0283,-816.1594 172.1265,-810.4186\"/>\n",
       "<polygon fill=\"#000000\" stroke=\"#000000\" points=\"173.1584,-807.074 162.5676,-807.3667 171.0294,-813.7424 173.1584,-807.074\"/>\n",
       "<text text-anchor=\"middle\" x=\"243.9059\" y=\"-840.8\" font-family=\"Times,serif\" font-size=\"14.00\" fill=\"#000000\"> &#160;ε</text>\n",
       "</g>\n",
       "<!-- B1 -->\n",
       "<g id=\"node5\" class=\"node\">\n",
       "<title>B1</title>\n",
       "<ellipse fill=\"none\" stroke=\"#000000\" stroke-dasharray=\"5,2\" cx=\"62.9059\" cy=\"-714\" rx=\"27\" ry=\"18\"/>\n",
       "<text text-anchor=\"middle\" x=\"62.9059\" y=\"-710.3\" font-family=\"Times,serif\" font-size=\"14.00\" fill=\"#000000\">B1</text>\n",
       "</g>\n",
       "<!-- A1&#45;&gt;B1 -->\n",
       "<g id=\"edge4\" class=\"edge\">\n",
       "<title>A1&#45;&gt;B1</title>\n",
       "<path fill=\"none\" stroke=\"#000000\" d=\"M62.9059,-782.9735C62.9059,-771.1918 62.9059,-755.5607 62.9059,-742.1581\"/>\n",
       "<polygon fill=\"#000000\" stroke=\"#000000\" points=\"66.406,-742.0033 62.9059,-732.0034 59.406,-742.0034 66.406,-742.0033\"/>\n",
       "<text text-anchor=\"middle\" x=\"73.4059\" y=\"-753.8\" font-family=\"Times,serif\" font-size=\"14.00\" fill=\"#000000\"> &#160;@</text>\n",
       "</g>\n",
       "<!-- start2 -->\n",
       "<g id=\"node7\" class=\"node\">\n",
       "<title>start2</title>\n",
       "<ellipse fill=\"none\" stroke=\"#000000\" cx=\"62.9059\" cy=\"-627\" rx=\"30.5947\" ry=\"18\"/>\n",
       "<text text-anchor=\"middle\" x=\"62.9059\" y=\"-623.3\" font-family=\"Times,serif\" font-size=\"14.00\" fill=\"#000000\">start2</text>\n",
       "</g>\n",
       "<!-- B1&#45;&gt;start2 -->\n",
       "<g id=\"edge13\" class=\"edge\">\n",
       "<title>B1&#45;&gt;start2</title>\n",
       "<path fill=\"none\" stroke=\"#000000\" d=\"M62.9059,-695.9735C62.9059,-684.1918 62.9059,-668.5607 62.9059,-655.1581\"/>\n",
       "<polygon fill=\"#000000\" stroke=\"#000000\" points=\"66.406,-655.0033 62.9059,-645.0034 59.406,-655.0034 66.406,-655.0033\"/>\n",
       "<text text-anchor=\"middle\" x=\"69.9059\" y=\"-666.8\" font-family=\"Times,serif\" font-size=\"14.00\" fill=\"#000000\"> &#160;ε</text>\n",
       "</g>\n",
       "<!-- B2 -->\n",
       "<g id=\"node6\" class=\"node\">\n",
       "<title>B2</title>\n",
       "<ellipse fill=\"none\" stroke=\"#000000\" stroke-dasharray=\"5,2\" cx=\"62.9059\" cy=\"-453\" rx=\"27\" ry=\"18\"/>\n",
       "<text text-anchor=\"middle\" x=\"62.9059\" y=\"-449.3\" font-family=\"Times,serif\" font-size=\"14.00\" fill=\"#000000\">B2</text>\n",
       "</g>\n",
       "<!-- A3 -->\n",
       "<g id=\"node8\" class=\"node\">\n",
       "<title>A3</title>\n",
       "<ellipse fill=\"none\" stroke=\"#000000\" cx=\"62.9059\" cy=\"-366\" rx=\"27\" ry=\"18\"/>\n",
       "<text text-anchor=\"middle\" x=\"62.9059\" y=\"-362.3\" font-family=\"Times,serif\" font-size=\"14.00\" fill=\"#000000\">A3</text>\n",
       "</g>\n",
       "<!-- B2&#45;&gt;A3 -->\n",
       "<g id=\"edge14\" class=\"edge\">\n",
       "<title>B2&#45;&gt;A3</title>\n",
       "<path fill=\"none\" stroke=\"#000000\" d=\"M62.9059,-434.9735C62.9059,-423.1918 62.9059,-407.5607 62.9059,-394.1581\"/>\n",
       "<polygon fill=\"#000000\" stroke=\"#000000\" points=\"66.406,-394.0033 62.9059,-384.0034 59.406,-394.0034 66.406,-394.0033\"/>\n",
       "<text text-anchor=\"middle\" x=\"69.9059\" y=\"-405.8\" font-family=\"Times,serif\" font-size=\"14.00\" fill=\"#000000\"> &#160;ε</text>\n",
       "</g>\n",
       "<!-- A2 -->\n",
       "<g id=\"node13\" class=\"node\">\n",
       "<title>A2</title>\n",
       "<ellipse fill=\"none\" stroke=\"#000000\" cx=\"62.9059\" cy=\"-540\" rx=\"27\" ry=\"18\"/>\n",
       "<text text-anchor=\"middle\" x=\"62.9059\" y=\"-536.3\" font-family=\"Times,serif\" font-size=\"14.00\" fill=\"#000000\">A2</text>\n",
       "</g>\n",
       "<!-- B2&#45;&gt;A2 -->\n",
       "<g id=\"edge6\" class=\"edge\">\n",
       "<title>B2&#45;&gt;A2</title>\n",
       "<path fill=\"none\" stroke=\"#000000\" d=\"M82.7306,-465.5035C95.3805,-475.1966 108.2988,-489.3989 101.9059,-504 99.2381,-510.0933 94.9738,-515.6127 90.2255,-520.3973\"/>\n",
       "<polygon fill=\"#000000\" stroke=\"#000000\" points=\"87.6432,-518.0114 82.5254,-527.2881 92.3112,-523.2276 87.6432,-518.0114\"/>\n",
       "<text text-anchor=\"middle\" x=\"110.9059\" y=\"-492.8\" font-family=\"Times,serif\" font-size=\"14.00\" fill=\"#000000\"> &#160;ε</text>\n",
       "</g>\n",
       "<!-- start2&#45;&gt;A2 -->\n",
       "<g id=\"edge7\" class=\"edge\">\n",
       "<title>start2&#45;&gt;A2</title>\n",
       "<path fill=\"none\" stroke=\"#000000\" d=\"M62.9059,-608.9735C62.9059,-597.1918 62.9059,-581.5607 62.9059,-568.1581\"/>\n",
       "<polygon fill=\"#000000\" stroke=\"#000000\" points=\"66.406,-568.0033 62.9059,-558.0034 59.406,-568.0034 66.406,-568.0033\"/>\n",
       "<text text-anchor=\"middle\" x=\"69.9059\" y=\"-579.8\" font-family=\"Times,serif\" font-size=\"14.00\" fill=\"#000000\"> &#160;ε</text>\n",
       "</g>\n",
       "<!-- B3 -->\n",
       "<g id=\"node9\" class=\"node\">\n",
       "<title>B3</title>\n",
       "<ellipse fill=\"none\" stroke=\"#000000\" stroke-dasharray=\"5,2\" cx=\"62.9059\" cy=\"-279\" rx=\"27\" ry=\"18\"/>\n",
       "<text text-anchor=\"middle\" x=\"62.9059\" y=\"-275.3\" font-family=\"Times,serif\" font-size=\"14.00\" fill=\"#000000\">B3</text>\n",
       "</g>\n",
       "<!-- A3&#45;&gt;B3 -->\n",
       "<g id=\"edge8\" class=\"edge\">\n",
       "<title>A3&#45;&gt;B3</title>\n",
       "<path fill=\"none\" stroke=\"#000000\" d=\"M62.9059,-347.9735C62.9059,-336.1918 62.9059,-320.5607 62.9059,-307.1581\"/>\n",
       "<polygon fill=\"#000000\" stroke=\"#000000\" points=\"66.406,-307.0033 62.9059,-297.0034 59.406,-307.0034 66.406,-307.0033\"/>\n",
       "<text text-anchor=\"middle\" x=\"68.9059\" y=\"-318.8\" font-family=\"Times,serif\" font-size=\"14.00\" fill=\"#000000\"> &#160;.</text>\n",
       "</g>\n",
       "<!-- start4 -->\n",
       "<g id=\"node11\" class=\"node\">\n",
       "<title>start4</title>\n",
       "<ellipse fill=\"none\" stroke=\"#000000\" cx=\"62.9059\" cy=\"-192\" rx=\"30.5947\" ry=\"18\"/>\n",
       "<text text-anchor=\"middle\" x=\"62.9059\" y=\"-188.3\" font-family=\"Times,serif\" font-size=\"14.00\" fill=\"#000000\">start4</text>\n",
       "</g>\n",
       "<!-- B3&#45;&gt;start4 -->\n",
       "<g id=\"edge15\" class=\"edge\">\n",
       "<title>B3&#45;&gt;start4</title>\n",
       "<path fill=\"none\" stroke=\"#000000\" d=\"M62.9059,-260.9735C62.9059,-249.1918 62.9059,-233.5607 62.9059,-220.1581\"/>\n",
       "<polygon fill=\"#000000\" stroke=\"#000000\" points=\"66.406,-220.0033 62.9059,-210.0034 59.406,-220.0034 66.406,-220.0033\"/>\n",
       "<text text-anchor=\"middle\" x=\"69.9059\" y=\"-231.8\" font-family=\"Times,serif\" font-size=\"14.00\" fill=\"#000000\"> &#160;ε</text>\n",
       "</g>\n",
       "<!-- B4 -->\n",
       "<g id=\"node10\" class=\"node\">\n",
       "<title>B4</title>\n",
       "<ellipse fill=\"none\" stroke=\"#000000\" stroke-dasharray=\"5,2\" cx=\"62.9059\" cy=\"-18\" rx=\"27\" ry=\"18\"/>\n",
       "<text text-anchor=\"middle\" x=\"62.9059\" y=\"-14.3\" font-family=\"Times,serif\" font-size=\"14.00\" fill=\"#000000\">B4</text>\n",
       "</g>\n",
       "<!-- A4 -->\n",
       "<g id=\"node14\" class=\"node\">\n",
       "<title>A4</title>\n",
       "<ellipse fill=\"none\" stroke=\"#000000\" cx=\"62.9059\" cy=\"-105\" rx=\"27\" ry=\"18\"/>\n",
       "<text text-anchor=\"middle\" x=\"62.9059\" y=\"-101.3\" font-family=\"Times,serif\" font-size=\"14.00\" fill=\"#000000\">A4</text>\n",
       "</g>\n",
       "<!-- B4&#45;&gt;A4 -->\n",
       "<g id=\"edge10\" class=\"edge\">\n",
       "<title>B4&#45;&gt;A4</title>\n",
       "<path fill=\"none\" stroke=\"#000000\" d=\"M82.7306,-30.5035C95.3805,-40.1966 108.2988,-54.3989 101.9059,-69 99.2381,-75.0933 94.9738,-80.6127 90.2255,-85.3973\"/>\n",
       "<polygon fill=\"#000000\" stroke=\"#000000\" points=\"87.6432,-83.0114 82.5254,-92.2881 92.3112,-88.2276 87.6432,-83.0114\"/>\n",
       "<text text-anchor=\"middle\" x=\"110.9059\" y=\"-57.8\" font-family=\"Times,serif\" font-size=\"14.00\" fill=\"#000000\"> &#160;ε</text>\n",
       "</g>\n",
       "<!-- start4&#45;&gt;A4 -->\n",
       "<g id=\"edge11\" class=\"edge\">\n",
       "<title>start4&#45;&gt;A4</title>\n",
       "<path fill=\"none\" stroke=\"#000000\" d=\"M62.9059,-173.9735C62.9059,-162.1918 62.9059,-146.5607 62.9059,-133.1581\"/>\n",
       "<polygon fill=\"#000000\" stroke=\"#000000\" points=\"66.406,-133.0033 62.9059,-123.0034 59.406,-133.0034 66.406,-133.0033\"/>\n",
       "<text text-anchor=\"middle\" x=\"69.9059\" y=\"-144.8\" font-family=\"Times,serif\" font-size=\"14.00\" fill=\"#000000\"> &#160;ε</text>\n",
       "</g>\n",
       "<!-- A0&#45;&gt;B0 -->\n",
       "<g id=\"edge1\" class=\"edge\">\n",
       "<title>A0&#45;&gt;B0</title>\n",
       "<path fill=\"none\" stroke=\"#000000\" d=\"M129.4296,-818.5796C124.2666,-830.7195 117.3006,-847.0991 111.4316,-860.8991\"/>\n",
       "<polygon fill=\"#000000\" stroke=\"#000000\" points=\"108.0863,-859.8221 107.3934,-870.3943 114.528,-862.5617 108.0863,-859.8221\"/>\n",
       "<text text-anchor=\"middle\" x=\"170.4059\" y=\"-840.8\" font-family=\"Times,serif\" font-size=\"14.00\" fill=\"#000000\"> &#160;[&#39;a&#39;, &#39;b&#39;, &#39;c&#39;, &#39;d&#39;, &#39;.&#39;]</text>\n",
       "</g>\n",
       "<!-- A2&#45;&gt;B2 -->\n",
       "<g id=\"edge5\" class=\"edge\">\n",
       "<title>A2&#45;&gt;B2</title>\n",
       "<path fill=\"none\" stroke=\"#000000\" d=\"M38.3447,-532.0159C25.3331,-526.39 10.5072,-517.4252 2.9059,-504 -6.1984,-487.9199 11.0372,-474.6027 29.3366,-465.6135\"/>\n",
       "<polygon fill=\"#000000\" stroke=\"#000000\" points=\"30.9098,-468.7435 38.5808,-461.4355 28.0268,-462.3647 30.9098,-468.7435\"/>\n",
       "<text text-anchor=\"middle\" x=\"52.4059\" y=\"-492.8\" font-family=\"Times,serif\" font-size=\"14.00\" fill=\"#000000\"> &#160;[&#39;a&#39;, &#39;b&#39;, &#39;c&#39;, &#39;d&#39;, &#39;.&#39;]</text>\n",
       "</g>\n",
       "<!-- A4&#45;&gt;B4 -->\n",
       "<g id=\"edge9\" class=\"edge\">\n",
       "<title>A4&#45;&gt;B4</title>\n",
       "<path fill=\"none\" stroke=\"#000000\" d=\"M38.3447,-97.0159C25.3331,-91.39 10.5072,-82.4252 2.9059,-69 -6.1984,-52.9199 11.0372,-39.6027 29.3366,-30.6135\"/>\n",
       "<polygon fill=\"#000000\" stroke=\"#000000\" points=\"30.9098,-33.7435 38.5808,-26.4355 28.0268,-27.3647 30.9098,-33.7435\"/>\n",
       "<text text-anchor=\"middle\" x=\"52.4059\" y=\"-57.8\" font-family=\"Times,serif\" font-size=\"14.00\" fill=\"#000000\"> &#160;[&#39;a&#39;, &#39;b&#39;, &#39;c&#39;, &#39;d&#39;, &#39;.&#39;]</text>\n",
       "</g>\n",
       "</g>\n",
       "</svg>\n"
      ],
      "text/plain": [
       "<__main__.automata at 0x7f77cbd36550>"
      ]
     },
     "execution_count": 404,
     "metadata": {},
     "output_type": "execute_result"
    }
   ],
   "source": [
    "full = automata.from_concat([characters_star, at, characters_star, dot, characters_star])\n",
    "\n",
    "full"
   ]
  },
  {
   "cell_type": "markdown",
   "metadata": {
    "slideshow": {
     "slide_type": "slide"
    }
   },
   "source": [
    "## Phew, done!"
   ]
  },
  {
   "cell_type": "markdown",
   "metadata": {
    "slideshow": {
     "slide_type": "slide"
    }
   },
   "source": [
    "## Recap"
   ]
  },
  {
   "cell_type": "markdown",
   "metadata": {
    "slideshow": {
     "slide_type": "subslide"
    }
   },
   "source": [
    "* Finite Automaton are simple _state machines_"
   ]
  },
  {
   "cell_type": "markdown",
   "metadata": {
    "slideshow": {
     "slide_type": "subslide"
    }
   },
   "source": [
    "* Deterministic Finite Automaton & Non-Deterministic Finite Automaton recognise Regular Languages"
   ]
  },
  {
   "cell_type": "markdown",
   "metadata": {
    "slideshow": {
     "slide_type": "subslide"
    }
   },
   "source": [
    "* They are all equivilent in power"
   ]
  },
  {
   "cell_type": "markdown",
   "metadata": {
    "slideshow": {
     "slide_type": "subslide"
    }
   },
   "source": [
    "* A Regular Expression describes a regular language"
   ]
  },
  {
   "cell_type": "markdown",
   "metadata": {
    "slideshow": {
     "slide_type": "subslide"
    }
   },
   "source": [
    "* Regular Expressions can be drawn as Finite Automaton"
   ]
  },
  {
   "cell_type": "markdown",
   "metadata": {
    "slideshow": {
     "slide_type": "slide"
    }
   },
   "source": [
    "## Further Reading"
   ]
  },
  {
   "cell_type": "markdown",
   "metadata": {
    "slideshow": {
     "slide_type": "subslide"
    }
   },
   "source": [
    "* Generalised NFAs - Converting a DFA into a regular expression"
   ]
  },
  {
   "cell_type": "markdown",
   "metadata": {
    "slideshow": {
     "slide_type": "subslide"
    }
   },
   "source": [
    "* Introduction to the Theory of Computation - M.Sipser"
   ]
  },
  {
   "cell_type": "markdown",
   "metadata": {
    "slideshow": {
     "slide_type": "slide"
    }
   },
   "source": [
    "## Samathy Barratt\n",
    "### @samathy_barratt\n",
    "### s@social.samathy.space\n",
    "### samathy.sbarratt.co.uk"
   ]
  }
 ],
 "metadata": {
  "celltoolbar": "Slideshow",
  "kernelspec": {
   "display_name": "Python 3",
   "language": "python",
   "name": "python3"
  },
  "language_info": {
   "codemirror_mode": {
    "name": "ipython",
    "version": 3
   },
   "file_extension": ".py",
   "mimetype": "text/x-python",
   "name": "python",
   "nbconvert_exporter": "python",
   "pygments_lexer": "ipython3",
   "version": "3.7.4"
  }
 },
 "nbformat": 4,
 "nbformat_minor": 2
}
